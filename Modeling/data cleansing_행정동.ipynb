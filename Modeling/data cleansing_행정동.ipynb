{
 "cells": [
  {
   "cell_type": "code",
   "execution_count": 1,
   "metadata": {},
   "outputs": [],
   "source": [
    "from glob import glob\n",
    "import pandas as pd"
   ]
  },
  {
   "cell_type": "markdown",
   "metadata": {},
   "source": [
    "## 개별 파일 병합"
   ]
  },
  {
   "cell_type": "code",
   "execution_count": 2,
   "metadata": {},
   "outputs": [],
   "source": [
    "df_total=pd.DataFrame()\n",
    "df_추정매출=pd.DataFrame()\n",
    "df_상주인구=pd.DataFrame()\n",
    "df_생활인구=pd.DataFrame()\n",
    "df_소득소비=pd.DataFrame()\n",
    "df_아파트=pd.DataFrame()\n",
    "df_영역=pd.DataFrame()\n",
    "df_점포=pd.DataFrame()\n",
    "df_직장인구=pd.DataFrame()\n",
    "df_집객시설=pd.DataFrame()"
   ]
  },
  {
   "cell_type": "code",
   "execution_count": 3,
   "metadata": {},
   "outputs": [],
   "source": [
    "path='../../data/raw data/행정동/'"
   ]
  },
  {
   "cell_type": "markdown",
   "metadata": {},
   "source": [
    "#### 추정매출"
   ]
  },
  {
   "cell_type": "code",
   "execution_count": 4,
   "metadata": {},
   "outputs": [],
   "source": [
    "## 2023년 추출 코드 필요하면 쓰세요\n",
    "data = pd.read_csv(\"../../data/raw data/행정동/추정매출/서울시 상권분석서비스(추정매출-행정동).csv\", encoding=\"cp949\")\n",
    "data_dropped = data[data['기준_년분기_코드'] >= 20231]\n",
    "data_dropped.to_csv('../../data/raw data/행정동/추정매출/서울시_상권분석서비스(추정매출-행정동)_2023년.csv', index=False, encoding=\"cp949\")"
   ]
  },
  {
   "cell_type": "code",
   "execution_count": 5,
   "metadata": {},
   "outputs": [
    {
     "name": "stdout",
     "output_type": "stream",
     "text": [
      "../../data/raw data/행정동/추정매출\\서울시_상권분석서비스(추정매출-행정동)_2019년.csv\n",
      "../../data/raw data/행정동/추정매출\\서울시_상권분석서비스(추정매출-행정동)_2020년.csv\n",
      "../../data/raw data/행정동/추정매출\\서울시_상권분석서비스(추정매출-행정동)_2021년.csv\n",
      "../../data/raw data/행정동/추정매출\\서울시_상권분석서비스(추정매출-행정동)_2022년.csv\n",
      "../../data/raw data/행정동/추정매출\\서울시_상권분석서비스(추정매출-행정동)_2023년.csv\n"
     ]
    }
   ],
   "source": [
    "dfs_추정매출=[]\n",
    "for f_name in glob(path+'추정매출/서울시_상권분석서비스(추정매출-행정동)_*.csv'):\n",
    "    print(f_name)\n",
    "    temp=pd.read_csv(f_name,encoding='cp949')\n",
    "    dfs_추정매출.append(temp)\n",
    "a,b,c,d,e =dfs_추정매출"
   ]
  },
  {
   "cell_type": "code",
   "execution_count": 6,
   "metadata": {},
   "outputs": [
    {
     "data": {
      "text/plain": [
       "(301156, 53)"
      ]
     },
     "execution_count": 6,
     "metadata": {},
     "output_type": "execute_result"
    }
   ],
   "source": [
    "df_추정매출=pd.concat([a,b,c,d,e])\n",
    "df_추정매출 = df_추정매출.reset_index(drop=True)\n",
    "df_추정매출.shape"
   ]
  },
  {
   "cell_type": "code",
   "execution_count": 7,
   "metadata": {},
   "outputs": [
    {
     "data": {
      "text/plain": [
       "array([20191, 20192, 20193, 20194, 20201, 20202, 20203, 20204, 20211,\n",
       "       20212, 20213, 20214, 20221, 20222, 20223, 20224, 20231, 20232],\n",
       "      dtype=int64)"
      ]
     },
     "execution_count": 7,
     "metadata": {},
     "output_type": "execute_result"
    }
   ],
   "source": [
    "df_추정매출['기준_년분기_코드'].unique()"
   ]
  },
  {
   "cell_type": "code",
   "execution_count": 8,
   "metadata": {},
   "outputs": [
    {
     "data": {
      "text/plain": [
       "0"
      ]
     },
     "execution_count": 8,
     "metadata": {},
     "output_type": "execute_result"
    }
   ],
   "source": [
    "df_추정매출.isna().sum().sum()"
   ]
  },
  {
   "cell_type": "markdown",
   "metadata": {},
   "source": [
    "#### 상주인구"
   ]
  },
  {
   "cell_type": "code",
   "execution_count": 9,
   "metadata": {},
   "outputs": [
    {
     "data": {
      "text/plain": [
       "(7629, 27)"
      ]
     },
     "execution_count": 9,
     "metadata": {},
     "output_type": "execute_result"
    }
   ],
   "source": [
    "dfs_상주인구=[]\n",
    "for f_name in glob(path+'상주인구/*.csv'):\n",
    "    temp=pd.read_csv(f_name,encoding='cp949')\n",
    "    dfs_상주인구.append(temp)\n",
    "df_상주인구,=dfs_상주인구\n",
    "df_상주인구.shape"
   ]
  },
  {
   "cell_type": "code",
   "execution_count": 10,
   "metadata": {},
   "outputs": [
    {
     "data": {
      "text/plain": [
       "기준_년분기_코드             0\n",
       "행정동_코드                0\n",
       "행정동_코드_명              0\n",
       "총_상주인구_수              0\n",
       "남성_상주인구_수             0\n",
       "여성_상주인구_수             0\n",
       "연령대_10_상주인구_수         0\n",
       "연령대_20_상주인구_수         0\n",
       "연령대_30_상주인구_수         0\n",
       "연령대_40_상주인구_수         0\n",
       "연령대_50_상주인구_수         0\n",
       "연령대_60_이상_상주인구_수      0\n",
       "남성연령대_10_상주인구_수       0\n",
       "남성연령대_20_상주인구_수       0\n",
       "남성연령대_30_상주인구_수       0\n",
       "남성연령대_40_상주인구_수       0\n",
       "남성연령대_50_상주인구_수       0\n",
       "남성연령대_60_이상_상주인구_수    0\n",
       "여성연령대_10_상주인구_수       0\n",
       "여성연령대_20_상주인구_수       0\n",
       "여성연령대_30_상주인구_수       0\n",
       "여성연령대_40_상주인구_수       0\n",
       "여성연령대_50_상주인구_수       0\n",
       "여성연령대_60_이상_상주인구_수    0\n",
       "총_가구_수                0\n",
       "아파트_가구_수              0\n",
       "비_아파트_가구_수            0\n",
       "dtype: int64"
      ]
     },
     "execution_count": 10,
     "metadata": {},
     "output_type": "execute_result"
    }
   ],
   "source": [
    "df_상주인구.isna().sum()"
   ]
  },
  {
   "cell_type": "code",
   "execution_count": 11,
   "metadata": {},
   "outputs": [
    {
     "data": {
      "text/plain": [
       "array([20191, 20192, 20193, 20194, 20201, 20202, 20203, 20204, 20211,\n",
       "       20212, 20213, 20214, 20221, 20222, 20224, 20231, 20232, 20223],\n",
       "      dtype=int64)"
      ]
     },
     "execution_count": 11,
     "metadata": {},
     "output_type": "execute_result"
    }
   ],
   "source": [
    "df_상주인구['기준_년분기_코드'].unique()"
   ]
  },
  {
   "cell_type": "code",
   "execution_count": 12,
   "metadata": {},
   "outputs": [
    {
     "name": "stdout",
     "output_type": "stream",
     "text": [
      "년분기: 20191  행정동 개수:418  \n",
      "년분기: 20192  행정동 개수:418  년분기: 20193  행정동 개수:418  년분기: 20194  행정동 개수:425  \n",
      "년분기: 20201  행정동 개수:425  년분기: 20202  행정동 개수:425  년분기: 20203  행정동 개수:425  \n",
      "년분기: 20204  행정동 개수:425  년분기: 20211  행정동 개수:425  년분기: 20212  행정동 개수:425  \n",
      "년분기: 20213  행정동 개수:425  년분기: 20214  행정동 개수:425  년분기: 20221  행정동 개수:425  \n",
      "년분기: 20222  행정동 개수:425  년분기: 20224  행정동 개수:425  년분기: 20231  행정동 개수:425  \n",
      "년분기: 20232  행정동 개수:425  년분기: 20223  행정동 개수:425  cnt: 18\n"
     ]
    }
   ],
   "source": [
    "temp_total=0\n",
    "cnt=0\n",
    "for x in df_상주인구['기준_년분기_코드'].unique():\n",
    "    print(\"년분기:\",x,end='  ')\n",
    "    print(\"행정동 개수:\",end='')\n",
    "    print(df_상주인구.loc[df_상주인구['기준_년분기_코드']==x]['행정동_코드'].count(),end='  ')\n",
    "    if cnt%3==0:\n",
    "        print()\n",
    "    cnt+=1\n",
    "print(\"cnt:\",cnt)"
   ]
  },
  {
   "cell_type": "code",
   "execution_count": 13,
   "metadata": {},
   "outputs": [],
   "source": [
    "# 20191, 20192, 20193 \n",
    "dong_code_20191=list(df_상주인구.loc[df_상주인구['기준_년분기_코드']==20191]['행정동_코드'])\n",
    "dong_code_20192=list(df_상주인구.loc[df_상주인구['기준_년분기_코드']==20192]['행정동_코드'])\n",
    "dong_code_20193=list(df_상주인구.loc[df_상주인구['기준_년분기_코드']==20193]['행정동_코드'])\n",
    "dong_code_20194=list(df_상주인구.loc[df_상주인구['기준_년분기_코드']==20194]['행정동_코드'])"
   ]
  },
  {
   "cell_type": "code",
   "execution_count": 14,
   "metadata": {},
   "outputs": [
    {
     "name": "stdout",
     "output_type": "stream",
     "text": [
      "빠진 행정동 코드\n",
      "[11305595, 11305603, 11305608, 11305615, 11305625, 11305635, 11530800]\n",
      "[11305595, 11305603, 11305608, 11305615, 11305625, 11305635, 11530800]\n",
      "[11305595, 11305603, 11305608, 11305615, 11305625, 11305635, 11530800]\n"
     ]
    }
   ],
   "source": [
    "total_dong_code_425=dong_code_20194.copy()\n",
    "diff_191=[x for x in total_dong_code_425 if x not in dong_code_20191 ]\n",
    "diff_192=[x for x in total_dong_code_425 if x not in dong_code_20192 ]\n",
    "diff_193=[x for x in total_dong_code_425 if x not in dong_code_20193 ]\n",
    "print(\"빠진 행정동 코드\")\n",
    "print(diff_191)\n",
    "print(diff_192)\n",
    "print(diff_193)\n",
    "# 번1,2,3동/ 수유1,2,3동/ 항동"
   ]
  },
  {
   "cell_type": "code",
   "execution_count": 15,
   "metadata": {},
   "outputs": [
    {
     "name": "stderr",
     "output_type": "stream",
     "text": [
      "C:\\Users\\user\\AppData\\Local\\Temp\\ipykernel_5116\\2411538292.py:5: SettingWithCopyWarning: \n",
      "A value is trying to be set on a copy of a slice from a DataFrame.\n",
      "Try using .loc[row_indexer,col_indexer] = value instead\n",
      "\n",
      "See the caveats in the documentation: https://pandas.pydata.org/pandas-docs/stable/user_guide/indexing.html#returning-a-view-versus-a-copy\n",
      "  new_row1['기준_년분기_코드']=20191\n",
      "C:\\Users\\user\\AppData\\Local\\Temp\\ipykernel_5116\\2411538292.py:7: SettingWithCopyWarning: \n",
      "A value is trying to be set on a copy of a slice from a DataFrame.\n",
      "Try using .loc[row_indexer,col_indexer] = value instead\n",
      "\n",
      "See the caveats in the documentation: https://pandas.pydata.org/pandas-docs/stable/user_guide/indexing.html#returning-a-view-versus-a-copy\n",
      "  new_row2['기준_년분기_코드']=20192\n",
      "C:\\Users\\user\\AppData\\Local\\Temp\\ipykernel_5116\\2411538292.py:9: SettingWithCopyWarning: \n",
      "A value is trying to be set on a copy of a slice from a DataFrame.\n",
      "Try using .loc[row_indexer,col_indexer] = value instead\n",
      "\n",
      "See the caveats in the documentation: https://pandas.pydata.org/pandas-docs/stable/user_guide/indexing.html#returning-a-view-versus-a-copy\n",
      "  new_row3['기준_년분기_코드']=20193\n"
     ]
    }
   ],
   "source": [
    "없는_행정동코드=[11305595, 11305603, 11305608, 11305615, 11305625, 11305635, 11530800]\n",
    "# 19년 1,2,3분기 7개 동 데이터 없음 -> 19년 4분기 7개 동 데이터로 추가\n",
    "for x in 없는_행정동코드: # 7개 동 리스트\n",
    "    new_row1=df_상주인구.loc[(df_상주인구['행정동_코드']==x)&(df_상주인구['기준_년분기_코드']==20194)]\n",
    "    new_row1['기준_년분기_코드']=20191\n",
    "    new_row2=df_상주인구.loc[(df_상주인구['행정동_코드']==x)&(df_상주인구['기준_년분기_코드']==20194)]\n",
    "    new_row2['기준_년분기_코드']=20192\n",
    "    new_row3=df_상주인구.loc[(df_상주인구['행정동_코드']==x)&(df_상주인구['기준_년분기_코드']==20194)]\n",
    "    new_row3['기준_년분기_코드']=20193\n",
    "    df_상주인구 = pd.concat([df_상주인구, new_row1, new_row2, new_row3], ignore_index=True)"
   ]
  },
  {
   "cell_type": "code",
   "execution_count": 16,
   "metadata": {},
   "outputs": [
    {
     "name": "stdout",
     "output_type": "stream",
     "text": [
      "년분기: 20191  행정동 개수:425  \n",
      "년분기: 20192  행정동 개수:425  년분기: 20193  행정동 개수:425  년분기: 20194  행정동 개수:425  \n",
      "년분기: 20201  행정동 개수:425  년분기: 20202  행정동 개수:425  년분기: 20203  행정동 개수:425  \n",
      "년분기: 20204  행정동 개수:425  년분기: 20211  행정동 개수:425  년분기: 20212  행정동 개수:425  \n",
      "년분기: 20213  행정동 개수:425  년분기: 20214  행정동 개수:425  년분기: 20221  행정동 개수:425  \n",
      "년분기: 20222  행정동 개수:425  년분기: 20224  행정동 개수:425  년분기: 20231  행정동 개수:425  \n",
      "년분기: 20232  행정동 개수:425  년분기: 20223  행정동 개수:425  cnt: 18\n"
     ]
    }
   ],
   "source": [
    "cnt=0\n",
    "for x in df_상주인구['기준_년분기_코드'].unique():\n",
    "    print(\"년분기:\",x,end='  ')\n",
    "    print(\"행정동 개수:\",end='')\n",
    "    print(df_상주인구.loc[df_상주인구['기준_년분기_코드']==x]['행정동_코드'].count(),end='  ')\n",
    "    if cnt%3==0:\n",
    "        print()\n",
    "    cnt+=1\n",
    "print(\"cnt:\",cnt)"
   ]
  },
  {
   "cell_type": "code",
   "execution_count": 17,
   "metadata": {},
   "outputs": [
    {
     "data": {
      "text/plain": [
       "(7650, 27)"
      ]
     },
     "execution_count": 17,
     "metadata": {},
     "output_type": "execute_result"
    }
   ],
   "source": [
    "df_상주인구.shape"
   ]
  },
  {
   "cell_type": "markdown",
   "metadata": {},
   "source": [
    "### 생활인구"
   ]
  },
  {
   "cell_type": "code",
   "execution_count": 18,
   "metadata": {},
   "outputs": [
    {
     "data": {
      "text/plain": [
       "(7650, 25)"
      ]
     },
     "execution_count": 18,
     "metadata": {},
     "output_type": "execute_result"
    }
   ],
   "source": [
    "dfs_생활인구=[]\n",
    "for f_name in glob(path+'생활인구/*.csv'):\n",
    "    temp=pd.read_csv(f_name,encoding='cp949')\n",
    "    dfs_생활인구.append(temp)\n",
    "df_생활인구,=dfs_생활인구\n",
    "df_생활인구.shape"
   ]
  },
  {
   "cell_type": "code",
   "execution_count": 19,
   "metadata": {},
   "outputs": [
    {
     "name": "stdout",
     "output_type": "stream",
     "text": [
      "년분기: 20191  행정동 개수:425  \n",
      "년분기: 20192  행정동 개수:425  년분기: 20193  행정동 개수:425  년분기: 20194  행정동 개수:425  \n",
      "년분기: 20201  행정동 개수:425  년분기: 20202  행정동 개수:425  년분기: 20203  행정동 개수:425  \n",
      "년분기: 20204  행정동 개수:425  년분기: 20211  행정동 개수:425  년분기: 20212  행정동 개수:425  \n",
      "년분기: 20213  행정동 개수:425  년분기: 20214  행정동 개수:425  년분기: 20221  행정동 개수:425  \n",
      "년분기: 20222  행정동 개수:425  년분기: 20223  행정동 개수:425  년분기: 20224  행정동 개수:425  \n",
      "년분기: 20231  행정동 개수:425  년분기: 20232  행정동 개수:425  cnt: 18\n"
     ]
    }
   ],
   "source": [
    "cnt=0\n",
    "for x in df_생활인구['기준_년분기_코드'].unique():\n",
    "    print(\"년분기:\",x,end='  ')\n",
    "    print(\"행정동 개수:\",end='')\n",
    "    print(df_생활인구.loc[df_생활인구['기준_년분기_코드']==x]['행정동_코드'].count(),end='  ')\n",
    "    if cnt%3==0:\n",
    "        print()\n",
    "    cnt+=1\n",
    "print(\"cnt:\",cnt)"
   ]
  },
  {
   "cell_type": "code",
   "execution_count": 20,
   "metadata": {},
   "outputs": [
    {
     "data": {
      "text/plain": [
       "기준_년분기_코드           0\n",
       "행정동_코드              0\n",
       "행정동_코드_명            0\n",
       "총_유동인구_수            0\n",
       "남성_유동인구_수           0\n",
       "여성_유동인구_수           0\n",
       "연령대_10_유동인구_수       0\n",
       "연령대_20_유동인구_수       0\n",
       "연령대_30_유동인구_수       0\n",
       "연령대_40_유동인구_수       0\n",
       "연령대_50_유동인구_수       0\n",
       "연령대_60_이상_유동인구_수    0\n",
       "시간대_00_06_유동인구_수    0\n",
       "시간대_06_11_유동인구_수    0\n",
       "시간대_11_14_유동인구_수    0\n",
       "시간대_14_17_유동인구_수    0\n",
       "시간대_17_21_유동인구_수    0\n",
       "시간대_21_24_유동인구_수    0\n",
       "월요일_유동인구_수          0\n",
       "화요일_유동인구_수          0\n",
       "수요일_유동인구_수          0\n",
       "목요일_유동인구_수          0\n",
       "금요일_유동인구_수          0\n",
       "토요일_유동인구_수          0\n",
       "일요일_유동인구_수          0\n",
       "dtype: int64"
      ]
     },
     "execution_count": 20,
     "metadata": {},
     "output_type": "execute_result"
    }
   ],
   "source": [
    "df_생활인구.isna().sum()"
   ]
  },
  {
   "cell_type": "code",
   "execution_count": 21,
   "metadata": {},
   "outputs": [
    {
     "data": {
      "text/plain": [
       "(7650, 25)"
      ]
     },
     "execution_count": 21,
     "metadata": {},
     "output_type": "execute_result"
    }
   ],
   "source": [
    "df_생활인구.shape"
   ]
  },
  {
   "cell_type": "markdown",
   "metadata": {},
   "source": [
    "### 소득소비"
   ]
  },
  {
   "cell_type": "code",
   "execution_count": 22,
   "metadata": {},
   "outputs": [
    {
     "data": {
      "text/plain": [
       "(7650, 16)"
      ]
     },
     "execution_count": 22,
     "metadata": {},
     "output_type": "execute_result"
    }
   ],
   "source": [
    "dfs_소득소비=[]\n",
    "for f_name in glob(path+'소득소비/*.csv'):\n",
    "    temp=pd.read_csv(f_name,encoding='cp949')\n",
    "    dfs_소득소비.append(temp)\n",
    "df_소득소비,=dfs_소득소비\n",
    "df_소득소비.shape"
   ]
  },
  {
   "cell_type": "code",
   "execution_count": 23,
   "metadata": {},
   "outputs": [
    {
     "name": "stdout",
     "output_type": "stream",
     "text": [
      "년분기: 20231  행정동 개수:425  \n",
      "년분기: 20232  행정동 개수:425  년분기: 20191  행정동 개수:425  년분기: 20204  행정동 개수:425  \n",
      "년분기: 20192  행정동 개수:425  년분기: 20193  행정동 개수:425  년분기: 20194  행정동 개수:425  \n",
      "년분기: 20201  행정동 개수:425  년분기: 20202  행정동 개수:425  년분기: 20203  행정동 개수:425  \n",
      "년분기: 20211  행정동 개수:425  년분기: 20212  행정동 개수:425  년분기: 20213  행정동 개수:425  \n",
      "년분기: 20214  행정동 개수:425  년분기: 20221  행정동 개수:425  년분기: 20222  행정동 개수:425  \n",
      "년분기: 20223  행정동 개수:425  년분기: 20224  행정동 개수:425  cnt: 18\n"
     ]
    }
   ],
   "source": [
    "cnt=0\n",
    "for x in df_소득소비['기준_년분기_코드'].unique():\n",
    "    print(\"년분기:\",x,end='  ')\n",
    "    print(\"행정동 개수:\",end='')\n",
    "    print(df_소득소비.loc[df_소득소비['기준_년분기_코드']==x]['행정동_코드'].count(),end='  ')\n",
    "    if cnt%3==0:\n",
    "        print()\n",
    "    cnt+=1\n",
    "print(\"cnt:\",cnt)"
   ]
  },
  {
   "cell_type": "code",
   "execution_count": 24,
   "metadata": {},
   "outputs": [
    {
     "data": {
      "text/plain": [
       "기준_년분기_코드       0\n",
       "행정동_코드          0\n",
       "행정동_코드_명        0\n",
       "월_평균_소득_금액      0\n",
       "소득_구간_코드        0\n",
       "지출_총금액          0\n",
       "식료품_지출_총금액      0\n",
       "의류_신발_지출_총금액    0\n",
       "생활용품_지출_총금액     0\n",
       "의료비_지출_총금액      0\n",
       "교통_지출_총금액       0\n",
       "교육_지출_총금액       0\n",
       "유흥_지출_총금액       0\n",
       "여가_문화_지출_총금액    0\n",
       "기타_지출_총금액       0\n",
       "음식_지출_총금액       0\n",
       "dtype: int64"
      ]
     },
     "execution_count": 24,
     "metadata": {},
     "output_type": "execute_result"
    }
   ],
   "source": [
    "df_소득소비.isna().sum()"
   ]
  },
  {
   "cell_type": "code",
   "execution_count": 25,
   "metadata": {},
   "outputs": [
    {
     "data": {
      "text/plain": [
       "(7650, 16)"
      ]
     },
     "execution_count": 25,
     "metadata": {},
     "output_type": "execute_result"
    }
   ],
   "source": [
    "df_소득소비.shape"
   ]
  },
  {
   "cell_type": "markdown",
   "metadata": {},
   "source": [
    "### 아파트"
   ]
  },
  {
   "cell_type": "code",
   "execution_count": 26,
   "metadata": {},
   "outputs": [
    {
     "data": {
      "text/plain": [
       "(6368, 18)"
      ]
     },
     "execution_count": 26,
     "metadata": {},
     "output_type": "execute_result"
    }
   ],
   "source": [
    "# 아파트\n",
    "dfs_아파트=[]\n",
    "for f_name in glob(path+'아파트/*.csv'):\n",
    "    temp=pd.read_csv(f_name,encoding='cp949')\n",
    "    dfs_아파트.append(temp)\n",
    "df_아파트,=dfs_아파트\n",
    "df_아파트.shape"
   ]
  },
  {
   "cell_type": "code",
   "execution_count": 27,
   "metadata": {},
   "outputs": [
    {
     "data": {
      "text/plain": [
       "기준_년분기_코드                    0\n",
       "행정동_코드                       0\n",
       "행정동_코드_명                     0\n",
       "아파트_단지_수                     0\n",
       "아파트_면적_66_제곱미터_미만_세대_수      74\n",
       "아파트_면적_66_제곱미터_세대_수          3\n",
       "아파트_면적_99_제곱미터_세대_수        123\n",
       "아파트_면적_132_제곱미터_세대_수      1126\n",
       "아파트_면적_165_제곱미터_세대_수      2989\n",
       "아파트_가격_1_억_미만_세대_수         563\n",
       "아파트_가격_1_억_세대_수            298\n",
       "아파트_가격_2_억_세대_수            241\n",
       "아파트_가격_3_억_세대_수            248\n",
       "아파트_가격_4_억_세대_수            682\n",
       "아파트_가격_5_억_세대_수           1368\n",
       "아파트_가격_6_억_이상_세대_수        2090\n",
       "아파트_평균_면적                    0\n",
       "아파트_평균_시가                    0\n",
       "dtype: int64"
      ]
     },
     "execution_count": 27,
     "metadata": {},
     "output_type": "execute_result"
    }
   ],
   "source": [
    "df_아파트.isna().sum()"
   ]
  },
  {
   "cell_type": "code",
   "execution_count": 28,
   "metadata": {},
   "outputs": [
    {
     "data": {
      "text/plain": [
       "기준_년분기_코드                 0\n",
       "행정동_코드                    0\n",
       "행정동_코드_명                  0\n",
       "아파트_단지_수                  0\n",
       "아파트_면적_66_제곱미터_미만_세대_수    0\n",
       "아파트_면적_66_제곱미터_세대_수       0\n",
       "아파트_면적_99_제곱미터_세대_수       0\n",
       "아파트_면적_132_제곱미터_세대_수      0\n",
       "아파트_면적_165_제곱미터_세대_수      0\n",
       "아파트_가격_1_억_미만_세대_수        0\n",
       "아파트_가격_1_억_세대_수           0\n",
       "아파트_가격_2_억_세대_수           0\n",
       "아파트_가격_3_억_세대_수           0\n",
       "아파트_가격_4_억_세대_수           0\n",
       "아파트_가격_5_억_세대_수           0\n",
       "아파트_가격_6_억_이상_세대_수        0\n",
       "아파트_평균_면적                 0\n",
       "아파트_평균_시가                 0\n",
       "dtype: int64"
      ]
     },
     "execution_count": 28,
     "metadata": {},
     "output_type": "execute_result"
    }
   ],
   "source": [
    "df_아파트.fillna(0,inplace=True)\n",
    "df_아파트.isna().sum()"
   ]
  },
  {
   "cell_type": "code",
   "execution_count": 29,
   "metadata": {},
   "outputs": [
    {
     "name": "stdout",
     "output_type": "stream",
     "text": [
      "년분기: 20231  행정동 개수:424  \n",
      "년분기: 20232  행정동 개수:424  년분기: 20194  행정동 개수:425  년분기: 20201  행정동 개수:425  \n",
      "년분기: 20202  행정동 개수:425  년분기: 20203  행정동 개수:425  년분기: 20204  행정동 개수:425  \n",
      "년분기: 20211  행정동 개수:425  년분기: 20212  행정동 개수:425  년분기: 20213  행정동 개수:425  \n",
      "년분기: 20214  행정동 개수:424  년분기: 20221  행정동 개수:424  년분기: 20222  행정동 개수:424  \n",
      "년분기: 20223  행정동 개수:424  년분기: 20224  행정동 개수:424  cnt: 15\n"
     ]
    }
   ],
   "source": [
    "cnt=0\n",
    "for x in df_아파트['기준_년분기_코드'].unique():\n",
    "    print(\"년분기:\",x,end='  ')\n",
    "    print(\"행정동 개수:\",end='')\n",
    "    print(df_아파트.loc[df_아파트['기준_년분기_코드']==x]['행정동_코드_명'].count(),end='  ')\n",
    "    if cnt%3==0:\n",
    "        print()\n",
    "    cnt+=1\n",
    "print(\"cnt:\",cnt)"
   ]
  },
  {
   "cell_type": "code",
   "execution_count": 30,
   "metadata": {},
   "outputs": [],
   "source": [
    "# 행정동 425개 아닌 년분기\n",
    "temp_아파트=[20214,20221,20222,20223,20224,20231,20232,20233]"
   ]
  },
  {
   "cell_type": "code",
   "execution_count": 31,
   "metadata": {},
   "outputs": [
    {
     "name": "stdout",
     "output_type": "stream",
     "text": [
      "분기:20214 빠진 행정동 코드:[11740690]\n",
      "분기:20221 빠진 행정동 코드:[11740690]\n",
      "분기:20222 빠진 행정동 코드:[11740690]\n",
      "분기:20223 빠진 행정동 코드:[11740690]\n",
      "분기:20224 빠진 행정동 코드:[11740690]\n",
      "분기:20231 빠진 행정동 코드:[11740690]\n",
      "분기:20232 빠진 행정동 코드:[11740690]\n",
      "분기:20233 빠진 행정동 코드:[11110515, 11110530, 11110540, 11110550, 11110560, 11110570, 11110580, 11110600, 11110615, 11110630, 11110640, 11110650, 11110670, 11110680, 11110690, 11110700, 11110710, 11140520, 11140540, 11140550, 11140570, 11140580, 11140590, 11140605, 11140615, 11140625, 11140635, 11140645, 11140650, 11140665, 11140670, 11140680, 11170510, 11170520, 11170530, 11170555, 11170560, 11170570, 11170580, 11170590, 11170625, 11170630, 11170640, 11170650, 11170660, 11170685, 11170690, 11170700, 11200520, 11200535, 11200540, 11200550, 11200560, 11200570, 11200580, 11200590, 11200615, 11200620, 11200645, 11200650, 11200660, 11200670, 11200690, 11200720, 11200790, 11215710, 11215730, 11215740, 11215750, 11215760, 11215770, 11215780, 11215810, 11215820, 11215830, 11215840, 11215847, 11215850, 11215860, 11215870, 11230536, 11230545, 11230560, 11230570, 11230600, 11230610, 11230650, 11230660, 11230705, 11230710, 11230720, 11230730, 11230740, 11230750, 11260520, 11260540, 11260550, 11260565, 11260570, 11260575, 11260580, 11260590, 11260600, 11260610, 11260620, 11260630, 11260655, 11260660, 11260680, 11260690, 11290525, 11290555, 11290575, 11290580, 11290590, 11290600, 11290610, 11290620, 11290630, 11290640, 11290650, 11290660, 11290685, 11290705, 11290715, 11290725, 11290760, 11290770, 11290780, 11290810, 11305534, 11305535, 11305545, 11305555, 11305575, 11305595, 11305603, 11305608, 11305615, 11305625, 11305635, 11305645, 11305660, 11320511, 11320512, 11320513, 11320514, 11320515, 11320521, 11320522, 11320660, 11320670, 11320680, 11320681, 11320690, 11320700, 11320710, 11350560, 11350570, 11350580, 11350595, 11350600, 11350611, 11350612, 11350619, 11350621, 11350624, 11350625, 11350630, 11350640, 11350665, 11350670, 11350695, 11350700, 11350710, 11350720, 11380510, 11380520, 11380530, 11380551, 11380552, 11380560, 11380570, 11380580, 11380590, 11380600, 11380625, 11380631, 11380632, 11380640, 11380650, 11380690, 11410520, 11410555, 11410565, 11410585, 11410615, 11410620, 11410640, 11410655, 11410660, 11410685, 11410690, 11410700, 11410710, 11410720, 11440555, 11440565, 11440585, 11440590, 11440600, 11440610, 11440630, 11440655, 11440660, 11440680, 11440690, 11440700, 11440710, 11440720, 11440730, 11440740, 11470510, 11470520, 11470530, 11470540, 11470550, 11470560, 11470570, 11470580, 11470590, 11470600, 11470610, 11470611, 11470620, 11470630, 11470640, 11470650, 11470670, 11470680, 11500510, 11500520, 11500530, 11500535, 11500540, 11500550, 11500560, 11500570, 11500590, 11500591, 11500593, 11500603, 11500604, 11500605, 11500611, 11500615, 11500620, 11500630, 11500640, 11500641, 11530510, 11530520, 11530530, 11530540, 11530550, 11530560, 11530595, 11530720, 11530730, 11530740, 11530750, 11530760, 11530770, 11530780, 11530790, 11530800, 11545510, 11545610, 11545620, 11545630, 11545640, 11545670, 11545680, 11545690, 11545700, 11545710, 11560515, 11560535, 11560540, 11560550, 11560560, 11560585, 11560605, 11560610, 11560620, 11560630, 11560650, 11560660, 11560670, 11560680, 11560690, 11560700, 11560710, 11560720, 11590510, 11590520, 11590530, 11590540, 11590550, 11590560, 11590605, 11590620, 11590630, 11590640, 11590650, 11590651, 11590660, 11590670, 11590680, 11620525, 11620545, 11620565, 11620575, 11620585, 11620595, 11620605, 11620615, 11620625, 11620630, 11620645, 11620655, 11620665, 11620685, 11620695, 11620715, 11620725, 11620735, 11620745, 11620765, 11620775, 11650510, 11650520, 11650530, 11650531, 11650540, 11650550, 11650560, 11650570, 11650580, 11650581, 11650590, 11650600, 11650610, 11650620, 11650621, 11650651, 11650652, 11650660, 11680510, 11680521, 11680531, 11680545, 11680565, 11680580, 11680590, 11680600, 11680610, 11680630, 11680640, 11680650, 11680655, 11680656, 11680660, 11680670, 11680690, 11680700, 11680720, 11680730, 11680740, 11680750, 11710510, 11710520, 11710531, 11710532, 11710540, 11710550, 11710561, 11710562, 11710566, 11710570, 11710580, 11710590, 11710600, 11710610, 11710620, 11710631, 11710632, 11710641, 11710642, 11710646, 11710647, 11710650, 11710670, 11710680, 11710690, 11710710, 11710720, 11740515, 11740520, 11740530, 11740540, 11740550, 11740560, 11740570, 11740580, 11740590, 11740600, 11740610, 11740620, 11740640, 11740650, 11740660, 11740685, 11740690, 11740700]\n"
     ]
    }
   ],
   "source": [
    "# 동 개수 425개가 아닌 년분기들의 행정동 코드 찾기\n",
    "for x in temp_아파트:\n",
    "    temp_code=list(df_아파트.loc[df_아파트['기준_년분기_코드']==x]['행정동_코드'])\n",
    "    temp_diff=[y for y in total_dong_code_425 if y not in temp_code ]\n",
    "    print(f'분기:{x} 빠진 행정동 코드:{temp_diff}')"
   ]
  },
  {
   "cell_type": "code",
   "execution_count": 32,
   "metadata": {},
   "outputs": [],
   "source": [
    "# 11740690: 둔촌1동 -> 서비스X"
   ]
  },
  {
   "cell_type": "code",
   "execution_count": 33,
   "metadata": {},
   "outputs": [
    {
     "data": {
      "text/plain": [
       "(array([20231, 20232, 20194, 20201, 20202, 20203, 20204, 20211, 20212,\n",
       "        20213, 20214, 20221, 20222, 20223, 20224], dtype=int64),\n",
       " 15)"
      ]
     },
     "execution_count": 33,
     "metadata": {},
     "output_type": "execute_result"
    }
   ],
   "source": [
    "df_아파트['기준_년분기_코드'].unique(),len(df_아파트['기준_년분기_코드'].unique())"
   ]
  },
  {
   "cell_type": "code",
   "execution_count": 34,
   "metadata": {},
   "outputs": [],
   "source": [
    "없는_년도분기=[20191,20192,20193]\n",
    "# 19년 1,2,3분기 데이터 없음 -> 19년 4분기 데이터로 추가\n",
    "temp_아파트_20194=df_아파트.loc[(df_아파트['기준_년분기_코드']==20194)]\n",
    "for x in 없는_년도분기: # 3개 년도분기 리스트\n",
    "    new_df=temp_아파트_20194.copy()\n",
    "    new_df['기준_년분기_코드']=x\n",
    "    df_아파트 = pd.concat([df_아파트, new_df], ignore_index=True)"
   ]
  },
  {
   "cell_type": "code",
   "execution_count": 35,
   "metadata": {},
   "outputs": [
    {
     "data": {
      "text/plain": [
       "(array([20231, 20232, 20194, 20201, 20202, 20203, 20204, 20211, 20212,\n",
       "        20213, 20214, 20221, 20222, 20223, 20224, 20191, 20192, 20193],\n",
       "       dtype=int64),\n",
       " 18)"
      ]
     },
     "execution_count": 35,
     "metadata": {},
     "output_type": "execute_result"
    }
   ],
   "source": [
    "df_아파트['기준_년분기_코드'].unique(),len(df_아파트['기준_년분기_코드'].unique())"
   ]
  },
  {
   "cell_type": "code",
   "execution_count": 36,
   "metadata": {},
   "outputs": [
    {
     "data": {
      "text/plain": [
       "(7643, 18)"
      ]
     },
     "execution_count": 36,
     "metadata": {},
     "output_type": "execute_result"
    }
   ],
   "source": [
    "df_아파트.shape"
   ]
  },
  {
   "cell_type": "markdown",
   "metadata": {},
   "source": [
    "### 직장인구"
   ]
  },
  {
   "cell_type": "code",
   "execution_count": 37,
   "metadata": {},
   "outputs": [
    {
     "data": {
      "text/plain": [
       "(7636, 24)"
      ]
     },
     "execution_count": 37,
     "metadata": {},
     "output_type": "execute_result"
    }
   ],
   "source": [
    "dfs_직장인구=[]\n",
    "for f_name in glob(path+'직장인구/*.csv'):\n",
    "    temp=pd.read_csv(f_name,encoding='cp949')\n",
    "    dfs_직장인구.append(temp)\n",
    "df_직장인구,=dfs_직장인구\n",
    "df_직장인구.shape"
   ]
  },
  {
   "cell_type": "code",
   "execution_count": 38,
   "metadata": {},
   "outputs": [
    {
     "name": "stdout",
     "output_type": "stream",
     "text": [
      "년분기: 20191  행정동 개수:425  \n",
      "년분기: 20192  행정동 개수:418  년분기: 20193  행정동 개수:418  년분기: 20194  행정동 개수:425  \n",
      "년분기: 20201  행정동 개수:425  년분기: 20202  행정동 개수:425  년분기: 20203  행정동 개수:425  \n",
      "년분기: 20211  행정동 개수:425  년분기: 20212  행정동 개수:425  년분기: 20213  행정동 개수:425  \n",
      "년분기: 20221  행정동 개수:425  년분기: 20222  행정동 개수:425  년분기: 20223  행정동 개수:425  \n",
      "년분기: 20231  행정동 개수:425  년분기: 20232  행정동 개수:425  년분기: 20224  행정동 개수:425  \n",
      "년분기: 20204  행정동 개수:425  년분기: 20214  행정동 개수:425  cnt: 18\n"
     ]
    }
   ],
   "source": [
    "cnt=0\n",
    "for x in df_직장인구['기준_년분기_코드'].unique():\n",
    "    print(\"년분기:\",x,end='  ')\n",
    "    print(\"행정동 개수:\",end='')\n",
    "    print(df_직장인구.loc[df_직장인구['기준_년분기_코드']==x]['행정동_코드'].count(),end='  ')\n",
    "    if cnt%3==0:\n",
    "        print()\n",
    "    cnt+=1\n",
    "print(\"cnt:\",cnt)"
   ]
  },
  {
   "cell_type": "code",
   "execution_count": 39,
   "metadata": {},
   "outputs": [
    {
     "name": "stderr",
     "output_type": "stream",
     "text": [
      "C:\\Users\\user\\AppData\\Local\\Temp\\ipykernel_5116\\1583877815.py:5: SettingWithCopyWarning: \n",
      "A value is trying to be set on a copy of a slice from a DataFrame.\n",
      "Try using .loc[row_indexer,col_indexer] = value instead\n",
      "\n",
      "See the caveats in the documentation: https://pandas.pydata.org/pandas-docs/stable/user_guide/indexing.html#returning-a-view-versus-a-copy\n",
      "  new_row1['기준_년분기_코드']=20192\n",
      "C:\\Users\\user\\AppData\\Local\\Temp\\ipykernel_5116\\1583877815.py:7: SettingWithCopyWarning: \n",
      "A value is trying to be set on a copy of a slice from a DataFrame.\n",
      "Try using .loc[row_indexer,col_indexer] = value instead\n",
      "\n",
      "See the caveats in the documentation: https://pandas.pydata.org/pandas-docs/stable/user_guide/indexing.html#returning-a-view-versus-a-copy\n",
      "  new_row2['기준_년분기_코드']=20193\n"
     ]
    }
   ],
   "source": [
    "없는_행정동코드=[11305595, 11305603, 11305608, 11305615, 11305625, 11305635, 11530800]\n",
    "# 19년 2,3분기 7개 동 데이터 없음 -> 19년 1분기 7개 동 데이터로 추가\n",
    "for x in 없는_행정동코드: # 7개 동 리스트\n",
    "    new_row1=df_직장인구.loc[(df_직장인구['행정동_코드']==x)&(df_직장인구['기준_년분기_코드']==20191)]\n",
    "    new_row1['기준_년분기_코드']=20192\n",
    "    new_row2=df_직장인구.loc[(df_직장인구['행정동_코드']==x)&(df_직장인구['기준_년분기_코드']==20191)]\n",
    "    new_row2['기준_년분기_코드']=20193\n",
    "    df_직장인구 = pd.concat([df_직장인구, new_row1, new_row2], ignore_index=True)"
   ]
  },
  {
   "cell_type": "code",
   "execution_count": 40,
   "metadata": {},
   "outputs": [
    {
     "name": "stdout",
     "output_type": "stream",
     "text": [
      "년분기: 20191  행정동 개수:425  \n",
      "년분기: 20192  행정동 개수:425  년분기: 20193  행정동 개수:425  년분기: 20194  행정동 개수:425  \n",
      "년분기: 20201  행정동 개수:425  년분기: 20202  행정동 개수:425  년분기: 20203  행정동 개수:425  \n",
      "년분기: 20211  행정동 개수:425  년분기: 20212  행정동 개수:425  년분기: 20213  행정동 개수:425  \n",
      "년분기: 20221  행정동 개수:425  년분기: 20222  행정동 개수:425  년분기: 20223  행정동 개수:425  \n",
      "년분기: 20231  행정동 개수:425  년분기: 20232  행정동 개수:425  년분기: 20224  행정동 개수:425  \n",
      "년분기: 20204  행정동 개수:425  년분기: 20214  행정동 개수:425  cnt: 18\n"
     ]
    }
   ],
   "source": [
    "cnt=0\n",
    "for x in df_직장인구['기준_년분기_코드'].unique():\n",
    "    print(\"년분기:\",x,end='  ')\n",
    "    print(\"행정동 개수:\",end='')\n",
    "    print(df_직장인구.loc[df_직장인구['기준_년분기_코드']==x]['행정동_코드'].count(),end='  ')\n",
    "    if cnt%3==0:\n",
    "        print()\n",
    "    cnt+=1\n",
    "print(\"cnt:\",cnt)"
   ]
  },
  {
   "cell_type": "code",
   "execution_count": 41,
   "metadata": {},
   "outputs": [
    {
     "data": {
      "text/plain": [
       "기준_년분기_코드              0\n",
       "행정동_코드                 0\n",
       "행정동_코드_명               0\n",
       "총_직장_인구_수              0\n",
       "남성_직장_인구_수             0\n",
       "여성_직장_인구_수             0\n",
       "연령대_10_직장_인구_수         0\n",
       "연령대_20_직장_인구_수         0\n",
       "연령대_30_직장_인구_수         0\n",
       "연령대_40_직장_인구_수         0\n",
       "연령대_50_직장_인구_수         0\n",
       "연령대_60_이상_직장_인구_수      0\n",
       "남성연령대_10_직장_인구_수       0\n",
       "남성연령대_20_직장_인구_수       0\n",
       "남성연령대_30_직장_인구_수       0\n",
       "남성연령대_40_직장_인구_수       0\n",
       "남성연령대_50_직장_인구_수       0\n",
       "남성연령대_60_이상_직장_인구_수    0\n",
       "여성연령대_10_직장_인구_수       0\n",
       "여성연령대_20_직장_인구_수       0\n",
       "여성연령대_30_직장_인구_수       0\n",
       "여성연령대_40_직장_인구_수       0\n",
       "여성연령대_50_직장_인구_수       0\n",
       "여성연령대_60_이상_직장_인구_수    0\n",
       "dtype: int64"
      ]
     },
     "execution_count": 41,
     "metadata": {},
     "output_type": "execute_result"
    }
   ],
   "source": [
    "df_직장인구.isna().sum()"
   ]
  },
  {
   "cell_type": "code",
   "execution_count": 42,
   "metadata": {},
   "outputs": [
    {
     "data": {
      "text/plain": [
       "(7650, 24)"
      ]
     },
     "execution_count": 42,
     "metadata": {},
     "output_type": "execute_result"
    }
   ],
   "source": [
    "df_직장인구.shape"
   ]
  },
  {
   "cell_type": "markdown",
   "metadata": {},
   "source": [
    "### 집객시설"
   ]
  },
  {
   "cell_type": "code",
   "execution_count": 43,
   "metadata": {},
   "outputs": [
    {
     "data": {
      "text/plain": [
       "(4675, 23)"
      ]
     },
     "execution_count": 43,
     "metadata": {},
     "output_type": "execute_result"
    }
   ],
   "source": [
    "dfs_집객시설=[]\n",
    "for f_name in glob(path+'집객시설/*.csv'):\n",
    "    temp=pd.read_csv(f_name,encoding='cp949')\n",
    "    dfs_집객시설.append(temp)\n",
    "df_집객시설,=dfs_집객시설\n",
    "df_집객시설.shape"
   ]
  },
  {
   "cell_type": "code",
   "execution_count": 44,
   "metadata": {},
   "outputs": [
    {
     "name": "stdout",
     "output_type": "stream",
     "text": [
      "년분기: 20232  행정동 개수:425  \n",
      "년분기: 20231  행정동 개수:425  년분기: 20204  행정동 개수:425  년분기: 20214  행정동 개수:425  \n",
      "년분기: 20211  행정동 개수:425  년분기: 20212  행정동 개수:425  년분기: 20221  행정동 개수:425  \n",
      "년분기: 20222  행정동 개수:425  년분기: 20213  행정동 개수:425  년분기: 20223  행정동 개수:425  \n",
      "년분기: 20224  행정동 개수:425  cnt: 11\n"
     ]
    }
   ],
   "source": [
    "cnt=0\n",
    "for x in df_집객시설['기준_년분기_코드'].unique():\n",
    "    print(\"년분기:\",x,end='  ')\n",
    "    print(\"행정동 개수:\",end='')\n",
    "    print(df_집객시설.loc[df_집객시설['기준_년분기_코드']==x]['행정동_코드'].count(),end='  ')\n",
    "    if cnt%3==0:\n",
    "        print()\n",
    "    cnt+=1\n",
    "print(\"cnt:\",cnt)"
   ]
  },
  {
   "cell_type": "code",
   "execution_count": 45,
   "metadata": {},
   "outputs": [
    {
     "data": {
      "text/plain": [
       "(array([20232, 20231, 20204, 20214, 20211, 20212, 20221, 20222, 20213,\n",
       "        20223, 20224], dtype=int64),\n",
       " 11)"
      ]
     },
     "execution_count": 45,
     "metadata": {},
     "output_type": "execute_result"
    }
   ],
   "source": [
    "df_집객시설['기준_년분기_코드'].unique(),len(df_집객시설['기준_년분기_코드'].unique())"
   ]
  },
  {
   "cell_type": "code",
   "execution_count": 46,
   "metadata": {},
   "outputs": [
    {
     "data": {
      "text/plain": [
       "((0, 23), (425, 23), (1700, 23), (1700, 23), (850, 23))"
      ]
     },
     "execution_count": 46,
     "metadata": {},
     "output_type": "execute_result"
    }
   ],
   "source": [
    "df_집객시설2019 = df_집객시설[(20191 <= df_집객시설['기준_년분기_코드']) & (df_집객시설['기준_년분기_코드'] <= 20194)]\n",
    "df_집객시설2020 = df_집객시설[(20201 <= df_집객시설['기준_년분기_코드']) & (df_집객시설['기준_년분기_코드'] <= 20204)]\n",
    "df_집객시설2021 = df_집객시설[(20211 <= df_집객시설['기준_년분기_코드']) & (df_집객시설['기준_년분기_코드'] <= 20214)]\n",
    "df_집객시설2022 = df_집객시설[(20221 <= df_집객시설['기준_년분기_코드']) & (df_집객시설['기준_년분기_코드'] <= 20224)]\n",
    "df_집객시설2023 = df_집객시설[(20231 <= df_집객시설['기준_년분기_코드']) & (df_집객시설['기준_년분기_코드'] <= 20234)]\n",
    "df_집객시설2019.shape,df_집객시설2020.shape,df_집객시설2021.shape,df_집객시설2022.shape,df_집객시설2023.shape"
   ]
  },
  {
   "cell_type": "code",
   "execution_count": 47,
   "metadata": {},
   "outputs": [
    {
     "name": "stdout",
     "output_type": "stream",
     "text": [
      "(425, 23) (425, 23) (425, 23) (425, 23)\n"
     ]
    },
    {
     "data": {
      "text/plain": [
       "(array([20232, 20231, 20204, 20214, 20211, 20212, 20221, 20222, 20213,\n",
       "        20223, 20224], dtype=int64),\n",
       " 11)"
      ]
     },
     "execution_count": 47,
     "metadata": {},
     "output_type": "execute_result"
    }
   ],
   "source": [
    "# 2020년 1, 2, 3분기 데이터 생성(= 2020년 4분기 copy)\n",
    "df_집객시설20204 = df_집객시설2020[df_집객시설2020['기준_년분기_코드'] == 20204]\n",
    "\n",
    "df_집객시설20201 = df_집객시설20204.copy()\n",
    "df_집객시설20202 = df_집객시설20204.copy()\n",
    "df_집객시설20203 = df_집객시설20204.copy()\n",
    "\n",
    "df_집객시설20201['기준_년분기_코드'] = 20201\n",
    "df_집객시설20202['기준_년분기_코드'] = 20202\n",
    "df_집객시설20203['기준_년분기_코드'] = 20203\n",
    "\n",
    "print(df_집객시설20201.shape, df_집객시설20202.shape, df_집객시설20203.shape, df_집객시설20204.shape)\n",
    "\n",
    "df_집객시설2020 = pd.concat([df_집객시설20201, df_집객시설20202, df_집객시설20203, df_집객시설20204])\n",
    "df_집객시설2020 = df_집객시설2020.reset_index(drop=True)\n",
    "\n",
    "df_집객시설['기준_년분기_코드'].unique(),len(df_집객시설['기준_년분기_코드'].unique())"
   ]
  },
  {
   "cell_type": "code",
   "execution_count": 48,
   "metadata": {},
   "outputs": [
    {
     "data": {
      "text/plain": [
       "(array([20201, 20202, 20203, 20204, 20214, 20211, 20212, 20213, 20221,\n",
       "        20222, 20223, 20224, 20232, 20231], dtype=int64),\n",
       " 14)"
      ]
     },
     "execution_count": 48,
     "metadata": {},
     "output_type": "execute_result"
    }
   ],
   "source": [
    "df_집객시설 = pd.concat([df_집객시설2019, df_집객시설2020, df_집객시설2021, df_집객시설2022, df_집객시설2023])\n",
    "df_집객시설 = df_집객시설.reset_index(drop=True)\n",
    "df_집객시설['기준_년분기_코드'].unique(),len(df_집객시설['기준_년분기_코드'].unique())"
   ]
  },
  {
   "cell_type": "code",
   "execution_count": 49,
   "metadata": {},
   "outputs": [
    {
     "data": {
      "text/plain": [
       "기준_년분기_코드       0\n",
       "행정동_코드          0\n",
       "행정동_코드_명        0\n",
       "집객시설_수          0\n",
       "관공서_수          28\n",
       "은행_수          798\n",
       "종합병원_수       5222\n",
       "일반_병원_수      4032\n",
       "약국_수           28\n",
       "유치원_수        1974\n",
       "초등학교_수        896\n",
       "중학교_수        2408\n",
       "고등학교_수       3052\n",
       "대학교_수        4256\n",
       "백화점_수        5824\n",
       "슈퍼마켓_수       4690\n",
       "극장_수         4900\n",
       "숙박_시설_수      4536\n",
       "공항_수         5922\n",
       "철도_역_수       5950\n",
       "버스_터미널_수     5908\n",
       "지하철_역_수      2744\n",
       "버스_정거장_수       14\n",
       "dtype: int64"
      ]
     },
     "execution_count": 49,
     "metadata": {},
     "output_type": "execute_result"
    }
   ],
   "source": [
    "df_집객시설.isna().sum()"
   ]
  },
  {
   "cell_type": "code",
   "execution_count": 50,
   "metadata": {},
   "outputs": [
    {
     "data": {
      "text/plain": [
       "기준_년분기_코드    0\n",
       "행정동_코드       0\n",
       "행정동_코드_명     0\n",
       "집객시설_수       0\n",
       "관공서_수        0\n",
       "은행_수         0\n",
       "종합병원_수       0\n",
       "일반_병원_수      0\n",
       "약국_수         0\n",
       "유치원_수        0\n",
       "초등학교_수       0\n",
       "중학교_수        0\n",
       "고등학교_수       0\n",
       "대학교_수        0\n",
       "백화점_수        0\n",
       "슈퍼마켓_수       0\n",
       "극장_수         0\n",
       "숙박_시설_수      0\n",
       "공항_수         0\n",
       "철도_역_수       0\n",
       "버스_터미널_수     0\n",
       "지하철_역_수      0\n",
       "버스_정거장_수     0\n",
       "dtype: int64"
      ]
     },
     "execution_count": 50,
     "metadata": {},
     "output_type": "execute_result"
    }
   ],
   "source": [
    "df_집객시설.fillna(0,inplace=True)\n",
    "df_집객시설.isna().sum()"
   ]
  },
  {
   "cell_type": "code",
   "execution_count": 51,
   "metadata": {},
   "outputs": [
    {
     "data": {
      "text/plain": [
       "(5950, 23)"
      ]
     },
     "execution_count": 51,
     "metadata": {},
     "output_type": "execute_result"
    }
   ],
   "source": [
    "df_집객시설.shape"
   ]
  },
  {
   "cell_type": "markdown",
   "metadata": {},
   "source": [
    "### 점포"
   ]
  },
  {
   "cell_type": "code",
   "execution_count": 52,
   "metadata": {},
   "outputs": [],
   "source": [
    "## 2023년 추출 코드 필요하면 쓰세요\n",
    "data2 = pd.read_csv(\"../../data/raw data/행정동/점포/서울시 상권분석서비스(점포-행정동).csv\", encoding=\"cp949\")\n",
    "data_dropped2 = data2[data2['기준_년분기_코드'] >= 20231]\n",
    "data_dropped2.to_csv('../../data/raw data/행정동/점포/서울시_상권분석서비스(점포-행정동)_2023년.csv', index=False, encoding=\"cp949\")"
   ]
  },
  {
   "cell_type": "code",
   "execution_count": 53,
   "metadata": {},
   "outputs": [],
   "source": [
    "dfs_점포=[]\n",
    "for f_name in glob(path+'점포/서울시_상권분석서비스(점포-행정동)_*.csv'):\n",
    "    temp=pd.read_csv(f_name,encoding='cp949')\n",
    "    dfs_점포.append(temp)\n",
    "f,g,h,i,j=dfs_점포"
   ]
  },
  {
   "cell_type": "code",
   "execution_count": 54,
   "metadata": {},
   "outputs": [
    {
     "data": {
      "text/plain": [
       "(633422, 12)"
      ]
     },
     "execution_count": 54,
     "metadata": {},
     "output_type": "execute_result"
    }
   ],
   "source": [
    "df_점포=pd.concat([f,g,h,i,j])\n",
    "df_점포 = df_점포.reset_index(drop=True)\n",
    "df_점포.shape"
   ]
  },
  {
   "cell_type": "code",
   "execution_count": 55,
   "metadata": {},
   "outputs": [
    {
     "data": {
      "text/plain": [
       "(array([20191, 20192, 20193, 20194, 20201, 20202, 20203, 20204, 20211,\n",
       "        20212, 20213, 20214, 20221, 20222, 20223, 20224, 20231, 20232],\n",
       "       dtype=int64),\n",
       " 18)"
      ]
     },
     "execution_count": 55,
     "metadata": {},
     "output_type": "execute_result"
    }
   ],
   "source": [
    "df_점포['기준_년분기_코드'].unique(),len(df_점포['기준_년분기_코드'].unique())"
   ]
  },
  {
   "cell_type": "code",
   "execution_count": 56,
   "metadata": {},
   "outputs": [
    {
     "data": {
      "text/plain": [
       "기준_년분기_코드      0\n",
       "행정동_코드         0\n",
       "행정동_코드_명       0\n",
       "서비스_업종_코드      0\n",
       "서비스_업종_코드_명    0\n",
       "점포_수           0\n",
       "유사_업종_점포_수     0\n",
       "개업_율           0\n",
       "개업_점포_수        0\n",
       "폐업_률           0\n",
       "폐업_점포_수        0\n",
       "프랜차이즈_점포_수     0\n",
       "dtype: int64"
      ]
     },
     "execution_count": 56,
     "metadata": {},
     "output_type": "execute_result"
    }
   ],
   "source": [
    "df_점포.isna().sum()"
   ]
  },
  {
   "cell_type": "code",
   "execution_count": 57,
   "metadata": {},
   "outputs": [
    {
     "data": {
      "text/plain": [
       "(633422, 12)"
      ]
     },
     "execution_count": 57,
     "metadata": {},
     "output_type": "execute_result"
    }
   ],
   "source": [
    "df_점포.shape"
   ]
  },
  {
   "cell_type": "markdown",
   "metadata": {},
   "source": [
    "## 전체 파일 병합\n",
    "- `on=['기준_년분기_코드','행정동_코드','행정동_코드_명']`\n",
    "- `on=['기준_년분기_코드','행정동_코드','행정동_코드_명','서비스_업종_코드', '서비스_업종_코드_명']`"
   ]
  },
  {
   "cell_type": "code",
   "execution_count": 58,
   "metadata": {},
   "outputs": [
    {
     "data": {
      "text/plain": [
       "((301156, 53), (5950, 23))"
      ]
     },
     "execution_count": 58,
     "metadata": {},
     "output_type": "execute_result"
    }
   ],
   "source": [
    "# 추정매출 + 집객시설\n",
    "df_추정매출.shape,df_집객시설.shape"
   ]
  },
  {
   "cell_type": "code",
   "execution_count": 59,
   "metadata": {},
   "outputs": [
    {
     "data": {
      "text/plain": [
       "(301156, 73)"
      ]
     },
     "execution_count": 59,
     "metadata": {},
     "output_type": "execute_result"
    }
   ],
   "source": [
    "df_집객시설.drop(\"행정동_코드_명\", axis=1, inplace=True)\n",
    "tmp1 = df_추정매출.merge(df_집객시설, how='left', on=['기준_년분기_코드','행정동_코드'])\n",
    "tmp1.shape"
   ]
  },
  {
   "cell_type": "code",
   "execution_count": 60,
   "metadata": {},
   "outputs": [
    {
     "data": {
      "text/plain": [
       "((301156, 73), (7650, 24))"
      ]
     },
     "execution_count": 60,
     "metadata": {},
     "output_type": "execute_result"
    }
   ],
   "source": [
    "# 추정매출 + 집객시설 + 직장인구\n",
    "tmp1.shape,df_직장인구.shape"
   ]
  },
  {
   "cell_type": "code",
   "execution_count": 61,
   "metadata": {},
   "outputs": [
    {
     "data": {
      "text/plain": [
       "(301156, 94)"
      ]
     },
     "execution_count": 61,
     "metadata": {},
     "output_type": "execute_result"
    }
   ],
   "source": [
    "df_직장인구.drop(\"행정동_코드_명\", axis=1, inplace=True)\n",
    "tmp2 = tmp1.merge(df_직장인구, how='left', on=['기준_년분기_코드','행정동_코드'])\n",
    "tmp2.shape"
   ]
  },
  {
   "cell_type": "code",
   "execution_count": 62,
   "metadata": {},
   "outputs": [
    {
     "data": {
      "text/plain": [
       "((301156, 94), (633422, 12))"
      ]
     },
     "execution_count": 62,
     "metadata": {},
     "output_type": "execute_result"
    }
   ],
   "source": [
    "# 추정매출 + 집객시설 + 직장인구 + 점포\n",
    "tmp2.shape,df_점포.shape"
   ]
  },
  {
   "cell_type": "code",
   "execution_count": 63,
   "metadata": {},
   "outputs": [
    {
     "data": {
      "text/plain": [
       "(301156, 101)"
      ]
     },
     "execution_count": 63,
     "metadata": {},
     "output_type": "execute_result"
    }
   ],
   "source": [
    "df_점포.drop([\"행정동_코드_명\", \"서비스_업종_코드_명\"], axis=1, inplace=True)\n",
    "tmp3 = tmp2.merge(df_점포, how='left', on=['기준_년분기_코드','행정동_코드','서비스_업종_코드'])\n",
    "tmp3.shape"
   ]
  },
  {
   "cell_type": "code",
   "execution_count": 64,
   "metadata": {},
   "outputs": [
    {
     "data": {
      "text/plain": [
       "((301156, 101), (7643, 18))"
      ]
     },
     "execution_count": 64,
     "metadata": {},
     "output_type": "execute_result"
    }
   ],
   "source": [
    "# 추정매출 + 집객시설 + 직장인구 + 점포 + 아파트\n",
    "tmp3.shape,df_아파트.shape"
   ]
  },
  {
   "cell_type": "code",
   "execution_count": 65,
   "metadata": {},
   "outputs": [
    {
     "data": {
      "text/plain": [
       "(301156, 116)"
      ]
     },
     "execution_count": 65,
     "metadata": {},
     "output_type": "execute_result"
    }
   ],
   "source": [
    "df_아파트.drop([\"행정동_코드_명\"], axis=1, inplace=True)\n",
    "tmp4 = tmp3.merge(df_아파트, how='left', on=['기준_년분기_코드','행정동_코드'])\n",
    "tmp4.shape"
   ]
  },
  {
   "cell_type": "code",
   "execution_count": 66,
   "metadata": {},
   "outputs": [
    {
     "data": {
      "text/plain": [
       "((301156, 116), (7650, 16))"
      ]
     },
     "execution_count": 66,
     "metadata": {},
     "output_type": "execute_result"
    }
   ],
   "source": [
    "# 추정매출 + 집객시설 + 직장인구 + 점포 + 아파트 + 소득소비\n",
    "tmp4.shape,df_소득소비.shape"
   ]
  },
  {
   "cell_type": "code",
   "execution_count": 67,
   "metadata": {},
   "outputs": [
    {
     "data": {
      "text/plain": [
       "(301156, 129)"
      ]
     },
     "execution_count": 67,
     "metadata": {},
     "output_type": "execute_result"
    }
   ],
   "source": [
    "df_소득소비.drop([\"행정동_코드_명\"], axis=1, inplace=True)\n",
    "tmp5 = tmp4.merge(df_소득소비, how='left', on=['기준_년분기_코드','행정동_코드'])\n",
    "tmp5.shape"
   ]
  },
  {
   "cell_type": "code",
   "execution_count": 68,
   "metadata": {},
   "outputs": [
    {
     "data": {
      "text/plain": [
       "((301156, 129), (7650, 27))"
      ]
     },
     "execution_count": 68,
     "metadata": {},
     "output_type": "execute_result"
    }
   ],
   "source": [
    "# 추정매출 + 집객시설 + 직장인구 + 점포 + 아파트 + 소득소비 +상주인구\n",
    "tmp5.shape,df_상주인구.shape"
   ]
  },
  {
   "cell_type": "code",
   "execution_count": 69,
   "metadata": {},
   "outputs": [
    {
     "data": {
      "text/plain": [
       "(301156, 153)"
      ]
     },
     "execution_count": 69,
     "metadata": {},
     "output_type": "execute_result"
    }
   ],
   "source": [
    "df_상주인구.drop([\"행정동_코드_명\"], axis=1, inplace=True)\n",
    "tmp6 = tmp5.merge(df_상주인구, how='left', on=['기준_년분기_코드','행정동_코드'])\n",
    "tmp6.shape"
   ]
  },
  {
   "cell_type": "code",
   "execution_count": 70,
   "metadata": {},
   "outputs": [
    {
     "data": {
      "text/plain": [
       "((301156, 153), (7650, 25))"
      ]
     },
     "execution_count": 70,
     "metadata": {},
     "output_type": "execute_result"
    }
   ],
   "source": [
    "# 추정매출 + 집객시설 + 직장인구 + 점포 + 아파트 + 소득소비 +상주인구 + 생활인구\n",
    "tmp6.shape,df_생활인구.shape"
   ]
  },
  {
   "cell_type": "code",
   "execution_count": 71,
   "metadata": {},
   "outputs": [
    {
     "data": {
      "text/plain": [
       "(301156, 175)"
      ]
     },
     "execution_count": 71,
     "metadata": {},
     "output_type": "execute_result"
    }
   ],
   "source": [
    "df_생활인구.drop([\"행정동_코드_명\"], axis=1, inplace=True)\n",
    "tmp7 = tmp6.merge(df_생활인구, how='left', on=['기준_년분기_코드','행정동_코드'])\n",
    "tmp7.shape"
   ]
  },
  {
   "cell_type": "markdown",
   "metadata": {},
   "source": [
    "#### '상권_코드_명', '행정동_코드_명' replace\n",
    "- 같은 `상권 코드`를 사용하는 `상권_코드_명`이 존재함을 발견 → 같은 이름 but, `·`이 `?`로 표시됨\n",
    "- `행정동_코드_명`에서 `?`로 나타나는 값이 존재함을 발견\n",
    "- 두 컬럼에서 `?`를 `·`으로 replace 작업 진행"
   ]
  },
  {
   "cell_type": "code",
   "execution_count": 72,
   "metadata": {},
   "outputs": [
    {
     "data": {
      "text/plain": [
       "0"
      ]
     },
     "execution_count": 72,
     "metadata": {},
     "output_type": "execute_result"
    }
   ],
   "source": [
    "# 전체 데이터 변수 선언\n",
    "df_dong = tmp7.copy()\n",
    "\n",
    "# 19년 제외 na값 - 미존재\n",
    "df_dong[df_dong['기준_년분기_코드'] // 10 != 2019].isna().sum().sum()"
   ]
  },
  {
   "cell_type": "code",
   "execution_count": 73,
   "metadata": {},
   "outputs": [
    {
     "data": {
      "text/plain": [
       "(424, 430)"
      ]
     },
     "execution_count": 73,
     "metadata": {},
     "output_type": "execute_result"
    }
   ],
   "source": [
    "# [이슈1] 행정동 코드 갯수와 코드명 갯수가 동일하지 않음\n",
    "df_dong[\"행정동_코드\"].nunique(), df_dong[\"행정동_코드_명\"].nunique()"
   ]
  },
  {
   "cell_type": "code",
   "execution_count": 74,
   "metadata": {},
   "outputs": [
    {
     "name": "stdout",
     "output_type": "stream",
     "text": [
      "** 전처리 전 **\n",
      "['종로1?2?3?4가동' '종로5?6가동' '금호2?3가동' '면목3?8동' '중계2?3동' '상계3?4동' '상계6?7동']\n",
      "['종로1·2·3·4가동' '종로5·6가동' '금호2·3가동' '면목3·8동' '상계3·4동' '상계6·7동' '중계2·3동']\n",
      "** 전처리 후 **\n",
      "[]\n",
      "['종로1·2·3·4가동' '종로5·6가동' '금호2·3가동' '면목3·8동' '상계3·4동' '상계6·7동' '중계2·3동']\n"
     ]
    }
   ],
   "source": [
    "# '?' 있는 행정동 명 확인 - 동일함\n",
    "print(\"** 전처리 전 **\")\n",
    "print(df_dong[df_dong['행정동_코드_명'].str.contains('\\?')][\"행정동_코드_명\"].unique())\n",
    "print(df_dong[df_dong['행정동_코드_명'].str.contains('\\·')][\"행정동_코드_명\"].unique())\n",
    "\n",
    "# 행정동 코드 명 '?' -> '·' 가운데점으로 대체\n",
    "df_dong['행정동_코드_명'] = df_dong['행정동_코드_명'].str.replace('?', '·', regex=False)\n",
    "\n",
    "# 전처리 결과 확인 -> good!\n",
    "print(\"** 전처리 후 **\")\n",
    "print(df_dong[df_dong['행정동_코드_명'].str.contains('\\?')][\"행정동_코드_명\"].unique())\n",
    "print(df_dong[df_dong['행정동_코드_명'].str.contains('\\·')][\"행정동_코드_명\"].unique())"
   ]
  },
  {
   "cell_type": "markdown",
   "metadata": {},
   "source": [
    "#### 동일한 행정동_코드_명 이름 변경\n",
    "- 11620685 -> 신사동(관악구)\n",
    "- 11680510 -> 신사동(강남구)"
   ]
  },
  {
   "cell_type": "code",
   "execution_count": 75,
   "metadata": {},
   "outputs": [
    {
     "name": "stdout",
     "output_type": "stream",
     "text": [
      "424 423\n",
      "       행정동_코드 행정동_코드_명\n",
      "372  11620685      신사동\n",
      "499  11680510      신사동\n",
      "424 424\n",
      "       행정동_코드  행정동_코드_명\n",
      "372  11620685  신사동(관악구)\n",
      "499  11680510  신사동(강남구)\n"
     ]
    }
   ],
   "source": [
    "# [이슈2] 전처리 후에도 동일한 행정동 명 확인 -> 신사동\n",
    "print(df_dong[\"행정동_코드\"].nunique(), df_dong[\"행정동_코드_명\"].nunique())\n",
    "print(df_dong[df_dong['행정동_코드_명'].str.contains('신사동')][[\"행정동_코드\",\"행정동_코드_명\"]].drop_duplicates())\n",
    "\n",
    "# 11620685 -> 신사동(관악구) / 11680510 -> 신사동(강남구) 변경\n",
    "df_dong.loc[df_dong[df_dong['행정동_코드'] == 11620685].index, \"행정동_코드_명\"] = \"신사동(관악구)\"\n",
    "df_dong.loc[df_dong[df_dong['행정동_코드'] == 11680510].index, \"행정동_코드_명\"] = \"신사동(강남구)\"\n",
    "\n",
    "# 처리 결과 확인 -> 완료\n",
    "print(df_dong[\"행정동_코드\"].nunique(), df_dong[\"행정동_코드_명\"].nunique())\n",
    "print(df_dong[df_dong['행정동_코드_명'].str.contains('신사동')][[\"행정동_코드\",\"행정동_코드_명\"]].drop_duplicates())"
   ]
  },
  {
   "cell_type": "markdown",
   "metadata": {},
   "source": [
    "#### 항동 제거"
   ]
  },
  {
   "cell_type": "code",
   "execution_count": 76,
   "metadata": {},
   "outputs": [
    {
     "name": "stdout",
     "output_type": "stream",
     "text": [
      "False\n"
     ]
    }
   ],
   "source": [
    "# [이슈3] 항동 제거\n",
    "df_dong_fin = df_dong.drop(df_dong[df_dong['행정동_코드_명']==\"항동\"].index, axis=0)\n",
    "print(df_dong_fin[df_dong_fin['행정동_코드_명']==\"항동\"].sum().any())"
   ]
  },
  {
   "cell_type": "markdown",
   "metadata": {},
   "source": [
    "#### csv 파일로 저장"
   ]
  },
  {
   "cell_type": "code",
   "execution_count": 77,
   "metadata": {},
   "outputs": [],
   "source": [
    "# full set csv 저장\n",
    "path2='../../data/preprocessed data/'\n",
    "df_dong_fin.to_csv(path2+'dong_full_data.csv', index=False)"
   ]
  },
  {
   "cell_type": "markdown",
   "metadata": {},
   "source": [
    "## 서비스 업종 선별"
   ]
  },
  {
   "cell_type": "code",
   "execution_count": 78,
   "metadata": {},
   "outputs": [
    {
     "data": {
      "text/plain": [
       "{'당구장': 'CS200016',\n",
       " '치과의원': 'CS200007',\n",
       " '의약품': 'CS300018',\n",
       " '커피-음료': 'CS100010',\n",
       " '골프연습장': 'CS200017',\n",
       " '의료기기': 'CS300019',\n",
       " '서적': 'CS300020',\n",
       " '네일숍': 'CS200029',\n",
       " '여관': 'CS200034',\n",
       " '청과상': 'CS300009',\n",
       " '신발': 'CS300014',\n",
       " '반찬가게': 'CS300010',\n",
       " '편의점': 'CS300002',\n",
       " '자동차수리': 'CS200025',\n",
       " '가전제품수리': 'CS200032',\n",
       " '슈퍼마켓': 'CS300001',\n",
       " '일반의류': 'CS300011',\n",
       " '운동/경기용품': 'CS300024',\n",
       " '호프-간이주점': 'CS100009',\n",
       " '한의원': 'CS200008',\n",
       " '외국어학원': 'CS200002',\n",
       " '예술학원': 'CS200003',\n",
       " '양식음식점': 'CS100004',\n",
       " '육류판매': 'CS300007',\n",
       " '철물점': 'CS300033',\n",
       " '일식음식점': 'CS100003',\n",
       " '화초': 'CS300028',\n",
       " '분식전문점': 'CS100008',\n",
       " '수산물판매': 'CS300008',\n",
       " '미곡판매': 'CS300006',\n",
       " '패스트푸드점': 'CS100006',\n",
       " '자전거 및 기타운송장비': 'CS300025',\n",
       " '인테리어': 'CS300035',\n",
       " '치킨전문점': 'CS100007',\n",
       " '화장품': 'CS300022',\n",
       " '피부관리실': 'CS200030',\n",
       " '문구': 'CS300021',\n",
       " '시계및귀금속': 'CS300017',\n",
       " '세탁소': 'CS200031',\n",
       " '제과점': 'CS100005',\n",
       " '일반의원': 'CS200006',\n",
       " 'PC방': 'CS200019',\n",
       " '조명용품': 'CS300036',\n",
       " '애완동물': 'CS300029',\n",
       " '가전제품': 'CS300032',\n",
       " '중식음식점': 'CS100002',\n",
       " '한식음식점': 'CS100001',\n",
       " '컴퓨터및주변장치판매': 'CS300003',\n",
       " '스포츠 강습': 'CS200005',\n",
       " '스포츠클럽': 'CS200024',\n",
       " '일반교습학원': 'CS200001',\n",
       " '미용실': 'CS200028',\n",
       " '가구': 'CS300031',\n",
       " '핸드폰': 'CS300004',\n",
       " '전자상거래업': 'CS300043',\n",
       " '안경': 'CS300016',\n",
       " '섬유제품': 'CS300027',\n",
       " '자동차미용': 'CS200026',\n",
       " '가방': 'CS300015',\n",
       " '완구': 'CS300026',\n",
       " '노래방': 'CS200037',\n",
       " '부동산중개업': 'CS200033',\n",
       " '고시원': 'CS200036'}"
      ]
     },
     "execution_count": 78,
     "metadata": {},
     "output_type": "execute_result"
    }
   ],
   "source": [
    "# 딕셔너리 {서비스 업종 명: 서비스 업종 코드}\n",
    "service_info=dict(zip( df_추정매출['서비스_업종_코드_명'],df_추정매출['서비스_업종_코드']))\n",
    "service_info"
   ]
  },
  {
   "cell_type": "code",
   "execution_count": 79,
   "metadata": {},
   "outputs": [
    {
     "data": {
      "text/plain": [
       "{'의약품': 'CS300018',\n",
       " '커피-음료': 'CS100010',\n",
       " '편의점': 'CS300002',\n",
       " '일반의류': 'CS300011',\n",
       " '호프-간이주점': 'CS100009',\n",
       " '양식음식점': 'CS100004',\n",
       " '일식음식점': 'CS100003',\n",
       " '분식전문점': 'CS100008',\n",
       " '패스트푸드점': 'CS100006',\n",
       " '치킨전문점': 'CS100007',\n",
       " '화장품': 'CS300022',\n",
       " '세탁소': 'CS200031',\n",
       " '제과점': 'CS100005',\n",
       " '중식음식점': 'CS100002',\n",
       " '한식음식점': 'CS100001',\n",
       " '일반교습학원': 'CS200001',\n",
       " '미용실': 'CS200028'}"
      ]
     },
     "execution_count": 79,
     "metadata": {},
     "output_type": "execute_result"
    }
   ],
   "source": [
    "# 우리 service 코드만 parsing\n",
    "pos_serv=['한식음식점', '커피-음료', '분식전문점', '호프-간이주점', '치킨전문점', '중식음식점', '패스트푸드점', '제과점', \n",
    "          '일식음식점', '양식음식점','편의점', '일반의류', '화장품', '의약품','일반교습학원', '미용실', '세탁소']\n",
    "pos_serv_code = {key: value for key, value in service_info.items() if key in pos_serv}\n",
    "pos_serv_code"
   ]
  },
  {
   "cell_type": "code",
   "execution_count": 80,
   "metadata": {},
   "outputs": [
    {
     "data": {
      "text/plain": [
       "(114687, 175)"
      ]
     },
     "execution_count": 80,
     "metadata": {},
     "output_type": "execute_result"
    }
   ],
   "source": [
    "fin_filter = df_dong_fin[df_dong_fin['서비스_업종_코드'].isin(pos_serv_code.values())]\n",
    "fin_filter.shape"
   ]
  },
  {
   "cell_type": "markdown",
   "metadata": {},
   "source": [
    "## 점포별 평균 매출 금액 컬럼 추가 \n",
    "- 당월_매출_금액: 해당 상권, 서비스 업종의 모든 점포들의 매출 합\n",
    "- `점포별_평균_매출_금액` = `당월_매출_금액` / `점포_수`"
   ]
  },
  {
   "cell_type": "code",
   "execution_count": 81,
   "metadata": {},
   "outputs": [
    {
     "data": {
      "text/plain": [
       "count    114687.000000\n",
       "mean         40.689206\n",
       "std         119.528488\n",
       "min           3.000000\n",
       "25%          12.000000\n",
       "50%          21.000000\n",
       "75%          41.000000\n",
       "max        8194.000000\n",
       "Name: 유사_업종_점포_수, dtype: float64"
      ]
     },
     "execution_count": 81,
     "metadata": {},
     "output_type": "execute_result"
    }
   ],
   "source": [
    "# 유사_업종_점포_수 : 매출 수집한 점포 수\n",
    "fin_filter[\"유사_업종_점포_수\"].describe()"
   ]
  },
  {
   "cell_type": "code",
   "execution_count": 82,
   "metadata": {},
   "outputs": [
    {
     "name": "stderr",
     "output_type": "stream",
     "text": [
      "C:\\Users\\user\\AppData\\Local\\Temp\\ipykernel_5116\\1202270889.py:1: SettingWithCopyWarning: \n",
      "A value is trying to be set on a copy of a slice from a DataFrame.\n",
      "Try using .loc[row_indexer,col_indexer] = value instead\n",
      "\n",
      "See the caveats in the documentation: https://pandas.pydata.org/pandas-docs/stable/user_guide/indexing.html#returning-a-view-versus-a-copy\n",
      "  fin_filter['점포별_평균_매출_금액'] = fin_filter['당월_매출_금액'] / fin_filter['유사_업종_점포_수']\n"
     ]
    },
    {
     "data": {
      "text/plain": [
       "count    1.146870e+05\n",
       "mean     3.952989e+07\n",
       "std      6.571647e+07\n",
       "min      3.760000e+01\n",
       "25%      8.202693e+06\n",
       "50%      1.975590e+07\n",
       "75%      4.550609e+07\n",
       "max      1.863250e+09\n",
       "Name: 점포별_평균_매출_금액, dtype: float64"
      ]
     },
     "execution_count": 82,
     "metadata": {},
     "output_type": "execute_result"
    }
   ],
   "source": [
    "fin_filter['점포별_평균_매출_금액'] = fin_filter['당월_매출_금액'] / fin_filter['유사_업종_점포_수']\n",
    "fin_filter['점포별_평균_매출_금액'].describe()"
   ]
  },
  {
   "cell_type": "markdown",
   "metadata": {},
   "source": [
    "## 시각화"
   ]
  },
  {
   "cell_type": "code",
   "execution_count": 83,
   "metadata": {},
   "outputs": [
    {
     "data": {
      "image/png": "[encoded data removed]",
      "text/plain": [
       "<Figure size 640x480 with 1 Axes>"
      ]
     },
     "metadata": {},
     "output_type": "display_data"
    }
   ],
   "source": [
    "import pandas as pd\n",
    "import numpy as np\n",
    "import matplotlib.pyplot as plt\n",
    "import seaborn as sns\n",
    "plt.rc('font', family='Malgun Gothic')\n",
    "\n",
    "import warnings\n",
    "warnings.filterwarnings('ignore')\n",
    "\n",
    "plt.boxplot(fin_filter['점포별_평균_매출_금액'])\n",
    "plt.show()"
   ]
  },
  {
   "cell_type": "code",
   "execution_count": 84,
   "metadata": {},
   "outputs": [
    {
     "data": {
      "image/png": "[encoded data removed]",
      "text/plain": [
       "<Figure size 2000x1000 with 1 Axes>"
      ]
     },
     "metadata": {},
     "output_type": "display_data"
    }
   ],
   "source": [
    "## 분기별 추이 확인(전체)\n",
    "quarter_people = fin_filter.groupby([\"기준_년분기_코드\"])[\"총_유동인구_수\"].mean()\n",
    "\n",
    "# Matplotlib을 사용한 그룹별 바 플롯\n",
    "plt.figure(figsize=(20,10))\n",
    "quarter_people.plot(kind='bar', legend=False)\n",
    "\n",
    "plt.xlabel(\"분기\", fontsize=15)\n",
    "plt.ylabel('평균 유동인구', fontsize=15)\n",
    "#plt.title(var+' 총 매출-'+title , fontsize=20)\n",
    "\n",
    "# 라벨이 겹치지 않도록 조정\n",
    "plt.tight_layout()\n",
    "plt.xticks(rotation=90)\n",
    "plt.show()"
   ]
  },
  {
   "cell_type": "code",
   "execution_count": 85,
   "metadata": {},
   "outputs": [
    {
     "data": {
      "image/png": "[encoded data removed]",
      "text/plain": [
       "<Figure size 2000x1000 with 1 Axes>"
      ]
     },
     "metadata": {},
     "output_type": "display_data"
    },
    {
     "data": {
      "text/plain": [
       "'_summary_\\n1. 코로나(20.1-21.4)와 이후는 추세 차이 존재 -> 코로나 변수 생성\\n2.  총 매출에서 반복되는 추세가 보임 → 분기(1,2,3,4) 생성\\n'"
      ]
     },
     "execution_count": 85,
     "metadata": {},
     "output_type": "execute_result"
    }
   ],
   "source": [
    "## 분기별 추이 확인(전체)\n",
    "quarter_sales = fin_filter.groupby([\"기준_년분기_코드\"])[\"점포별_평균_매출_금액\"].mean()\n",
    "\n",
    "# Matplotlib을 사용한 그룹별 바 플롯\n",
    "plt.figure(figsize=(20,10))\n",
    "quarter_sales.plot(kind='bar', legend=False)\n",
    "\n",
    "plt.xlabel(\"분기\", fontsize=15)\n",
    "plt.ylabel('총 매출', fontsize=15)\n",
    "#plt.title(var+' 총 매출-'+title , fontsize=20)\n",
    "\n",
    "# 라벨이 겹치지 않도록 조정\n",
    "plt.tight_layout()\n",
    "plt.xticks(rotation=90)\n",
    "plt.show()\n",
    " \n",
    "\"\"\"_summary_\n",
    "1. 코로나(20.1-21.4)와 이후는 추세 차이 존재 -> 코로나 변수 생성\n",
    "2.  총 매출에서 반복되는 추세가 보임 → 분기(1,2,3,4) 생성\n",
    "\"\"\""
   ]
  },
  {
   "cell_type": "code",
   "execution_count": 86,
   "metadata": {},
   "outputs": [
    {
     "data": {
      "image/png": "[encoded data removed]",
      "text/plain": [
       "<Figure size 1000x600 with 1 Axes>"
      ]
     },
     "metadata": {},
     "output_type": "display_data"
    },
    {
     "data": {
      "image/png": "[encoded data removed]",
      "text/plain": [
       "<Figure size 1000x600 with 1 Axes>"
      ]
     },
     "metadata": {},
     "output_type": "display_data"
    },
    {
     "data": {
      "image/png": "[encoded data removed]",
      "text/plain": [
       "<Figure size 1000x600 with 1 Axes>"
      ]
     },
     "metadata": {},
     "output_type": "display_data"
    }
   ],
   "source": [
    "## 각 업종별 평균 매출 추이 파악 - 세탁소 에러 확인(제거), 100만원 이하 건수 삭제 시행\n",
    "plt.figure(figsize=(10, 6))\n",
    "plt.title('각 업종의 점포별_평균_매출_금액(전체)')\n",
    "sns.boxplot(data=fin_filter, x='서비스_업종_코드_명', y='점포별_평균_매출_금액')\n",
    "plt.xticks(rotation=90)\n",
    "plt.show()\n",
    "\n",
    "\n",
    "plt.figure(figsize=(10, 6))\n",
    "plt.title('각 업종의 점포별_평균_매출_금액(일정)')\n",
    "sns.boxplot(data=fin_filter, x='서비스_업종_코드_명', y='점포별_평균_매출_금액')\n",
    "plt.ylim(0, 1000000)\n",
    "plt.xticks(rotation=90)\n",
    "plt.show()\n",
    "\n",
    "\n",
    "plt.figure(figsize=(10, 6))\n",
    "plt.title('각 업종의 점포별_평균_매출_금액(일정)')\n",
    "sns.kdeplot(data=fin_filter, x='점포별_평균_매출_금액', hue=\"서비스_업종_코드_명\")\n",
    "plt.xlim(0, 1000000)\n",
    "plt.xticks(rotation=90)\n",
    "plt.show()"
   ]
  },
  {
   "cell_type": "markdown",
   "metadata": {},
   "source": [
    "#### 세탁소 제거, 백만원 이하 제거"
   ]
  },
  {
   "cell_type": "code",
   "execution_count": 87,
   "metadata": {},
   "outputs": [
    {
     "name": "stdout",
     "output_type": "stream",
     "text": [
      "제거 전: (114687, 176)\n",
      "제거 후: (105807, 176)\n"
     ]
    }
   ],
   "source": [
    "print('제거 전:',fin_filter.shape)\n",
    "## [이슈4] 점포별_평균_매출_금액에 누락 값(이상치) 존재. 기준점을 세워 데이터 handling 진행\n",
    "## [이슈5] 세탁소 제거 (현금 장사)\n",
    "fin_filter_dropped = fin_filter[(fin_filter[\"점포별_평균_매출_금액\"] > 1000000)&(fin_filter[\"서비스_업종_코드_명\"]!=\"세탁소\")]\n",
    "print('제거 후:',fin_filter_dropped.shape)"
   ]
  },
  {
   "cell_type": "code",
   "execution_count": 88,
   "metadata": {},
   "outputs": [
    {
     "data": {
      "image/png": "[encoded data removed]",
      "text/plain": [
       "<Figure size 1000x600 with 1 Axes>"
      ]
     },
     "metadata": {},
     "output_type": "display_data"
    },
    {
     "data": {
      "image/png": "[encoded data removed]",
      "text/plain": [
       "<Figure size 1000x600 with 1 Axes>"
      ]
     },
     "metadata": {},
     "output_type": "display_data"
    },
    {
     "data": {
      "image/png": "[encoded data removed]",
      "text/plain": [
       "<Figure size 1000x600 with 1 Axes>"
      ]
     },
     "metadata": {},
     "output_type": "display_data"
    },
    {
     "data": {
      "image/png": "[encoded data removed]",
      "text/plain": [
       "<Figure size 1000x600 with 1 Axes>"
      ]
     },
     "metadata": {},
     "output_type": "display_data"
    }
   ],
   "source": [
    "## 이상치 제거 후 각 업종별 평균 매출 추이 파악\n",
    "plt.figure(figsize=(10, 6))\n",
    "plt.title('제거 후 각 업종의 점포별_평균_매출_금액(전체)')\n",
    "sns.boxplot(data=fin_filter_dropped, x='서비스_업종_코드_명', y='점포별_평균_매출_금액')\n",
    "plt.xticks(rotation=90)\n",
    "plt.show()\n",
    "\n",
    "\n",
    "plt.figure(figsize=(10, 6))\n",
    "plt.title('제거 후 각 업종의 점포별_평균_매출_금액(일정)')\n",
    "sns.boxplot(data=fin_filter_dropped, x='서비스_업종_코드_명', y='점포별_평균_매출_금액')\n",
    "plt.ylim(0, 10000000)\n",
    "plt.xticks(rotation=90)\n",
    "plt.show()\n",
    "\n",
    "\n",
    "plt.figure(figsize=(10, 6))\n",
    "plt.title('제거 후 각 업종의 점포별_평균_매출_금액(전체)')\n",
    "sns.kdeplot(data=fin_filter_dropped, x='점포별_평균_매출_금액', hue=\"서비스_업종_코드_명\")\n",
    "plt.xticks(rotation=90)\n",
    "plt.show()\n",
    "\n",
    "plt.figure(figsize=(10, 6))\n",
    "plt.title('제거 후 각 업종의 점포별_평균_매출_금액(일정)')\n",
    "sns.kdeplot(data=fin_filter_dropped, x='점포별_평균_매출_금액', hue=\"서비스_업종_코드_명\")\n",
    "plt.xlim(0, 25000000)\n",
    "plt.xticks(rotation=90)\n",
    "plt.show()"
   ]
  },
  {
   "cell_type": "markdown",
   "metadata": {},
   "source": [
    "### 분기, 코로나 컬럼 추가"
   ]
  },
  {
   "cell_type": "code",
   "execution_count": 89,
   "metadata": {},
   "outputs": [
    {
     "name": "stdout",
     "output_type": "stream",
     "text": [
      "(105807, 178)\n"
     ]
    },
    {
     "data": {
      "text/html": [
       "<div>\n",
       "<style scoped>\n",
       "    .dataframe tbody tr th:only-of-type {\n",
       "        vertical-align: middle;\n",
       "    }\n",
       "\n",
       "    .dataframe tbody tr th {\n",
       "        vertical-align: top;\n",
       "    }\n",
       "\n",
       "    .dataframe thead th {\n",
       "        text-align: right;\n",
       "    }\n",
       "</style>\n",
       "<table border=\"1\" class=\"dataframe\">\n",
       "  <thead>\n",
       "    <tr style=\"text-align: right;\">\n",
       "      <th></th>\n",
       "      <th>기준_년분기_코드</th>\n",
       "      <th>분기</th>\n",
       "      <th>코로나_여부</th>\n",
       "    </tr>\n",
       "  </thead>\n",
       "  <tbody>\n",
       "    <tr>\n",
       "      <th>2</th>\n",
       "      <td>20191</td>\n",
       "      <td>1</td>\n",
       "      <td>1</td>\n",
       "    </tr>\n",
       "    <tr>\n",
       "      <th>10802</th>\n",
       "      <td>20191</td>\n",
       "      <td>1</td>\n",
       "      <td>1</td>\n",
       "    </tr>\n",
       "    <tr>\n",
       "      <th>10799</th>\n",
       "      <td>20191</td>\n",
       "      <td>1</td>\n",
       "      <td>1</td>\n",
       "    </tr>\n",
       "    <tr>\n",
       "      <th>10797</th>\n",
       "      <td>20191</td>\n",
       "      <td>1</td>\n",
       "      <td>1</td>\n",
       "    </tr>\n",
       "    <tr>\n",
       "      <th>10796</th>\n",
       "      <td>20191</td>\n",
       "      <td>1</td>\n",
       "      <td>1</td>\n",
       "    </tr>\n",
       "    <tr>\n",
       "      <th>...</th>\n",
       "      <td>...</td>\n",
       "      <td>...</td>\n",
       "      <td>...</td>\n",
       "    </tr>\n",
       "    <tr>\n",
       "      <th>289647</th>\n",
       "      <td>20232</td>\n",
       "      <td>2</td>\n",
       "      <td>0</td>\n",
       "    </tr>\n",
       "    <tr>\n",
       "      <th>289646</th>\n",
       "      <td>20232</td>\n",
       "      <td>2</td>\n",
       "      <td>0</td>\n",
       "    </tr>\n",
       "    <tr>\n",
       "      <th>289645</th>\n",
       "      <td>20232</td>\n",
       "      <td>2</td>\n",
       "      <td>0</td>\n",
       "    </tr>\n",
       "    <tr>\n",
       "      <th>289669</th>\n",
       "      <td>20232</td>\n",
       "      <td>2</td>\n",
       "      <td>0</td>\n",
       "    </tr>\n",
       "    <tr>\n",
       "      <th>301142</th>\n",
       "      <td>20232</td>\n",
       "      <td>2</td>\n",
       "      <td>0</td>\n",
       "    </tr>\n",
       "  </tbody>\n",
       "</table>\n",
       "<p>105807 rows × 3 columns</p>\n",
       "</div>"
      ],
      "text/plain": [
       "        기준_년분기_코드  분기  코로나_여부\n",
       "2           20191   1       1\n",
       "10802       20191   1       1\n",
       "10799       20191   1       1\n",
       "10797       20191   1       1\n",
       "10796       20191   1       1\n",
       "...           ...  ..     ...\n",
       "289647      20232   2       0\n",
       "289646      20232   2       0\n",
       "289645      20232   2       0\n",
       "289669      20232   2       0\n",
       "301142      20232   2       0\n",
       "\n",
       "[105807 rows x 3 columns]"
      ]
     },
     "execution_count": 89,
     "metadata": {},
     "output_type": "execute_result"
    }
   ],
   "source": [
    "## 분기, 코로나 COL 추가\n",
    "# 코로나 = 20201-20214\n",
    "fin_filter_dropped[\"분기\"] = fin_filter_dropped[\"기준_년분기_코드\"].apply(lambda x: int(str(x)[-1]))\n",
    "fin_filter_dropped[\"코로나_여부\"] = fin_filter_dropped[\"기준_년분기_코드\"].apply(lambda x: 1 if x<20221 else 0)\n",
    "print(fin_filter_dropped.shape)\n",
    "fin_filter_dropped[[\"기준_년분기_코드\", \"분기\", \"코로나_여부\"]].sort_values(\"기준_년분기_코드\")"
   ]
  },
  {
   "cell_type": "markdown",
   "metadata": {},
   "source": [
    "### csv 파일로 저장"
   ]
  },
  {
   "cell_type": "code",
   "execution_count": 90,
   "metadata": {},
   "outputs": [],
   "source": [
    "fin_filter_dropped.to_csv(path2+'dong_service_data.csv', index=False)"
   ]
  },
  {
   "cell_type": "markdown",
   "metadata": {},
   "source": [
    "## 모델 학습용 데이터"
   ]
  },
  {
   "cell_type": "code",
   "execution_count": 91,
   "metadata": {},
   "outputs": [],
   "source": [
    "import pandas as pd\n",
    "\n",
    "pd.set_option('display.max_columns', 500)"
   ]
  },
  {
   "cell_type": "markdown",
   "metadata": {},
   "source": [
    "### 1. 해당 분기 매출 예측\n",
    "- y: `점포별_평균_매출_금액`"
   ]
  },
  {
   "cell_type": "code",
   "execution_count": 92,
   "metadata": {},
   "outputs": [
    {
     "data": {
      "text/plain": [
       "(105807, 178)"
      ]
     },
     "execution_count": 92,
     "metadata": {},
     "output_type": "execute_result"
    }
   ],
   "source": [
    "estimate = pd.read_csv('../../data/preprocessed data/dong_service_data.csv')\n",
    "estimate.shape"
   ]
  },
  {
   "cell_type": "markdown",
   "metadata": {},
   "source": [
    "#### 불필요한 매출 관련 컬럼 제거"
   ]
  },
  {
   "cell_type": "code",
   "execution_count": 93,
   "metadata": {},
   "outputs": [
    {
     "name": "stdout",
     "output_type": "stream",
     "text": [
      "48\n"
     ]
    },
    {
     "data": {
      "text/plain": [
       "(105807, 130)"
      ]
     },
     "execution_count": 93,
     "metadata": {},
     "output_type": "execute_result"
    }
   ],
   "source": [
    "drop_cols = ['당월_매출_금액', '당월_매출_건수', '주중_매출_금액', '주말_매출_금액',\n",
    "       '월요일_매출_금액', '화요일_매출_금액', '수요일_매출_금액', '목요일_매출_금액', '금요일_매출_금액',\n",
    "       '토요일_매출_금액', '일요일_매출_금액', '시간대_00~06_매출_금액', '시간대_06~11_매출_금액',\n",
    "       '시간대_11~14_매출_금액', '시간대_14~17_매출_금액', '시간대_17~21_매출_금액',\n",
    "       '시간대_21~24_매출_금액', '남성_매출_금액', '여성_매출_금액', '연령대_10_매출_금액',\n",
    "       '연령대_20_매출_금액', '연령대_30_매출_금액', '연령대_40_매출_금액', '연령대_50_매출_금액',\n",
    "       '연령대_60_이상_매출_금액', '주중_매출_건수', '주말_매출_건수', '월요일_매출_건수', '화요일_매출_건수',\n",
    "       '수요일_매출_건수', '목요일_매출_건수', '금요일_매출_건수', '토요일_매출_건수', '일요일_매출_건수',\n",
    "       '시간대_건수~06_매출_건수', '시간대_건수~11_매출_건수', '시간대_건수~14_매출_건수',\n",
    "       '시간대_건수~17_매출_건수', '시간대_건수~21_매출_건수', '시간대_건수~24_매출_건수', '남성_매출_건수',\n",
    "       '여성_매출_건수', '연령대_10_매출_건수', '연령대_20_매출_건수', '연령대_30_매출_건수',\n",
    "       '연령대_40_매출_건수', '연령대_50_매출_건수', '연령대_60_이상_매출_건수']\n",
    "\n",
    "print(len(drop_cols))\n",
    "\n",
    "estimate = estimate.drop(columns=drop_cols)\n",
    "estimate.shape"
   ]
  },
  {
   "cell_type": "markdown",
   "metadata": {},
   "source": [
    "#### 전년도_평균_매출_금액 컬럼 생성"
   ]
  },
  {
   "cell_type": "code",
   "execution_count": 94,
   "metadata": {},
   "outputs": [
    {
     "name": "stdout",
     "output_type": "stream",
     "text": [
      "[20201 20202 20203 20204 20211 20212 20213 20214 20221 20222 20223 20224\n",
      " 20231 20232 20233 20234 20241 20242]\n"
     ]
    },
    {
     "data": {
      "text/html": [
       "<div>\n",
       "<style scoped>\n",
       "    .dataframe tbody tr th:only-of-type {\n",
       "        vertical-align: middle;\n",
       "    }\n",
       "\n",
       "    .dataframe tbody tr th {\n",
       "        vertical-align: top;\n",
       "    }\n",
       "\n",
       "    .dataframe thead th {\n",
       "        text-align: right;\n",
       "    }\n",
       "</style>\n",
       "<table border=\"1\" class=\"dataframe\">\n",
       "  <thead>\n",
       "    <tr style=\"text-align: right;\">\n",
       "      <th></th>\n",
       "      <th>기준_년분기_코드</th>\n",
       "      <th>행정동_코드</th>\n",
       "      <th>서비스_업종_코드</th>\n",
       "      <th>전년도_점포별_평균_매출_금액</th>\n",
       "    </tr>\n",
       "  </thead>\n",
       "  <tbody>\n",
       "    <tr>\n",
       "      <th>0</th>\n",
       "      <td>20201</td>\n",
       "      <td>11380510</td>\n",
       "      <td>CS300018</td>\n",
       "      <td>9.725545e+07</td>\n",
       "    </tr>\n",
       "    <tr>\n",
       "      <th>1</th>\n",
       "      <td>20201</td>\n",
       "      <td>11380570</td>\n",
       "      <td>CS100010</td>\n",
       "      <td>1.498190e+07</td>\n",
       "    </tr>\n",
       "    <tr>\n",
       "      <th>2</th>\n",
       "      <td>20201</td>\n",
       "      <td>11380530</td>\n",
       "      <td>CS300002</td>\n",
       "      <td>1.154142e+08</td>\n",
       "    </tr>\n",
       "    <tr>\n",
       "      <th>3</th>\n",
       "      <td>20201</td>\n",
       "      <td>11380631</td>\n",
       "      <td>CS100009</td>\n",
       "      <td>5.615918e+06</td>\n",
       "    </tr>\n",
       "    <tr>\n",
       "      <th>4</th>\n",
       "      <td>20201</td>\n",
       "      <td>11380631</td>\n",
       "      <td>CS300018</td>\n",
       "      <td>2.176335e+08</td>\n",
       "    </tr>\n",
       "    <tr>\n",
       "      <th>...</th>\n",
       "      <td>...</td>\n",
       "      <td>...</td>\n",
       "      <td>...</td>\n",
       "      <td>...</td>\n",
       "    </tr>\n",
       "    <tr>\n",
       "      <th>105802</th>\n",
       "      <td>20242</td>\n",
       "      <td>11740700</td>\n",
       "      <td>CS200001</td>\n",
       "      <td>1.218240e+07</td>\n",
       "    </tr>\n",
       "    <tr>\n",
       "      <th>105803</th>\n",
       "      <td>20242</td>\n",
       "      <td>11740700</td>\n",
       "      <td>CS200028</td>\n",
       "      <td>5.832440e+06</td>\n",
       "    </tr>\n",
       "    <tr>\n",
       "      <th>105804</th>\n",
       "      <td>20242</td>\n",
       "      <td>11740700</td>\n",
       "      <td>CS300002</td>\n",
       "      <td>9.019270e+07</td>\n",
       "    </tr>\n",
       "    <tr>\n",
       "      <th>105805</th>\n",
       "      <td>20242</td>\n",
       "      <td>11740700</td>\n",
       "      <td>CS300011</td>\n",
       "      <td>3.003883e+07</td>\n",
       "    </tr>\n",
       "    <tr>\n",
       "      <th>105806</th>\n",
       "      <td>20242</td>\n",
       "      <td>11740700</td>\n",
       "      <td>CS300018</td>\n",
       "      <td>1.025029e+08</td>\n",
       "    </tr>\n",
       "  </tbody>\n",
       "</table>\n",
       "<p>105807 rows × 4 columns</p>\n",
       "</div>"
      ],
      "text/plain": [
       "        기준_년분기_코드    행정동_코드 서비스_업종_코드  전년도_점포별_평균_매출_금액\n",
       "0           20201  11380510  CS300018      9.725545e+07\n",
       "1           20201  11380570  CS100010      1.498190e+07\n",
       "2           20201  11380530  CS300002      1.154142e+08\n",
       "3           20201  11380631  CS100009      5.615918e+06\n",
       "4           20201  11380631  CS300018      2.176335e+08\n",
       "...           ...       ...       ...               ...\n",
       "105802      20242  11740700  CS200001      1.218240e+07\n",
       "105803      20242  11740700  CS200028      5.832440e+06\n",
       "105804      20242  11740700  CS300002      9.019270e+07\n",
       "105805      20242  11740700  CS300011      3.003883e+07\n",
       "105806      20242  11740700  CS300018      1.025029e+08\n",
       "\n",
       "[105807 rows x 4 columns]"
      ]
     },
     "metadata": {},
     "output_type": "display_data"
    }
   ],
   "source": [
    "before = estimate[['기준_년분기_코드', '행정동_코드', '서비스_업종_코드', '점포별_평균_매출_금액']]\n",
    "before['기준_년분기_코드'] += 10\n",
    "before = before.rename(columns={'점포별_평균_매출_금액': '전년도_점포별_평균_매출_금액'})\n",
    "\n",
    "print(before['기준_년분기_코드'].unique())\n",
    "display(before)"
   ]
  },
  {
   "cell_type": "code",
   "execution_count": 95,
   "metadata": {},
   "outputs": [
    {
     "data": {
      "text/plain": [
       "기준_년분기_코드               0\n",
       "행정동_코드                  0\n",
       "행정동_코드_명                0\n",
       "서비스_업종_코드               0\n",
       "서비스_업종_코드_명             0\n",
       "                    ...  \n",
       "일요일_유동인구_수              0\n",
       "점포별_평균_매출_금액            0\n",
       "분기                      0\n",
       "코로나_여부                  0\n",
       "전년도_점포별_평균_매출_금액    24628\n",
       "Length: 131, dtype: int64"
      ]
     },
     "execution_count": 95,
     "metadata": {},
     "output_type": "execute_result"
    }
   ],
   "source": [
    "# '전년도_점포별_평균_매출_금액' 24712개 NaN\n",
    "estimate = estimate.merge(before, how='left', on=['기준_년분기_코드', '행정동_코드', '서비스_업종_코드'])\n",
    "estimate.isnull().sum()"
   ]
  },
  {
   "cell_type": "code",
   "execution_count": 96,
   "metadata": {},
   "outputs": [
    {
     "data": {
      "text/plain": [
       "Index(['기준_년분기_코드', '행정동_코드', '행정동_코드_명', '서비스_업종_코드', '서비스_업종_코드_명', '집객시설_수',\n",
       "       '관공서_수', '은행_수', '종합병원_수', '일반_병원_수',\n",
       "       ...\n",
       "       '화요일_유동인구_수', '수요일_유동인구_수', '목요일_유동인구_수', '금요일_유동인구_수', '토요일_유동인구_수',\n",
       "       '일요일_유동인구_수', '점포별_평균_매출_금액', '분기', '코로나_여부', '전년도_점포별_평균_매출_금액'],\n",
       "      dtype='object', length=131)"
      ]
     },
     "execution_count": 96,
     "metadata": {},
     "output_type": "execute_result"
    }
   ],
   "source": [
    "estimate.columns"
   ]
  },
  {
   "cell_type": "markdown",
   "metadata": {},
   "source": [
    "### 2. 다음 분기 매출 예측\n",
    "- y: `점포별_예상_평균_매출_금액`\n",
    "\n",
    "현재시점이 2023년 2분기일 때, \n",
    "- `점포별_예상_평균_매출_금액`(2023년 3분기) → 다음 분기 매출 금액\n",
    "- `전년도_점포별_평균_매출_금액`(2022년 3분기) → 예측할 분기의 전년도 매출 금액 "
   ]
  },
  {
   "cell_type": "code",
   "execution_count": 97,
   "metadata": {},
   "outputs": [
    {
     "data": {
      "text/plain": [
       "(105807, 178)"
      ]
     },
     "execution_count": 97,
     "metadata": {},
     "output_type": "execute_result"
    }
   ],
   "source": [
    "predict = pd.read_csv('../../data/preprocessed data/dong_service_data.csv')\n",
    "predict.shape"
   ]
  },
  {
   "cell_type": "markdown",
   "metadata": {},
   "source": [
    "#### 불필요한 매출 관련 컬럼 제거"
   ]
  },
  {
   "cell_type": "code",
   "execution_count": 98,
   "metadata": {},
   "outputs": [
    {
     "name": "stdout",
     "output_type": "stream",
     "text": [
      "48\n",
      "(105807, 130)\n"
     ]
    }
   ],
   "source": [
    "drop_cols = ['당월_매출_금액', '당월_매출_건수', '주중_매출_금액', '주말_매출_금액',\n",
    "       '월요일_매출_금액', '화요일_매출_금액', '수요일_매출_금액', '목요일_매출_금액', '금요일_매출_금액',\n",
    "       '토요일_매출_금액', '일요일_매출_금액', '시간대_00~06_매출_금액', '시간대_06~11_매출_금액',\n",
    "       '시간대_11~14_매출_금액', '시간대_14~17_매출_금액', '시간대_17~21_매출_금액',\n",
    "       '시간대_21~24_매출_금액', '남성_매출_금액', '여성_매출_금액', '연령대_10_매출_금액',\n",
    "       '연령대_20_매출_금액', '연령대_30_매출_금액', '연령대_40_매출_금액', '연령대_50_매출_금액',\n",
    "       '연령대_60_이상_매출_금액', '주중_매출_건수', '주말_매출_건수', '월요일_매출_건수', '화요일_매출_건수',\n",
    "       '수요일_매출_건수', '목요일_매출_건수', '금요일_매출_건수', '토요일_매출_건수', '일요일_매출_건수',\n",
    "       '시간대_건수~06_매출_건수', '시간대_건수~11_매출_건수', '시간대_건수~14_매출_건수',\n",
    "       '시간대_건수~17_매출_건수', '시간대_건수~21_매출_건수', '시간대_건수~24_매출_건수', '남성_매출_건수',\n",
    "       '여성_매출_건수', '연령대_10_매출_건수', '연령대_20_매출_건수', '연령대_30_매출_건수',\n",
    "       '연령대_40_매출_건수', '연령대_50_매출_건수', '연령대_60_이상_매출_건수']\n",
    "\n",
    "print(len(drop_cols))\n",
    "\n",
    "predict = predict.drop(columns=drop_cols)\n",
    "print(predict.shape)"
   ]
  },
  {
   "cell_type": "markdown",
   "metadata": {},
   "source": [
    "#### 점포별_예상_평균_매출_금액 컬럼 생성"
   ]
  },
  {
   "cell_type": "code",
   "execution_count": 99,
   "metadata": {},
   "outputs": [
    {
     "name": "stdout",
     "output_type": "stream",
     "text": [
      "[20184 20191 20192 20193 20194 20201 20202 20203 20204 20211 20212 20213\n",
      " 20214 20221 20222 20223 20224 20231]\n"
     ]
    },
    {
     "data": {
      "text/html": [
       "<div>\n",
       "<style scoped>\n",
       "    .dataframe tbody tr th:only-of-type {\n",
       "        vertical-align: middle;\n",
       "    }\n",
       "\n",
       "    .dataframe tbody tr th {\n",
       "        vertical-align: top;\n",
       "    }\n",
       "\n",
       "    .dataframe thead th {\n",
       "        text-align: right;\n",
       "    }\n",
       "</style>\n",
       "<table border=\"1\" class=\"dataframe\">\n",
       "  <thead>\n",
       "    <tr style=\"text-align: right;\">\n",
       "      <th></th>\n",
       "      <th>기준_년분기_코드</th>\n",
       "      <th>행정동_코드</th>\n",
       "      <th>서비스_업종_코드</th>\n",
       "      <th>점포별_예상_평균_매출_금액</th>\n",
       "    </tr>\n",
       "  </thead>\n",
       "  <tbody>\n",
       "    <tr>\n",
       "      <th>0</th>\n",
       "      <td>20184</td>\n",
       "      <td>11380510</td>\n",
       "      <td>CS300018</td>\n",
       "      <td>9.725545e+07</td>\n",
       "    </tr>\n",
       "    <tr>\n",
       "      <th>1</th>\n",
       "      <td>20184</td>\n",
       "      <td>11380570</td>\n",
       "      <td>CS100010</td>\n",
       "      <td>1.498190e+07</td>\n",
       "    </tr>\n",
       "    <tr>\n",
       "      <th>2</th>\n",
       "      <td>20184</td>\n",
       "      <td>11380530</td>\n",
       "      <td>CS300002</td>\n",
       "      <td>1.154142e+08</td>\n",
       "    </tr>\n",
       "    <tr>\n",
       "      <th>3</th>\n",
       "      <td>20184</td>\n",
       "      <td>11380631</td>\n",
       "      <td>CS100009</td>\n",
       "      <td>5.615918e+06</td>\n",
       "    </tr>\n",
       "    <tr>\n",
       "      <th>4</th>\n",
       "      <td>20184</td>\n",
       "      <td>11380631</td>\n",
       "      <td>CS300018</td>\n",
       "      <td>2.176335e+08</td>\n",
       "    </tr>\n",
       "    <tr>\n",
       "      <th>...</th>\n",
       "      <td>...</td>\n",
       "      <td>...</td>\n",
       "      <td>...</td>\n",
       "      <td>...</td>\n",
       "    </tr>\n",
       "    <tr>\n",
       "      <th>105802</th>\n",
       "      <td>20231</td>\n",
       "      <td>11740700</td>\n",
       "      <td>CS200001</td>\n",
       "      <td>1.218240e+07</td>\n",
       "    </tr>\n",
       "    <tr>\n",
       "      <th>105803</th>\n",
       "      <td>20231</td>\n",
       "      <td>11740700</td>\n",
       "      <td>CS200028</td>\n",
       "      <td>5.832440e+06</td>\n",
       "    </tr>\n",
       "    <tr>\n",
       "      <th>105804</th>\n",
       "      <td>20231</td>\n",
       "      <td>11740700</td>\n",
       "      <td>CS300002</td>\n",
       "      <td>9.019270e+07</td>\n",
       "    </tr>\n",
       "    <tr>\n",
       "      <th>105805</th>\n",
       "      <td>20231</td>\n",
       "      <td>11740700</td>\n",
       "      <td>CS300011</td>\n",
       "      <td>3.003883e+07</td>\n",
       "    </tr>\n",
       "    <tr>\n",
       "      <th>105806</th>\n",
       "      <td>20231</td>\n",
       "      <td>11740700</td>\n",
       "      <td>CS300018</td>\n",
       "      <td>1.025029e+08</td>\n",
       "    </tr>\n",
       "  </tbody>\n",
       "</table>\n",
       "<p>105807 rows × 4 columns</p>\n",
       "</div>"
      ],
      "text/plain": [
       "        기준_년분기_코드    행정동_코드 서비스_업종_코드  점포별_예상_평균_매출_금액\n",
       "0           20184  11380510  CS300018     9.725545e+07\n",
       "1           20184  11380570  CS100010     1.498190e+07\n",
       "2           20184  11380530  CS300002     1.154142e+08\n",
       "3           20184  11380631  CS100009     5.615918e+06\n",
       "4           20184  11380631  CS300018     2.176335e+08\n",
       "...           ...       ...       ...              ...\n",
       "105802      20231  11740700  CS200001     1.218240e+07\n",
       "105803      20231  11740700  CS200028     5.832440e+06\n",
       "105804      20231  11740700  CS300002     9.019270e+07\n",
       "105805      20231  11740700  CS300011     3.003883e+07\n",
       "105806      20231  11740700  CS300018     1.025029e+08\n",
       "\n",
       "[105807 rows x 4 columns]"
      ]
     },
     "metadata": {},
     "output_type": "display_data"
    }
   ],
   "source": [
    "before = predict[['기준_년분기_코드', '행정동_코드', '서비스_업종_코드', '점포별_평균_매출_금액']]\n",
    "before['기준_년분기_코드'] -= 1\n",
    "before.loc[before['기준_년분기_코드'].isin([20190, 20200, 20210, 20220, 20230]), '기준_년분기_코드'] -= 6   # 0분기 → 전년도 4분기로 바꿔줌\n",
    "before = before.rename(columns={'점포별_평균_매출_금액': '점포별_예상_평균_매출_금액'})\n",
    "\n",
    "print(before['기준_년분기_코드'].unique())\n",
    "display(before)"
   ]
  },
  {
   "cell_type": "code",
   "execution_count": 100,
   "metadata": {},
   "outputs": [
    {
     "data": {
      "text/plain": [
       "기준_년분기_코드             0\n",
       "행정동_코드                0\n",
       "행정동_코드_명              0\n",
       "서비스_업종_코드             0\n",
       "서비스_업종_코드_명           0\n",
       "                   ... \n",
       "일요일_유동인구_수            0\n",
       "점포별_평균_매출_금액          0\n",
       "분기                    0\n",
       "코로나_여부                0\n",
       "점포별_예상_평균_매출_금액    6592\n",
       "Length: 131, dtype: int64"
      ]
     },
     "execution_count": 100,
     "metadata": {},
     "output_type": "execute_result"
    }
   ],
   "source": [
    "# '점포별_예상_평균_매출_금액' 6638개 NaN\n",
    "predict = predict.merge(before, how='left', on=['기준_년분기_코드', '행정동_코드', '서비스_업종_코드'])\n",
    "predict.isnull().sum()"
   ]
  },
  {
   "cell_type": "markdown",
   "metadata": {},
   "source": [
    "#### 전년도_점포별_평균_매출_금액 컬럼 생성"
   ]
  },
  {
   "cell_type": "code",
   "execution_count": 101,
   "metadata": {},
   "outputs": [
    {
     "name": "stdout",
     "output_type": "stream",
     "text": [
      "[20194 20201 20202 20203 20204 20211 20212 20213 20214 20221 20222 20223\n",
      " 20224 20231 20232 20233 20240 20241]\n"
     ]
    },
    {
     "data": {
      "text/html": [
       "<div>\n",
       "<style scoped>\n",
       "    .dataframe tbody tr th:only-of-type {\n",
       "        vertical-align: middle;\n",
       "    }\n",
       "\n",
       "    .dataframe tbody tr th {\n",
       "        vertical-align: top;\n",
       "    }\n",
       "\n",
       "    .dataframe thead th {\n",
       "        text-align: right;\n",
       "    }\n",
       "</style>\n",
       "<table border=\"1\" class=\"dataframe\">\n",
       "  <thead>\n",
       "    <tr style=\"text-align: right;\">\n",
       "      <th></th>\n",
       "      <th>기준_년분기_코드</th>\n",
       "      <th>행정동_코드</th>\n",
       "      <th>서비스_업종_코드</th>\n",
       "      <th>전년도_점포별_평균_매출_금액</th>\n",
       "    </tr>\n",
       "  </thead>\n",
       "  <tbody>\n",
       "    <tr>\n",
       "      <th>0</th>\n",
       "      <td>20194</td>\n",
       "      <td>11380510</td>\n",
       "      <td>CS300018</td>\n",
       "      <td>9.725545e+07</td>\n",
       "    </tr>\n",
       "    <tr>\n",
       "      <th>1</th>\n",
       "      <td>20194</td>\n",
       "      <td>11380570</td>\n",
       "      <td>CS100010</td>\n",
       "      <td>1.498190e+07</td>\n",
       "    </tr>\n",
       "    <tr>\n",
       "      <th>2</th>\n",
       "      <td>20194</td>\n",
       "      <td>11380530</td>\n",
       "      <td>CS300002</td>\n",
       "      <td>1.154142e+08</td>\n",
       "    </tr>\n",
       "    <tr>\n",
       "      <th>3</th>\n",
       "      <td>20194</td>\n",
       "      <td>11380631</td>\n",
       "      <td>CS100009</td>\n",
       "      <td>5.615918e+06</td>\n",
       "    </tr>\n",
       "    <tr>\n",
       "      <th>4</th>\n",
       "      <td>20194</td>\n",
       "      <td>11380631</td>\n",
       "      <td>CS300018</td>\n",
       "      <td>2.176335e+08</td>\n",
       "    </tr>\n",
       "    <tr>\n",
       "      <th>...</th>\n",
       "      <td>...</td>\n",
       "      <td>...</td>\n",
       "      <td>...</td>\n",
       "      <td>...</td>\n",
       "    </tr>\n",
       "    <tr>\n",
       "      <th>105802</th>\n",
       "      <td>20241</td>\n",
       "      <td>11740700</td>\n",
       "      <td>CS200001</td>\n",
       "      <td>1.218240e+07</td>\n",
       "    </tr>\n",
       "    <tr>\n",
       "      <th>105803</th>\n",
       "      <td>20241</td>\n",
       "      <td>11740700</td>\n",
       "      <td>CS200028</td>\n",
       "      <td>5.832440e+06</td>\n",
       "    </tr>\n",
       "    <tr>\n",
       "      <th>105804</th>\n",
       "      <td>20241</td>\n",
       "      <td>11740700</td>\n",
       "      <td>CS300002</td>\n",
       "      <td>9.019270e+07</td>\n",
       "    </tr>\n",
       "    <tr>\n",
       "      <th>105805</th>\n",
       "      <td>20241</td>\n",
       "      <td>11740700</td>\n",
       "      <td>CS300011</td>\n",
       "      <td>3.003883e+07</td>\n",
       "    </tr>\n",
       "    <tr>\n",
       "      <th>105806</th>\n",
       "      <td>20241</td>\n",
       "      <td>11740700</td>\n",
       "      <td>CS300018</td>\n",
       "      <td>1.025029e+08</td>\n",
       "    </tr>\n",
       "  </tbody>\n",
       "</table>\n",
       "<p>105807 rows × 4 columns</p>\n",
       "</div>"
      ],
      "text/plain": [
       "        기준_년분기_코드    행정동_코드 서비스_업종_코드  전년도_점포별_평균_매출_금액\n",
       "0           20194  11380510  CS300018      9.725545e+07\n",
       "1           20194  11380570  CS100010      1.498190e+07\n",
       "2           20194  11380530  CS300002      1.154142e+08\n",
       "3           20194  11380631  CS100009      5.615918e+06\n",
       "4           20194  11380631  CS300018      2.176335e+08\n",
       "...           ...       ...       ...               ...\n",
       "105802      20241  11740700  CS200001      1.218240e+07\n",
       "105803      20241  11740700  CS200028      5.832440e+06\n",
       "105804      20241  11740700  CS300002      9.019270e+07\n",
       "105805      20241  11740700  CS300011      3.003883e+07\n",
       "105806      20241  11740700  CS300018      1.025029e+08\n",
       "\n",
       "[105807 rows x 4 columns]"
      ]
     },
     "metadata": {},
     "output_type": "display_data"
    }
   ],
   "source": [
    "before = estimate[['기준_년분기_코드', '행정동_코드', '서비스_업종_코드', '점포별_평균_매출_금액']]\n",
    "before['기준_년분기_코드'] += 10\n",
    "before['기준_년분기_코드'] -= 1\n",
    "before.loc[before['기준_년분기_코드'].isin([20190, 20200, 20210, 20220, 20230]), '기준_년분기_코드'] -= 6   # 0분기 → 전년도 4분기로 바꿔줌\n",
    "before = before.rename(columns={'점포별_평균_매출_금액': '전년도_점포별_평균_매출_금액'})\n",
    "\n",
    "print(before['기준_년분기_코드'].unique())\n",
    "display(before)"
   ]
  },
  {
   "cell_type": "code",
   "execution_count": 102,
   "metadata": {},
   "outputs": [
    {
     "data": {
      "text/plain": [
       "기준_년분기_코드               0\n",
       "행정동_코드                  0\n",
       "행정동_코드_명                0\n",
       "서비스_업종_코드               0\n",
       "서비스_업종_코드_명             0\n",
       "                    ...  \n",
       "점포별_평균_매출_금액            0\n",
       "분기                      0\n",
       "코로나_여부                  0\n",
       "점포별_예상_평균_매출_금액      6592\n",
       "전년도_점포별_평균_매출_금액    18668\n",
       "Length: 132, dtype: int64"
      ]
     },
     "execution_count": 102,
     "metadata": {},
     "output_type": "execute_result"
    }
   ],
   "source": [
    "# '전년도_점포별_평균_매출_금액' 18732개 NaN\n",
    "predict = predict.merge(before, how='left', on=['기준_년분기_코드', '행정동_코드', '서비스_업종_코드'])\n",
    "predict.isnull().sum()"
   ]
  },
  {
   "cell_type": "code",
   "execution_count": 103,
   "metadata": {},
   "outputs": [
    {
     "data": {
      "text/plain": [
       "Index(['기준_년분기_코드', '행정동_코드', '행정동_코드_명', '서비스_업종_코드', '서비스_업종_코드_명', '집객시설_수',\n",
       "       '관공서_수', '은행_수', '종합병원_수', '일반_병원_수',\n",
       "       ...\n",
       "       '화요일_유동인구_수', '수요일_유동인구_수', '목요일_유동인구_수', '금요일_유동인구_수', '토요일_유동인구_수',\n",
       "       '일요일_유동인구_수', '분기', '코로나_여부', '점포별_예상_평균_매출_금액', '전년도_점포별_평균_매출_금액'],\n",
       "      dtype='object', length=131)"
      ]
     },
     "execution_count": 103,
     "metadata": {},
     "output_type": "execute_result"
    }
   ],
   "source": [
    "predict = predict.drop(columns=['점포별_평균_매출_금액'])\n",
    "predict.columns"
   ]
  },
  {
   "cell_type": "markdown",
   "metadata": {},
   "source": [
    "### 데이터 컬럼 정리"
   ]
  },
  {
   "cell_type": "code",
   "execution_count": 104,
   "metadata": {},
   "outputs": [],
   "source": [
    "## vif 변수 조합 후 최종 컬럼 결정\n",
    "drop_col_dong_fin = [\"집객시설_수\", \"유사_업종_점포_수\", '지출_총금액', \"총_유동인구_수\", \"총_가구_수\", \"여성_유동인구_수\", \"남성_유동인구_수\",\n",
    "              \"월요일_유동인구_수\", \"화요일_유동인구_수\", \"수요일_유동인구_수\", \"목요일_유동인구_수\", \"금요일_유동인구_수\",\n",
    "              \"토요일_유동인구_수\", \"일요일_유동인구_수\", '총_상주인구_수', '남성_상주인구_수', '여성_상주인구_수',\n",
    "              '남성연령대_10_상주인구_수', '남성연령대_20_상주인구_수', '남성연령대_30_상주인구_수', '남성연령대_40_상주인구_수', \n",
    "              '남성연령대_50_상주인구_수', '남성연령대_60_이상_상주인구_수', '여성연령대_10_상주인구_수', '여성연령대_20_상주인구_수', \n",
    "              '여성연령대_30_상주인구_수', '여성연령대_40_상주인구_수', '여성연령대_50_상주인구_수', '여성연령대_60_이상_상주인구_수',\n",
    "              '총_직장_인구_수', '여성_직장_인구_수', '남성_직장_인구_수', '남성연령대_10_직장_인구_수', '남성연령대_20_직장_인구_수',\n",
    "              '남성연령대_30_직장_인구_수', '남성연령대_40_직장_인구_수', '남성연령대_50_직장_인구_수', '남성연령대_60_이상_직장_인구_수', \n",
    "              '여성연령대_10_직장_인구_수', '여성연령대_20_직장_인구_수', '여성연령대_30_직장_인구_수', '여성연령대_40_직장_인구_수', \n",
    "              '여성연령대_50_직장_인구_수', '여성연령대_60_이상_직장_인구_수', \"소득_구간_코드\"]\n",
    "\n",
    "estimate_dropped = estimate.drop(drop_col_dong_fin, axis=1)\n",
    "predict_dropped = predict.drop(drop_col_dong_fin, axis=1)\n",
    "\n",
    "# null 삭제 - 2019년\n",
    "estimate_dropped.dropna(inplace=True)\n",
    "predict_dropped.dropna(inplace=True)"
   ]
  },
  {
   "cell_type": "markdown",
   "metadata": {},
   "source": [
    "#### csv 파일로 저장"
   ]
  },
  {
   "cell_type": "code",
   "execution_count": 105,
   "metadata": {},
   "outputs": [],
   "source": [
    "estimate.to_csv('../../data/preprocessed data/dong_service_data_estimate.csv', index=False)\n",
    "predict.to_csv('../../data/preprocessed data/dong_service_data_predict.csv', index=False)"
   ]
  }
 ],
 "metadata": {
  "kernelspec": {
   "display_name": "Python 3",
   "language": "python",
   "name": "python3"
  },
  "language_info": {
   "codemirror_mode": {
    "name": "ipython",
    "version": 3
   },
   "file_extension": ".py",
   "mimetype": "text/x-python",
   "name": "python",
   "nbconvert_exporter": "python",
   "pygments_lexer": "ipython3",
   "version": "3.11.3"
  }
 },
 "nbformat": 4,
 "nbformat_minor": 2
}
