{
 "cells": [
  {
   "cell_type": "code",
   "execution_count": 1,
   "metadata": {},
   "outputs": [],
   "source": [
    "from glob import glob\n",
    "import pandas as pd"
   ]
  },
  {
   "cell_type": "code",
   "execution_count": 2,
   "metadata": {},
   "outputs": [],
   "source": [
    "df_total=pd.DataFrame()\n",
    "df_추정매출=pd.DataFrame()\n",
    "df_상주인구=pd.DataFrame()\n",
    "df_생활인구=pd.DataFrame()\n",
    "df_소득소비=pd.DataFrame()\n",
    "df_아파트=pd.DataFrame()\n",
    "df_영역=pd.DataFrame()\n",
    "df_점포=pd.DataFrame()\n",
    "df_직장인구=pd.DataFrame()\n",
    "df_집객시설=pd.DataFrame()"
   ]
  },
  {
   "cell_type": "code",
   "execution_count": 3,
   "metadata": {},
   "outputs": [],
   "source": [
    "path='../../data/raw data/행정동/'"
   ]
  },
  {
   "cell_type": "markdown",
   "metadata": {},
   "source": [
    "#### 추정매출"
   ]
  },
  {
   "cell_type": "code",
   "execution_count": 4,
   "metadata": {},
   "outputs": [],
   "source": [
    "## 2023년 추출 코드 필요하면 쓰세요\n",
    "data = pd.read_csv(\"../../data/raw data/행정동/추정매출/서울시 상권분석서비스(추정매출-행정동).csv\", encoding=\"cp949\")\n",
    "data_dropped = data[data['기준_년분기_코드'] >= 20231]\n",
    "data_dropped.to_csv('../../data/raw data/행정동/추정매출/서울시_상권분석서비스(추정매출-행정동)_2023년.csv', index=False, encoding=\"cp949\")"
   ]
  },
  {
   "cell_type": "code",
   "execution_count": 5,
   "metadata": {},
   "outputs": [
    {
     "name": "stdout",
     "output_type": "stream",
     "text": [
      "../../data/raw data/행정동/추정매출\\서울시_상권분석서비스(추정매출-행정동)_2019년.csv\n",
      "../../data/raw data/행정동/추정매출\\서울시_상권분석서비스(추정매출-행정동)_2020년.csv\n",
      "../../data/raw data/행정동/추정매출\\서울시_상권분석서비스(추정매출-행정동)_2021년.csv\n",
      "../../data/raw data/행정동/추정매출\\서울시_상권분석서비스(추정매출-행정동)_2022년.csv\n",
      "../../data/raw data/행정동/추정매출\\서울시_상권분석서비스(추정매출-행정동)_2023년.csv\n"
     ]
    }
   ],
   "source": [
    "dfs_추정매출=[]\n",
    "for f_name in glob(path+'추정매출/서울시_상권분석서비스(추정매출-행정동)_*.csv'):\n",
    "    print(f_name)\n",
    "    temp=pd.read_csv(f_name,encoding='cp949')\n",
    "    dfs_추정매출.append(temp)\n",
    "a,b,c,d,e =dfs_추정매출"
   ]
  },
  {
   "cell_type": "code",
   "execution_count": 6,
   "metadata": {},
   "outputs": [
    {
     "data": {
      "text/plain": [
       "(317954, 53)"
      ]
     },
     "execution_count": 6,
     "metadata": {},
     "output_type": "execute_result"
    }
   ],
   "source": [
    "df_추정매출=pd.concat([a,b,c,d,e])\n",
    "df_추정매출 = df_추정매출.reset_index(drop=True)\n",
    "df_추정매출.shape"
   ]
  },
  {
   "cell_type": "code",
   "execution_count": 7,
   "metadata": {},
   "outputs": [
    {
     "data": {
      "text/plain": [
       "array([20191, 20192, 20193, 20194, 20201, 20202, 20203, 20204, 20211,\n",
       "       20212, 20213, 20214, 20221, 20222, 20223, 20224, 20231, 20232,\n",
       "       20233], dtype=int64)"
      ]
     },
     "execution_count": 7,
     "metadata": {},
     "output_type": "execute_result"
    }
   ],
   "source": [
    "df_추정매출['기준_년분기_코드'].unique()"
   ]
  },
  {
   "cell_type": "code",
   "execution_count": 8,
   "metadata": {},
   "outputs": [
    {
     "data": {
      "text/plain": [
       "0"
      ]
     },
     "execution_count": 8,
     "metadata": {},
     "output_type": "execute_result"
    }
   ],
   "source": [
    "df_추정매출.isna().sum().sum()"
   ]
  },
  {
   "cell_type": "markdown",
   "metadata": {},
   "source": [
    "#### 상주인구"
   ]
  },
  {
   "cell_type": "code",
   "execution_count": 9,
   "metadata": {},
   "outputs": [
    {
     "data": {
      "text/plain": [
       "(8054, 27)"
      ]
     },
     "execution_count": 9,
     "metadata": {},
     "output_type": "execute_result"
    }
   ],
   "source": [
    "dfs_상주인구=[]\n",
    "for f_name in glob(path+'상주인구/*.csv'):\n",
    "    temp=pd.read_csv(f_name,encoding='cp949')\n",
    "    dfs_상주인구.append(temp)\n",
    "df_상주인구,=dfs_상주인구\n",
    "df_상주인구.shape"
   ]
  },
  {
   "cell_type": "code",
   "execution_count": 10,
   "metadata": {},
   "outputs": [
    {
     "data": {
      "text/plain": [
       "기준_년분기_코드             0\n",
       "행정동_코드                0\n",
       "행정동_코드_명              0\n",
       "총_상주인구_수              0\n",
       "남성_상주인구_수             0\n",
       "여성_상주인구_수             0\n",
       "연령대_10_상주인구_수         0\n",
       "연령대_20_상주인구_수         0\n",
       "연령대_30_상주인구_수         0\n",
       "연령대_40_상주인구_수         0\n",
       "연령대_50_상주인구_수         0\n",
       "연령대_60_이상_상주인구_수      0\n",
       "남성연령대_10_상주인구_수       0\n",
       "남성연령대_20_상주인구_수       0\n",
       "남성연령대_30_상주인구_수       0\n",
       "남성연령대_40_상주인구_수       0\n",
       "남성연령대_50_상주인구_수       0\n",
       "남성연령대_60_이상_상주인구_수    0\n",
       "여성연령대_10_상주인구_수       0\n",
       "여성연령대_20_상주인구_수       0\n",
       "여성연령대_30_상주인구_수       0\n",
       "여성연령대_40_상주인구_수       0\n",
       "여성연령대_50_상주인구_수       0\n",
       "여성연령대_60_이상_상주인구_수    0\n",
       "총_가구_수                0\n",
       "아파트_가구_수              0\n",
       "비_아파트_가구_수            0\n",
       "dtype: int64"
      ]
     },
     "execution_count": 10,
     "metadata": {},
     "output_type": "execute_result"
    }
   ],
   "source": [
    "df_상주인구.isna().sum()"
   ]
  },
  {
   "cell_type": "code",
   "execution_count": 11,
   "metadata": {},
   "outputs": [
    {
     "data": {
      "text/plain": [
       "array([20191, 20192, 20193, 20194, 20201, 20202, 20203, 20204, 20211,\n",
       "       20212, 20213, 20214, 20221, 20222, 20224, 20231, 20232, 20233,\n",
       "       20223], dtype=int64)"
      ]
     },
     "execution_count": 11,
     "metadata": {},
     "output_type": "execute_result"
    }
   ],
   "source": [
    "df_상주인구['기준_년분기_코드'].unique()"
   ]
  },
  {
   "cell_type": "code",
   "execution_count": 12,
   "metadata": {},
   "outputs": [
    {
     "name": "stdout",
     "output_type": "stream",
     "text": [
      "년분기: 20191  행정동 개수:418  \n",
      "년분기: 20192  행정동 개수:418  년분기: 20193  행정동 개수:418  년분기: 20194  행정동 개수:425  \n",
      "년분기: 20201  행정동 개수:425  년분기: 20202  행정동 개수:425  년분기: 20203  행정동 개수:425  \n",
      "년분기: 20204  행정동 개수:425  년분기: 20211  행정동 개수:425  년분기: 20212  행정동 개수:425  \n",
      "년분기: 20213  행정동 개수:425  년분기: 20214  행정동 개수:425  년분기: 20221  행정동 개수:425  \n",
      "년분기: 20222  행정동 개수:425  년분기: 20224  행정동 개수:425  년분기: 20231  행정동 개수:425  \n",
      "년분기: 20232  행정동 개수:425  년분기: 20233  행정동 개수:425  년분기: 20223  행정동 개수:425  \n",
      "cnt: 19\n"
     ]
    }
   ],
   "source": [
    "temp_total=0\n",
    "cnt=0\n",
    "for x in df_상주인구['기준_년분기_코드'].unique():\n",
    "    print(\"년분기:\",x,end='  ')\n",
    "    print(\"행정동 개수:\",end='')\n",
    "    print(df_상주인구.loc[df_상주인구['기준_년분기_코드']==x]['행정동_코드'].count(),end='  ')\n",
    "    if cnt%3==0:\n",
    "        print()\n",
    "    cnt+=1\n",
    "print(\"cnt:\",cnt)"
   ]
  },
  {
   "cell_type": "code",
   "execution_count": 13,
   "metadata": {},
   "outputs": [],
   "source": [
    "# 20191, 20192, 20193 \n",
    "dong_code_20191=list(df_상주인구.loc[df_상주인구['기준_년분기_코드']==20191]['행정동_코드'])\n",
    "dong_code_20192=list(df_상주인구.loc[df_상주인구['기준_년분기_코드']==20192]['행정동_코드'])\n",
    "dong_code_20193=list(df_상주인구.loc[df_상주인구['기준_년분기_코드']==20193]['행정동_코드'])\n",
    "dong_code_20194=list(df_상주인구.loc[df_상주인구['기준_년분기_코드']==20194]['행정동_코드'])"
   ]
  },
  {
   "cell_type": "code",
   "execution_count": 14,
   "metadata": {},
   "outputs": [
    {
     "name": "stdout",
     "output_type": "stream",
     "text": [
      "빠진 행정동 코드\n",
      "[11305595, 11305603, 11305608, 11305615, 11305625, 11305635, 11530800]\n",
      "[11305595, 11305603, 11305608, 11305615, 11305625, 11305635, 11530800]\n",
      "[11305595, 11305603, 11305608, 11305615, 11305625, 11305635, 11530800]\n"
     ]
    }
   ],
   "source": [
    "total_dong_code_425=dong_code_20194.copy()\n",
    "diff_191=[x for x in total_dong_code_425 if x not in dong_code_20191 ]\n",
    "diff_192=[x for x in total_dong_code_425 if x not in dong_code_20192 ]\n",
    "diff_193=[x for x in total_dong_code_425 if x not in dong_code_20193 ]\n",
    "print(\"빠진 행정동 코드\")\n",
    "print(diff_191)\n",
    "print(diff_192)\n",
    "print(diff_193)\n",
    "# 번1,2,3동/ 수유1,2,3동/ 항동"
   ]
  },
  {
   "cell_type": "code",
   "execution_count": 15,
   "metadata": {},
   "outputs": [
    {
     "name": "stderr",
     "output_type": "stream",
     "text": [
      "C:\\Users\\user\\AppData\\Local\\Temp\\ipykernel_23392\\2411538292.py:5: SettingWithCopyWarning: \n",
      "A value is trying to be set on a copy of a slice from a DataFrame.\n",
      "Try using .loc[row_indexer,col_indexer] = value instead\n",
      "\n",
      "See the caveats in the documentation: https://pandas.pydata.org/pandas-docs/stable/user_guide/indexing.html#returning-a-view-versus-a-copy\n",
      "  new_row1['기준_년분기_코드']=20191\n",
      "C:\\Users\\user\\AppData\\Local\\Temp\\ipykernel_23392\\2411538292.py:7: SettingWithCopyWarning: \n",
      "A value is trying to be set on a copy of a slice from a DataFrame.\n",
      "Try using .loc[row_indexer,col_indexer] = value instead\n",
      "\n",
      "See the caveats in the documentation: https://pandas.pydata.org/pandas-docs/stable/user_guide/indexing.html#returning-a-view-versus-a-copy\n",
      "  new_row2['기준_년분기_코드']=20192\n",
      "C:\\Users\\user\\AppData\\Local\\Temp\\ipykernel_23392\\2411538292.py:9: SettingWithCopyWarning: \n",
      "A value is trying to be set on a copy of a slice from a DataFrame.\n",
      "Try using .loc[row_indexer,col_indexer] = value instead\n",
      "\n",
      "See the caveats in the documentation: https://pandas.pydata.org/pandas-docs/stable/user_guide/indexing.html#returning-a-view-versus-a-copy\n",
      "  new_row3['기준_년분기_코드']=20193\n"
     ]
    }
   ],
   "source": [
    "없는_행정동코드=[11305595, 11305603, 11305608, 11305615, 11305625, 11305635, 11530800]\n",
    "# 19년 1,2,3분기 7개 동 데이터 없음 -> 19년 4분기 7개 동 데이터로 추가\n",
    "for x in 없는_행정동코드: # 7개 동 리스트\n",
    "    new_row1=df_상주인구.loc[(df_상주인구['행정동_코드']==x)&(df_상주인구['기준_년분기_코드']==20194)]\n",
    "    new_row1['기준_년분기_코드']=20191\n",
    "    new_row2=df_상주인구.loc[(df_상주인구['행정동_코드']==x)&(df_상주인구['기준_년분기_코드']==20194)]\n",
    "    new_row2['기준_년분기_코드']=20192\n",
    "    new_row3=df_상주인구.loc[(df_상주인구['행정동_코드']==x)&(df_상주인구['기준_년분기_코드']==20194)]\n",
    "    new_row3['기준_년분기_코드']=20193\n",
    "    df_상주인구 = pd.concat([df_상주인구, new_row1, new_row2, new_row3], ignore_index=True)"
   ]
  },
  {
   "cell_type": "code",
   "execution_count": 16,
   "metadata": {},
   "outputs": [
    {
     "name": "stdout",
     "output_type": "stream",
     "text": [
      "년분기: 20191  행정동 개수:425  \n",
      "년분기: 20192  행정동 개수:425  년분기: 20193  행정동 개수:425  년분기: 20194  행정동 개수:425  \n",
      "년분기: 20201  행정동 개수:425  년분기: 20202  행정동 개수:425  년분기: 20203  행정동 개수:425  \n",
      "년분기: 20204  행정동 개수:425  년분기: 20211  행정동 개수:425  년분기: 20212  행정동 개수:425  \n",
      "년분기: 20213  행정동 개수:425  년분기: 20214  행정동 개수:425  년분기: 20221  행정동 개수:425  \n",
      "년분기: 20222  행정동 개수:425  년분기: 20224  행정동 개수:425  년분기: 20231  행정동 개수:425  \n",
      "년분기: 20232  행정동 개수:425  년분기: 20233  행정동 개수:425  년분기: 20223  행정동 개수:425  \n",
      "cnt: 19\n"
     ]
    }
   ],
   "source": [
    "cnt=0\n",
    "for x in df_상주인구['기준_년분기_코드'].unique():\n",
    "    print(\"년분기:\",x,end='  ')\n",
    "    print(\"행정동 개수:\",end='')\n",
    "    print(df_상주인구.loc[df_상주인구['기준_년분기_코드']==x]['행정동_코드'].count(),end='  ')\n",
    "    if cnt%3==0:\n",
    "        print()\n",
    "    cnt+=1\n",
    "print(\"cnt:\",cnt)"
   ]
  },
  {
   "cell_type": "code",
   "execution_count": 17,
   "metadata": {},
   "outputs": [
    {
     "data": {
      "text/plain": [
       "(8075, 27)"
      ]
     },
     "execution_count": 17,
     "metadata": {},
     "output_type": "execute_result"
    }
   ],
   "source": [
    "df_상주인구.shape"
   ]
  },
  {
   "cell_type": "markdown",
   "metadata": {},
   "source": [
    "### 생활인구"
   ]
  },
  {
   "cell_type": "code",
   "execution_count": 18,
   "metadata": {},
   "outputs": [
    {
     "data": {
      "text/plain": [
       "(8075, 25)"
      ]
     },
     "execution_count": 18,
     "metadata": {},
     "output_type": "execute_result"
    }
   ],
   "source": [
    "dfs_생활인구=[]\n",
    "for f_name in glob(path+'생활인구/*.csv'):\n",
    "    temp=pd.read_csv(f_name,encoding='cp949')\n",
    "    dfs_생활인구.append(temp)\n",
    "df_생활인구,=dfs_생활인구\n",
    "df_생활인구.shape"
   ]
  },
  {
   "cell_type": "code",
   "execution_count": 19,
   "metadata": {},
   "outputs": [
    {
     "name": "stdout",
     "output_type": "stream",
     "text": [
      "년분기: 20191  행정동 개수:425  \n",
      "년분기: 20192  행정동 개수:425  년분기: 20193  행정동 개수:425  년분기: 20194  행정동 개수:425  \n",
      "년분기: 20201  행정동 개수:425  년분기: 20202  행정동 개수:425  년분기: 20203  행정동 개수:425  \n",
      "년분기: 20204  행정동 개수:425  년분기: 20211  행정동 개수:425  년분기: 20212  행정동 개수:425  \n",
      "년분기: 20213  행정동 개수:425  년분기: 20214  행정동 개수:425  년분기: 20221  행정동 개수:425  \n",
      "년분기: 20222  행정동 개수:425  년분기: 20223  행정동 개수:425  년분기: 20224  행정동 개수:425  \n",
      "년분기: 20231  행정동 개수:425  년분기: 20232  행정동 개수:425  년분기: 20233  행정동 개수:425  \n",
      "cnt: 19\n"
     ]
    }
   ],
   "source": [
    "cnt=0\n",
    "for x in df_생활인구['기준_년분기_코드'].unique():\n",
    "    print(\"년분기:\",x,end='  ')\n",
    "    print(\"행정동 개수:\",end='')\n",
    "    print(df_생활인구.loc[df_생활인구['기준_년분기_코드']==x]['행정동_코드'].count(),end='  ')\n",
    "    if cnt%3==0:\n",
    "        print()\n",
    "    cnt+=1\n",
    "print(\"cnt:\",cnt)"
   ]
  },
  {
   "cell_type": "code",
   "execution_count": 20,
   "metadata": {},
   "outputs": [
    {
     "data": {
      "text/plain": [
       "기준_년분기_코드           0\n",
       "행정동_코드              0\n",
       "행정동_코드_명            0\n",
       "총_유동인구_수            0\n",
       "남성_유동인구_수           0\n",
       "여성_유동인구_수           0\n",
       "연령대_10_유동인구_수       0\n",
       "연령대_20_유동인구_수       0\n",
       "연령대_30_유동인구_수       0\n",
       "연령대_40_유동인구_수       0\n",
       "연령대_50_유동인구_수       0\n",
       "연령대_60_이상_유동인구_수    0\n",
       "시간대_00_06_유동인구_수    0\n",
       "시간대_06_11_유동인구_수    0\n",
       "시간대_11_14_유동인구_수    0\n",
       "시간대_14_17_유동인구_수    0\n",
       "시간대_17_21_유동인구_수    0\n",
       "시간대_21_24_유동인구_수    0\n",
       "월요일_유동인구_수          0\n",
       "화요일_유동인구_수          0\n",
       "수요일_유동인구_수          0\n",
       "목요일_유동인구_수          0\n",
       "금요일_유동인구_수          0\n",
       "토요일_유동인구_수          0\n",
       "일요일_유동인구_수          0\n",
       "dtype: int64"
      ]
     },
     "execution_count": 20,
     "metadata": {},
     "output_type": "execute_result"
    }
   ],
   "source": [
    "df_생활인구.isna().sum()"
   ]
  },
  {
   "cell_type": "code",
   "execution_count": 21,
   "metadata": {},
   "outputs": [
    {
     "data": {
      "text/plain": [
       "(8075, 25)"
      ]
     },
     "execution_count": 21,
     "metadata": {},
     "output_type": "execute_result"
    }
   ],
   "source": [
    "df_생활인구.shape"
   ]
  },
  {
   "cell_type": "markdown",
   "metadata": {},
   "source": [
    "### 소득소비"
   ]
  },
  {
   "cell_type": "code",
   "execution_count": 22,
   "metadata": {},
   "outputs": [
    {
     "data": {
      "text/plain": [
       "(8075, 16)"
      ]
     },
     "execution_count": 22,
     "metadata": {},
     "output_type": "execute_result"
    }
   ],
   "source": [
    "dfs_소득소비=[]\n",
    "for f_name in glob(path+'소득소비/*.csv'):\n",
    "    temp=pd.read_csv(f_name,encoding='cp949')\n",
    "    dfs_소득소비.append(temp)\n",
    "df_소득소비,=dfs_소득소비\n",
    "df_소득소비.shape"
   ]
  },
  {
   "cell_type": "code",
   "execution_count": 23,
   "metadata": {},
   "outputs": [
    {
     "name": "stdout",
     "output_type": "stream",
     "text": [
      "년분기: 20231  행정동 개수:425  \n",
      "년분기: 20232  행정동 개수:425  년분기: 20233  행정동 개수:425  년분기: 20191  행정동 개수:425  \n",
      "년분기: 20204  행정동 개수:425  년분기: 20192  행정동 개수:425  년분기: 20193  행정동 개수:425  \n",
      "년분기: 20194  행정동 개수:425  년분기: 20201  행정동 개수:425  년분기: 20202  행정동 개수:425  \n",
      "년분기: 20203  행정동 개수:425  년분기: 20211  행정동 개수:425  년분기: 20212  행정동 개수:425  \n",
      "년분기: 20213  행정동 개수:425  년분기: 20214  행정동 개수:425  년분기: 20221  행정동 개수:425  \n",
      "년분기: 20222  행정동 개수:425  년분기: 20223  행정동 개수:425  년분기: 20224  행정동 개수:425  \n",
      "cnt: 19\n"
     ]
    }
   ],
   "source": [
    "cnt=0\n",
    "for x in df_소득소비['기준_년분기_코드'].unique():\n",
    "    print(\"년분기:\",x,end='  ')\n",
    "    print(\"행정동 개수:\",end='')\n",
    "    print(df_소득소비.loc[df_소득소비['기준_년분기_코드']==x]['행정동_코드'].count(),end='  ')\n",
    "    if cnt%3==0:\n",
    "        print()\n",
    "    cnt+=1\n",
    "print(\"cnt:\",cnt)"
   ]
  },
  {
   "cell_type": "code",
   "execution_count": 24,
   "metadata": {},
   "outputs": [
    {
     "data": {
      "text/plain": [
       "기준_년분기_코드       0\n",
       "행정동_코드          0\n",
       "행정동_코드_명        0\n",
       "월_평균_소득_금액      0\n",
       "소득_구간_코드        0\n",
       "지출_총금액          0\n",
       "식료품_지출_총금액      0\n",
       "의류_신발_지출_총금액    0\n",
       "생활용품_지출_총금액     0\n",
       "의료비_지출_총금액      0\n",
       "교통_지출_총금액       0\n",
       "교육_지출_총금액       0\n",
       "유흥_지출_총금액       0\n",
       "여가_문화_지출_총금액    0\n",
       "기타_지출_총금액       0\n",
       "음식_지출_총금액       0\n",
       "dtype: int64"
      ]
     },
     "execution_count": 24,
     "metadata": {},
     "output_type": "execute_result"
    }
   ],
   "source": [
    "df_소득소비.isna().sum()"
   ]
  },
  {
   "cell_type": "code",
   "execution_count": 25,
   "metadata": {},
   "outputs": [
    {
     "data": {
      "text/plain": [
       "(8075, 16)"
      ]
     },
     "execution_count": 25,
     "metadata": {},
     "output_type": "execute_result"
    }
   ],
   "source": [
    "df_소득소비.shape"
   ]
  },
  {
   "cell_type": "markdown",
   "metadata": {},
   "source": [
    "### 아파트"
   ]
  },
  {
   "cell_type": "code",
   "execution_count": 26,
   "metadata": {},
   "outputs": [
    {
     "data": {
      "text/plain": [
       "(6792, 18)"
      ]
     },
     "execution_count": 26,
     "metadata": {},
     "output_type": "execute_result"
    }
   ],
   "source": [
    "# 아파트\n",
    "dfs_아파트=[]\n",
    "for f_name in glob(path+'아파트/*.csv'):\n",
    "    temp=pd.read_csv(f_name,encoding='cp949')\n",
    "    dfs_아파트.append(temp)\n",
    "df_아파트,=dfs_아파트\n",
    "df_아파트.shape"
   ]
  },
  {
   "cell_type": "code",
   "execution_count": 27,
   "metadata": {},
   "outputs": [
    {
     "data": {
      "text/plain": [
       "기준_년분기_코드                    0\n",
       "행정동_코드                       0\n",
       "행정동_코드_명                     0\n",
       "아파트_단지_수                     0\n",
       "아파트_면적_66_제곱미터_미만_세대_수      80\n",
       "아파트_면적_66_제곱미터_세대_수          4\n",
       "아파트_면적_99_제곱미터_세대_수        132\n",
       "아파트_면적_132_제곱미터_세대_수      1216\n",
       "아파트_면적_165_제곱미터_세대_수      3220\n",
       "아파트_가격_1_억_미만_세대_수         608\n",
       "아파트_가격_1_억_세대_수            320\n",
       "아파트_가격_2_억_세대_수            260\n",
       "아파트_가격_3_억_세대_수            264\n",
       "아파트_가격_4_억_세대_수            712\n",
       "아파트_가격_5_억_세대_수           1428\n",
       "아파트_가격_6_억_이상_세대_수        2180\n",
       "아파트_평균_면적                    0\n",
       "아파트_평균_시가                    0\n",
       "dtype: int64"
      ]
     },
     "execution_count": 27,
     "metadata": {},
     "output_type": "execute_result"
    }
   ],
   "source": [
    "df_아파트.isna().sum()"
   ]
  },
  {
   "cell_type": "code",
   "execution_count": 28,
   "metadata": {},
   "outputs": [
    {
     "data": {
      "text/plain": [
       "기준_년분기_코드                 0\n",
       "행정동_코드                    0\n",
       "행정동_코드_명                  0\n",
       "아파트_단지_수                  0\n",
       "아파트_면적_66_제곱미터_미만_세대_수    0\n",
       "아파트_면적_66_제곱미터_세대_수       0\n",
       "아파트_면적_99_제곱미터_세대_수       0\n",
       "아파트_면적_132_제곱미터_세대_수      0\n",
       "아파트_면적_165_제곱미터_세대_수      0\n",
       "아파트_가격_1_억_미만_세대_수        0\n",
       "아파트_가격_1_억_세대_수           0\n",
       "아파트_가격_2_억_세대_수           0\n",
       "아파트_가격_3_억_세대_수           0\n",
       "아파트_가격_4_억_세대_수           0\n",
       "아파트_가격_5_억_세대_수           0\n",
       "아파트_가격_6_억_이상_세대_수        0\n",
       "아파트_평균_면적                 0\n",
       "아파트_평균_시가                 0\n",
       "dtype: int64"
      ]
     },
     "execution_count": 28,
     "metadata": {},
     "output_type": "execute_result"
    }
   ],
   "source": [
    "df_아파트.fillna(0,inplace=True)\n",
    "df_아파트.isna().sum()"
   ]
  },
  {
   "cell_type": "code",
   "execution_count": 29,
   "metadata": {},
   "outputs": [
    {
     "name": "stdout",
     "output_type": "stream",
     "text": [
      "년분기: 20233  행정동 개수:424  \n",
      "년분기: 20231  행정동 개수:424  년분기: 20232  행정동 개수:424  년분기: 20194  행정동 개수:425  \n",
      "년분기: 20201  행정동 개수:425  년분기: 20202  행정동 개수:425  년분기: 20203  행정동 개수:425  \n",
      "년분기: 20204  행정동 개수:425  년분기: 20211  행정동 개수:425  년분기: 20212  행정동 개수:425  \n",
      "년분기: 20213  행정동 개수:425  년분기: 20214  행정동 개수:424  년분기: 20221  행정동 개수:424  \n",
      "년분기: 20222  행정동 개수:424  년분기: 20223  행정동 개수:424  년분기: 20224  행정동 개수:424  \n",
      "cnt: 16\n"
     ]
    }
   ],
   "source": [
    "cnt=0\n",
    "for x in df_아파트['기준_년분기_코드'].unique():\n",
    "    print(\"년분기:\",x,end='  ')\n",
    "    print(\"행정동 개수:\",end='')\n",
    "    print(df_아파트.loc[df_아파트['기준_년분기_코드']==x]['행정동_코드_명'].count(),end='  ')\n",
    "    if cnt%3==0:\n",
    "        print()\n",
    "    cnt+=1\n",
    "print(\"cnt:\",cnt)"
   ]
  },
  {
   "cell_type": "code",
   "execution_count": 30,
   "metadata": {},
   "outputs": [],
   "source": [
    "# 행정동 425개 아닌 년분기\n",
    "temp_아파트=[20214,20221,20222,20223,20224,20231,20232,20233]"
   ]
  },
  {
   "cell_type": "code",
   "execution_count": 31,
   "metadata": {},
   "outputs": [
    {
     "name": "stdout",
     "output_type": "stream",
     "text": [
      "분기:20214 빠진 행정동 코드:[11740690]\n",
      "분기:20221 빠진 행정동 코드:[11740690]\n",
      "분기:20222 빠진 행정동 코드:[11740690]\n",
      "분기:20223 빠진 행정동 코드:[11740690]\n",
      "분기:20224 빠진 행정동 코드:[11740690]\n",
      "분기:20231 빠진 행정동 코드:[11740690]\n",
      "분기:20232 빠진 행정동 코드:[11740690]\n",
      "분기:20233 빠진 행정동 코드:[11740690]\n"
     ]
    }
   ],
   "source": [
    "# 동 개수 425개가 아닌 년분기들의 행정동 코드 찾기\n",
    "for x in temp_아파트:\n",
    "    temp_code=list(df_아파트.loc[df_아파트['기준_년분기_코드']==x]['행정동_코드'])\n",
    "    temp_diff=[y for y in total_dong_code_425 if y not in temp_code ]\n",
    "    print(f'분기:{x} 빠진 행정동 코드:{temp_diff}')"
   ]
  },
  {
   "cell_type": "code",
   "execution_count": 32,
   "metadata": {},
   "outputs": [],
   "source": [
    "# 11740690: 둔촌1동 -> 서비스X"
   ]
  },
  {
   "cell_type": "code",
   "execution_count": 33,
   "metadata": {},
   "outputs": [
    {
     "data": {
      "text/plain": [
       "(array([20233, 20231, 20232, 20194, 20201, 20202, 20203, 20204, 20211,\n",
       "        20212, 20213, 20214, 20221, 20222, 20223, 20224], dtype=int64),\n",
       " 16)"
      ]
     },
     "execution_count": 33,
     "metadata": {},
     "output_type": "execute_result"
    }
   ],
   "source": [
    "df_아파트['기준_년분기_코드'].unique(),len(df_아파트['기준_년분기_코드'].unique())"
   ]
  },
  {
   "cell_type": "code",
   "execution_count": 34,
   "metadata": {},
   "outputs": [],
   "source": [
    "없는_년도분기=[20191,20192,20193]\n",
    "# 19년 1,2,3분기 데이터 없음 -> 19년 4분기 데이터로 추가\n",
    "temp_아파트_20194=df_아파트.loc[(df_아파트['기준_년분기_코드']==20194)]\n",
    "for x in 없는_년도분기: # 3개 년도분기 리스트\n",
    "    new_df=temp_아파트_20194.copy()\n",
    "    new_df['기준_년분기_코드']=x\n",
    "    df_아파트 = pd.concat([df_아파트, new_df], ignore_index=True)"
   ]
  },
  {
   "cell_type": "code",
   "execution_count": 35,
   "metadata": {},
   "outputs": [
    {
     "data": {
      "text/plain": [
       "(array([20233, 20231, 20232, 20194, 20201, 20202, 20203, 20204, 20211,\n",
       "        20212, 20213, 20214, 20221, 20222, 20223, 20224, 20191, 20192,\n",
       "        20193], dtype=int64),\n",
       " 19)"
      ]
     },
     "execution_count": 35,
     "metadata": {},
     "output_type": "execute_result"
    }
   ],
   "source": [
    "df_아파트['기준_년분기_코드'].unique(),len(df_아파트['기준_년분기_코드'].unique())"
   ]
  },
  {
   "cell_type": "code",
   "execution_count": 36,
   "metadata": {},
   "outputs": [
    {
     "data": {
      "text/plain": [
       "(8067, 18)"
      ]
     },
     "execution_count": 36,
     "metadata": {},
     "output_type": "execute_result"
    }
   ],
   "source": [
    "df_아파트.shape"
   ]
  },
  {
   "cell_type": "markdown",
   "metadata": {},
   "source": [
    "### 직장인구"
   ]
  },
  {
   "cell_type": "code",
   "execution_count": 37,
   "metadata": {},
   "outputs": [
    {
     "data": {
      "text/plain": [
       "(8061, 24)"
      ]
     },
     "execution_count": 37,
     "metadata": {},
     "output_type": "execute_result"
    }
   ],
   "source": [
    "dfs_직장인구=[]\n",
    "for f_name in glob(path+'직장인구/*.csv'):\n",
    "    temp=pd.read_csv(f_name,encoding='cp949')\n",
    "    dfs_직장인구.append(temp)\n",
    "df_직장인구,=dfs_직장인구\n",
    "df_직장인구.shape"
   ]
  },
  {
   "cell_type": "code",
   "execution_count": 38,
   "metadata": {},
   "outputs": [
    {
     "name": "stdout",
     "output_type": "stream",
     "text": [
      "년분기: 20191  행정동 개수:425  \n",
      "년분기: 20192  행정동 개수:418  년분기: 20193  행정동 개수:418  년분기: 20194  행정동 개수:425  \n",
      "년분기: 20201  행정동 개수:425  년분기: 20202  행정동 개수:425  년분기: 20203  행정동 개수:425  \n",
      "년분기: 20211  행정동 개수:425  년분기: 20212  행정동 개수:425  년분기: 20213  행정동 개수:425  \n",
      "년분기: 20221  행정동 개수:425  년분기: 20222  행정동 개수:425  년분기: 20223  행정동 개수:425  \n",
      "년분기: 20231  행정동 개수:425  년분기: 20232  행정동 개수:425  년분기: 20224  행정동 개수:425  \n",
      "년분기: 20204  행정동 개수:425  년분기: 20214  행정동 개수:425  년분기: 20233  행정동 개수:425  \n",
      "cnt: 19\n"
     ]
    }
   ],
   "source": [
    "cnt=0\n",
    "for x in df_직장인구['기준_년분기_코드'].unique():\n",
    "    print(\"년분기:\",x,end='  ')\n",
    "    print(\"행정동 개수:\",end='')\n",
    "    print(df_직장인구.loc[df_직장인구['기준_년분기_코드']==x]['행정동_코드'].count(),end='  ')\n",
    "    if cnt%3==0:\n",
    "        print()\n",
    "    cnt+=1\n",
    "print(\"cnt:\",cnt)"
   ]
  },
  {
   "cell_type": "code",
   "execution_count": 39,
   "metadata": {},
   "outputs": [
    {
     "name": "stderr",
     "output_type": "stream",
     "text": [
      "C:\\Users\\user\\AppData\\Local\\Temp\\ipykernel_23392\\1583877815.py:5: SettingWithCopyWarning: \n",
      "A value is trying to be set on a copy of a slice from a DataFrame.\n",
      "Try using .loc[row_indexer,col_indexer] = value instead\n",
      "\n",
      "See the caveats in the documentation: https://pandas.pydata.org/pandas-docs/stable/user_guide/indexing.html#returning-a-view-versus-a-copy\n",
      "  new_row1['기준_년분기_코드']=20192\n",
      "C:\\Users\\user\\AppData\\Local\\Temp\\ipykernel_23392\\1583877815.py:7: SettingWithCopyWarning: \n",
      "A value is trying to be set on a copy of a slice from a DataFrame.\n",
      "Try using .loc[row_indexer,col_indexer] = value instead\n",
      "\n",
      "See the caveats in the documentation: https://pandas.pydata.org/pandas-docs/stable/user_guide/indexing.html#returning-a-view-versus-a-copy\n",
      "  new_row2['기준_년분기_코드']=20193\n"
     ]
    }
   ],
   "source": [
    "없는_행정동코드=[11305595, 11305603, 11305608, 11305615, 11305625, 11305635, 11530800]\n",
    "# 19년 2,3분기 7개 동 데이터 없음 -> 19년 1분기 7개 동 데이터로 추가\n",
    "for x in 없는_행정동코드: # 7개 동 리스트\n",
    "    new_row1=df_직장인구.loc[(df_직장인구['행정동_코드']==x)&(df_직장인구['기준_년분기_코드']==20191)]\n",
    "    new_row1['기준_년분기_코드']=20192\n",
    "    new_row2=df_직장인구.loc[(df_직장인구['행정동_코드']==x)&(df_직장인구['기준_년분기_코드']==20191)]\n",
    "    new_row2['기준_년분기_코드']=20193\n",
    "    df_직장인구 = pd.concat([df_직장인구, new_row1, new_row2], ignore_index=True)"
   ]
  },
  {
   "cell_type": "code",
   "execution_count": 40,
   "metadata": {},
   "outputs": [
    {
     "name": "stdout",
     "output_type": "stream",
     "text": [
      "년분기: 20191  행정동 개수:425  \n",
      "년분기: 20192  행정동 개수:425  년분기: 20193  행정동 개수:425  년분기: 20194  행정동 개수:425  \n",
      "년분기: 20201  행정동 개수:425  년분기: 20202  행정동 개수:425  년분기: 20203  행정동 개수:425  \n",
      "년분기: 20211  행정동 개수:425  년분기: 20212  행정동 개수:425  년분기: 20213  행정동 개수:425  \n",
      "년분기: 20221  행정동 개수:425  년분기: 20222  행정동 개수:425  년분기: 20223  행정동 개수:425  \n",
      "년분기: 20231  행정동 개수:425  년분기: 20232  행정동 개수:425  년분기: 20224  행정동 개수:425  \n",
      "년분기: 20204  행정동 개수:425  년분기: 20214  행정동 개수:425  년분기: 20233  행정동 개수:425  \n",
      "cnt: 19\n"
     ]
    }
   ],
   "source": [
    "cnt=0\n",
    "for x in df_직장인구['기준_년분기_코드'].unique():\n",
    "    print(\"년분기:\",x,end='  ')\n",
    "    print(\"행정동 개수:\",end='')\n",
    "    print(df_직장인구.loc[df_직장인구['기준_년분기_코드']==x]['행정동_코드'].count(),end='  ')\n",
    "    if cnt%3==0:\n",
    "        print()\n",
    "    cnt+=1\n",
    "print(\"cnt:\",cnt)"
   ]
  },
  {
   "cell_type": "code",
   "execution_count": 41,
   "metadata": {},
   "outputs": [
    {
     "data": {
      "text/plain": [
       "기준_년분기_코드              0\n",
       "행정동_코드                 0\n",
       "행정동_코드_명               0\n",
       "총_직장_인구_수              0\n",
       "남성_직장_인구_수             0\n",
       "여성_직장_인구_수             0\n",
       "연령대_10_직장_인구_수         0\n",
       "연령대_20_직장_인구_수         0\n",
       "연령대_30_직장_인구_수         0\n",
       "연령대_40_직장_인구_수         0\n",
       "연령대_50_직장_인구_수         0\n",
       "연령대_60_이상_직장_인구_수      0\n",
       "남성연령대_10_직장_인구_수       0\n",
       "남성연령대_20_직장_인구_수       0\n",
       "남성연령대_30_직장_인구_수       0\n",
       "남성연령대_40_직장_인구_수       0\n",
       "남성연령대_50_직장_인구_수       0\n",
       "남성연령대_60_이상_직장_인구_수    0\n",
       "여성연령대_10_직장_인구_수       0\n",
       "여성연령대_20_직장_인구_수       0\n",
       "여성연령대_30_직장_인구_수       0\n",
       "여성연령대_40_직장_인구_수       0\n",
       "여성연령대_50_직장_인구_수       0\n",
       "여성연령대_60_이상_직장_인구_수    0\n",
       "dtype: int64"
      ]
     },
     "execution_count": 41,
     "metadata": {},
     "output_type": "execute_result"
    }
   ],
   "source": [
    "df_직장인구.isna().sum()"
   ]
  },
  {
   "cell_type": "code",
   "execution_count": 42,
   "metadata": {},
   "outputs": [
    {
     "data": {
      "text/plain": [
       "(8075, 24)"
      ]
     },
     "execution_count": 42,
     "metadata": {},
     "output_type": "execute_result"
    }
   ],
   "source": [
    "df_직장인구.shape"
   ]
  },
  {
   "cell_type": "markdown",
   "metadata": {},
   "source": [
    "### 집객시설"
   ]
  },
  {
   "cell_type": "code",
   "execution_count": 43,
   "metadata": {},
   "outputs": [
    {
     "data": {
      "text/plain": [
       "(5100, 23)"
      ]
     },
     "execution_count": 43,
     "metadata": {},
     "output_type": "execute_result"
    }
   ],
   "source": [
    "dfs_집객시설=[]\n",
    "for f_name in glob(path+'집객시설/*.csv'):\n",
    "    temp=pd.read_csv(f_name,encoding='cp949')\n",
    "    dfs_집객시설.append(temp)\n",
    "df_집객시설,=dfs_집객시설\n",
    "df_집객시설.shape"
   ]
  },
  {
   "cell_type": "code",
   "execution_count": 44,
   "metadata": {},
   "outputs": [
    {
     "name": "stdout",
     "output_type": "stream",
     "text": [
      "년분기: 20233  행정동 개수:425  \n",
      "년분기: 20231  행정동 개수:425  년분기: 20232  행정동 개수:425  년분기: 20204  행정동 개수:425  \n",
      "년분기: 20214  행정동 개수:425  년분기: 20211  행정동 개수:425  년분기: 20212  행정동 개수:425  \n",
      "년분기: 20221  행정동 개수:425  년분기: 20222  행정동 개수:425  년분기: 20213  행정동 개수:425  \n",
      "년분기: 20223  행정동 개수:425  년분기: 20224  행정동 개수:425  cnt: 12\n"
     ]
    }
   ],
   "source": [
    "cnt=0\n",
    "for x in df_집객시설['기준_년분기_코드'].unique():\n",
    "    print(\"년분기:\",x,end='  ')\n",
    "    print(\"행정동 개수:\",end='')\n",
    "    print(df_집객시설.loc[df_집객시설['기준_년분기_코드']==x]['행정동_코드'].count(),end='  ')\n",
    "    if cnt%3==0:\n",
    "        print()\n",
    "    cnt+=1\n",
    "print(\"cnt:\",cnt)"
   ]
  },
  {
   "cell_type": "code",
   "execution_count": 45,
   "metadata": {},
   "outputs": [
    {
     "data": {
      "text/plain": [
       "(array([20233, 20231, 20232, 20204, 20214, 20211, 20212, 20221, 20222,\n",
       "        20213, 20223, 20224], dtype=int64),\n",
       " 12)"
      ]
     },
     "execution_count": 45,
     "metadata": {},
     "output_type": "execute_result"
    }
   ],
   "source": [
    "df_집객시설['기준_년분기_코드'].unique(),len(df_집객시설['기준_년분기_코드'].unique())"
   ]
  },
  {
   "cell_type": "code",
   "execution_count": 46,
   "metadata": {},
   "outputs": [
    {
     "data": {
      "text/plain": [
       "((0, 23), (425, 23), (1700, 23), (1700, 23), (1275, 23))"
      ]
     },
     "execution_count": 46,
     "metadata": {},
     "output_type": "execute_result"
    }
   ],
   "source": [
    "df_집객시설2019 = df_집객시설[(20191 <= df_집객시설['기준_년분기_코드']) & (df_집객시설['기준_년분기_코드'] <= 20194)]\n",
    "df_집객시설2020 = df_집객시설[(20201 <= df_집객시설['기준_년분기_코드']) & (df_집객시설['기준_년분기_코드'] <= 20204)]\n",
    "df_집객시설2021 = df_집객시설[(20211 <= df_집객시설['기준_년분기_코드']) & (df_집객시설['기준_년분기_코드'] <= 20214)]\n",
    "df_집객시설2022 = df_집객시설[(20221 <= df_집객시설['기준_년분기_코드']) & (df_집객시설['기준_년분기_코드'] <= 20224)]\n",
    "df_집객시설2023 = df_집객시설[(20231 <= df_집객시설['기준_년분기_코드']) & (df_집객시설['기준_년분기_코드'] <= 20234)]\n",
    "df_집객시설2019.shape,df_집객시설2020.shape,df_집객시설2021.shape,df_집객시설2022.shape,df_집객시설2023.shape"
   ]
  },
  {
   "cell_type": "code",
   "execution_count": 47,
   "metadata": {},
   "outputs": [
    {
     "name": "stdout",
     "output_type": "stream",
     "text": [
      "(425, 23) (425, 23) (425, 23) (425, 23)\n"
     ]
    },
    {
     "data": {
      "text/plain": [
       "(array([20233, 20231, 20232, 20204, 20214, 20211, 20212, 20221, 20222,\n",
       "        20213, 20223, 20224], dtype=int64),\n",
       " 12)"
      ]
     },
     "execution_count": 47,
     "metadata": {},
     "output_type": "execute_result"
    }
   ],
   "source": [
    "# 2020년 1, 2, 3분기 데이터 생성(= 2020년 4분기 copy)\n",
    "df_집객시설20204 = df_집객시설2020[df_집객시설2020['기준_년분기_코드'] == 20204]\n",
    "\n",
    "df_집객시설20201 = df_집객시설20204.copy()\n",
    "df_집객시설20202 = df_집객시설20204.copy()\n",
    "df_집객시설20203 = df_집객시설20204.copy()\n",
    "\n",
    "df_집객시설20201['기준_년분기_코드'] = 20201\n",
    "df_집객시설20202['기준_년분기_코드'] = 20202\n",
    "df_집객시설20203['기준_년분기_코드'] = 20203\n",
    "\n",
    "print(df_집객시설20201.shape, df_집객시설20202.shape, df_집객시설20203.shape, df_집객시설20204.shape)\n",
    "\n",
    "df_집객시설2020 = pd.concat([df_집객시설20201, df_집객시설20202, df_집객시설20203, df_집객시설20204])\n",
    "df_집객시설2020 = df_집객시설2020.reset_index(drop=True)\n",
    "\n",
    "df_집객시설['기준_년분기_코드'].unique(),len(df_집객시설['기준_년분기_코드'].unique())"
   ]
  },
  {
   "cell_type": "code",
   "execution_count": 48,
   "metadata": {},
   "outputs": [
    {
     "data": {
      "text/plain": [
       "(array([20201, 20202, 20203, 20204, 20214, 20211, 20212, 20213, 20221,\n",
       "        20222, 20223, 20224, 20233, 20231, 20232], dtype=int64),\n",
       " 15)"
      ]
     },
     "execution_count": 48,
     "metadata": {},
     "output_type": "execute_result"
    }
   ],
   "source": [
    "df_집객시설 = pd.concat([df_집객시설2019, df_집객시설2020, df_집객시설2021, df_집객시설2022, df_집객시설2023])\n",
    "df_집객시설 = df_집객시설.reset_index(drop=True)\n",
    "df_집객시설['기준_년분기_코드'].unique(),len(df_집객시설['기준_년분기_코드'].unique())"
   ]
  },
  {
   "cell_type": "code",
   "execution_count": 49,
   "metadata": {},
   "outputs": [
    {
     "data": {
      "text/plain": [
       "기준_년분기_코드       0\n",
       "행정동_코드          0\n",
       "행정동_코드_명        0\n",
       "집객시설_수          0\n",
       "관공서_수          30\n",
       "은행_수          855\n",
       "종합병원_수       5595\n",
       "일반_병원_수      4320\n",
       "약국_수           30\n",
       "유치원_수        2115\n",
       "초등학교_수        960\n",
       "중학교_수        2580\n",
       "고등학교_수       3270\n",
       "대학교_수        4560\n",
       "백화점_수        6240\n",
       "슈퍼마켓_수       5025\n",
       "극장_수         5250\n",
       "숙박_시설_수      4860\n",
       "공항_수         6345\n",
       "철도_역_수       6375\n",
       "버스_터미널_수     6330\n",
       "지하철_역_수      2940\n",
       "버스_정거장_수       15\n",
       "dtype: int64"
      ]
     },
     "execution_count": 49,
     "metadata": {},
     "output_type": "execute_result"
    }
   ],
   "source": [
    "df_집객시설.isna().sum()"
   ]
  },
  {
   "cell_type": "code",
   "execution_count": 50,
   "metadata": {},
   "outputs": [
    {
     "data": {
      "text/plain": [
       "기준_년분기_코드    0\n",
       "행정동_코드       0\n",
       "행정동_코드_명     0\n",
       "집객시설_수       0\n",
       "관공서_수        0\n",
       "은행_수         0\n",
       "종합병원_수       0\n",
       "일반_병원_수      0\n",
       "약국_수         0\n",
       "유치원_수        0\n",
       "초등학교_수       0\n",
       "중학교_수        0\n",
       "고등학교_수       0\n",
       "대학교_수        0\n",
       "백화점_수        0\n",
       "슈퍼마켓_수       0\n",
       "극장_수         0\n",
       "숙박_시설_수      0\n",
       "공항_수         0\n",
       "철도_역_수       0\n",
       "버스_터미널_수     0\n",
       "지하철_역_수      0\n",
       "버스_정거장_수     0\n",
       "dtype: int64"
      ]
     },
     "execution_count": 50,
     "metadata": {},
     "output_type": "execute_result"
    }
   ],
   "source": [
    "df_집객시설.fillna(0,inplace=True)\n",
    "df_집객시설.isna().sum()"
   ]
  },
  {
   "cell_type": "code",
   "execution_count": 51,
   "metadata": {},
   "outputs": [
    {
     "data": {
      "text/plain": [
       "(6375, 23)"
      ]
     },
     "execution_count": 51,
     "metadata": {},
     "output_type": "execute_result"
    }
   ],
   "source": [
    "df_집객시설.shape"
   ]
  },
  {
   "cell_type": "markdown",
   "metadata": {},
   "source": [
    "### 점포"
   ]
  },
  {
   "cell_type": "code",
   "execution_count": 52,
   "metadata": {},
   "outputs": [],
   "source": [
    "## 2023년 추출 코드 필요하면 쓰세요\n",
    "data2 = pd.read_csv(\"../../data/raw data/행정동/점포/서울시 상권분석서비스(점포-행정동).csv\", encoding=\"cp949\")\n",
    "data_dropped2 = data2[data2['기준_년분기_코드'] >= 20231]\n",
    "data_dropped2.to_csv('../../data/raw data/행정동/점포/서울시_상권분석서비스(점포-행정동)_2023년.csv', index=False, encoding=\"cp949\")"
   ]
  },
  {
   "cell_type": "code",
   "execution_count": 53,
   "metadata": {},
   "outputs": [],
   "source": [
    "dfs_점포=[]\n",
    "for f_name in glob(path+'점포/서울시_상권분석서비스(점포-행정동)_*.csv'):\n",
    "    temp=pd.read_csv(f_name,encoding='cp949')\n",
    "    dfs_점포.append(temp)\n",
    "f,g,h,i,j=dfs_점포"
   ]
  },
  {
   "cell_type": "code",
   "execution_count": 54,
   "metadata": {},
   "outputs": [
    {
     "data": {
      "text/plain": [
       "(668716, 12)"
      ]
     },
     "execution_count": 54,
     "metadata": {},
     "output_type": "execute_result"
    }
   ],
   "source": [
    "df_점포=pd.concat([f,g,h,i,j])\n",
    "df_점포 = df_점포.reset_index(drop=True)\n",
    "df_점포.shape"
   ]
  },
  {
   "cell_type": "code",
   "execution_count": 55,
   "metadata": {},
   "outputs": [
    {
     "data": {
      "text/plain": [
       "(array([20191, 20192, 20193, 20194, 20201, 20202, 20203, 20204, 20211,\n",
       "        20212, 20213, 20214, 20221, 20222, 20223, 20224, 20231, 20232,\n",
       "        20233], dtype=int64),\n",
       " 19)"
      ]
     },
     "execution_count": 55,
     "metadata": {},
     "output_type": "execute_result"
    }
   ],
   "source": [
    "df_점포['기준_년분기_코드'].unique(),len(df_점포['기준_년분기_코드'].unique())"
   ]
  },
  {
   "cell_type": "code",
   "execution_count": 56,
   "metadata": {},
   "outputs": [
    {
     "data": {
      "text/plain": [
       "기준_년분기_코드      0\n",
       "행정동_코드         0\n",
       "행정동_코드_명       0\n",
       "서비스_업종_코드      0\n",
       "서비스_업종_코드_명    0\n",
       "점포_수           0\n",
       "유사_업종_점포_수     0\n",
       "개업_율           0\n",
       "개업_점포_수        0\n",
       "폐업_률           0\n",
       "폐업_점포_수        0\n",
       "프랜차이즈_점포_수     0\n",
       "dtype: int64"
      ]
     },
     "execution_count": 56,
     "metadata": {},
     "output_type": "execute_result"
    }
   ],
   "source": [
    "df_점포.isna().sum()"
   ]
  },
  {
   "cell_type": "code",
   "execution_count": 57,
   "metadata": {},
   "outputs": [
    {
     "data": {
      "text/plain": [
       "(668716, 12)"
      ]
     },
     "execution_count": 57,
     "metadata": {},
     "output_type": "execute_result"
    }
   ],
   "source": [
    "df_점포.shape"
   ]
  },
  {
   "cell_type": "markdown",
   "metadata": {},
   "source": [
    "## 전체 병합\n",
    "- on=['기준_년분기_코드','행정동_코드','행정동_코드_명']\n",
    "- on=['기준_년분기_코드','행정동_코드','행정동_코드_명','서비스_업종_코드', '서비스_업종_코드_명']"
   ]
  },
  {
   "cell_type": "code",
   "execution_count": 58,
   "metadata": {},
   "outputs": [
    {
     "data": {
      "text/plain": [
       "((317954, 53), (6375, 23))"
      ]
     },
     "execution_count": 58,
     "metadata": {},
     "output_type": "execute_result"
    }
   ],
   "source": [
    "# 추정매출 + 집객시설\n",
    "df_추정매출.shape,df_집객시설.shape"
   ]
  },
  {
   "cell_type": "code",
   "execution_count": 59,
   "metadata": {},
   "outputs": [
    {
     "data": {
      "text/plain": [
       "(317954, 73)"
      ]
     },
     "execution_count": 59,
     "metadata": {},
     "output_type": "execute_result"
    }
   ],
   "source": [
    "df_집객시설.drop(\"행정동_코드_명\", axis=1, inplace=True)\n",
    "tmp1 = df_추정매출.merge(df_집객시설, how='left', on=['기준_년분기_코드','행정동_코드'])\n",
    "tmp1.shape"
   ]
  },
  {
   "cell_type": "code",
   "execution_count": 60,
   "metadata": {},
   "outputs": [
    {
     "data": {
      "text/plain": [
       "((317954, 73), (8075, 24))"
      ]
     },
     "execution_count": 60,
     "metadata": {},
     "output_type": "execute_result"
    }
   ],
   "source": [
    "# 추정매출 + 집객시설 + 직장인구\n",
    "tmp1.shape,df_직장인구.shape"
   ]
  },
  {
   "cell_type": "code",
   "execution_count": 61,
   "metadata": {},
   "outputs": [
    {
     "data": {
      "text/plain": [
       "(317954, 94)"
      ]
     },
     "execution_count": 61,
     "metadata": {},
     "output_type": "execute_result"
    }
   ],
   "source": [
    "df_직장인구.drop(\"행정동_코드_명\", axis=1, inplace=True)\n",
    "tmp2 = tmp1.merge(df_직장인구, how='left', on=['기준_년분기_코드','행정동_코드'])\n",
    "tmp2.shape"
   ]
  },
  {
   "cell_type": "code",
   "execution_count": 62,
   "metadata": {},
   "outputs": [
    {
     "data": {
      "text/plain": [
       "((317954, 94), (668716, 12))"
      ]
     },
     "execution_count": 62,
     "metadata": {},
     "output_type": "execute_result"
    }
   ],
   "source": [
    "# 추정매출 + 집객시설 + 직장인구 + 점포\n",
    "tmp2.shape,df_점포.shape"
   ]
  },
  {
   "cell_type": "code",
   "execution_count": 63,
   "metadata": {},
   "outputs": [
    {
     "data": {
      "text/plain": [
       "(317954, 101)"
      ]
     },
     "execution_count": 63,
     "metadata": {},
     "output_type": "execute_result"
    }
   ],
   "source": [
    "df_점포.drop([\"행정동_코드_명\", \"서비스_업종_코드_명\"], axis=1, inplace=True)\n",
    "tmp3 = tmp2.merge(df_점포, how='left', on=['기준_년분기_코드','행정동_코드','서비스_업종_코드'])\n",
    "tmp3.shape"
   ]
  },
  {
   "cell_type": "code",
   "execution_count": 64,
   "metadata": {},
   "outputs": [
    {
     "data": {
      "text/plain": [
       "((317954, 101), (8067, 18))"
      ]
     },
     "execution_count": 64,
     "metadata": {},
     "output_type": "execute_result"
    }
   ],
   "source": [
    "# 추정매출 + 집객시설 + 직장인구 + 점포 + 아파트\n",
    "tmp3.shape,df_아파트.shape"
   ]
  },
  {
   "cell_type": "code",
   "execution_count": 65,
   "metadata": {},
   "outputs": [
    {
     "data": {
      "text/plain": [
       "(317954, 116)"
      ]
     },
     "execution_count": 65,
     "metadata": {},
     "output_type": "execute_result"
    }
   ],
   "source": [
    "df_아파트.drop([\"행정동_코드_명\"], axis=1, inplace=True)\n",
    "tmp4 = tmp3.merge(df_아파트, how='left', on=['기준_년분기_코드','행정동_코드'])\n",
    "tmp4.shape"
   ]
  },
  {
   "cell_type": "code",
   "execution_count": 66,
   "metadata": {},
   "outputs": [
    {
     "data": {
      "text/plain": [
       "((317954, 116), (8075, 16))"
      ]
     },
     "execution_count": 66,
     "metadata": {},
     "output_type": "execute_result"
    }
   ],
   "source": [
    "# 추정매출 + 집객시설 + 직장인구 + 점포 + 아파트 + 소득소비\n",
    "tmp4.shape,df_소득소비.shape"
   ]
  },
  {
   "cell_type": "code",
   "execution_count": 67,
   "metadata": {},
   "outputs": [
    {
     "data": {
      "text/plain": [
       "(317954, 129)"
      ]
     },
     "execution_count": 67,
     "metadata": {},
     "output_type": "execute_result"
    }
   ],
   "source": [
    "df_소득소비.drop([\"행정동_코드_명\"], axis=1, inplace=True)\n",
    "tmp5 = tmp4.merge(df_소득소비, how='left', on=['기준_년분기_코드','행정동_코드'])\n",
    "tmp5.shape"
   ]
  },
  {
   "cell_type": "code",
   "execution_count": 68,
   "metadata": {},
   "outputs": [
    {
     "data": {
      "text/plain": [
       "((317954, 129), (8075, 27))"
      ]
     },
     "execution_count": 68,
     "metadata": {},
     "output_type": "execute_result"
    }
   ],
   "source": [
    "# 추정매출 + 집객시설 + 직장인구 + 점포 + 아파트 + 소득소비 +상주인구\n",
    "tmp5.shape,df_상주인구.shape"
   ]
  },
  {
   "cell_type": "code",
   "execution_count": 69,
   "metadata": {},
   "outputs": [
    {
     "data": {
      "text/plain": [
       "(317954, 153)"
      ]
     },
     "execution_count": 69,
     "metadata": {},
     "output_type": "execute_result"
    }
   ],
   "source": [
    "df_상주인구.drop([\"행정동_코드_명\"], axis=1, inplace=True)\n",
    "tmp6 = tmp5.merge(df_상주인구, how='left', on=['기준_년분기_코드','행정동_코드'])\n",
    "tmp6.shape"
   ]
  },
  {
   "cell_type": "code",
   "execution_count": 70,
   "metadata": {},
   "outputs": [
    {
     "data": {
      "text/plain": [
       "((317954, 153), (8075, 25))"
      ]
     },
     "execution_count": 70,
     "metadata": {},
     "output_type": "execute_result"
    }
   ],
   "source": [
    "# 추정매출 + 집객시설 + 직장인구 + 점포 + 아파트 + 소득소비 +상주인구 + 생활인구\n",
    "tmp6.shape,df_생활인구.shape"
   ]
  },
  {
   "cell_type": "code",
   "execution_count": 71,
   "metadata": {},
   "outputs": [
    {
     "data": {
      "text/plain": [
       "(317954, 175)"
      ]
     },
     "execution_count": 71,
     "metadata": {},
     "output_type": "execute_result"
    }
   ],
   "source": [
    "df_생활인구.drop([\"행정동_코드_명\"], axis=1, inplace=True)\n",
    "tmp7 = tmp6.merge(df_생활인구, how='left', on=['기준_년분기_코드','행정동_코드'])\n",
    "tmp7.shape"
   ]
  },
  {
   "cell_type": "markdown",
   "metadata": {},
   "source": [
    "## csv 저장"
   ]
  },
  {
   "cell_type": "code",
   "execution_count": 72,
   "metadata": {},
   "outputs": [
    {
     "data": {
      "text/plain": [
       "0"
      ]
     },
     "execution_count": 72,
     "metadata": {},
     "output_type": "execute_result"
    }
   ],
   "source": [
    "# 전체 데이터 변수 선언\n",
    "df_dong = tmp7.copy()\n",
    "\n",
    "# 19년 제외 na값  - 미존재\n",
    "df_dong[df_dong['기준_년분기_코드'] // 10 != 2019].isna().sum().sum()"
   ]
  },
  {
   "cell_type": "markdown",
   "metadata": {},
   "source": [
    "### full set 전처리 "
   ]
  },
  {
   "cell_type": "code",
   "execution_count": 73,
   "metadata": {},
   "outputs": [
    {
     "data": {
      "text/plain": [
       "(424, 430)"
      ]
     },
     "execution_count": 73,
     "metadata": {},
     "output_type": "execute_result"
    }
   ],
   "source": [
    "# [이슈1] 행정동 코드 갯수와 코드명 갯수가 동일하지 않음\n",
    "df_dong[\"행정동_코드\"].nunique(), df_dong[\"행정동_코드_명\"].nunique()"
   ]
  },
  {
   "cell_type": "code",
   "execution_count": 74,
   "metadata": {},
   "outputs": [
    {
     "name": "stdout",
     "output_type": "stream",
     "text": [
      "** 전처리 전 **\n",
      "['종로1?2?3?4가동' '종로5?6가동' '금호2?3가동' '면목3?8동' '중계2?3동' '상계3?4동' '상계6?7동']\n",
      "['종로1·2·3·4가동' '종로5·6가동' '금호2·3가동' '면목3·8동' '상계3·4동' '상계6·7동' '중계2·3동']\n",
      "** 전처리 후 **\n",
      "[]\n",
      "['종로1·2·3·4가동' '종로5·6가동' '금호2·3가동' '면목3·8동' '상계3·4동' '상계6·7동' '중계2·3동']\n"
     ]
    }
   ],
   "source": [
    "# '?' 있는 행정동 명 확인 - 동일함\n",
    "print(\"** 전처리 전 **\")\n",
    "print(df_dong[df_dong['행정동_코드_명'].str.contains('\\?')][\"행정동_코드_명\"].unique())\n",
    "print(df_dong[df_dong['행정동_코드_명'].str.contains('\\·')][\"행정동_코드_명\"].unique())\n",
    "\n",
    "# 행정동 코드 명 '?' -> '·' 가운데점으로 대체\n",
    "df_dong['행정동_코드_명'] = df_dong['행정동_코드_명'].str.replace('?', '·', regex=False)\n",
    "\n",
    "# 전처리 결과 확인 -> good!\n",
    "print(\"** 전처리 후 **\")\n",
    "print(df_dong[df_dong['행정동_코드_명'].str.contains('\\?')][\"행정동_코드_명\"].unique())\n",
    "print(df_dong[df_dong['행정동_코드_명'].str.contains('\\·')][\"행정동_코드_명\"].unique())"
   ]
  },
  {
   "cell_type": "code",
   "execution_count": 75,
   "metadata": {},
   "outputs": [
    {
     "name": "stdout",
     "output_type": "stream",
     "text": [
      "424 423\n",
      "       행정동_코드 행정동_코드_명\n",
      "372  11620685      신사동\n",
      "499  11680510      신사동\n",
      "424 424\n",
      "       행정동_코드  행정동_코드_명\n",
      "372  11620685  신사동(관악구)\n",
      "499  11680510  신사동(강남구)\n"
     ]
    }
   ],
   "source": [
    "# [이슈2] 전처리 후에도 동일한 행정동 명 확인 -> 신사동\n",
    "print(df_dong[\"행정동_코드\"].nunique(), df_dong[\"행정동_코드_명\"].nunique())\n",
    "print(df_dong[df_dong['행정동_코드_명'].str.contains('신사동')][[\"행정동_코드\",\"행정동_코드_명\"]].drop_duplicates())\n",
    "\n",
    "# 11620685 -> 신사동(관악구) / 11680510 -> 신사동(강남구) 변경\n",
    "df_dong.loc[df_dong[df_dong['행정동_코드'] == 11620685].index, \"행정동_코드_명\"] = \"신사동(관악구)\"\n",
    "df_dong.loc[df_dong[df_dong['행정동_코드'] == 11680510].index, \"행정동_코드_명\"] = \"신사동(강남구)\"\n",
    "\n",
    "# 처리 결과 확인 -> 완료\n",
    "print(df_dong[\"행정동_코드\"].nunique(), df_dong[\"행정동_코드_명\"].nunique())\n",
    "print(df_dong[df_dong['행정동_코드_명'].str.contains('신사동')][[\"행정동_코드\",\"행정동_코드_명\"]].drop_duplicates())"
   ]
  },
  {
   "cell_type": "code",
   "execution_count": 76,
   "metadata": {},
   "outputs": [
    {
     "name": "stdout",
     "output_type": "stream",
     "text": [
      "False\n"
     ]
    }
   ],
   "source": [
    "# [이슈3] 항동 제거\n",
    "df_dong_fin = df_dong.drop(df_dong[df_dong['행정동_코드_명']==\"항동\"].index, axis=0)\n",
    "print(df_dong_fin[df_dong_fin['행정동_코드_명']==\"항동\"].sum().any())"
   ]
  },
  {
   "cell_type": "code",
   "execution_count": 77,
   "metadata": {},
   "outputs": [],
   "source": [
    "# full set csv 저장\n",
    "path2='../../data/preprocessed data/'\n",
    "df_dong_fin.to_csv(path2+'dong_full_data.csv', index=False)"
   ]
  },
  {
   "cell_type": "markdown",
   "metadata": {},
   "source": [
    "## 서비스 업종 선별"
   ]
  },
  {
   "cell_type": "code",
   "execution_count": 78,
   "metadata": {},
   "outputs": [
    {
     "data": {
      "text/plain": [
       "{'당구장': 'CS200016',\n",
       " '치과의원': 'CS200007',\n",
       " '의약품': 'CS300018',\n",
       " '커피-음료': 'CS100010',\n",
       " '골프연습장': 'CS200017',\n",
       " '의료기기': 'CS300019',\n",
       " '서적': 'CS300020',\n",
       " '네일숍': 'CS200029',\n",
       " '여관': 'CS200034',\n",
       " '청과상': 'CS300009',\n",
       " '신발': 'CS300014',\n",
       " '반찬가게': 'CS300010',\n",
       " '편의점': 'CS300002',\n",
       " '자동차수리': 'CS200025',\n",
       " '가전제품수리': 'CS200032',\n",
       " '슈퍼마켓': 'CS300001',\n",
       " '일반의류': 'CS300011',\n",
       " '운동/경기용품': 'CS300024',\n",
       " '호프-간이주점': 'CS100009',\n",
       " '한의원': 'CS200008',\n",
       " '외국어학원': 'CS200002',\n",
       " '예술학원': 'CS200003',\n",
       " '양식음식점': 'CS100004',\n",
       " '육류판매': 'CS300007',\n",
       " '철물점': 'CS300033',\n",
       " '일식음식점': 'CS100003',\n",
       " '화초': 'CS300028',\n",
       " '분식전문점': 'CS100008',\n",
       " '수산물판매': 'CS300008',\n",
       " '미곡판매': 'CS300006',\n",
       " '패스트푸드점': 'CS100006',\n",
       " '자전거 및 기타운송장비': 'CS300025',\n",
       " '인테리어': 'CS300035',\n",
       " '치킨전문점': 'CS100007',\n",
       " '화장품': 'CS300022',\n",
       " '피부관리실': 'CS200030',\n",
       " '문구': 'CS300021',\n",
       " '시계및귀금속': 'CS300017',\n",
       " '세탁소': 'CS200031',\n",
       " '제과점': 'CS100005',\n",
       " '일반의원': 'CS200006',\n",
       " 'PC방': 'CS200019',\n",
       " '조명용품': 'CS300036',\n",
       " '애완동물': 'CS300029',\n",
       " '가전제품': 'CS300032',\n",
       " '중식음식점': 'CS100002',\n",
       " '한식음식점': 'CS100001',\n",
       " '컴퓨터및주변장치판매': 'CS300003',\n",
       " '스포츠 강습': 'CS200005',\n",
       " '스포츠클럽': 'CS200024',\n",
       " '일반교습학원': 'CS200001',\n",
       " '미용실': 'CS200028',\n",
       " '가구': 'CS300031',\n",
       " '핸드폰': 'CS300004',\n",
       " '전자상거래업': 'CS300043',\n",
       " '안경': 'CS300016',\n",
       " '섬유제품': 'CS300027',\n",
       " '자동차미용': 'CS200026',\n",
       " '가방': 'CS300015',\n",
       " '완구': 'CS300026',\n",
       " '노래방': 'CS200037',\n",
       " '부동산중개업': 'CS200033',\n",
       " '고시원': 'CS200036'}"
      ]
     },
     "execution_count": 78,
     "metadata": {},
     "output_type": "execute_result"
    }
   ],
   "source": [
    "# 딕셔너리 {서비스 업종 명: 서비스 업종 코드}\n",
    "service_info=dict(zip( df_추정매출['서비스_업종_코드_명'],df_추정매출['서비스_업종_코드']))\n",
    "service_info"
   ]
  },
  {
   "cell_type": "code",
   "execution_count": 79,
   "metadata": {},
   "outputs": [
    {
     "data": {
      "text/plain": [
       "{'의약품': 'CS300018',\n",
       " '커피-음료': 'CS100010',\n",
       " '편의점': 'CS300002',\n",
       " '일반의류': 'CS300011',\n",
       " '호프-간이주점': 'CS100009',\n",
       " '양식음식점': 'CS100004',\n",
       " '일식음식점': 'CS100003',\n",
       " '분식전문점': 'CS100008',\n",
       " '패스트푸드점': 'CS100006',\n",
       " '치킨전문점': 'CS100007',\n",
       " '화장품': 'CS300022',\n",
       " '세탁소': 'CS200031',\n",
       " '제과점': 'CS100005',\n",
       " '중식음식점': 'CS100002',\n",
       " '한식음식점': 'CS100001',\n",
       " '일반교습학원': 'CS200001',\n",
       " '미용실': 'CS200028'}"
      ]
     },
     "execution_count": 79,
     "metadata": {},
     "output_type": "execute_result"
    }
   ],
   "source": [
    "# 우리 service 코드만 parsing\n",
    "pos_serv=['한식음식점', '커피-음료', '분식전문점', '호프-간이주점', '치킨전문점', '중식음식점', '패스트푸드점', '제과점', \n",
    "          '일식음식점', '양식음식점','편의점', '일반의류', '화장품', '의약품','일반교습학원', '미용실', '세탁소']\n",
    "pos_serv_code = {key: value for key, value in service_info.items() if key in pos_serv}\n",
    "pos_serv_code"
   ]
  },
  {
   "cell_type": "code",
   "execution_count": 80,
   "metadata": {},
   "outputs": [
    {
     "data": {
      "text/plain": [
       "(121109, 175)"
      ]
     },
     "execution_count": 80,
     "metadata": {},
     "output_type": "execute_result"
    }
   ],
   "source": [
    "fin_filter = df_dong_fin[df_dong_fin['서비스_업종_코드'].isin(pos_serv_code.values())]\n",
    "fin_filter.shape"
   ]
  },
  {
   "cell_type": "markdown",
   "metadata": {},
   "source": [
    "### 점포별 평균 매출 금액 컬럼 추가 \n",
    "- 당월_매출_금액: 해당 상권, 서비스 업종의 모든 점포들의 매출 합\n",
    "- `점포별_평균_매출_금액` = `당월_매출_금액` / `점포_수`"
   ]
  },
  {
   "cell_type": "code",
   "execution_count": 81,
   "metadata": {},
   "outputs": [
    {
     "data": {
      "text/plain": [
       "count    121109.000000\n",
       "mean         40.676242\n",
       "std         118.903194\n",
       "min           3.000000\n",
       "25%          12.000000\n",
       "50%          21.000000\n",
       "75%          41.000000\n",
       "max        8194.000000\n",
       "Name: 유사_업종_점포_수, dtype: float64"
      ]
     },
     "execution_count": 81,
     "metadata": {},
     "output_type": "execute_result"
    }
   ],
   "source": [
    "# 유사_업종_점포_수 : 매출 수집한 점포 수\n",
    "fin_filter[\"유사_업종_점포_수\"].describe()"
   ]
  },
  {
   "cell_type": "code",
   "execution_count": 82,
   "metadata": {},
   "outputs": [
    {
     "name": "stderr",
     "output_type": "stream",
     "text": [
      "C:\\Users\\user\\AppData\\Local\\Temp\\ipykernel_23392\\1202270889.py:1: SettingWithCopyWarning: \n",
      "A value is trying to be set on a copy of a slice from a DataFrame.\n",
      "Try using .loc[row_indexer,col_indexer] = value instead\n",
      "\n",
      "See the caveats in the documentation: https://pandas.pydata.org/pandas-docs/stable/user_guide/indexing.html#returning-a-view-versus-a-copy\n",
      "  fin_filter['점포별_평균_매출_금액'] = fin_filter['당월_매출_금액'] / fin_filter['유사_업종_점포_수']\n"
     ]
    },
    {
     "data": {
      "text/plain": [
       "count    1.211090e+05\n",
       "mean     3.986928e+07\n",
       "std      6.606597e+07\n",
       "min      3.760000e+01\n",
       "25%      8.245171e+06\n",
       "50%      1.991628e+07\n",
       "75%      4.598550e+07\n",
       "max      1.863250e+09\n",
       "Name: 점포별_평균_매출_금액, dtype: float64"
      ]
     },
     "execution_count": 82,
     "metadata": {},
     "output_type": "execute_result"
    }
   ],
   "source": [
    "fin_filter['점포별_평균_매출_금액'] = fin_filter['당월_매출_금액'] / fin_filter['유사_업종_점포_수']\n",
    "fin_filter['점포별_평균_매출_금액'].describe()"
   ]
  },
  {
   "cell_type": "code",
   "execution_count": 83,
   "metadata": {},
   "outputs": [
    {
     "data": {
      "image/png": "[encoded data removed]",
      "text/plain": [
       "<Figure size 640x480 with 1 Axes>"
      ]
     },
     "metadata": {},
     "output_type": "display_data"
    }
   ],
   "source": [
    "import pandas as pd\n",
    "import numpy as np\n",
    "import matplotlib.pyplot as plt\n",
    "import seaborn as sns\n",
    "plt.rc('font', family='Malgun Gothic')\n",
    "\n",
    "import warnings\n",
    "warnings.filterwarnings('ignore')\n",
    "\n",
    "plt.boxplot(fin_filter['점포별_평균_매출_금액'])\n",
    "plt.show()"
   ]
  },
  {
   "cell_type": "code",
   "execution_count": 84,
   "metadata": {},
   "outputs": [
    {
     "data": {
      "image/png": "[encoded data removed]",
      "text/plain": [
       "<Figure size 2000x1000 with 1 Axes>"
      ]
     },
     "metadata": {},
     "output_type": "display_data"
    }
   ],
   "source": [
    "## 분기별 추이 확인(전체)\n",
    "quarter_people = fin_filter.groupby([\"기준_년분기_코드\"])[\"총_유동인구_수\"].mean()\n",
    "\n",
    "# Matplotlib을 사용한 그룹별 바 플롯\n",
    "plt.figure(figsize=(20,10))\n",
    "quarter_people.plot(kind='bar', legend=False)\n",
    "\n",
    "plt.xlabel(\"분기\", fontsize=15)\n",
    "plt.ylabel('평균 유동인구', fontsize=15)\n",
    "#plt.title(var+' 총 매출-'+title , fontsize=20)\n",
    "\n",
    "# 라벨이 겹치지 않도록 조정\n",
    "plt.tight_layout()\n",
    "plt.xticks(rotation=90)\n",
    "plt.show()"
   ]
  },
  {
   "cell_type": "code",
   "execution_count": 85,
   "metadata": {},
   "outputs": [
    {
     "data": {
      "image/png": "[encoded data removed]",
      "text/plain": [
       "<Figure size 2000x1000 with 1 Axes>"
      ]
     },
     "metadata": {},
     "output_type": "display_data"
    },
    {
     "data": {
      "text/plain": [
       "'_summary_\\n1. 코로나(20.1-21.4)와 이후는 추세 차이 존재 -> 코로나 변수 생성\\n2.  총 매출에서 반복되는 추세가 보임 → 분기(1,2,3,4) 생성\\n'"
      ]
     },
     "execution_count": 85,
     "metadata": {},
     "output_type": "execute_result"
    }
   ],
   "source": [
    "## 분기별 추이 확인(전체)\n",
    "quarter_sales = fin_filter.groupby([\"기준_년분기_코드\"])[\"점포별_평균_매출_금액\"].mean()\n",
    "\n",
    "# Matplotlib을 사용한 그룹별 바 플롯\n",
    "plt.figure(figsize=(20,10))\n",
    "quarter_sales.plot(kind='bar', legend=False)\n",
    "\n",
    "plt.xlabel(\"분기\", fontsize=15)\n",
    "plt.ylabel('총 매출', fontsize=15)\n",
    "#plt.title(var+' 총 매출-'+title , fontsize=20)\n",
    "\n",
    "# 라벨이 겹치지 않도록 조정\n",
    "plt.tight_layout()\n",
    "plt.xticks(rotation=90)\n",
    "plt.show()\n",
    " \n",
    "\"\"\"_summary_\n",
    "1. 코로나(20.1-21.4)와 이후는 추세 차이 존재 -> 코로나 변수 생성\n",
    "2.  총 매출에서 반복되는 추세가 보임 → 분기(1,2,3,4) 생성\n",
    "\"\"\""
   ]
  },
  {
   "cell_type": "code",
   "execution_count": 86,
   "metadata": {},
   "outputs": [
    {
     "data": {
      "image/png": "[encoded data removed]",
      "text/plain": [
       "<Figure size 1000x600 with 1 Axes>"
      ]
     },
     "metadata": {},
     "output_type": "display_data"
    },
    {
     "data": {
      "image/png": "[encoded data removed]",
      "text/plain": [
       "<Figure size 1000x600 with 1 Axes>"
      ]
     },
     "metadata": {},
     "output_type": "display_data"
    },
    {
     "data": {
      "image/png": "[encoded data removed]",
      "text/plain": [
       "<Figure size 1000x600 with 1 Axes>"
      ]
     },
     "metadata": {},
     "output_type": "display_data"
    }
   ],
   "source": [
    "## 각 업종별 평균 매출 추이 파악 - 세탁소 에러 확인(제거), 100만원 이하 건수 삭제 시행\n",
    "plt.figure(figsize=(10, 6))\n",
    "plt.title('각 업종의 점포별_평균_매출_금액(전체)')\n",
    "sns.boxplot(data=fin_filter, x='서비스_업종_코드_명', y='점포별_평균_매출_금액')\n",
    "plt.xticks(rotation=90)\n",
    "plt.show()\n",
    "\n",
    "\n",
    "plt.figure(figsize=(10, 6))\n",
    "plt.title('각 업종의 점포별_평균_매출_금액(일정)')\n",
    "sns.boxplot(data=fin_filter, x='서비스_업종_코드_명', y='점포별_평균_매출_금액')\n",
    "plt.ylim(0, 1000000)\n",
    "plt.xticks(rotation=90)\n",
    "plt.show()\n",
    "\n",
    "\n",
    "plt.figure(figsize=(10, 6))\n",
    "plt.title('각 업종의 점포별_평균_매출_금액(일정)')\n",
    "sns.kdeplot(data=fin_filter, x='점포별_평균_매출_금액', hue=\"서비스_업종_코드_명\")\n",
    "plt.xlim(0, 1000000)\n",
    "plt.xticks(rotation=90)\n",
    "plt.show()"
   ]
  },
  {
   "cell_type": "code",
   "execution_count": 87,
   "metadata": {},
   "outputs": [
    {
     "name": "stdout",
     "output_type": "stream",
     "text": [
      "제거 전: (121109, 176)\n",
      "제거 후: (111723, 176)\n"
     ]
    }
   ],
   "source": [
    "print('제거 전:',fin_filter.shape)\n",
    "## [이슈4] 점포별_평균_매출_금액에 누락 값(이상치) 존재. 기준점을 세워 데이터 handling 진행\n",
    "## [이슈5] 세탁소 제거 (현금 장사)\n",
    "fin_filter_dropped = fin_filter[(fin_filter[\"점포별_평균_매출_금액\"] > 1000000)&(fin_filter[\"서비스_업종_코드_명\"]!=\"세탁소\")]\n",
    "print('제거 후:',fin_filter_dropped.shape)"
   ]
  },
  {
   "cell_type": "code",
   "execution_count": 88,
   "metadata": {},
   "outputs": [
    {
     "data": {
      "image/png": "[encoded data removed]",
      "text/plain": [
       "<Figure size 1000x600 with 1 Axes>"
      ]
     },
     "metadata": {},
     "output_type": "display_data"
    },
    {
     "data": {
      "image/png": "[encoded data removed]",
      "text/plain": [
       "<Figure size 1000x600 with 1 Axes>"
      ]
     },
     "metadata": {},
     "output_type": "display_data"
    },
    {
     "data": {
      "image/png": "[encoded data removed]",
      "text/plain": [
       "<Figure size 1000x600 with 1 Axes>"
      ]
     },
     "metadata": {},
     "output_type": "display_data"
    },
    {
     "data": {
      "image/png": "[encoded data removed]",
      "text/plain": [
       "<Figure size 1000x600 with 1 Axes>"
      ]
     },
     "metadata": {},
     "output_type": "display_data"
    }
   ],
   "source": [
    "## 이상치 제거 후 각 업종별 평균 매출 추이 파악\n",
    "plt.figure(figsize=(10, 6))\n",
    "plt.title('제거 후 각 업종의 점포별_평균_매출_금액(전체)')\n",
    "sns.boxplot(data=fin_filter_dropped, x='서비스_업종_코드_명', y='점포별_평균_매출_금액')\n",
    "plt.xticks(rotation=90)\n",
    "plt.show()\n",
    "\n",
    "\n",
    "plt.figure(figsize=(10, 6))\n",
    "plt.title('제거 후 각 업종의 점포별_평균_매출_금액(일정)')\n",
    "sns.boxplot(data=fin_filter_dropped, x='서비스_업종_코드_명', y='점포별_평균_매출_금액')\n",
    "plt.ylim(0, 10000000)\n",
    "plt.xticks(rotation=90)\n",
    "plt.show()\n",
    "\n",
    "\n",
    "plt.figure(figsize=(10, 6))\n",
    "plt.title('제거 후 각 업종의 점포별_평균_매출_금액(전체)')\n",
    "sns.kdeplot(data=fin_filter_dropped, x='점포별_평균_매출_금액', hue=\"서비스_업종_코드_명\")\n",
    "plt.xticks(rotation=90)\n",
    "plt.show()\n",
    "\n",
    "plt.figure(figsize=(10, 6))\n",
    "plt.title('제거 후 각 업종의 점포별_평균_매출_금액(일정)')\n",
    "sns.kdeplot(data=fin_filter_dropped, x='점포별_평균_매출_금액', hue=\"서비스_업종_코드_명\")\n",
    "plt.xlim(0, 25000000)\n",
    "plt.xticks(rotation=90)\n",
    "plt.show()"
   ]
  },
  {
   "cell_type": "code",
   "execution_count": 89,
   "metadata": {},
   "outputs": [
    {
     "name": "stdout",
     "output_type": "stream",
     "text": [
      "(111723, 178)\n"
     ]
    },
    {
     "data": {
      "text/html": [
       "<div>\n",
       "<style scoped>\n",
       "    .dataframe tbody tr th:only-of-type {\n",
       "        vertical-align: middle;\n",
       "    }\n",
       "\n",
       "    .dataframe tbody tr th {\n",
       "        vertical-align: top;\n",
       "    }\n",
       "\n",
       "    .dataframe thead th {\n",
       "        text-align: right;\n",
       "    }\n",
       "</style>\n",
       "<table border=\"1\" class=\"dataframe\">\n",
       "  <thead>\n",
       "    <tr style=\"text-align: right;\">\n",
       "      <th></th>\n",
       "      <th>기준_년분기_코드</th>\n",
       "      <th>분기</th>\n",
       "      <th>코로나_여부</th>\n",
       "    </tr>\n",
       "  </thead>\n",
       "  <tbody>\n",
       "    <tr>\n",
       "      <th>2</th>\n",
       "      <td>20191</td>\n",
       "      <td>1</td>\n",
       "      <td>1</td>\n",
       "    </tr>\n",
       "    <tr>\n",
       "      <th>10802</th>\n",
       "      <td>20191</td>\n",
       "      <td>1</td>\n",
       "      <td>1</td>\n",
       "    </tr>\n",
       "    <tr>\n",
       "      <th>10799</th>\n",
       "      <td>20191</td>\n",
       "      <td>1</td>\n",
       "      <td>1</td>\n",
       "    </tr>\n",
       "    <tr>\n",
       "      <th>10797</th>\n",
       "      <td>20191</td>\n",
       "      <td>1</td>\n",
       "      <td>1</td>\n",
       "    </tr>\n",
       "    <tr>\n",
       "      <th>10796</th>\n",
       "      <td>20191</td>\n",
       "      <td>1</td>\n",
       "      <td>1</td>\n",
       "    </tr>\n",
       "    <tr>\n",
       "      <th>...</th>\n",
       "      <td>...</td>\n",
       "      <td>...</td>\n",
       "      <td>...</td>\n",
       "    </tr>\n",
       "    <tr>\n",
       "      <th>306601</th>\n",
       "      <td>20233</td>\n",
       "      <td>3</td>\n",
       "      <td>0</td>\n",
       "    </tr>\n",
       "    <tr>\n",
       "      <th>306600</th>\n",
       "      <td>20233</td>\n",
       "      <td>3</td>\n",
       "      <td>0</td>\n",
       "    </tr>\n",
       "    <tr>\n",
       "      <th>306599</th>\n",
       "      <td>20233</td>\n",
       "      <td>3</td>\n",
       "      <td>0</td>\n",
       "    </tr>\n",
       "    <tr>\n",
       "      <th>306617</th>\n",
       "      <td>20233</td>\n",
       "      <td>3</td>\n",
       "      <td>0</td>\n",
       "    </tr>\n",
       "    <tr>\n",
       "      <th>317941</th>\n",
       "      <td>20233</td>\n",
       "      <td>3</td>\n",
       "      <td>0</td>\n",
       "    </tr>\n",
       "  </tbody>\n",
       "</table>\n",
       "<p>111723 rows × 3 columns</p>\n",
       "</div>"
      ],
      "text/plain": [
       "        기준_년분기_코드  분기  코로나_여부\n",
       "2           20191   1       1\n",
       "10802       20191   1       1\n",
       "10799       20191   1       1\n",
       "10797       20191   1       1\n",
       "10796       20191   1       1\n",
       "...           ...  ..     ...\n",
       "306601      20233   3       0\n",
       "306600      20233   3       0\n",
       "306599      20233   3       0\n",
       "306617      20233   3       0\n",
       "317941      20233   3       0\n",
       "\n",
       "[111723 rows x 3 columns]"
      ]
     },
     "execution_count": 89,
     "metadata": {},
     "output_type": "execute_result"
    }
   ],
   "source": [
    "## 분기, 코로나 COL 추가\n",
    "# 코로나 = 20201-20214\n",
    "fin_filter_dropped[\"분기\"] = fin_filter_dropped[\"기준_년분기_코드\"].apply(lambda x: int(str(x)[-1]))\n",
    "fin_filter_dropped[\"코로나_여부\"] = fin_filter_dropped[\"기준_년분기_코드\"].apply(lambda x: 1 if x<20221 else 0)\n",
    "print(fin_filter_dropped.shape)\n",
    "fin_filter_dropped[[\"기준_년분기_코드\", \"분기\", \"코로나_여부\"]].sort_values(\"기준_년분기_코드\")"
   ]
  },
  {
   "cell_type": "markdown",
   "metadata": {},
   "source": [
    "### csv 파일로 저장"
   ]
  },
  {
   "cell_type": "code",
   "execution_count": 90,
   "metadata": {},
   "outputs": [],
   "source": [
    "fin_filter_dropped.to_csv(path2+'dong_service_data.csv', index=False)"
   ]
  },
  {
   "cell_type": "markdown",
   "metadata": {},
   "source": [
    "## 모델 학습용 데이터"
   ]
  },
  {
   "cell_type": "code",
   "execution_count": 91,
   "metadata": {},
   "outputs": [],
   "source": [
    "import pandas as pd\n",
    "\n",
    "pd.set_option('display.max_columns', 500)"
   ]
  },
  {
   "cell_type": "markdown",
   "metadata": {},
   "source": [
    "### 1. 해당 분기 매출 예측\n",
    "- y: `점포별_평균_매출_금액`"
   ]
  },
  {
   "cell_type": "code",
   "execution_count": 92,
   "metadata": {},
   "outputs": [
    {
     "data": {
      "text/plain": [
       "(111723, 178)"
      ]
     },
     "execution_count": 92,
     "metadata": {},
     "output_type": "execute_result"
    }
   ],
   "source": [
    "estimate = pd.read_csv('../../data/preprocessed data/dong_service_data.csv')\n",
    "estimate.shape"
   ]
  },
  {
   "cell_type": "code",
   "execution_count": 93,
   "metadata": {},
   "outputs": [
    {
     "name": "stdout",
     "output_type": "stream",
     "text": [
      "48\n"
     ]
    }
   ],
   "source": [
    "drop_cols = ['당월_매출_금액', '당월_매출_건수', '주중_매출_금액', '주말_매출_금액',\n",
    "       '월요일_매출_금액', '화요일_매출_금액', '수요일_매출_금액', '목요일_매출_금액', '금요일_매출_금액',\n",
    "       '토요일_매출_금액', '일요일_매출_금액', '시간대_00~06_매출_금액', '시간대_06~11_매출_금액',\n",
    "       '시간대_11~14_매출_금액', '시간대_14~17_매출_금액', '시간대_17~21_매출_금액',\n",
    "       '시간대_21~24_매출_금액', '남성_매출_금액', '여성_매출_금액', '연령대_10_매출_금액',\n",
    "       '연령대_20_매출_금액', '연령대_30_매출_금액', '연령대_40_매출_금액', '연령대_50_매출_금액',\n",
    "       '연령대_60_이상_매출_금액', '주중_매출_건수', '주말_매출_건수', '월요일_매출_건수', '화요일_매출_건수',\n",
    "       '수요일_매출_건수', '목요일_매출_건수', '금요일_매출_건수', '토요일_매출_건수', '일요일_매출_건수',\n",
    "       '시간대_건수~06_매출_건수', '시간대_건수~11_매출_건수', '시간대_건수~14_매출_건수',\n",
    "       '시간대_건수~17_매출_건수', '시간대_건수~21_매출_건수', '시간대_건수~24_매출_건수', '남성_매출_건수',\n",
    "       '여성_매출_건수', '연령대_10_매출_건수', '연령대_20_매출_건수', '연령대_30_매출_건수',\n",
    "       '연령대_40_매출_건수', '연령대_50_매출_건수', '연령대_60_이상_매출_건수']\n",
    "\n",
    "print(len(drop_cols))"
   ]
  },
  {
   "cell_type": "code",
   "execution_count": 94,
   "metadata": {},
   "outputs": [
    {
     "data": {
      "text/plain": [
       "(111723, 130)"
      ]
     },
     "execution_count": 94,
     "metadata": {},
     "output_type": "execute_result"
    }
   ],
   "source": [
    "estimate = estimate.drop(columns=drop_cols)\n",
    "estimate.shape"
   ]
  },
  {
   "cell_type": "code",
   "execution_count": 95,
   "metadata": {},
   "outputs": [
    {
     "data": {
      "text/plain": [
       "count    1.117230e+05\n",
       "mean     4.281251e+07\n",
       "std      6.792211e+07\n",
       "min      1.000067e+06\n",
       "25%      1.004161e+07\n",
       "50%      2.240823e+07\n",
       "75%      4.947487e+07\n",
       "max      1.863250e+09\n",
       "Name: 점포별_평균_매출_금액, dtype: float64"
      ]
     },
     "execution_count": 95,
     "metadata": {},
     "output_type": "execute_result"
    }
   ],
   "source": [
    "estimate['점포별_평균_매출_금액'].describe()"
   ]
  },
  {
   "cell_type": "code",
   "execution_count": 96,
   "metadata": {},
   "outputs": [],
   "source": [
    "estimate.to_csv('../../data/preprocessed data/dong_service_data_estimate.csv', index=False)"
   ]
  },
  {
   "cell_type": "markdown",
   "metadata": {},
   "source": [
    "### 2. 다음 분기 매출 예측\n",
    "- y: `점포별_예상_평균_매출_금액`"
   ]
  },
  {
   "cell_type": "code",
   "execution_count": 97,
   "metadata": {},
   "outputs": [
    {
     "data": {
      "text/plain": [
       "(111723, 178)"
      ]
     },
     "execution_count": 97,
     "metadata": {},
     "output_type": "execute_result"
    }
   ],
   "source": [
    "predict = pd.read_csv('../../data/preprocessed data/dong_service_data.csv')\n",
    "predict.shape"
   ]
  },
  {
   "cell_type": "code",
   "execution_count": 98,
   "metadata": {},
   "outputs": [
    {
     "name": "stdout",
     "output_type": "stream",
     "text": [
      "48\n"
     ]
    }
   ],
   "source": [
    "drop_cols = ['당월_매출_금액', '당월_매출_건수', '주중_매출_금액', '주말_매출_금액',\n",
    "       '월요일_매출_금액', '화요일_매출_금액', '수요일_매출_금액', '목요일_매출_금액', '금요일_매출_금액',\n",
    "       '토요일_매출_금액', '일요일_매출_금액', '시간대_00~06_매출_금액', '시간대_06~11_매출_금액',\n",
    "       '시간대_11~14_매출_금액', '시간대_14~17_매출_금액', '시간대_17~21_매출_금액',\n",
    "       '시간대_21~24_매출_금액', '남성_매출_금액', '여성_매출_금액', '연령대_10_매출_금액',\n",
    "       '연령대_20_매출_금액', '연령대_30_매출_금액', '연령대_40_매출_금액', '연령대_50_매출_금액',\n",
    "       '연령대_60_이상_매출_금액', '주중_매출_건수', '주말_매출_건수', '월요일_매출_건수', '화요일_매출_건수',\n",
    "       '수요일_매출_건수', '목요일_매출_건수', '금요일_매출_건수', '토요일_매출_건수', '일요일_매출_건수',\n",
    "       '시간대_건수~06_매출_건수', '시간대_건수~11_매출_건수', '시간대_건수~14_매출_건수',\n",
    "       '시간대_건수~17_매출_건수', '시간대_건수~21_매출_건수', '시간대_건수~24_매출_건수', '남성_매출_건수',\n",
    "       '여성_매출_건수', '연령대_10_매출_건수', '연령대_20_매출_건수', '연령대_30_매출_건수',\n",
    "       '연령대_40_매출_건수', '연령대_50_매출_건수', '연령대_60_이상_매출_건수']\n",
    "\n",
    "print(len(drop_cols))"
   ]
  },
  {
   "cell_type": "code",
   "execution_count": 99,
   "metadata": {},
   "outputs": [
    {
     "name": "stdout",
     "output_type": "stream",
     "text": [
      "(111723, 130)\n"
     ]
    }
   ],
   "source": [
    "predict = predict.drop(columns=drop_cols)\n",
    "print(predict.shape)"
   ]
  },
  {
   "cell_type": "markdown",
   "metadata": {},
   "source": [
    "y = `점포별_예상_평균_매출_금액`\n",
    "\n",
    "현재시점이 2023년 2분기일 때, \n",
    "- `점포별_예상_평균_매출_금액`(2023년 3분기) → 다음 분기 매출 금액\n",
    "- `전년도_점포별_평균_매출_금액`(2022년 3분기) → 예측할 분기의 전년도 매출 금액 "
   ]
  },
  {
   "cell_type": "code",
   "execution_count": 100,
   "metadata": {},
   "outputs": [],
   "source": [
    "predict = predict.sort_values(by=['행정동_코드', '서비스_업종_코드', '기준_년분기_코드'])\n",
    "\n",
    "predict['점포별_예상_평균_매출_금액'] = predict['점포별_평균_매출_금액'].shift(-1) # '점포별_예상_평균_매출_금액' 컬럼 생성\n",
    "predict['전년도_점포별_평균_매출_금액'] = predict['점포별_평균_매출_금액'].shift(3) # '전년도_점포별_평균_매출_금액' 컬럼 생성\n",
    "\n",
    "predict = predict[(20194 < predict['기준_년분기_코드']) & (predict['기준_년분기_코드'] < 20233)]"
   ]
  },
  {
   "cell_type": "code",
   "execution_count": 101,
   "metadata": {},
   "outputs": [
    {
     "data": {
      "text/html": [
       "<div>\n",
       "<style scoped>\n",
       "    .dataframe tbody tr th:only-of-type {\n",
       "        vertical-align: middle;\n",
       "    }\n",
       "\n",
       "    .dataframe tbody tr th {\n",
       "        vertical-align: top;\n",
       "    }\n",
       "\n",
       "    .dataframe thead th {\n",
       "        text-align: right;\n",
       "    }\n",
       "</style>\n",
       "<table border=\"1\" class=\"dataframe\">\n",
       "  <thead>\n",
       "    <tr style=\"text-align: right;\">\n",
       "      <th></th>\n",
       "      <th>기준_년분기_코드</th>\n",
       "      <th>행정동_코드_명</th>\n",
       "      <th>서비스_업종_코드_명</th>\n",
       "      <th>점포별_평균_매출_금액</th>\n",
       "      <th>전년도_점포별_평균_매출_금액</th>\n",
       "      <th>점포별_예상_평균_매출_금액</th>\n",
       "    </tr>\n",
       "  </thead>\n",
       "  <tbody>\n",
       "    <tr>\n",
       "      <th>28215</th>\n",
       "      <td>20201</td>\n",
       "      <td>청운효자동</td>\n",
       "      <td>한식음식점</td>\n",
       "      <td>2.483180e+07</td>\n",
       "      <td>2.544419e+07</td>\n",
       "      <td>2.502785e+07</td>\n",
       "    </tr>\n",
       "    <tr>\n",
       "      <th>32227</th>\n",
       "      <td>20202</td>\n",
       "      <td>청운효자동</td>\n",
       "      <td>한식음식점</td>\n",
       "      <td>2.502785e+07</td>\n",
       "      <td>2.349983e+07</td>\n",
       "      <td>2.319258e+07</td>\n",
       "    </tr>\n",
       "    <tr>\n",
       "      <th>36864</th>\n",
       "      <td>20203</td>\n",
       "      <td>청운효자동</td>\n",
       "      <td>한식음식점</td>\n",
       "      <td>2.319258e+07</td>\n",
       "      <td>2.961841e+07</td>\n",
       "      <td>2.432161e+07</td>\n",
       "    </tr>\n",
       "    <tr>\n",
       "      <th>43631</th>\n",
       "      <td>20204</td>\n",
       "      <td>청운효자동</td>\n",
       "      <td>한식음식점</td>\n",
       "      <td>2.432161e+07</td>\n",
       "      <td>2.483180e+07</td>\n",
       "      <td>2.504080e+07</td>\n",
       "    </tr>\n",
       "    <tr>\n",
       "      <th>49878</th>\n",
       "      <td>20211</td>\n",
       "      <td>청운효자동</td>\n",
       "      <td>한식음식점</td>\n",
       "      <td>2.504080e+07</td>\n",
       "      <td>2.502785e+07</td>\n",
       "      <td>3.282036e+07</td>\n",
       "    </tr>\n",
       "    <tr>\n",
       "      <th>57946</th>\n",
       "      <td>20212</td>\n",
       "      <td>청운효자동</td>\n",
       "      <td>한식음식점</td>\n",
       "      <td>3.282036e+07</td>\n",
       "      <td>2.319258e+07</td>\n",
       "      <td>2.675418e+07</td>\n",
       "    </tr>\n",
       "    <tr>\n",
       "      <th>60551</th>\n",
       "      <td>20213</td>\n",
       "      <td>청운효자동</td>\n",
       "      <td>한식음식점</td>\n",
       "      <td>2.675418e+07</td>\n",
       "      <td>2.432161e+07</td>\n",
       "      <td>3.800963e+07</td>\n",
       "    </tr>\n",
       "    <tr>\n",
       "      <th>69394</th>\n",
       "      <td>20214</td>\n",
       "      <td>청운효자동</td>\n",
       "      <td>한식음식점</td>\n",
       "      <td>3.800963e+07</td>\n",
       "      <td>2.504080e+07</td>\n",
       "      <td>3.242340e+07</td>\n",
       "    </tr>\n",
       "    <tr>\n",
       "      <th>73697</th>\n",
       "      <td>20221</td>\n",
       "      <td>청운효자동</td>\n",
       "      <td>한식음식점</td>\n",
       "      <td>3.242340e+07</td>\n",
       "      <td>3.282036e+07</td>\n",
       "      <td>5.035970e+07</td>\n",
       "    </tr>\n",
       "    <tr>\n",
       "      <th>78259</th>\n",
       "      <td>20222</td>\n",
       "      <td>청운효자동</td>\n",
       "      <td>한식음식점</td>\n",
       "      <td>5.035970e+07</td>\n",
       "      <td>2.675418e+07</td>\n",
       "      <td>4.206161e+07</td>\n",
       "    </tr>\n",
       "    <tr>\n",
       "      <th>85979</th>\n",
       "      <td>20223</td>\n",
       "      <td>청운효자동</td>\n",
       "      <td>한식음식점</td>\n",
       "      <td>4.206161e+07</td>\n",
       "      <td>3.800963e+07</td>\n",
       "      <td>4.960293e+07</td>\n",
       "    </tr>\n",
       "    <tr>\n",
       "      <th>93162</th>\n",
       "      <td>20224</td>\n",
       "      <td>청운효자동</td>\n",
       "      <td>한식음식점</td>\n",
       "      <td>4.960293e+07</td>\n",
       "      <td>3.242340e+07</td>\n",
       "      <td>4.348824e+07</td>\n",
       "    </tr>\n",
       "    <tr>\n",
       "      <th>93887</th>\n",
       "      <td>20231</td>\n",
       "      <td>청운효자동</td>\n",
       "      <td>한식음식점</td>\n",
       "      <td>4.348824e+07</td>\n",
       "      <td>5.035970e+07</td>\n",
       "      <td>4.741617e+07</td>\n",
       "    </tr>\n",
       "    <tr>\n",
       "      <th>99847</th>\n",
       "      <td>20232</td>\n",
       "      <td>청운효자동</td>\n",
       "      <td>한식음식점</td>\n",
       "      <td>4.741617e+07</td>\n",
       "      <td>4.206161e+07</td>\n",
       "      <td>3.592765e+07</td>\n",
       "    </tr>\n",
       "    <tr>\n",
       "      <th>24851</th>\n",
       "      <td>20201</td>\n",
       "      <td>청운효자동</td>\n",
       "      <td>중식음식점</td>\n",
       "      <td>9.779343e+06</td>\n",
       "      <td>9.384374e+06</td>\n",
       "      <td>1.044763e+07</td>\n",
       "    </tr>\n",
       "    <tr>\n",
       "      <th>29993</th>\n",
       "      <td>20202</td>\n",
       "      <td>청운효자동</td>\n",
       "      <td>중식음식점</td>\n",
       "      <td>1.044763e+07</td>\n",
       "      <td>1.079880e+07</td>\n",
       "      <td>9.632223e+06</td>\n",
       "    </tr>\n",
       "    <tr>\n",
       "      <th>37935</th>\n",
       "      <td>20203</td>\n",
       "      <td>청운효자동</td>\n",
       "      <td>중식음식점</td>\n",
       "      <td>9.632223e+06</td>\n",
       "      <td>9.657689e+06</td>\n",
       "      <td>9.605783e+06</td>\n",
       "    </tr>\n",
       "    <tr>\n",
       "      <th>41373</th>\n",
       "      <td>20204</td>\n",
       "      <td>청운효자동</td>\n",
       "      <td>중식음식점</td>\n",
       "      <td>9.605783e+06</td>\n",
       "      <td>9.779343e+06</td>\n",
       "      <td>8.235637e+06</td>\n",
       "    </tr>\n",
       "    <tr>\n",
       "      <th>50237</th>\n",
       "      <td>20211</td>\n",
       "      <td>청운효자동</td>\n",
       "      <td>중식음식점</td>\n",
       "      <td>8.235637e+06</td>\n",
       "      <td>1.044763e+07</td>\n",
       "      <td>1.131056e+07</td>\n",
       "    </tr>\n",
       "    <tr>\n",
       "      <th>56437</th>\n",
       "      <td>20212</td>\n",
       "      <td>청운효자동</td>\n",
       "      <td>중식음식점</td>\n",
       "      <td>1.131056e+07</td>\n",
       "      <td>9.632223e+06</td>\n",
       "      <td>1.364685e+07</td>\n",
       "    </tr>\n",
       "    <tr>\n",
       "      <th>59050</th>\n",
       "      <td>20213</td>\n",
       "      <td>청운효자동</td>\n",
       "      <td>중식음식점</td>\n",
       "      <td>1.364685e+07</td>\n",
       "      <td>9.605783e+06</td>\n",
       "      <td>1.612643e+07</td>\n",
       "    </tr>\n",
       "    <tr>\n",
       "      <th>64571</th>\n",
       "      <td>20214</td>\n",
       "      <td>청운효자동</td>\n",
       "      <td>중식음식점</td>\n",
       "      <td>1.612643e+07</td>\n",
       "      <td>8.235637e+06</td>\n",
       "      <td>1.422863e+07</td>\n",
       "    </tr>\n",
       "    <tr>\n",
       "      <th>71809</th>\n",
       "      <td>20221</td>\n",
       "      <td>청운효자동</td>\n",
       "      <td>중식음식점</td>\n",
       "      <td>1.422863e+07</td>\n",
       "      <td>1.131056e+07</td>\n",
       "      <td>1.920724e+07</td>\n",
       "    </tr>\n",
       "    <tr>\n",
       "      <th>80325</th>\n",
       "      <td>20222</td>\n",
       "      <td>청운효자동</td>\n",
       "      <td>중식음식점</td>\n",
       "      <td>1.920724e+07</td>\n",
       "      <td>1.364685e+07</td>\n",
       "      <td>1.593827e+07</td>\n",
       "    </tr>\n",
       "    <tr>\n",
       "      <th>84857</th>\n",
       "      <td>20223</td>\n",
       "      <td>청운효자동</td>\n",
       "      <td>중식음식점</td>\n",
       "      <td>1.593827e+07</td>\n",
       "      <td>1.612643e+07</td>\n",
       "      <td>1.044775e+07</td>\n",
       "    </tr>\n",
       "    <tr>\n",
       "      <th>26947</th>\n",
       "      <td>20201</td>\n",
       "      <td>청운효자동</td>\n",
       "      <td>일식음식점</td>\n",
       "      <td>9.057325e+06</td>\n",
       "      <td>1.177141e+07</td>\n",
       "      <td>1.742836e+07</td>\n",
       "    </tr>\n",
       "    <tr>\n",
       "      <th>34006</th>\n",
       "      <td>20202</td>\n",
       "      <td>청운효자동</td>\n",
       "      <td>일식음식점</td>\n",
       "      <td>1.742836e+07</td>\n",
       "      <td>1.020281e+07</td>\n",
       "      <td>1.624849e+07</td>\n",
       "    </tr>\n",
       "    <tr>\n",
       "      <th>40095</th>\n",
       "      <td>20203</td>\n",
       "      <td>청운효자동</td>\n",
       "      <td>일식음식점</td>\n",
       "      <td>1.624849e+07</td>\n",
       "      <td>1.187657e+07</td>\n",
       "      <td>1.298116e+07</td>\n",
       "    </tr>\n",
       "    <tr>\n",
       "      <th>45711</th>\n",
       "      <td>20204</td>\n",
       "      <td>청운효자동</td>\n",
       "      <td>일식음식점</td>\n",
       "      <td>1.298116e+07</td>\n",
       "      <td>9.057325e+06</td>\n",
       "      <td>1.184620e+07</td>\n",
       "    </tr>\n",
       "    <tr>\n",
       "      <th>52083</th>\n",
       "      <td>20211</td>\n",
       "      <td>청운효자동</td>\n",
       "      <td>일식음식점</td>\n",
       "      <td>1.184620e+07</td>\n",
       "      <td>1.742836e+07</td>\n",
       "      <td>1.841734e+07</td>\n",
       "    </tr>\n",
       "  </tbody>\n",
       "</table>\n",
       "</div>"
      ],
      "text/plain": [
       "       기준_년분기_코드 행정동_코드_명 서비스_업종_코드_명  점포별_평균_매출_금액  전년도_점포별_평균_매출_금액  \\\n",
       "28215      20201    청운효자동       한식음식점  2.483180e+07      2.544419e+07   \n",
       "32227      20202    청운효자동       한식음식점  2.502785e+07      2.349983e+07   \n",
       "36864      20203    청운효자동       한식음식점  2.319258e+07      2.961841e+07   \n",
       "43631      20204    청운효자동       한식음식점  2.432161e+07      2.483180e+07   \n",
       "49878      20211    청운효자동       한식음식점  2.504080e+07      2.502785e+07   \n",
       "57946      20212    청운효자동       한식음식점  3.282036e+07      2.319258e+07   \n",
       "60551      20213    청운효자동       한식음식점  2.675418e+07      2.432161e+07   \n",
       "69394      20214    청운효자동       한식음식점  3.800963e+07      2.504080e+07   \n",
       "73697      20221    청운효자동       한식음식점  3.242340e+07      3.282036e+07   \n",
       "78259      20222    청운효자동       한식음식점  5.035970e+07      2.675418e+07   \n",
       "85979      20223    청운효자동       한식음식점  4.206161e+07      3.800963e+07   \n",
       "93162      20224    청운효자동       한식음식점  4.960293e+07      3.242340e+07   \n",
       "93887      20231    청운효자동       한식음식점  4.348824e+07      5.035970e+07   \n",
       "99847      20232    청운효자동       한식음식점  4.741617e+07      4.206161e+07   \n",
       "24851      20201    청운효자동       중식음식점  9.779343e+06      9.384374e+06   \n",
       "29993      20202    청운효자동       중식음식점  1.044763e+07      1.079880e+07   \n",
       "37935      20203    청운효자동       중식음식점  9.632223e+06      9.657689e+06   \n",
       "41373      20204    청운효자동       중식음식점  9.605783e+06      9.779343e+06   \n",
       "50237      20211    청운효자동       중식음식점  8.235637e+06      1.044763e+07   \n",
       "56437      20212    청운효자동       중식음식점  1.131056e+07      9.632223e+06   \n",
       "59050      20213    청운효자동       중식음식점  1.364685e+07      9.605783e+06   \n",
       "64571      20214    청운효자동       중식음식점  1.612643e+07      8.235637e+06   \n",
       "71809      20221    청운효자동       중식음식점  1.422863e+07      1.131056e+07   \n",
       "80325      20222    청운효자동       중식음식점  1.920724e+07      1.364685e+07   \n",
       "84857      20223    청운효자동       중식음식점  1.593827e+07      1.612643e+07   \n",
       "26947      20201    청운효자동       일식음식점  9.057325e+06      1.177141e+07   \n",
       "34006      20202    청운효자동       일식음식점  1.742836e+07      1.020281e+07   \n",
       "40095      20203    청운효자동       일식음식점  1.624849e+07      1.187657e+07   \n",
       "45711      20204    청운효자동       일식음식점  1.298116e+07      9.057325e+06   \n",
       "52083      20211    청운효자동       일식음식점  1.184620e+07      1.742836e+07   \n",
       "\n",
       "       점포별_예상_평균_매출_금액  \n",
       "28215     2.502785e+07  \n",
       "32227     2.319258e+07  \n",
       "36864     2.432161e+07  \n",
       "43631     2.504080e+07  \n",
       "49878     3.282036e+07  \n",
       "57946     2.675418e+07  \n",
       "60551     3.800963e+07  \n",
       "69394     3.242340e+07  \n",
       "73697     5.035970e+07  \n",
       "78259     4.206161e+07  \n",
       "85979     4.960293e+07  \n",
       "93162     4.348824e+07  \n",
       "93887     4.741617e+07  \n",
       "99847     3.592765e+07  \n",
       "24851     1.044763e+07  \n",
       "29993     9.632223e+06  \n",
       "37935     9.605783e+06  \n",
       "41373     8.235637e+06  \n",
       "50237     1.131056e+07  \n",
       "56437     1.364685e+07  \n",
       "59050     1.612643e+07  \n",
       "64571     1.422863e+07  \n",
       "71809     1.920724e+07  \n",
       "80325     1.593827e+07  \n",
       "84857     1.044775e+07  \n",
       "26947     1.742836e+07  \n",
       "34006     1.624849e+07  \n",
       "40095     1.298116e+07  \n",
       "45711     1.184620e+07  \n",
       "52083     1.841734e+07  "
      ]
     },
     "execution_count": 101,
     "metadata": {},
     "output_type": "execute_result"
    }
   ],
   "source": [
    "predict[['기준_년분기_코드', '행정동_코드_명', '서비스_업종_코드_명', '점포별_평균_매출_금액', '전년도_점포별_평균_매출_금액','점포별_예상_평균_매출_금액']].head(30)"
   ]
  },
  {
   "cell_type": "code",
   "execution_count": 102,
   "metadata": {},
   "outputs": [],
   "source": [
    "predict = predict.sort_index()\n",
    "predict.to_csv('../../data/preprocessed data/dong_service_data_predict.csv', index=False)"
   ]
  },
  {
   "cell_type": "code",
   "execution_count": 103,
   "metadata": {},
   "outputs": [
    {
     "data": {
      "text/plain": [
       "['기준_년분기_코드',\n",
       " '행정동_코드',\n",
       " '행정동_코드_명',\n",
       " '서비스_업종_코드',\n",
       " '서비스_업종_코드_명',\n",
       " '집객시설_수',\n",
       " '관공서_수',\n",
       " '은행_수',\n",
       " '종합병원_수',\n",
       " '일반_병원_수',\n",
       " '약국_수',\n",
       " '유치원_수',\n",
       " '초등학교_수',\n",
       " '중학교_수',\n",
       " '고등학교_수',\n",
       " '대학교_수',\n",
       " '백화점_수',\n",
       " '슈퍼마켓_수',\n",
       " '극장_수',\n",
       " '숙박_시설_수',\n",
       " '공항_수',\n",
       " '철도_역_수',\n",
       " '버스_터미널_수',\n",
       " '지하철_역_수',\n",
       " '버스_정거장_수',\n",
       " '총_직장_인구_수',\n",
       " '남성_직장_인구_수',\n",
       " '여성_직장_인구_수',\n",
       " '연령대_10_직장_인구_수',\n",
       " '연령대_20_직장_인구_수',\n",
       " '연령대_30_직장_인구_수',\n",
       " '연령대_40_직장_인구_수',\n",
       " '연령대_50_직장_인구_수',\n",
       " '연령대_60_이상_직장_인구_수',\n",
       " '남성연령대_10_직장_인구_수',\n",
       " '남성연령대_20_직장_인구_수',\n",
       " '남성연령대_30_직장_인구_수',\n",
       " '남성연령대_40_직장_인구_수',\n",
       " '남성연령대_50_직장_인구_수',\n",
       " '남성연령대_60_이상_직장_인구_수',\n",
       " '여성연령대_10_직장_인구_수',\n",
       " '여성연령대_20_직장_인구_수',\n",
       " '여성연령대_30_직장_인구_수',\n",
       " '여성연령대_40_직장_인구_수',\n",
       " '여성연령대_50_직장_인구_수',\n",
       " '여성연령대_60_이상_직장_인구_수',\n",
       " '점포_수',\n",
       " '유사_업종_점포_수',\n",
       " '개업_율',\n",
       " '개업_점포_수',\n",
       " '폐업_률',\n",
       " '폐업_점포_수',\n",
       " '프랜차이즈_점포_수',\n",
       " '아파트_단지_수',\n",
       " '아파트_면적_66_제곱미터_미만_세대_수',\n",
       " '아파트_면적_66_제곱미터_세대_수',\n",
       " '아파트_면적_99_제곱미터_세대_수',\n",
       " '아파트_면적_132_제곱미터_세대_수',\n",
       " '아파트_면적_165_제곱미터_세대_수',\n",
       " '아파트_가격_1_억_미만_세대_수',\n",
       " '아파트_가격_1_억_세대_수',\n",
       " '아파트_가격_2_억_세대_수',\n",
       " '아파트_가격_3_억_세대_수',\n",
       " '아파트_가격_4_억_세대_수',\n",
       " '아파트_가격_5_억_세대_수',\n",
       " '아파트_가격_6_억_이상_세대_수',\n",
       " '아파트_평균_면적',\n",
       " '아파트_평균_시가',\n",
       " '월_평균_소득_금액',\n",
       " '소득_구간_코드',\n",
       " '지출_총금액',\n",
       " '식료품_지출_총금액',\n",
       " '의류_신발_지출_총금액',\n",
       " '생활용품_지출_총금액',\n",
       " '의료비_지출_총금액',\n",
       " '교통_지출_총금액',\n",
       " '교육_지출_총금액',\n",
       " '유흥_지출_총금액',\n",
       " '여가_문화_지출_총금액',\n",
       " '기타_지출_총금액',\n",
       " '음식_지출_총금액',\n",
       " '총_상주인구_수',\n",
       " '남성_상주인구_수',\n",
       " '여성_상주인구_수',\n",
       " '연령대_10_상주인구_수',\n",
       " '연령대_20_상주인구_수',\n",
       " '연령대_30_상주인구_수',\n",
       " '연령대_40_상주인구_수',\n",
       " '연령대_50_상주인구_수',\n",
       " '연령대_60_이상_상주인구_수',\n",
       " '남성연령대_10_상주인구_수',\n",
       " '남성연령대_20_상주인구_수',\n",
       " '남성연령대_30_상주인구_수',\n",
       " '남성연령대_40_상주인구_수',\n",
       " '남성연령대_50_상주인구_수',\n",
       " '남성연령대_60_이상_상주인구_수',\n",
       " '여성연령대_10_상주인구_수',\n",
       " '여성연령대_20_상주인구_수',\n",
       " '여성연령대_30_상주인구_수',\n",
       " '여성연령대_40_상주인구_수',\n",
       " '여성연령대_50_상주인구_수',\n",
       " '여성연령대_60_이상_상주인구_수',\n",
       " '총_가구_수',\n",
       " '아파트_가구_수',\n",
       " '비_아파트_가구_수',\n",
       " '총_유동인구_수',\n",
       " '남성_유동인구_수',\n",
       " '여성_유동인구_수',\n",
       " '연령대_10_유동인구_수',\n",
       " '연령대_20_유동인구_수',\n",
       " '연령대_30_유동인구_수',\n",
       " '연령대_40_유동인구_수',\n",
       " '연령대_50_유동인구_수',\n",
       " '연령대_60_이상_유동인구_수',\n",
       " '시간대_00_06_유동인구_수',\n",
       " '시간대_06_11_유동인구_수',\n",
       " '시간대_11_14_유동인구_수',\n",
       " '시간대_14_17_유동인구_수',\n",
       " '시간대_17_21_유동인구_수',\n",
       " '시간대_21_24_유동인구_수',\n",
       " '월요일_유동인구_수',\n",
       " '화요일_유동인구_수',\n",
       " '수요일_유동인구_수',\n",
       " '목요일_유동인구_수',\n",
       " '금요일_유동인구_수',\n",
       " '토요일_유동인구_수',\n",
       " '일요일_유동인구_수',\n",
       " '점포별_평균_매출_금액',\n",
       " '분기',\n",
       " '코로나_여부',\n",
       " '점포별_예상_평균_매출_금액',\n",
       " '전년도_점포별_평균_매출_금액']"
      ]
     },
     "execution_count": 103,
     "metadata": {},
     "output_type": "execute_result"
    }
   ],
   "source": [
    "predict.columns.to_list()"
   ]
  },
  {
   "cell_type": "code",
   "execution_count": 104,
   "metadata": {},
   "outputs": [
    {
     "data": {
      "text/html": [
       "<div>\n",
       "<style scoped>\n",
       "    .dataframe tbody tr th:only-of-type {\n",
       "        vertical-align: middle;\n",
       "    }\n",
       "\n",
       "    .dataframe tbody tr th {\n",
       "        vertical-align: top;\n",
       "    }\n",
       "\n",
       "    .dataframe thead th {\n",
       "        text-align: right;\n",
       "    }\n",
       "</style>\n",
       "<table border=\"1\" class=\"dataframe\">\n",
       "  <thead>\n",
       "    <tr style=\"text-align: right;\">\n",
       "      <th></th>\n",
       "      <th>기준_년분기_코드</th>\n",
       "      <th>행정동_코드</th>\n",
       "      <th>행정동_코드_명</th>\n",
       "      <th>서비스_업종_코드</th>\n",
       "      <th>서비스_업종_코드_명</th>\n",
       "      <th>집객시설_수</th>\n",
       "      <th>관공서_수</th>\n",
       "      <th>은행_수</th>\n",
       "      <th>종합병원_수</th>\n",
       "      <th>일반_병원_수</th>\n",
       "      <th>약국_수</th>\n",
       "      <th>유치원_수</th>\n",
       "      <th>초등학교_수</th>\n",
       "      <th>중학교_수</th>\n",
       "      <th>고등학교_수</th>\n",
       "      <th>대학교_수</th>\n",
       "      <th>백화점_수</th>\n",
       "      <th>슈퍼마켓_수</th>\n",
       "      <th>극장_수</th>\n",
       "      <th>숙박_시설_수</th>\n",
       "      <th>공항_수</th>\n",
       "      <th>철도_역_수</th>\n",
       "      <th>버스_터미널_수</th>\n",
       "      <th>지하철_역_수</th>\n",
       "      <th>버스_정거장_수</th>\n",
       "      <th>총_직장_인구_수</th>\n",
       "      <th>남성_직장_인구_수</th>\n",
       "      <th>여성_직장_인구_수</th>\n",
       "      <th>연령대_10_직장_인구_수</th>\n",
       "      <th>연령대_20_직장_인구_수</th>\n",
       "      <th>연령대_30_직장_인구_수</th>\n",
       "      <th>연령대_40_직장_인구_수</th>\n",
       "      <th>연령대_50_직장_인구_수</th>\n",
       "      <th>연령대_60_이상_직장_인구_수</th>\n",
       "      <th>남성연령대_10_직장_인구_수</th>\n",
       "      <th>남성연령대_20_직장_인구_수</th>\n",
       "      <th>남성연령대_30_직장_인구_수</th>\n",
       "      <th>남성연령대_40_직장_인구_수</th>\n",
       "      <th>남성연령대_50_직장_인구_수</th>\n",
       "      <th>남성연령대_60_이상_직장_인구_수</th>\n",
       "      <th>여성연령대_10_직장_인구_수</th>\n",
       "      <th>여성연령대_20_직장_인구_수</th>\n",
       "      <th>여성연령대_30_직장_인구_수</th>\n",
       "      <th>여성연령대_40_직장_인구_수</th>\n",
       "      <th>여성연령대_50_직장_인구_수</th>\n",
       "      <th>여성연령대_60_이상_직장_인구_수</th>\n",
       "      <th>점포_수</th>\n",
       "      <th>유사_업종_점포_수</th>\n",
       "      <th>개업_율</th>\n",
       "      <th>개업_점포_수</th>\n",
       "      <th>폐업_률</th>\n",
       "      <th>폐업_점포_수</th>\n",
       "      <th>프랜차이즈_점포_수</th>\n",
       "      <th>아파트_단지_수</th>\n",
       "      <th>아파트_면적_66_제곱미터_미만_세대_수</th>\n",
       "      <th>아파트_면적_66_제곱미터_세대_수</th>\n",
       "      <th>아파트_면적_99_제곱미터_세대_수</th>\n",
       "      <th>아파트_면적_132_제곱미터_세대_수</th>\n",
       "      <th>아파트_면적_165_제곱미터_세대_수</th>\n",
       "      <th>아파트_가격_1_억_미만_세대_수</th>\n",
       "      <th>아파트_가격_1_억_세대_수</th>\n",
       "      <th>아파트_가격_2_억_세대_수</th>\n",
       "      <th>아파트_가격_3_억_세대_수</th>\n",
       "      <th>아파트_가격_4_억_세대_수</th>\n",
       "      <th>아파트_가격_5_억_세대_수</th>\n",
       "      <th>아파트_가격_6_억_이상_세대_수</th>\n",
       "      <th>아파트_평균_면적</th>\n",
       "      <th>아파트_평균_시가</th>\n",
       "      <th>월_평균_소득_금액</th>\n",
       "      <th>소득_구간_코드</th>\n",
       "      <th>지출_총금액</th>\n",
       "      <th>식료품_지출_총금액</th>\n",
       "      <th>의류_신발_지출_총금액</th>\n",
       "      <th>생활용품_지출_총금액</th>\n",
       "      <th>의료비_지출_총금액</th>\n",
       "      <th>교통_지출_총금액</th>\n",
       "      <th>교육_지출_총금액</th>\n",
       "      <th>유흥_지출_총금액</th>\n",
       "      <th>여가_문화_지출_총금액</th>\n",
       "      <th>기타_지출_총금액</th>\n",
       "      <th>음식_지출_총금액</th>\n",
       "      <th>총_상주인구_수</th>\n",
       "      <th>남성_상주인구_수</th>\n",
       "      <th>여성_상주인구_수</th>\n",
       "      <th>연령대_10_상주인구_수</th>\n",
       "      <th>연령대_20_상주인구_수</th>\n",
       "      <th>연령대_30_상주인구_수</th>\n",
       "      <th>연령대_40_상주인구_수</th>\n",
       "      <th>연령대_50_상주인구_수</th>\n",
       "      <th>연령대_60_이상_상주인구_수</th>\n",
       "      <th>남성연령대_10_상주인구_수</th>\n",
       "      <th>남성연령대_20_상주인구_수</th>\n",
       "      <th>남성연령대_30_상주인구_수</th>\n",
       "      <th>남성연령대_40_상주인구_수</th>\n",
       "      <th>남성연령대_50_상주인구_수</th>\n",
       "      <th>남성연령대_60_이상_상주인구_수</th>\n",
       "      <th>여성연령대_10_상주인구_수</th>\n",
       "      <th>여성연령대_20_상주인구_수</th>\n",
       "      <th>여성연령대_30_상주인구_수</th>\n",
       "      <th>여성연령대_40_상주인구_수</th>\n",
       "      <th>여성연령대_50_상주인구_수</th>\n",
       "      <th>여성연령대_60_이상_상주인구_수</th>\n",
       "      <th>총_가구_수</th>\n",
       "      <th>아파트_가구_수</th>\n",
       "      <th>비_아파트_가구_수</th>\n",
       "      <th>총_유동인구_수</th>\n",
       "      <th>남성_유동인구_수</th>\n",
       "      <th>여성_유동인구_수</th>\n",
       "      <th>연령대_10_유동인구_수</th>\n",
       "      <th>연령대_20_유동인구_수</th>\n",
       "      <th>연령대_30_유동인구_수</th>\n",
       "      <th>연령대_40_유동인구_수</th>\n",
       "      <th>연령대_50_유동인구_수</th>\n",
       "      <th>연령대_60_이상_유동인구_수</th>\n",
       "      <th>시간대_00_06_유동인구_수</th>\n",
       "      <th>시간대_06_11_유동인구_수</th>\n",
       "      <th>시간대_11_14_유동인구_수</th>\n",
       "      <th>시간대_14_17_유동인구_수</th>\n",
       "      <th>시간대_17_21_유동인구_수</th>\n",
       "      <th>시간대_21_24_유동인구_수</th>\n",
       "      <th>월요일_유동인구_수</th>\n",
       "      <th>화요일_유동인구_수</th>\n",
       "      <th>수요일_유동인구_수</th>\n",
       "      <th>목요일_유동인구_수</th>\n",
       "      <th>금요일_유동인구_수</th>\n",
       "      <th>토요일_유동인구_수</th>\n",
       "      <th>일요일_유동인구_수</th>\n",
       "      <th>점포별_평균_매출_금액</th>\n",
       "      <th>분기</th>\n",
       "      <th>코로나_여부</th>\n",
       "      <th>점포별_예상_평균_매출_금액</th>\n",
       "      <th>전년도_점포별_평균_매출_금액</th>\n",
       "    </tr>\n",
       "  </thead>\n",
       "  <tbody>\n",
       "    <tr>\n",
       "      <th>24879</th>\n",
       "      <td>20201</td>\n",
       "      <td>11740700</td>\n",
       "      <td>둔촌2동</td>\n",
       "      <td>CS300022</td>\n",
       "      <td>화장품</td>\n",
       "      <td>129.0</td>\n",
       "      <td>5.0</td>\n",
       "      <td>4.0</td>\n",
       "      <td>1.0</td>\n",
       "      <td>0.0</td>\n",
       "      <td>17.0</td>\n",
       "      <td>2.0</td>\n",
       "      <td>1.0</td>\n",
       "      <td>2.0</td>\n",
       "      <td>1.0</td>\n",
       "      <td>0.0</td>\n",
       "      <td>0.0</td>\n",
       "      <td>0.0</td>\n",
       "      <td>0.0</td>\n",
       "      <td>0.0</td>\n",
       "      <td>0.0</td>\n",
       "      <td>0.0</td>\n",
       "      <td>0.0</td>\n",
       "      <td>1.0</td>\n",
       "      <td>32.0</td>\n",
       "      <td>4961</td>\n",
       "      <td>2239</td>\n",
       "      <td>2722</td>\n",
       "      <td>4</td>\n",
       "      <td>946</td>\n",
       "      <td>1293</td>\n",
       "      <td>1058</td>\n",
       "      <td>1026</td>\n",
       "      <td>634</td>\n",
       "      <td>2</td>\n",
       "      <td>281</td>\n",
       "      <td>537</td>\n",
       "      <td>526</td>\n",
       "      <td>489</td>\n",
       "      <td>404</td>\n",
       "      <td>2</td>\n",
       "      <td>665</td>\n",
       "      <td>756</td>\n",
       "      <td>532</td>\n",
       "      <td>537</td>\n",
       "      <td>230</td>\n",
       "      <td>21</td>\n",
       "      <td>21</td>\n",
       "      <td>5</td>\n",
       "      <td>1</td>\n",
       "      <td>0</td>\n",
       "      <td>0</td>\n",
       "      <td>0</td>\n",
       "      <td>315</td>\n",
       "      <td>3013.0</td>\n",
       "      <td>3387.0</td>\n",
       "      <td>734.0</td>\n",
       "      <td>72.0</td>\n",
       "      <td>21.0</td>\n",
       "      <td>352.0</td>\n",
       "      <td>1196.0</td>\n",
       "      <td>940.0</td>\n",
       "      <td>1477.0</td>\n",
       "      <td>2131.0</td>\n",
       "      <td>902.0</td>\n",
       "      <td>229.0</td>\n",
       "      <td>58</td>\n",
       "      <td>221824698</td>\n",
       "      <td>3414406</td>\n",
       "      <td>7</td>\n",
       "      <td>3085277000</td>\n",
       "      <td>718841000</td>\n",
       "      <td>67222000</td>\n",
       "      <td>65955000</td>\n",
       "      <td>426691000</td>\n",
       "      <td>269773000</td>\n",
       "      <td>110717000</td>\n",
       "      <td>68497000</td>\n",
       "      <td>244395000</td>\n",
       "      <td>195013000</td>\n",
       "      <td>918173000</td>\n",
       "      <td>27648</td>\n",
       "      <td>13656</td>\n",
       "      <td>13992</td>\n",
       "      <td>4390</td>\n",
       "      <td>4034</td>\n",
       "      <td>4074</td>\n",
       "      <td>4098</td>\n",
       "      <td>4694</td>\n",
       "      <td>6358</td>\n",
       "      <td>2331</td>\n",
       "      <td>2053</td>\n",
       "      <td>2051</td>\n",
       "      <td>2006</td>\n",
       "      <td>2235</td>\n",
       "      <td>2980</td>\n",
       "      <td>2059</td>\n",
       "      <td>1981</td>\n",
       "      <td>2023</td>\n",
       "      <td>2092</td>\n",
       "      <td>2459</td>\n",
       "      <td>3378</td>\n",
       "      <td>11207</td>\n",
       "      <td>0</td>\n",
       "      <td>11207</td>\n",
       "      <td>8380409</td>\n",
       "      <td>3952569</td>\n",
       "      <td>4427840</td>\n",
       "      <td>1335295</td>\n",
       "      <td>1030726</td>\n",
       "      <td>1203198</td>\n",
       "      <td>1279709</td>\n",
       "      <td>1284437</td>\n",
       "      <td>2247043</td>\n",
       "      <td>2413784</td>\n",
       "      <td>1796196</td>\n",
       "      <td>939968</td>\n",
       "      <td>885132</td>\n",
       "      <td>1240164</td>\n",
       "      <td>1105166</td>\n",
       "      <td>1210677</td>\n",
       "      <td>1207439</td>\n",
       "      <td>1206174</td>\n",
       "      <td>1198812</td>\n",
       "      <td>1193427</td>\n",
       "      <td>1167601</td>\n",
       "      <td>1196278</td>\n",
       "      <td>2.212738e+06</td>\n",
       "      <td>1</td>\n",
       "      <td>1</td>\n",
       "      <td>2.237292e+06</td>\n",
       "      <td>9.915935e+07</td>\n",
       "    </tr>\n",
       "    <tr>\n",
       "      <th>31823</th>\n",
       "      <td>20202</td>\n",
       "      <td>11740700</td>\n",
       "      <td>둔촌2동</td>\n",
       "      <td>CS300022</td>\n",
       "      <td>화장품</td>\n",
       "      <td>129.0</td>\n",
       "      <td>5.0</td>\n",
       "      <td>4.0</td>\n",
       "      <td>1.0</td>\n",
       "      <td>0.0</td>\n",
       "      <td>17.0</td>\n",
       "      <td>2.0</td>\n",
       "      <td>1.0</td>\n",
       "      <td>2.0</td>\n",
       "      <td>1.0</td>\n",
       "      <td>0.0</td>\n",
       "      <td>0.0</td>\n",
       "      <td>0.0</td>\n",
       "      <td>0.0</td>\n",
       "      <td>0.0</td>\n",
       "      <td>0.0</td>\n",
       "      <td>0.0</td>\n",
       "      <td>0.0</td>\n",
       "      <td>1.0</td>\n",
       "      <td>32.0</td>\n",
       "      <td>4961</td>\n",
       "      <td>2239</td>\n",
       "      <td>2722</td>\n",
       "      <td>4</td>\n",
       "      <td>946</td>\n",
       "      <td>1293</td>\n",
       "      <td>1058</td>\n",
       "      <td>1026</td>\n",
       "      <td>634</td>\n",
       "      <td>2</td>\n",
       "      <td>281</td>\n",
       "      <td>537</td>\n",
       "      <td>526</td>\n",
       "      <td>489</td>\n",
       "      <td>404</td>\n",
       "      <td>2</td>\n",
       "      <td>665</td>\n",
       "      <td>756</td>\n",
       "      <td>532</td>\n",
       "      <td>537</td>\n",
       "      <td>230</td>\n",
       "      <td>22</td>\n",
       "      <td>22</td>\n",
       "      <td>5</td>\n",
       "      <td>1</td>\n",
       "      <td>0</td>\n",
       "      <td>0</td>\n",
       "      <td>0</td>\n",
       "      <td>315</td>\n",
       "      <td>3013.0</td>\n",
       "      <td>3387.0</td>\n",
       "      <td>734.0</td>\n",
       "      <td>72.0</td>\n",
       "      <td>21.0</td>\n",
       "      <td>352.0</td>\n",
       "      <td>1196.0</td>\n",
       "      <td>940.0</td>\n",
       "      <td>1477.0</td>\n",
       "      <td>2131.0</td>\n",
       "      <td>902.0</td>\n",
       "      <td>229.0</td>\n",
       "      <td>58</td>\n",
       "      <td>221824698</td>\n",
       "      <td>3414406</td>\n",
       "      <td>7</td>\n",
       "      <td>3587473000</td>\n",
       "      <td>801015000</td>\n",
       "      <td>83738000</td>\n",
       "      <td>33420000</td>\n",
       "      <td>496714000</td>\n",
       "      <td>389007000</td>\n",
       "      <td>100746000</td>\n",
       "      <td>70200000</td>\n",
       "      <td>294387000</td>\n",
       "      <td>216320000</td>\n",
       "      <td>1101926000</td>\n",
       "      <td>27648</td>\n",
       "      <td>13656</td>\n",
       "      <td>13992</td>\n",
       "      <td>4390</td>\n",
       "      <td>4034</td>\n",
       "      <td>4074</td>\n",
       "      <td>4098</td>\n",
       "      <td>4694</td>\n",
       "      <td>6358</td>\n",
       "      <td>2331</td>\n",
       "      <td>2053</td>\n",
       "      <td>2051</td>\n",
       "      <td>2006</td>\n",
       "      <td>2235</td>\n",
       "      <td>2980</td>\n",
       "      <td>2059</td>\n",
       "      <td>1981</td>\n",
       "      <td>2023</td>\n",
       "      <td>2092</td>\n",
       "      <td>2459</td>\n",
       "      <td>3378</td>\n",
       "      <td>11207</td>\n",
       "      <td>0</td>\n",
       "      <td>11207</td>\n",
       "      <td>7665678</td>\n",
       "      <td>3599425</td>\n",
       "      <td>4066255</td>\n",
       "      <td>1277072</td>\n",
       "      <td>931390</td>\n",
       "      <td>1075731</td>\n",
       "      <td>1182969</td>\n",
       "      <td>1177540</td>\n",
       "      <td>2020977</td>\n",
       "      <td>2196573</td>\n",
       "      <td>1630535</td>\n",
       "      <td>858774</td>\n",
       "      <td>819626</td>\n",
       "      <td>1145253</td>\n",
       "      <td>1014917</td>\n",
       "      <td>1112331</td>\n",
       "      <td>1100605</td>\n",
       "      <td>1102107</td>\n",
       "      <td>1095843</td>\n",
       "      <td>1095512</td>\n",
       "      <td>1068686</td>\n",
       "      <td>1090595</td>\n",
       "      <td>2.237292e+06</td>\n",
       "      <td>2</td>\n",
       "      <td>1</td>\n",
       "      <td>1.237453e+06</td>\n",
       "      <td>1.137505e+06</td>\n",
       "    </tr>\n",
       "    <tr>\n",
       "      <th>85594</th>\n",
       "      <td>20223</td>\n",
       "      <td>11740700</td>\n",
       "      <td>둔촌2동</td>\n",
       "      <td>CS300022</td>\n",
       "      <td>화장품</td>\n",
       "      <td>129.0</td>\n",
       "      <td>5.0</td>\n",
       "      <td>4.0</td>\n",
       "      <td>1.0</td>\n",
       "      <td>0.0</td>\n",
       "      <td>17.0</td>\n",
       "      <td>2.0</td>\n",
       "      <td>1.0</td>\n",
       "      <td>2.0</td>\n",
       "      <td>1.0</td>\n",
       "      <td>0.0</td>\n",
       "      <td>0.0</td>\n",
       "      <td>0.0</td>\n",
       "      <td>0.0</td>\n",
       "      <td>0.0</td>\n",
       "      <td>0.0</td>\n",
       "      <td>0.0</td>\n",
       "      <td>0.0</td>\n",
       "      <td>1.0</td>\n",
       "      <td>32.0</td>\n",
       "      <td>4961</td>\n",
       "      <td>2239</td>\n",
       "      <td>2722</td>\n",
       "      <td>4</td>\n",
       "      <td>946</td>\n",
       "      <td>1293</td>\n",
       "      <td>1058</td>\n",
       "      <td>1026</td>\n",
       "      <td>634</td>\n",
       "      <td>2</td>\n",
       "      <td>281</td>\n",
       "      <td>537</td>\n",
       "      <td>526</td>\n",
       "      <td>489</td>\n",
       "      <td>404</td>\n",
       "      <td>2</td>\n",
       "      <td>665</td>\n",
       "      <td>756</td>\n",
       "      <td>532</td>\n",
       "      <td>537</td>\n",
       "      <td>230</td>\n",
       "      <td>19</td>\n",
       "      <td>19</td>\n",
       "      <td>5</td>\n",
       "      <td>1</td>\n",
       "      <td>0</td>\n",
       "      <td>0</td>\n",
       "      <td>0</td>\n",
       "      <td>319</td>\n",
       "      <td>2006.0</td>\n",
       "      <td>814.0</td>\n",
       "      <td>127.0</td>\n",
       "      <td>28.0</td>\n",
       "      <td>15.0</td>\n",
       "      <td>223.0</td>\n",
       "      <td>1073.0</td>\n",
       "      <td>821.0</td>\n",
       "      <td>226.0</td>\n",
       "      <td>135.0</td>\n",
       "      <td>153.0</td>\n",
       "      <td>359.0</td>\n",
       "      <td>56</td>\n",
       "      <td>260893962</td>\n",
       "      <td>3414406</td>\n",
       "      <td>7</td>\n",
       "      <td>4695661000</td>\n",
       "      <td>845851000</td>\n",
       "      <td>39357000</td>\n",
       "      <td>134112000</td>\n",
       "      <td>539514000</td>\n",
       "      <td>1076350000</td>\n",
       "      <td>148722000</td>\n",
       "      <td>50079000</td>\n",
       "      <td>367439000</td>\n",
       "      <td>302385000</td>\n",
       "      <td>1191852000</td>\n",
       "      <td>26347</td>\n",
       "      <td>12961</td>\n",
       "      <td>13386</td>\n",
       "      <td>4011</td>\n",
       "      <td>3746</td>\n",
       "      <td>3861</td>\n",
       "      <td>3901</td>\n",
       "      <td>4390</td>\n",
       "      <td>6438</td>\n",
       "      <td>2095</td>\n",
       "      <td>1883</td>\n",
       "      <td>1967</td>\n",
       "      <td>1950</td>\n",
       "      <td>2073</td>\n",
       "      <td>2993</td>\n",
       "      <td>1916</td>\n",
       "      <td>1863</td>\n",
       "      <td>1894</td>\n",
       "      <td>1951</td>\n",
       "      <td>2317</td>\n",
       "      <td>3445</td>\n",
       "      <td>11040</td>\n",
       "      <td>0</td>\n",
       "      <td>11040</td>\n",
       "      <td>7207926</td>\n",
       "      <td>3453547</td>\n",
       "      <td>3754381</td>\n",
       "      <td>1434797</td>\n",
       "      <td>824163</td>\n",
       "      <td>1002688</td>\n",
       "      <td>1103788</td>\n",
       "      <td>1079809</td>\n",
       "      <td>1762683</td>\n",
       "      <td>1974000</td>\n",
       "      <td>1533641</td>\n",
       "      <td>832698</td>\n",
       "      <td>804353</td>\n",
       "      <td>1125352</td>\n",
       "      <td>937882</td>\n",
       "      <td>1041698</td>\n",
       "      <td>1037398</td>\n",
       "      <td>1036839</td>\n",
       "      <td>1027223</td>\n",
       "      <td>1023786</td>\n",
       "      <td>1003354</td>\n",
       "      <td>1037629</td>\n",
       "      <td>1.237453e+06</td>\n",
       "      <td>3</td>\n",
       "      <td>0</td>\n",
       "      <td>1.599651e+06</td>\n",
       "      <td>1.626892e+06</td>\n",
       "    </tr>\n",
       "    <tr>\n",
       "      <th>93138</th>\n",
       "      <td>20224</td>\n",
       "      <td>11740700</td>\n",
       "      <td>둔촌2동</td>\n",
       "      <td>CS300022</td>\n",
       "      <td>화장품</td>\n",
       "      <td>129.0</td>\n",
       "      <td>5.0</td>\n",
       "      <td>4.0</td>\n",
       "      <td>1.0</td>\n",
       "      <td>0.0</td>\n",
       "      <td>17.0</td>\n",
       "      <td>2.0</td>\n",
       "      <td>1.0</td>\n",
       "      <td>2.0</td>\n",
       "      <td>1.0</td>\n",
       "      <td>0.0</td>\n",
       "      <td>0.0</td>\n",
       "      <td>0.0</td>\n",
       "      <td>0.0</td>\n",
       "      <td>0.0</td>\n",
       "      <td>0.0</td>\n",
       "      <td>0.0</td>\n",
       "      <td>0.0</td>\n",
       "      <td>1.0</td>\n",
       "      <td>32.0</td>\n",
       "      <td>4961</td>\n",
       "      <td>2239</td>\n",
       "      <td>2722</td>\n",
       "      <td>4</td>\n",
       "      <td>946</td>\n",
       "      <td>1293</td>\n",
       "      <td>1058</td>\n",
       "      <td>1026</td>\n",
       "      <td>634</td>\n",
       "      <td>2</td>\n",
       "      <td>281</td>\n",
       "      <td>537</td>\n",
       "      <td>526</td>\n",
       "      <td>489</td>\n",
       "      <td>404</td>\n",
       "      <td>2</td>\n",
       "      <td>665</td>\n",
       "      <td>756</td>\n",
       "      <td>532</td>\n",
       "      <td>537</td>\n",
       "      <td>230</td>\n",
       "      <td>19</td>\n",
       "      <td>19</td>\n",
       "      <td>0</td>\n",
       "      <td>0</td>\n",
       "      <td>0</td>\n",
       "      <td>0</td>\n",
       "      <td>0</td>\n",
       "      <td>316</td>\n",
       "      <td>1990.0</td>\n",
       "      <td>814.0</td>\n",
       "      <td>127.0</td>\n",
       "      <td>27.0</td>\n",
       "      <td>15.0</td>\n",
       "      <td>216.0</td>\n",
       "      <td>1064.0</td>\n",
       "      <td>821.0</td>\n",
       "      <td>226.0</td>\n",
       "      <td>134.0</td>\n",
       "      <td>153.0</td>\n",
       "      <td>359.0</td>\n",
       "      <td>56</td>\n",
       "      <td>261960069</td>\n",
       "      <td>3414406</td>\n",
       "      <td>7</td>\n",
       "      <td>4427448000</td>\n",
       "      <td>759666000</td>\n",
       "      <td>64448000</td>\n",
       "      <td>138587000</td>\n",
       "      <td>549551000</td>\n",
       "      <td>868182000</td>\n",
       "      <td>144366000</td>\n",
       "      <td>54328000</td>\n",
       "      <td>294228000</td>\n",
       "      <td>343935000</td>\n",
       "      <td>1210157000</td>\n",
       "      <td>27231</td>\n",
       "      <td>13469</td>\n",
       "      <td>13762</td>\n",
       "      <td>3510</td>\n",
       "      <td>3339</td>\n",
       "      <td>4023</td>\n",
       "      <td>4101</td>\n",
       "      <td>4361</td>\n",
       "      <td>7897</td>\n",
       "      <td>1861</td>\n",
       "      <td>1709</td>\n",
       "      <td>2034</td>\n",
       "      <td>2057</td>\n",
       "      <td>2121</td>\n",
       "      <td>3687</td>\n",
       "      <td>1649</td>\n",
       "      <td>1630</td>\n",
       "      <td>1989</td>\n",
       "      <td>2044</td>\n",
       "      <td>2240</td>\n",
       "      <td>4210</td>\n",
       "      <td>11040</td>\n",
       "      <td>0</td>\n",
       "      <td>11040</td>\n",
       "      <td>7231008</td>\n",
       "      <td>3480010</td>\n",
       "      <td>3750998</td>\n",
       "      <td>1448815</td>\n",
       "      <td>794058</td>\n",
       "      <td>1007546</td>\n",
       "      <td>1128650</td>\n",
       "      <td>1079638</td>\n",
       "      <td>1772302</td>\n",
       "      <td>1968501</td>\n",
       "      <td>1546734</td>\n",
       "      <td>839600</td>\n",
       "      <td>807022</td>\n",
       "      <td>1127123</td>\n",
       "      <td>942028</td>\n",
       "      <td>1046758</td>\n",
       "      <td>1042309</td>\n",
       "      <td>1039580</td>\n",
       "      <td>1030150</td>\n",
       "      <td>1026744</td>\n",
       "      <td>1008563</td>\n",
       "      <td>1036903</td>\n",
       "      <td>1.599651e+06</td>\n",
       "      <td>4</td>\n",
       "      <td>0</td>\n",
       "      <td>NaN</td>\n",
       "      <td>2.212738e+06</td>\n",
       "    </tr>\n",
       "  </tbody>\n",
       "</table>\n",
       "</div>"
      ],
      "text/plain": [
       "       기준_년분기_코드    행정동_코드 행정동_코드_명 서비스_업종_코드 서비스_업종_코드_명  집객시설_수  관공서_수  \\\n",
       "24879      20201  11740700     둔촌2동  CS300022         화장품   129.0    5.0   \n",
       "31823      20202  11740700     둔촌2동  CS300022         화장품   129.0    5.0   \n",
       "85594      20223  11740700     둔촌2동  CS300022         화장품   129.0    5.0   \n",
       "93138      20224  11740700     둔촌2동  CS300022         화장품   129.0    5.0   \n",
       "\n",
       "       은행_수  종합병원_수  일반_병원_수  약국_수  유치원_수  초등학교_수  중학교_수  고등학교_수  대학교_수  \\\n",
       "24879   4.0     1.0      0.0  17.0    2.0     1.0    2.0     1.0    0.0   \n",
       "31823   4.0     1.0      0.0  17.0    2.0     1.0    2.0     1.0    0.0   \n",
       "85594   4.0     1.0      0.0  17.0    2.0     1.0    2.0     1.0    0.0   \n",
       "93138   4.0     1.0      0.0  17.0    2.0     1.0    2.0     1.0    0.0   \n",
       "\n",
       "       백화점_수  슈퍼마켓_수  극장_수  숙박_시설_수  공항_수  철도_역_수  버스_터미널_수  지하철_역_수  \\\n",
       "24879    0.0     0.0   0.0      0.0   0.0     0.0       0.0      1.0   \n",
       "31823    0.0     0.0   0.0      0.0   0.0     0.0       0.0      1.0   \n",
       "85594    0.0     0.0   0.0      0.0   0.0     0.0       0.0      1.0   \n",
       "93138    0.0     0.0   0.0      0.0   0.0     0.0       0.0      1.0   \n",
       "\n",
       "       버스_정거장_수  총_직장_인구_수  남성_직장_인구_수  여성_직장_인구_수  연령대_10_직장_인구_수  \\\n",
       "24879      32.0       4961        2239        2722               4   \n",
       "31823      32.0       4961        2239        2722               4   \n",
       "85594      32.0       4961        2239        2722               4   \n",
       "93138      32.0       4961        2239        2722               4   \n",
       "\n",
       "       연령대_20_직장_인구_수  연령대_30_직장_인구_수  연령대_40_직장_인구_수  연령대_50_직장_인구_수  \\\n",
       "24879             946            1293            1058            1026   \n",
       "31823             946            1293            1058            1026   \n",
       "85594             946            1293            1058            1026   \n",
       "93138             946            1293            1058            1026   \n",
       "\n",
       "       연령대_60_이상_직장_인구_수  남성연령대_10_직장_인구_수  남성연령대_20_직장_인구_수  \\\n",
       "24879                634                 2               281   \n",
       "31823                634                 2               281   \n",
       "85594                634                 2               281   \n",
       "93138                634                 2               281   \n",
       "\n",
       "       남성연령대_30_직장_인구_수  남성연령대_40_직장_인구_수  남성연령대_50_직장_인구_수  \\\n",
       "24879               537               526               489   \n",
       "31823               537               526               489   \n",
       "85594               537               526               489   \n",
       "93138               537               526               489   \n",
       "\n",
       "       남성연령대_60_이상_직장_인구_수  여성연령대_10_직장_인구_수  여성연령대_20_직장_인구_수  \\\n",
       "24879                  404                 2               665   \n",
       "31823                  404                 2               665   \n",
       "85594                  404                 2               665   \n",
       "93138                  404                 2               665   \n",
       "\n",
       "       여성연령대_30_직장_인구_수  여성연령대_40_직장_인구_수  여성연령대_50_직장_인구_수  \\\n",
       "24879               756               532               537   \n",
       "31823               756               532               537   \n",
       "85594               756               532               537   \n",
       "93138               756               532               537   \n",
       "\n",
       "       여성연령대_60_이상_직장_인구_수  점포_수  유사_업종_점포_수  개업_율  개업_점포_수  폐업_률  폐업_점포_수  \\\n",
       "24879                  230    21          21     5        1     0        0   \n",
       "31823                  230    22          22     5        1     0        0   \n",
       "85594                  230    19          19     5        1     0        0   \n",
       "93138                  230    19          19     0        0     0        0   \n",
       "\n",
       "       프랜차이즈_점포_수  아파트_단지_수  아파트_면적_66_제곱미터_미만_세대_수  아파트_면적_66_제곱미터_세대_수  \\\n",
       "24879           0       315                  3013.0               3387.0   \n",
       "31823           0       315                  3013.0               3387.0   \n",
       "85594           0       319                  2006.0                814.0   \n",
       "93138           0       316                  1990.0                814.0   \n",
       "\n",
       "       아파트_면적_99_제곱미터_세대_수  아파트_면적_132_제곱미터_세대_수  아파트_면적_165_제곱미터_세대_수  \\\n",
       "24879                734.0                  72.0                  21.0   \n",
       "31823                734.0                  72.0                  21.0   \n",
       "85594                127.0                  28.0                  15.0   \n",
       "93138                127.0                  27.0                  15.0   \n",
       "\n",
       "       아파트_가격_1_억_미만_세대_수  아파트_가격_1_억_세대_수  아파트_가격_2_억_세대_수  아파트_가격_3_억_세대_수  \\\n",
       "24879               352.0           1196.0            940.0           1477.0   \n",
       "31823               352.0           1196.0            940.0           1477.0   \n",
       "85594               223.0           1073.0            821.0            226.0   \n",
       "93138               216.0           1064.0            821.0            226.0   \n",
       "\n",
       "       아파트_가격_4_억_세대_수  아파트_가격_5_억_세대_수  아파트_가격_6_억_이상_세대_수  아파트_평균_면적  \\\n",
       "24879           2131.0            902.0               229.0         58   \n",
       "31823           2131.0            902.0               229.0         58   \n",
       "85594            135.0            153.0               359.0         56   \n",
       "93138            134.0            153.0               359.0         56   \n",
       "\n",
       "       아파트_평균_시가  월_평균_소득_금액  소득_구간_코드      지출_총금액  식료품_지출_총금액  의류_신발_지출_총금액  \\\n",
       "24879  221824698     3414406         7  3085277000   718841000      67222000   \n",
       "31823  221824698     3414406         7  3587473000   801015000      83738000   \n",
       "85594  260893962     3414406         7  4695661000   845851000      39357000   \n",
       "93138  261960069     3414406         7  4427448000   759666000      64448000   \n",
       "\n",
       "       생활용품_지출_총금액  의료비_지출_총금액   교통_지출_총금액  교육_지출_총금액  유흥_지출_총금액  \\\n",
       "24879     65955000   426691000   269773000  110717000   68497000   \n",
       "31823     33420000   496714000   389007000  100746000   70200000   \n",
       "85594    134112000   539514000  1076350000  148722000   50079000   \n",
       "93138    138587000   549551000   868182000  144366000   54328000   \n",
       "\n",
       "       여가_문화_지출_총금액  기타_지출_총금액   음식_지출_총금액  총_상주인구_수  남성_상주인구_수  여성_상주인구_수  \\\n",
       "24879     244395000  195013000   918173000     27648      13656      13992   \n",
       "31823     294387000  216320000  1101926000     27648      13656      13992   \n",
       "85594     367439000  302385000  1191852000     26347      12961      13386   \n",
       "93138     294228000  343935000  1210157000     27231      13469      13762   \n",
       "\n",
       "       연령대_10_상주인구_수  연령대_20_상주인구_수  연령대_30_상주인구_수  연령대_40_상주인구_수  \\\n",
       "24879           4390           4034           4074           4098   \n",
       "31823           4390           4034           4074           4098   \n",
       "85594           4011           3746           3861           3901   \n",
       "93138           3510           3339           4023           4101   \n",
       "\n",
       "       연령대_50_상주인구_수  연령대_60_이상_상주인구_수  남성연령대_10_상주인구_수  남성연령대_20_상주인구_수  \\\n",
       "24879           4694              6358             2331             2053   \n",
       "31823           4694              6358             2331             2053   \n",
       "85594           4390              6438             2095             1883   \n",
       "93138           4361              7897             1861             1709   \n",
       "\n",
       "       남성연령대_30_상주인구_수  남성연령대_40_상주인구_수  남성연령대_50_상주인구_수  남성연령대_60_이상_상주인구_수  \\\n",
       "24879             2051             2006             2235                2980   \n",
       "31823             2051             2006             2235                2980   \n",
       "85594             1967             1950             2073                2993   \n",
       "93138             2034             2057             2121                3687   \n",
       "\n",
       "       여성연령대_10_상주인구_수  여성연령대_20_상주인구_수  여성연령대_30_상주인구_수  여성연령대_40_상주인구_수  \\\n",
       "24879             2059             1981             2023             2092   \n",
       "31823             2059             1981             2023             2092   \n",
       "85594             1916             1863             1894             1951   \n",
       "93138             1649             1630             1989             2044   \n",
       "\n",
       "       여성연령대_50_상주인구_수  여성연령대_60_이상_상주인구_수  총_가구_수  아파트_가구_수  비_아파트_가구_수  \\\n",
       "24879             2459                3378   11207         0       11207   \n",
       "31823             2459                3378   11207         0       11207   \n",
       "85594             2317                3445   11040         0       11040   \n",
       "93138             2240                4210   11040         0       11040   \n",
       "\n",
       "       총_유동인구_수  남성_유동인구_수  여성_유동인구_수  연령대_10_유동인구_수  연령대_20_유동인구_수  \\\n",
       "24879   8380409    3952569    4427840        1335295        1030726   \n",
       "31823   7665678    3599425    4066255        1277072         931390   \n",
       "85594   7207926    3453547    3754381        1434797         824163   \n",
       "93138   7231008    3480010    3750998        1448815         794058   \n",
       "\n",
       "       연령대_30_유동인구_수  연령대_40_유동인구_수  연령대_50_유동인구_수  연령대_60_이상_유동인구_수  \\\n",
       "24879        1203198        1279709        1284437           2247043   \n",
       "31823        1075731        1182969        1177540           2020977   \n",
       "85594        1002688        1103788        1079809           1762683   \n",
       "93138        1007546        1128650        1079638           1772302   \n",
       "\n",
       "       시간대_00_06_유동인구_수  시간대_06_11_유동인구_수  시간대_11_14_유동인구_수  시간대_14_17_유동인구_수  \\\n",
       "24879           2413784           1796196            939968            885132   \n",
       "31823           2196573           1630535            858774            819626   \n",
       "85594           1974000           1533641            832698            804353   \n",
       "93138           1968501           1546734            839600            807022   \n",
       "\n",
       "       시간대_17_21_유동인구_수  시간대_21_24_유동인구_수  월요일_유동인구_수  화요일_유동인구_수  수요일_유동인구_수  \\\n",
       "24879           1240164           1105166     1210677     1207439     1206174   \n",
       "31823           1145253           1014917     1112331     1100605     1102107   \n",
       "85594           1125352            937882     1041698     1037398     1036839   \n",
       "93138           1127123            942028     1046758     1042309     1039580   \n",
       "\n",
       "       목요일_유동인구_수  금요일_유동인구_수  토요일_유동인구_수  일요일_유동인구_수  점포별_평균_매출_금액  분기  \\\n",
       "24879     1198812     1193427     1167601     1196278  2.212738e+06   1   \n",
       "31823     1095843     1095512     1068686     1090595  2.237292e+06   2   \n",
       "85594     1027223     1023786     1003354     1037629  1.237453e+06   3   \n",
       "93138     1030150     1026744     1008563     1036903  1.599651e+06   4   \n",
       "\n",
       "       코로나_여부  점포별_예상_평균_매출_금액  전년도_점포별_평균_매출_금액  \n",
       "24879       1     2.237292e+06      9.915935e+07  \n",
       "31823       1     1.237453e+06      1.137505e+06  \n",
       "85594       0     1.599651e+06      1.626892e+06  \n",
       "93138       0              NaN      2.212738e+06  "
      ]
     },
     "execution_count": 104,
     "metadata": {},
     "output_type": "execute_result"
    }
   ],
   "source": [
    "predict[(predict['행정동_코드_명'] == '둔촌2동') & (predict['서비스_업종_코드_명'] == '화장품')]"
   ]
  },
  {
   "cell_type": "code",
   "execution_count": null,
   "metadata": {},
   "outputs": [],
   "source": []
  }
 ],
 "metadata": {
  "kernelspec": {
   "display_name": "Python 3",
   "language": "python",
   "name": "python3"
  },
  "language_info": {
   "codemirror_mode": {
    "name": "ipython",
    "version": 3
   },
   "file_extension": ".py",
   "mimetype": "text/x-python",
   "name": "python",
   "nbconvert_exporter": "python",
   "pygments_lexer": "ipython3",
   "version": "3.11.3"
  }
 },
 "nbformat": 4,
 "nbformat_minor": 2
}
