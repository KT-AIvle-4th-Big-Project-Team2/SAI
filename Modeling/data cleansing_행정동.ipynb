{
 "cells": [
  {
   "cell_type": "code",
   "execution_count": 1,
   "metadata": {},
   "outputs": [],
   "source": [
    "\n",
    "# 행정동 데이터 전처리요~\n"
   ]
  },
  {
   "cell_type": "code",
   "execution_count": 145,
   "metadata": {},
   "outputs": [],
   "source": [
    "import numpy as np\n",
    "import pandas as pd\n",
    "import os\n",
    "from glob import glob\n"
   ]
  },
  {
   "cell_type": "code",
   "execution_count": 146,
   "metadata": {},
   "outputs": [],
   "source": [
    "df_total=pd.DataFrame()\n",
    "\n",
    "df_거주인구=pd.DataFrame()\n",
    "df_상주인구=pd.DataFrame()\n",
    "df_생활인구=pd.DataFrame()\n",
    "df_소득소비=pd.DataFrame()\n",
    "df_아파트=pd.DataFrame()\n",
    "df_영역=pd.DataFrame()\n",
    "df_점포=pd.DataFrame()\n",
    "df_직장인구=pd.DataFrame()\n",
    "df_집객시설=pd.DataFrame()\n",
    "df_추정매출=pd.DataFrame()\n",
    "df_학교=pd.DataFrame()\n",
    "\n"
   ]
  },
  {
   "cell_type": "code",
   "execution_count": 147,
   "metadata": {},
   "outputs": [],
   "source": [
    "path='../../../big_proj/data/raw data/행정동/'\n"
   ]
  },
  {
   "cell_type": "code",
   "execution_count": 148,
   "metadata": {},
   "outputs": [
    {
     "data": {
      "text/plain": [
       "'c:\\\\Users\\\\user\\\\big_proj\\\\project-file\\\\Modeling'"
      ]
     },
     "execution_count": 148,
     "metadata": {},
     "output_type": "execute_result"
    }
   ],
   "source": [
    "pwd"
   ]
  },
  {
   "cell_type": "code",
   "execution_count": 6,
   "metadata": {},
   "outputs": [
    {
     "name": "stdout",
     "output_type": "stream",
     "text": [
      "(452, 15) (453, 15) (454, 15) (454, 15)\n"
     ]
    }
   ],
   "source": [
    "# # 거주인구\n",
    "# dfs_거주인구=[]\n",
    "# for f_name in glob(path+'거주인구/*.csv'):\n",
    "#     temp=pd.read_csv(f_name)\n",
    "#     dfs_거주인구.append(temp)\n",
    "#     # df_거주인구=pd.concat([df_거주인구,temp],)\n",
    "# a,b,c,d=dfs_거주인구\n",
    "\n",
    "# print(a.shape,b.shape,c.shape,d.shape)\n"
   ]
  },
  {
   "cell_type": "code",
   "execution_count": 149,
   "metadata": {},
   "outputs": [
    {
     "data": {
      "text/html": [
       "<div>\n",
       "<style scoped>\n",
       "    .dataframe tbody tr th:only-of-type {\n",
       "        vertical-align: middle;\n",
       "    }\n",
       "\n",
       "    .dataframe tbody tr th {\n",
       "        vertical-align: top;\n",
       "    }\n",
       "\n",
       "    .dataframe thead th {\n",
       "        text-align: right;\n",
       "    }\n",
       "</style>\n",
       "<table border=\"1\" class=\"dataframe\">\n",
       "  <thead>\n",
       "    <tr style=\"text-align: right;\">\n",
       "      <th></th>\n",
       "      <th>기준_년분기_코드</th>\n",
       "      <th>행정동_코드</th>\n",
       "      <th>행정동_코드_명</th>\n",
       "      <th>총_상주인구_수</th>\n",
       "      <th>남성_상주인구_수</th>\n",
       "      <th>여성_상주인구_수</th>\n",
       "      <th>연령대_10_상주인구_수</th>\n",
       "      <th>연령대_20_상주인구_수</th>\n",
       "      <th>연령대_30_상주인구_수</th>\n",
       "      <th>연령대_40_상주인구_수</th>\n",
       "      <th>...</th>\n",
       "      <th>남성연령대_60_이상_상주인구_수</th>\n",
       "      <th>여성연령대_10_상주인구_수</th>\n",
       "      <th>여성연령대_20_상주인구_수</th>\n",
       "      <th>여성연령대_30_상주인구_수</th>\n",
       "      <th>여성연령대_40_상주인구_수</th>\n",
       "      <th>여성연령대_50_상주인구_수</th>\n",
       "      <th>여성연령대_60_이상_상주인구_수</th>\n",
       "      <th>총_가구_수</th>\n",
       "      <th>아파트_가구_수</th>\n",
       "      <th>비_아파트_가구_수</th>\n",
       "    </tr>\n",
       "  </thead>\n",
       "  <tbody>\n",
       "    <tr>\n",
       "      <th>0</th>\n",
       "      <td>20191</td>\n",
       "      <td>11110515</td>\n",
       "      <td>청운효자동</td>\n",
       "      <td>13047</td>\n",
       "      <td>6111</td>\n",
       "      <td>6936</td>\n",
       "      <td>2248</td>\n",
       "      <td>1648</td>\n",
       "      <td>1879</td>\n",
       "      <td>2304</td>\n",
       "      <td>...</td>\n",
       "      <td>1235</td>\n",
       "      <td>1052</td>\n",
       "      <td>821</td>\n",
       "      <td>1020</td>\n",
       "      <td>1283</td>\n",
       "      <td>1062</td>\n",
       "      <td>1698</td>\n",
       "      <td>5384</td>\n",
       "      <td>314</td>\n",
       "      <td>5070</td>\n",
       "    </tr>\n",
       "    <tr>\n",
       "      <th>1</th>\n",
       "      <td>20191</td>\n",
       "      <td>11110530</td>\n",
       "      <td>사직동</td>\n",
       "      <td>9224</td>\n",
       "      <td>4169</td>\n",
       "      <td>5055</td>\n",
       "      <td>1387</td>\n",
       "      <td>1095</td>\n",
       "      <td>1383</td>\n",
       "      <td>1558</td>\n",
       "      <td>...</td>\n",
       "      <td>1021</td>\n",
       "      <td>697</td>\n",
       "      <td>603</td>\n",
       "      <td>781</td>\n",
       "      <td>856</td>\n",
       "      <td>810</td>\n",
       "      <td>1308</td>\n",
       "      <td>4352</td>\n",
       "      <td>163</td>\n",
       "      <td>4189</td>\n",
       "    </tr>\n",
       "    <tr>\n",
       "      <th>2</th>\n",
       "      <td>20191</td>\n",
       "      <td>11110540</td>\n",
       "      <td>삼청동</td>\n",
       "      <td>2831</td>\n",
       "      <td>1344</td>\n",
       "      <td>1487</td>\n",
       "      <td>340</td>\n",
       "      <td>336</td>\n",
       "      <td>422</td>\n",
       "      <td>399</td>\n",
       "      <td>...</td>\n",
       "      <td>383</td>\n",
       "      <td>156</td>\n",
       "      <td>171</td>\n",
       "      <td>220</td>\n",
       "      <td>201</td>\n",
       "      <td>253</td>\n",
       "      <td>486</td>\n",
       "      <td>1413</td>\n",
       "      <td>0</td>\n",
       "      <td>1413</td>\n",
       "    </tr>\n",
       "    <tr>\n",
       "      <th>3</th>\n",
       "      <td>20191</td>\n",
       "      <td>11110550</td>\n",
       "      <td>부암동</td>\n",
       "      <td>10055</td>\n",
       "      <td>4850</td>\n",
       "      <td>5205</td>\n",
       "      <td>1490</td>\n",
       "      <td>1394</td>\n",
       "      <td>1277</td>\n",
       "      <td>1647</td>\n",
       "      <td>...</td>\n",
       "      <td>1137</td>\n",
       "      <td>689</td>\n",
       "      <td>633</td>\n",
       "      <td>672</td>\n",
       "      <td>905</td>\n",
       "      <td>909</td>\n",
       "      <td>1397</td>\n",
       "      <td>4243</td>\n",
       "      <td>74</td>\n",
       "      <td>4169</td>\n",
       "    </tr>\n",
       "    <tr>\n",
       "      <th>4</th>\n",
       "      <td>20191</td>\n",
       "      <td>11110560</td>\n",
       "      <td>평창동</td>\n",
       "      <td>18615</td>\n",
       "      <td>8775</td>\n",
       "      <td>9840</td>\n",
       "      <td>3018</td>\n",
       "      <td>2691</td>\n",
       "      <td>2303</td>\n",
       "      <td>2848</td>\n",
       "      <td>...</td>\n",
       "      <td>1976</td>\n",
       "      <td>1472</td>\n",
       "      <td>1272</td>\n",
       "      <td>1231</td>\n",
       "      <td>1592</td>\n",
       "      <td>1757</td>\n",
       "      <td>2516</td>\n",
       "      <td>7463</td>\n",
       "      <td>459</td>\n",
       "      <td>7004</td>\n",
       "    </tr>\n",
       "  </tbody>\n",
       "</table>\n",
       "<p>5 rows × 27 columns</p>\n",
       "</div>"
      ],
      "text/plain": [
       "   기준_년분기_코드    행정동_코드 행정동_코드_명  총_상주인구_수  남성_상주인구_수  여성_상주인구_수  \\\n",
       "0      20191  11110515    청운효자동     13047       6111       6936   \n",
       "1      20191  11110530      사직동      9224       4169       5055   \n",
       "2      20191  11110540      삼청동      2831       1344       1487   \n",
       "3      20191  11110550      부암동     10055       4850       5205   \n",
       "4      20191  11110560      평창동     18615       8775       9840   \n",
       "\n",
       "   연령대_10_상주인구_수  연령대_20_상주인구_수  연령대_30_상주인구_수  연령대_40_상주인구_수  ...  \\\n",
       "0           2248           1648           1879           2304  ...   \n",
       "1           1387           1095           1383           1558  ...   \n",
       "2            340            336            422            399  ...   \n",
       "3           1490           1394           1277           1647  ...   \n",
       "4           3018           2691           2303           2848  ...   \n",
       "\n",
       "   남성연령대_60_이상_상주인구_수  여성연령대_10_상주인구_수  여성연령대_20_상주인구_수  여성연령대_30_상주인구_수  \\\n",
       "0                1235             1052              821             1020   \n",
       "1                1021              697              603              781   \n",
       "2                 383              156              171              220   \n",
       "3                1137              689              633              672   \n",
       "4                1976             1472             1272             1231   \n",
       "\n",
       "   여성연령대_40_상주인구_수  여성연령대_50_상주인구_수  여성연령대_60_이상_상주인구_수  총_가구_수  아파트_가구_수  \\\n",
       "0             1283             1062                1698    5384       314   \n",
       "1              856              810                1308    4352       163   \n",
       "2              201              253                 486    1413         0   \n",
       "3              905              909                1397    4243        74   \n",
       "4             1592             1757                2516    7463       459   \n",
       "\n",
       "   비_아파트_가구_수  \n",
       "0        5070  \n",
       "1        4189  \n",
       "2        1413  \n",
       "3        4169  \n",
       "4        7004  \n",
       "\n",
       "[5 rows x 27 columns]"
      ]
     },
     "execution_count": 149,
     "metadata": {},
     "output_type": "execute_result"
    }
   ],
   "source": [
    "# 상주인구\n",
    "dfs_상주인구=[]\n",
    "for f_name in glob(path+'상주인구/*.csv'):\n",
    "    temp=pd.read_csv(f_name,encoding='cp949')\n",
    "    dfs_상주인구.append(temp)\n",
    "df_상주인구,=dfs_상주인구\n",
    "\n",
    "df_상주인구.head()"
   ]
  },
  {
   "cell_type": "code",
   "execution_count": 150,
   "metadata": {},
   "outputs": [
    {
     "data": {
      "text/plain": [
       "(7629, 27)"
      ]
     },
     "execution_count": 150,
     "metadata": {},
     "output_type": "execute_result"
    }
   ],
   "source": [
    "df_상주인구.shape"
   ]
  },
  {
   "cell_type": "code",
   "execution_count": 151,
   "metadata": {},
   "outputs": [
    {
     "data": {
      "text/plain": [
       "array([20191, 20192, 20193, 20194, 20201, 20202, 20203, 20204, 20211,\n",
       "       20212, 20213, 20214, 20221, 20222, 20224, 20231, 20232, 20223],\n",
       "      dtype=int64)"
      ]
     },
     "execution_count": 151,
     "metadata": {},
     "output_type": "execute_result"
    }
   ],
   "source": [
    "df_상주인구['기준_년분기_코드'].unique()"
   ]
  },
  {
   "cell_type": "code",
   "execution_count": 152,
   "metadata": {},
   "outputs": [
    {
     "data": {
      "text/plain": [
       "기준_년분기_코드             0\n",
       "행정동_코드                0\n",
       "행정동_코드_명              0\n",
       "총_상주인구_수              0\n",
       "남성_상주인구_수             0\n",
       "여성_상주인구_수             0\n",
       "연령대_10_상주인구_수         0\n",
       "연령대_20_상주인구_수         0\n",
       "연령대_30_상주인구_수         0\n",
       "연령대_40_상주인구_수         0\n",
       "연령대_50_상주인구_수         0\n",
       "연령대_60_이상_상주인구_수      0\n",
       "남성연령대_10_상주인구_수       0\n",
       "남성연령대_20_상주인구_수       0\n",
       "남성연령대_30_상주인구_수       0\n",
       "남성연령대_40_상주인구_수       0\n",
       "남성연령대_50_상주인구_수       0\n",
       "남성연령대_60_이상_상주인구_수    0\n",
       "여성연령대_10_상주인구_수       0\n",
       "여성연령대_20_상주인구_수       0\n",
       "여성연령대_30_상주인구_수       0\n",
       "여성연령대_40_상주인구_수       0\n",
       "여성연령대_50_상주인구_수       0\n",
       "여성연령대_60_이상_상주인구_수    0\n",
       "총_가구_수                0\n",
       "아파트_가구_수              0\n",
       "비_아파트_가구_수            0\n",
       "dtype: int64"
      ]
     },
     "execution_count": 152,
     "metadata": {},
     "output_type": "execute_result"
    }
   ],
   "source": [
    "df_상주인구.isna().sum()"
   ]
  },
  {
   "cell_type": "code",
   "execution_count": 159,
   "metadata": {},
   "outputs": [
    {
     "name": "stdout",
     "output_type": "stream",
     "text": [
      "년분기: 20191  418  \n",
      "년분기: 20192  418  년분기: 20193  418  년분기: 20194  425  년분기: 20201  425  년분기: 20202  425  년분기: 20203  425  년분기: 20204  425  \n",
      "년분기: 20211  425  년분기: 20212  425  년분기: 20213  425  년분기: 20214  425  년분기: 20221  425  년분기: 20222  425  년분기: 20224  425  \n",
      "년분기: 20231  425  년분기: 20232  425  년분기: 20223  425  cnt: 18\n"
     ]
    }
   ],
   "source": [
    "temp_total=0\n",
    "cnt=0\n",
    "for x in df_상주인구['기준_년분기_코드'].unique():\n",
    "    print(\"년분기:\",x,end='  ')\n",
    "    print(df_상주인구.loc[df_상주인구['기준_년분기_코드']==x]['기준_년분기_코드'].count(),end='  ')\n",
    "    if cnt%7==0:\n",
    "        print()\n",
    "    cnt+=1\n",
    "print(\"cnt:\",cnt)"
   ]
  },
  {
   "cell_type": "code",
   "execution_count": 160,
   "metadata": {},
   "outputs": [],
   "source": [
    "# 20191, 20192, 20193\n",
    "dong_code_20191=list(df_상주인구.loc[df_상주인구['기준_년분기_코드']==20191]['행정동_코드'])\n",
    "dong_code_20192=list(df_상주인구.loc[df_상주인구['기준_년분기_코드']==20192]['행정동_코드'])\n",
    "dong_code_20193=list(df_상주인구.loc[df_상주인구['기준_년분기_코드']==20193]['행정동_코드'])\n",
    "dong_code_20194=list(df_상주인구.loc[df_상주인구['기준_년분기_코드']==20194]['행정동_코드'])"
   ]
  },
  {
   "cell_type": "code",
   "execution_count": 161,
   "metadata": {},
   "outputs": [
    {
     "name": "stdout",
     "output_type": "stream",
     "text": [
      "[11305595, 11305603, 11305608, 11305615, 11305625, 11305635, 11530800]\n",
      "[11305595, 11305603, 11305608, 11305615, 11305625, 11305635, 11530800]\n",
      "[11305595, 11305603, 11305608, 11305615, 11305625, 11305635, 11530800]\n"
     ]
    }
   ],
   "source": [
    "diff_191=[x for x in dong_code_20194 if x not in dong_code_20191 ]\n",
    "diff_192=[x for x in dong_code_20194 if x not in dong_code_20192 ]\n",
    "diff_193=[x for x in dong_code_20194 if x not in dong_code_20193 ]\n",
    "print(diff_191)\n",
    "print(diff_192)\n",
    "print(diff_193)\n",
    "# 번1,2,3동/ 수유1,2,3동/ 항동"
   ]
  },
  {
   "cell_type": "code",
   "execution_count": 153,
   "metadata": {},
   "outputs": [],
   "source": [
    "# 생활인구\n",
    "dfs_생활인구=[]\n",
    "for f_name in glob(path+'생활인구/*.csv'):\n",
    "    temp=pd.read_csv(f_name,encoding='cp949')\n",
    "    dfs_생활인구.append(temp)\n",
    "df_생활인구,=dfs_생활인구\n"
   ]
  },
  {
   "cell_type": "code",
   "execution_count": 154,
   "metadata": {},
   "outputs": [
    {
     "data": {
      "text/plain": [
       "(7650, 25)"
      ]
     },
     "execution_count": 154,
     "metadata": {},
     "output_type": "execute_result"
    }
   ],
   "source": [
    "df_생활인구.shape"
   ]
  },
  {
   "cell_type": "code",
   "execution_count": 155,
   "metadata": {},
   "outputs": [
    {
     "data": {
      "text/plain": [
       "array([20191, 20192, 20193, 20194, 20201, 20202, 20203, 20204, 20211,\n",
       "       20212, 20213, 20214, 20221, 20222, 20223, 20224, 20231, 20232],\n",
       "      dtype=int64)"
      ]
     },
     "execution_count": 155,
     "metadata": {},
     "output_type": "execute_result"
    }
   ],
   "source": [
    "df_생활인구['기준_년분기_코드'].unique()"
   ]
  },
  {
   "cell_type": "code",
   "execution_count": 156,
   "metadata": {},
   "outputs": [
    {
     "data": {
      "text/plain": [
       "기준_년분기_코드           0\n",
       "행정동_코드              0\n",
       "행정동_코드_명            0\n",
       "총_유동인구_수            0\n",
       "남성_유동인구_수           0\n",
       "여성_유동인구_수           0\n",
       "연령대_10_유동인구_수       0\n",
       "연령대_20_유동인구_수       0\n",
       "연령대_30_유동인구_수       0\n",
       "연령대_40_유동인구_수       0\n",
       "연령대_50_유동인구_수       0\n",
       "연령대_60_이상_유동인구_수    0\n",
       "시간대_00_06_유동인구_수    0\n",
       "시간대_06_11_유동인구_수    0\n",
       "시간대_11_14_유동인구_수    0\n",
       "시간대_14_17_유동인구_수    0\n",
       "시간대_17_21_유동인구_수    0\n",
       "시간대_21_24_유동인구_수    0\n",
       "월요일_유동인구_수          0\n",
       "화요일_유동인구_수          0\n",
       "수요일_유동인구_수          0\n",
       "목요일_유동인구_수          0\n",
       "금요일_유동인구_수          0\n",
       "토요일_유동인구_수          0\n",
       "일요일_유동인구_수          0\n",
       "dtype: int64"
      ]
     },
     "execution_count": 156,
     "metadata": {},
     "output_type": "execute_result"
    }
   ],
   "source": [
    "df_생활인구.isna().sum()"
   ]
  },
  {
   "cell_type": "code",
   "execution_count": 162,
   "metadata": {},
   "outputs": [
    {
     "name": "stdout",
     "output_type": "stream",
     "text": [
      "년분기: 20191  425  \n",
      "년분기: 20192  425  년분기: 20193  425  년분기: 20194  425  년분기: 20201  425  년분기: 20202  425  년분기: 20203  425  년분기: 20204  425  \n",
      "년분기: 20211  425  년분기: 20212  425  년분기: 20213  425  년분기: 20214  425  년분기: 20221  425  년분기: 20222  425  년분기: 20223  425  \n",
      "년분기: 20224  425  년분기: 20231  425  년분기: 20232  425  cnt: 18\n"
     ]
    }
   ],
   "source": [
    "temp_total=0\n",
    "cnt=0\n",
    "for x in df_생활인구['기준_년분기_코드'].unique():\n",
    "    print(\"년분기:\",x,end='  ')\n",
    "    print(df_생활인구.loc[df_생활인구['기준_년분기_코드']==x]['기준_년분기_코드'].count(),end='  ')\n",
    "    if cnt%7==0:\n",
    "        print()\n",
    "    cnt+=1\n",
    "print(\"cnt:\",cnt)"
   ]
  },
  {
   "cell_type": "code",
   "execution_count": 27,
   "metadata": {},
   "outputs": [],
   "source": [
    "# # 생활인구 merge\n",
    "# df_total=pd.merge(df_생활인구,df_total,how='left',on=['기준_년분기_코드','행정동_코드','행정동_코드_명'])"
   ]
  },
  {
   "cell_type": "code",
   "execution_count": 28,
   "metadata": {},
   "outputs": [
    {
     "data": {
      "text/plain": [
       "(7650, 49)"
      ]
     },
     "execution_count": 28,
     "metadata": {},
     "output_type": "execute_result"
    }
   ],
   "source": [
    "# df_total.shape"
   ]
  },
  {
   "cell_type": "code",
   "execution_count": 163,
   "metadata": {},
   "outputs": [],
   "source": [
    "# 소득소비\n",
    "dfs_소득소비=[]\n",
    "for f_name in glob(path+'소득소비/*.csv'):\n",
    "    temp=pd.read_csv(f_name,encoding='cp949')\n",
    "    dfs_소득소비.append(temp)\n",
    "df_소득소비,=dfs_소득소비"
   ]
  },
  {
   "cell_type": "code",
   "execution_count": 164,
   "metadata": {},
   "outputs": [
    {
     "data": {
      "text/plain": [
       "(7650, 16)"
      ]
     },
     "execution_count": 164,
     "metadata": {},
     "output_type": "execute_result"
    }
   ],
   "source": [
    "df_소득소비.shape"
   ]
  },
  {
   "cell_type": "code",
   "execution_count": 165,
   "metadata": {},
   "outputs": [
    {
     "data": {
      "text/plain": [
       "기준_년분기_코드       0\n",
       "행정동_코드          0\n",
       "행정동_코드_명        0\n",
       "월_평균_소득_금액      0\n",
       "소득_구간_코드        0\n",
       "지출_총금액          0\n",
       "식료품_지출_총금액      0\n",
       "의류_신발_지출_총금액    0\n",
       "생활용품_지출_총금액     0\n",
       "의료비_지출_총금액      0\n",
       "교통_지출_총금액       0\n",
       "교육_지출_총금액       0\n",
       "유흥_지출_총금액       0\n",
       "여가_문화_지출_총금액    0\n",
       "기타_지출_총금액       0\n",
       "음식_지출_총금액       0\n",
       "dtype: int64"
      ]
     },
     "execution_count": 165,
     "metadata": {},
     "output_type": "execute_result"
    }
   ],
   "source": [
    "df_소득소비.isna().sum()"
   ]
  },
  {
   "cell_type": "code",
   "execution_count": 166,
   "metadata": {},
   "outputs": [
    {
     "data": {
      "text/plain": [
       "array([20231, 20232, 20191, 20204, 20192, 20193, 20194, 20201, 20202,\n",
       "       20203, 20211, 20212, 20213, 20214, 20221, 20222, 20223, 20224],\n",
       "      dtype=int64)"
      ]
     },
     "execution_count": 166,
     "metadata": {},
     "output_type": "execute_result"
    }
   ],
   "source": [
    "df_소득소비['기준_년분기_코드'].unique()"
   ]
  },
  {
   "cell_type": "code",
   "execution_count": 32,
   "metadata": {},
   "outputs": [],
   "source": [
    "# # 소득소비 merge\n",
    "# df_total=pd.merge(df_total,df_소득소비,how='left',on=['기준_년분기_코드','행정동_코드','행정동_코드_명'])"
   ]
  },
  {
   "cell_type": "code",
   "execution_count": 33,
   "metadata": {},
   "outputs": [
    {
     "data": {
      "text/plain": [
       "(7650, 62)"
      ]
     },
     "execution_count": 33,
     "metadata": {},
     "output_type": "execute_result"
    }
   ],
   "source": [
    "# df_total.shape"
   ]
  },
  {
   "cell_type": "code",
   "execution_count": 167,
   "metadata": {},
   "outputs": [],
   "source": [
    "# 아파트\n",
    "dfs_아파트=[]\n",
    "for f_name in glob(path+'아파트/*.csv'):\n",
    "    temp=pd.read_csv(f_name,encoding='cp949')\n",
    "    dfs_아파트.append(temp)\n",
    "df_아파트,=dfs_아파트"
   ]
  },
  {
   "cell_type": "code",
   "execution_count": 168,
   "metadata": {},
   "outputs": [
    {
     "data": {
      "text/plain": [
       "(6368, 18)"
      ]
     },
     "execution_count": 168,
     "metadata": {},
     "output_type": "execute_result"
    }
   ],
   "source": [
    "df_아파트.shape"
   ]
  },
  {
   "cell_type": "code",
   "execution_count": 169,
   "metadata": {},
   "outputs": [
    {
     "data": {
      "text/plain": [
       "기준_년분기_코드                    0\n",
       "행정동_코드                       0\n",
       "행정동_코드_명                     0\n",
       "아파트_단지_수                     0\n",
       "아파트_면적_66_제곱미터_미만_세대_수      74\n",
       "아파트_면적_66_제곱미터_세대_수          3\n",
       "아파트_면적_99_제곱미터_세대_수        123\n",
       "아파트_면적_132_제곱미터_세대_수      1126\n",
       "아파트_면적_165_제곱미터_세대_수      2989\n",
       "아파트_가격_1_억_미만_세대_수         563\n",
       "아파트_가격_1_억_세대_수            298\n",
       "아파트_가격_2_억_세대_수            241\n",
       "아파트_가격_3_억_세대_수            248\n",
       "아파트_가격_4_억_세대_수            682\n",
       "아파트_가격_5_억_세대_수           1368\n",
       "아파트_가격_6_억_이상_세대_수        2090\n",
       "아파트_평균_면적                    0\n",
       "아파트_평균_시가                    0\n",
       "dtype: int64"
      ]
     },
     "execution_count": 169,
     "metadata": {},
     "output_type": "execute_result"
    }
   ],
   "source": [
    "df_아파트.isna().sum()"
   ]
  },
  {
   "cell_type": "code",
   "execution_count": 170,
   "metadata": {},
   "outputs": [],
   "source": [
    "df_아파트.fillna(0,inplace=True)"
   ]
  },
  {
   "cell_type": "code",
   "execution_count": 171,
   "metadata": {},
   "outputs": [
    {
     "data": {
      "text/plain": [
       "기준_년분기_코드                 0\n",
       "행정동_코드                    0\n",
       "행정동_코드_명                  0\n",
       "아파트_단지_수                  0\n",
       "아파트_면적_66_제곱미터_미만_세대_수    0\n",
       "아파트_면적_66_제곱미터_세대_수       0\n",
       "아파트_면적_99_제곱미터_세대_수       0\n",
       "아파트_면적_132_제곱미터_세대_수      0\n",
       "아파트_면적_165_제곱미터_세대_수      0\n",
       "아파트_가격_1_억_미만_세대_수        0\n",
       "아파트_가격_1_억_세대_수           0\n",
       "아파트_가격_2_억_세대_수           0\n",
       "아파트_가격_3_억_세대_수           0\n",
       "아파트_가격_4_억_세대_수           0\n",
       "아파트_가격_5_억_세대_수           0\n",
       "아파트_가격_6_억_이상_세대_수        0\n",
       "아파트_평균_면적                 0\n",
       "아파트_평균_시가                 0\n",
       "dtype: int64"
      ]
     },
     "execution_count": 171,
     "metadata": {},
     "output_type": "execute_result"
    }
   ],
   "source": [
    "df_아파트.isna().sum()"
   ]
  },
  {
   "cell_type": "code",
   "execution_count": 172,
   "metadata": {},
   "outputs": [
    {
     "data": {
      "text/plain": [
       "[20194,\n",
       " 20201,\n",
       " 20202,\n",
       " 20203,\n",
       " 20204,\n",
       " 20211,\n",
       " 20212,\n",
       " 20213,\n",
       " 20214,\n",
       " 20221,\n",
       " 20222,\n",
       " 20223,\n",
       " 20224,\n",
       " 20231,\n",
       " 20232]"
      ]
     },
     "execution_count": 172,
     "metadata": {},
     "output_type": "execute_result"
    }
   ],
   "source": [
    "temp_=list(df_아파트['기준_년분기_코드'].unique())\n",
    "sorted(temp_)\n"
   ]
  },
  {
   "cell_type": "code",
   "execution_count": 38,
   "metadata": {},
   "outputs": [],
   "source": [
    "# # 아파트 merge\n",
    "# df_total=pd.merge(df_total,df_아파트,how='left',on=['기준_년분기_코드','행정동_코드','행정동_코드_명'])"
   ]
  },
  {
   "cell_type": "code",
   "execution_count": 173,
   "metadata": {},
   "outputs": [],
   "source": [
    "# 영역\n",
    "dfs_영역=[]\n",
    "for f_name in glob(path+'영역/*.csv'):\n",
    "    temp=pd.read_csv(f_name,encoding='cp949')\n",
    "    dfs_영역.append(temp)\n",
    "df_영역,=dfs_영역"
   ]
  },
  {
   "cell_type": "code",
   "execution_count": 174,
   "metadata": {},
   "outputs": [
    {
     "data": {
      "text/plain": [
       "(425, 5)"
      ]
     },
     "execution_count": 174,
     "metadata": {},
     "output_type": "execute_result"
    }
   ],
   "source": [
    "df_영역.shape"
   ]
  },
  {
   "cell_type": "code",
   "execution_count": 175,
   "metadata": {},
   "outputs": [],
   "source": [
    "# 점포\n",
    "dfs_점포=[]\n",
    "for f_name in glob(path+'점포/*.csv'):\n",
    "    temp=pd.read_csv(f_name,encoding='cp949')\n",
    "    dfs_점포.append(temp)\n",
    "e,f,g,h=dfs_점포"
   ]
  },
  {
   "cell_type": "code",
   "execution_count": 176,
   "metadata": {},
   "outputs": [
    {
     "data": {
      "text/plain": [
       "((139799, 12), (140538, 12), (141137, 12), (141334, 12))"
      ]
     },
     "execution_count": 176,
     "metadata": {},
     "output_type": "execute_result"
    }
   ],
   "source": [
    "e.shape,f.shape,g.shape,h.shape"
   ]
  },
  {
   "cell_type": "code",
   "execution_count": 177,
   "metadata": {},
   "outputs": [
    {
     "data": {
      "text/plain": [
       "True"
      ]
     },
     "execution_count": 177,
     "metadata": {},
     "output_type": "execute_result"
    }
   ],
   "source": [
    "columns_equal = all(e.columns == f.columns)\n",
    "columns_equal"
   ]
  },
  {
   "cell_type": "code",
   "execution_count": 178,
   "metadata": {},
   "outputs": [
    {
     "data": {
      "text/plain": [
       "True"
      ]
     },
     "execution_count": 178,
     "metadata": {},
     "output_type": "execute_result"
    }
   ],
   "source": [
    "columns_equal = all(g.columns == h.columns)\n",
    "columns_equal"
   ]
  },
  {
   "cell_type": "code",
   "execution_count": 179,
   "metadata": {},
   "outputs": [
    {
     "data": {
      "text/plain": [
       "array([20191, 20192, 20193, 20194], dtype=int64)"
      ]
     },
     "execution_count": 179,
     "metadata": {},
     "output_type": "execute_result"
    }
   ],
   "source": [
    "e['기준_년분기_코드'].unique()"
   ]
  },
  {
   "cell_type": "code",
   "execution_count": 180,
   "metadata": {},
   "outputs": [],
   "source": [
    "e_1=e.loc[e['기준_년분기_코드']==20191]\n",
    "e_2=e.loc[e['기준_년분기_코드']==20192]\n",
    "e_3=e.loc[e['기준_년분기_코드']==20193]\n",
    "e_4=e.loc[e['기준_년분기_코드']==20194]"
   ]
  },
  {
   "cell_type": "code",
   "execution_count": 181,
   "metadata": {},
   "outputs": [
    {
     "data": {
      "text/plain": [
       "array([20201, 20202, 20203, 20204], dtype=int64)"
      ]
     },
     "execution_count": 181,
     "metadata": {},
     "output_type": "execute_result"
    }
   ],
   "source": [
    "f['기준_년분기_코드'].unique()"
   ]
  },
  {
   "cell_type": "code",
   "execution_count": 182,
   "metadata": {},
   "outputs": [],
   "source": [
    "f_1=f.loc[f['기준_년분기_코드']==20201]\n",
    "f_2=f.loc[f['기준_년분기_코드']==20202]\n",
    "f_3=f.loc[f['기준_년분기_코드']==20203]\n",
    "f_4=f.loc[f['기준_년분기_코드']==20204]"
   ]
  },
  {
   "cell_type": "code",
   "execution_count": 183,
   "metadata": {},
   "outputs": [
    {
     "data": {
      "text/plain": [
       "array([20211, 20212, 20213, 20214], dtype=int64)"
      ]
     },
     "execution_count": 183,
     "metadata": {},
     "output_type": "execute_result"
    }
   ],
   "source": [
    "g['기준_년분기_코드'].unique()"
   ]
  },
  {
   "cell_type": "code",
   "execution_count": 184,
   "metadata": {},
   "outputs": [],
   "source": [
    "g_1=g.loc[g['기준_년분기_코드']==20211]\n",
    "g_2=g.loc[g['기준_년분기_코드']==20212]\n",
    "g_3=g.loc[g['기준_년분기_코드']==20213]\n",
    "g_4=g.loc[g['기준_년분기_코드']==20214]"
   ]
  },
  {
   "cell_type": "code",
   "execution_count": 185,
   "metadata": {},
   "outputs": [
    {
     "data": {
      "text/plain": [
       "array([20221, 20222, 20223, 20224], dtype=int64)"
      ]
     },
     "execution_count": 185,
     "metadata": {},
     "output_type": "execute_result"
    }
   ],
   "source": [
    "h['기준_년분기_코드'].unique()"
   ]
  },
  {
   "cell_type": "code",
   "execution_count": 186,
   "metadata": {},
   "outputs": [],
   "source": [
    "h_1=h.loc[h['기준_년분기_코드']==20221]\n",
    "h_2=h.loc[h['기준_년분기_코드']==20222]\n",
    "h_3=h.loc[h['기준_년분기_코드']==20223]\n",
    "h_4=h.loc[h['기준_년분기_코드']==20224]"
   ]
  },
  {
   "cell_type": "code",
   "execution_count": 187,
   "metadata": {},
   "outputs": [
    {
     "data": {
      "text/plain": [
       "(425, 425, 425, 425)"
      ]
     },
     "execution_count": 187,
     "metadata": {},
     "output_type": "execute_result"
    }
   ],
   "source": [
    "len(e_1['행정동_코드'].unique()),len(e_2['행정동_코드'].unique()),len(e_3['행정동_코드'].unique()),len(e_4['행정동_코드'].unique())"
   ]
  },
  {
   "cell_type": "code",
   "execution_count": 188,
   "metadata": {},
   "outputs": [
    {
     "data": {
      "text/plain": [
       "(425, 425, 425, 425)"
      ]
     },
     "execution_count": 188,
     "metadata": {},
     "output_type": "execute_result"
    }
   ],
   "source": [
    "len(f_1['행정동_코드'].unique()),len(f_2['행정동_코드'].unique()),len(f_3['행정동_코드'].unique()),len(f_4['행정동_코드'].unique())"
   ]
  },
  {
   "cell_type": "code",
   "execution_count": 189,
   "metadata": {},
   "outputs": [
    {
     "data": {
      "text/plain": [
       "(425, 425, 425, 425)"
      ]
     },
     "execution_count": 189,
     "metadata": {},
     "output_type": "execute_result"
    }
   ],
   "source": [
    "len(g_1['행정동_코드'].unique()),len(g_2['행정동_코드'].unique()),len(g_3['행정동_코드'].unique()),len(g_4['행정동_코드'].unique())"
   ]
  },
  {
   "cell_type": "code",
   "execution_count": 190,
   "metadata": {},
   "outputs": [
    {
     "data": {
      "text/plain": [
       "(425, 425, 425, 425)"
      ]
     },
     "execution_count": 190,
     "metadata": {},
     "output_type": "execute_result"
    }
   ],
   "source": [
    "len(h_1['행정동_코드'].unique()),len(h_2['행정동_코드'].unique()),len(h_3['행정동_코드'].unique()),len(h_4['행정동_코드'].unique())"
   ]
  },
  {
   "cell_type": "code",
   "execution_count": 191,
   "metadata": {},
   "outputs": [
    {
     "data": {
      "text/plain": [
       "((34853, 12), (34925, 12), (34987, 12), (35034, 12))"
      ]
     },
     "execution_count": 191,
     "metadata": {},
     "output_type": "execute_result"
    }
   ],
   "source": [
    "e_1.shape,e_2.shape,e_3.shape,e_4.shape"
   ]
  },
  {
   "cell_type": "code",
   "execution_count": 192,
   "metadata": {},
   "outputs": [
    {
     "data": {
      "text/plain": [
       "(562808, 12)"
      ]
     },
     "execution_count": 192,
     "metadata": {},
     "output_type": "execute_result"
    }
   ],
   "source": [
    "df_점포=pd.concat([e,f,g,h],axis=0)\n",
    "df_점포.shape"
   ]
  },
  {
   "cell_type": "code",
   "execution_count": 193,
   "metadata": {},
   "outputs": [
    {
     "data": {
      "text/plain": [
       "기준_년분기_코드      0\n",
       "행정동_코드         0\n",
       "행정동_코드_명       0\n",
       "서비스_업종_코드      0\n",
       "서비스_업종_코드_명    0\n",
       "점포_수           0\n",
       "유사_업종_점포_수     0\n",
       "개업_율           0\n",
       "개업_점포_수        0\n",
       "폐업_률           0\n",
       "폐업_점포_수        0\n",
       "프랜차이즈_점포_수     0\n",
       "dtype: int64"
      ]
     },
     "execution_count": 193,
     "metadata": {},
     "output_type": "execute_result"
    }
   ],
   "source": [
    "df_점포.isna().sum()"
   ]
  },
  {
   "cell_type": "code",
   "execution_count": 199,
   "metadata": {},
   "outputs": [],
   "source": [
    "# 직장인구\n",
    "dfs_직장인구=[]\n",
    "for f_name in glob(path+'직장인구/*.csv'):\n",
    "    temp=pd.read_csv(f_name,encoding='cp949')\n",
    "    dfs_직장인구.append(temp)\n",
    "df_직장인구,=dfs_직장인구"
   ]
  },
  {
   "cell_type": "code",
   "execution_count": 200,
   "metadata": {},
   "outputs": [
    {
     "data": {
      "text/plain": [
       "(7636, 24)"
      ]
     },
     "execution_count": 200,
     "metadata": {},
     "output_type": "execute_result"
    }
   ],
   "source": [
    "df_직장인구.shape"
   ]
  },
  {
   "cell_type": "code",
   "execution_count": 201,
   "metadata": {},
   "outputs": [
    {
     "data": {
      "text/plain": [
       "기준_년분기_코드              0\n",
       "행정동_코드                 0\n",
       "행정동_코드_명               0\n",
       "총_직장_인구_수              0\n",
       "남성_직장_인구_수             0\n",
       "여성_직장_인구_수             0\n",
       "연령대_10_직장_인구_수         0\n",
       "연령대_20_직장_인구_수         0\n",
       "연령대_30_직장_인구_수         0\n",
       "연령대_40_직장_인구_수         0\n",
       "연령대_50_직장_인구_수         0\n",
       "연령대_60_이상_직장_인구_수      0\n",
       "남성연령대_10_직장_인구_수       0\n",
       "남성연령대_20_직장_인구_수       0\n",
       "남성연령대_30_직장_인구_수       0\n",
       "남성연령대_40_직장_인구_수       0\n",
       "남성연령대_50_직장_인구_수       0\n",
       "남성연령대_60_이상_직장_인구_수    0\n",
       "여성연령대_10_직장_인구_수       0\n",
       "여성연령대_20_직장_인구_수       0\n",
       "여성연령대_30_직장_인구_수       0\n",
       "여성연령대_40_직장_인구_수       0\n",
       "여성연령대_50_직장_인구_수       0\n",
       "여성연령대_60_이상_직장_인구_수    0\n",
       "dtype: int64"
      ]
     },
     "execution_count": 201,
     "metadata": {},
     "output_type": "execute_result"
    }
   ],
   "source": [
    "df_직장인구.isna().sum()"
   ]
  },
  {
   "cell_type": "code",
   "execution_count": 202,
   "metadata": {},
   "outputs": [
    {
     "name": "stdout",
     "output_type": "stream",
     "text": [
      "년분기: 20191  425  \n",
      "년분기: 20192  418  년분기: 20193  418  년분기: 20194  425  년분기: 20201  425  년분기: 20202  425  년분기: 20203  425  년분기: 20211  425  \n",
      "년분기: 20212  425  년분기: 20213  425  년분기: 20221  425  년분기: 20222  425  년분기: 20223  425  년분기: 20231  425  년분기: 20232  425  \n",
      "년분기: 20224  425  년분기: 20204  425  년분기: 20214  425  cnt: 18\n"
     ]
    }
   ],
   "source": [
    "temp_total=0\n",
    "cnt=0\n",
    "for x in df_직장인구['기준_년분기_코드'].unique():\n",
    "    print(\"년분기:\",x,end='  ')\n",
    "    print(df_직장인구.loc[df_직장인구['기준_년분기_코드']==x]['기준_년분기_코드'].count(),end='  ')\n",
    "    if cnt%7==0:\n",
    "        print()\n",
    "    cnt+=1\n",
    "print(\"cnt:\",cnt)"
   ]
  },
  {
   "cell_type": "code",
   "execution_count": 203,
   "metadata": {},
   "outputs": [],
   "source": [
    "dong_code_직장_20192=list(df_상주인구.loc[df_상주인구['기준_년분기_코드']==20192]['행정동_코드'])\n",
    "diff_직장_192=[x for x in dong_code_20194 if x not in dong_code_직장_20192 ]"
   ]
  },
  {
   "cell_type": "code",
   "execution_count": 204,
   "metadata": {},
   "outputs": [],
   "source": [
    "dong_code_직장_20193=list(df_상주인구.loc[df_상주인구['기준_년분기_코드']==20193]['행정동_코드'])\n",
    "diff_직장_193=[x for x in dong_code_20194 if x not in dong_code_직장_20193 ]"
   ]
  },
  {
   "cell_type": "code",
   "execution_count": 216,
   "metadata": {},
   "outputs": [
    {
     "name": "stdout",
     "output_type": "stream",
     "text": [
      "     기준_년분기_코드    행정동_코드 행정동_코드_명  총_직장_인구_수  남성_직장_인구_수  여성_직장_인구_수  \\\n",
      "123      20191  11305595      번1동       4381        2302        2079   \n",
      "\n",
      "     연령대_10_직장_인구_수  연령대_20_직장_인구_수  연령대_30_직장_인구_수  연령대_40_직장_인구_수  ...  \\\n",
      "123              13             571             865             963  ...   \n",
      "\n",
      "     남성연령대_30_직장_인구_수  남성연령대_40_직장_인구_수  남성연령대_50_직장_인구_수  \\\n",
      "123               500               510               642   \n",
      "\n",
      "     남성연령대_60_이상_직장_인구_수  여성연령대_10_직장_인구_수  여성연령대_20_직장_인구_수  \\\n",
      "123                  440                 7               367   \n",
      "\n",
      "     여성연령대_30_직장_인구_수  여성연령대_40_직장_인구_수  여성연령대_50_직장_인구_수  여성연령대_60_이상_직장_인구_수  \n",
      "123               365               453               515                  372  \n",
      "\n",
      "[1 rows x 24 columns]\n",
      "     기준_년분기_코드    행정동_코드 행정동_코드_명  총_직장_인구_수  남성_직장_인구_수  여성_직장_인구_수  \\\n",
      "181      20191  11305603      번2동       2150        1295         855   \n",
      "\n",
      "     연령대_10_직장_인구_수  연령대_20_직장_인구_수  연령대_30_직장_인구_수  연령대_40_직장_인구_수  ...  \\\n",
      "181               5             209             289             556  ...   \n",
      "\n",
      "     남성연령대_30_직장_인구_수  남성연령대_40_직장_인구_수  남성연령대_50_직장_인구_수  \\\n",
      "181               143               308               513   \n",
      "\n",
      "     남성연령대_60_이상_직장_인구_수  여성연령대_10_직장_인구_수  여성연령대_20_직장_인구_수  \\\n",
      "181                  229                 1               111   \n",
      "\n",
      "     여성연령대_30_직장_인구_수  여성연령대_40_직장_인구_수  여성연령대_50_직장_인구_수  여성연령대_60_이상_직장_인구_수  \n",
      "181               146               248               236                  113  \n",
      "\n",
      "[1 rows x 24 columns]\n",
      "     기준_년분기_코드    행정동_코드 행정동_코드_명  총_직장_인구_수  남성_직장_인구_수  여성_직장_인구_수  \\\n",
      "336      20191  11305608      번3동       1532         704         828   \n",
      "\n",
      "     연령대_10_직장_인구_수  연령대_20_직장_인구_수  연령대_30_직장_인구_수  연령대_40_직장_인구_수  ...  \\\n",
      "336              12             227             254             369  ...   \n",
      "\n",
      "     남성연령대_30_직장_인구_수  남성연령대_40_직장_인구_수  남성연령대_50_직장_인구_수  \\\n",
      "336               110               164               171   \n",
      "\n",
      "     남성연령대_60_이상_직장_인구_수  여성연령대_10_직장_인구_수  여성연령대_20_직장_인구_수  \\\n",
      "336                  169                 5               144   \n",
      "\n",
      "     여성연령대_30_직장_인구_수  여성연령대_40_직장_인구_수  여성연령대_50_직장_인구_수  여성연령대_60_이상_직장_인구_수  \n",
      "336               144               205               212                  118  \n",
      "\n",
      "[1 rows x 24 columns]\n",
      "     기준_년분기_코드    행정동_코드 행정동_코드_명  총_직장_인구_수  남성_직장_인구_수  여성_직장_인구_수  \\\n",
      "236      20191  11305615     수유1동       3082        1578        1504   \n",
      "\n",
      "     연령대_10_직장_인구_수  연령대_20_직장_인구_수  연령대_30_직장_인구_수  연령대_40_직장_인구_수  ...  \\\n",
      "236               3             266             526             833  ...   \n",
      "\n",
      "     남성연령대_30_직장_인구_수  남성연령대_40_직장_인구_수  남성연령대_50_직장_인구_수  \\\n",
      "236               258               430               507   \n",
      "\n",
      "     남성연령대_60_이상_직장_인구_수  여성연령대_10_직장_인구_수  여성연령대_20_직장_인구_수  \\\n",
      "236                  306                 3               189   \n",
      "\n",
      "     여성연령대_30_직장_인구_수  여성연령대_40_직장_인구_수  여성연령대_50_직장_인구_수  여성연령대_60_이상_직장_인구_수  \n",
      "236               268               403               424                  217  \n",
      "\n",
      "[1 rows x 24 columns]\n",
      "     기준_년분기_코드    행정동_코드 행정동_코드_명  총_직장_인구_수  남성_직장_인구_수  여성_직장_인구_수  \\\n",
      "389      20191  11305625     수유2동       2035         819        1216   \n",
      "\n",
      "     연령대_10_직장_인구_수  연령대_20_직장_인구_수  연령대_30_직장_인구_수  연령대_40_직장_인구_수  ...  \\\n",
      "389              12             196             286             447  ...   \n",
      "\n",
      "     남성연령대_30_직장_인구_수  남성연령대_40_직장_인구_수  남성연령대_50_직장_인구_수  \\\n",
      "389               144               200               180   \n",
      "\n",
      "     남성연령대_60_이상_직장_인구_수  여성연령대_10_직장_인구_수  여성연령대_20_직장_인구_수  \\\n",
      "389                  224                 6               131   \n",
      "\n",
      "     여성연령대_30_직장_인구_수  여성연령대_40_직장_인구_수  여성연령대_50_직장_인구_수  여성연령대_60_이상_직장_인구_수  \n",
      "389               142               247               322                  368  \n",
      "\n",
      "[1 rows x 24 columns]\n",
      "     기준_년분기_코드    행정동_코드 행정동_코드_명  총_직장_인구_수  남성_직장_인구_수  여성_직장_인구_수  \\\n",
      "183      20191  11305635     수유3동       5166        2673        2493   \n",
      "\n",
      "     연령대_10_직장_인구_수  연령대_20_직장_인구_수  연령대_30_직장_인구_수  연령대_40_직장_인구_수  ...  \\\n",
      "183              23             651            1244            1257  ...   \n",
      "\n",
      "     남성연령대_30_직장_인구_수  남성연령대_40_직장_인구_수  남성연령대_50_직장_인구_수  \\\n",
      "183               605               639               727   \n",
      "\n",
      "     남성연령대_60_이상_직장_인구_수  여성연령대_10_직장_인구_수  여성연령대_20_직장_인구_수  \\\n",
      "183                  429                 9               392   \n",
      "\n",
      "     여성연령대_30_직장_인구_수  여성연령대_40_직장_인구_수  여성연령대_50_직장_인구_수  여성연령대_60_이상_직장_인구_수  \n",
      "183               639               618               568                  267  \n",
      "\n",
      "[1 rows x 24 columns]\n",
      "    기준_년분기_코드    행정동_코드 행정동_코드_명  총_직장_인구_수  남성_직장_인구_수  여성_직장_인구_수  \\\n",
      "29      20191  11530800       항동        384         223         161   \n",
      "\n",
      "    연령대_10_직장_인구_수  연령대_20_직장_인구_수  연령대_30_직장_인구_수  연령대_40_직장_인구_수  ...  \\\n",
      "29               0              18              62             108  ...   \n",
      "\n",
      "    남성연령대_30_직장_인구_수  남성연령대_40_직장_인구_수  남성연령대_50_직장_인구_수  남성연령대_60_이상_직장_인구_수  \\\n",
      "29                28                55                98                   34   \n",
      "\n",
      "    여성연령대_10_직장_인구_수  여성연령대_20_직장_인구_수  여성연령대_30_직장_인구_수  여성연령대_40_직장_인구_수  \\\n",
      "29                 0                10                34                53   \n",
      "\n",
      "    여성연령대_50_직장_인구_수  여성연령대_60_이상_직장_인구_수  \n",
      "29                47                   17  \n",
      "\n",
      "[1 rows x 24 columns]\n"
     ]
    }
   ],
   "source": [
    "# 19년 2,3분기 7개 동 데이터 없음 -> 19년 1분기 7개 동 데이터로 채워넣음\n",
    "for x in diff_직장_192:\n",
    "    new_row1=df_직장인구.loc[(df_직장인구['행정동_코드']==x)&(df_직장인구['기준_년분기_코드']==20191)]\n",
    "    new_row1['기준_년분기_코드']=20192\n",
    "    new_row2=df_직장인구.loc[(df_직장인구['행정동_코드']==x)&(df_직장인구['기준_년분기_코드']==20191)]\n",
    "    new_row2['기준_년분기_코드']=20193\n",
    "    df_직장인구.append(new_row1)\n",
    "    df_직장인구.append(new_row2)\n",
    "    "
   ]
  },
  {
   "cell_type": "code",
   "execution_count": 205,
   "metadata": {},
   "outputs": [
    {
     "data": {
      "text/plain": [
       "([11305595, 11305603, 11305608, 11305615, 11305625, 11305635, 11530800],\n",
       " [11305595, 11305603, 11305608, 11305615, 11305625, 11305635, 11530800])"
      ]
     },
     "execution_count": 205,
     "metadata": {},
     "output_type": "execute_result"
    }
   ],
   "source": [
    "diff_직장_192,diff_직장_193\n",
    "# 번1,2,3동/ 수유1,2,3동/ 항동"
   ]
  },
  {
   "cell_type": "code",
   "execution_count": null,
   "metadata": {},
   "outputs": [],
   "source": [
    "for new in diff_직장_192:\n",
    "    new_rows=pd.DataFrame({'기준_년분기_코드':,'행정동_코드'})"
   ]
  },
  {
   "cell_type": "code",
   "execution_count": 209,
   "metadata": {},
   "outputs": [
    {
     "data": {
      "text/html": [
       "<div>\n",
       "<style scoped>\n",
       "    .dataframe tbody tr th:only-of-type {\n",
       "        vertical-align: middle;\n",
       "    }\n",
       "\n",
       "    .dataframe tbody tr th {\n",
       "        vertical-align: top;\n",
       "    }\n",
       "\n",
       "    .dataframe thead th {\n",
       "        text-align: right;\n",
       "    }\n",
       "</style>\n",
       "<table border=\"1\" class=\"dataframe\">\n",
       "  <thead>\n",
       "    <tr style=\"text-align: right;\">\n",
       "      <th></th>\n",
       "      <th>기준_년분기_코드</th>\n",
       "      <th>행정동_코드</th>\n",
       "      <th>행정동_코드_명</th>\n",
       "      <th>총_직장_인구_수</th>\n",
       "      <th>남성_직장_인구_수</th>\n",
       "      <th>여성_직장_인구_수</th>\n",
       "      <th>연령대_10_직장_인구_수</th>\n",
       "      <th>연령대_20_직장_인구_수</th>\n",
       "      <th>연령대_30_직장_인구_수</th>\n",
       "      <th>연령대_40_직장_인구_수</th>\n",
       "      <th>...</th>\n",
       "      <th>남성연령대_30_직장_인구_수</th>\n",
       "      <th>남성연령대_40_직장_인구_수</th>\n",
       "      <th>남성연령대_50_직장_인구_수</th>\n",
       "      <th>남성연령대_60_이상_직장_인구_수</th>\n",
       "      <th>여성연령대_10_직장_인구_수</th>\n",
       "      <th>여성연령대_20_직장_인구_수</th>\n",
       "      <th>여성연령대_30_직장_인구_수</th>\n",
       "      <th>여성연령대_40_직장_인구_수</th>\n",
       "      <th>여성연령대_50_직장_인구_수</th>\n",
       "      <th>여성연령대_60_이상_직장_인구_수</th>\n",
       "    </tr>\n",
       "  </thead>\n",
       "  <tbody>\n",
       "    <tr>\n",
       "      <th>123</th>\n",
       "      <td>20191</td>\n",
       "      <td>11305595</td>\n",
       "      <td>번1동</td>\n",
       "      <td>4381</td>\n",
       "      <td>2302</td>\n",
       "      <td>2079</td>\n",
       "      <td>13</td>\n",
       "      <td>571</td>\n",
       "      <td>865</td>\n",
       "      <td>963</td>\n",
       "      <td>...</td>\n",
       "      <td>500</td>\n",
       "      <td>510</td>\n",
       "      <td>642</td>\n",
       "      <td>440</td>\n",
       "      <td>7</td>\n",
       "      <td>367</td>\n",
       "      <td>365</td>\n",
       "      <td>453</td>\n",
       "      <td>515</td>\n",
       "      <td>372</td>\n",
       "    </tr>\n",
       "  </tbody>\n",
       "</table>\n",
       "<p>1 rows × 24 columns</p>\n",
       "</div>"
      ],
      "text/plain": [
       "     기준_년분기_코드    행정동_코드 행정동_코드_명  총_직장_인구_수  남성_직장_인구_수  여성_직장_인구_수  \\\n",
       "123      20191  11305595      번1동       4381        2302        2079   \n",
       "\n",
       "     연령대_10_직장_인구_수  연령대_20_직장_인구_수  연령대_30_직장_인구_수  연령대_40_직장_인구_수  ...  \\\n",
       "123              13             571             865             963  ...   \n",
       "\n",
       "     남성연령대_30_직장_인구_수  남성연령대_40_직장_인구_수  남성연령대_50_직장_인구_수  \\\n",
       "123               500               510               642   \n",
       "\n",
       "     남성연령대_60_이상_직장_인구_수  여성연령대_10_직장_인구_수  여성연령대_20_직장_인구_수  \\\n",
       "123                  440                 7               367   \n",
       "\n",
       "     여성연령대_30_직장_인구_수  여성연령대_40_직장_인구_수  여성연령대_50_직장_인구_수  여성연령대_60_이상_직장_인구_수  \n",
       "123               365               453               515                  372  \n",
       "\n",
       "[1 rows x 24 columns]"
      ]
     },
     "execution_count": 209,
     "metadata": {},
     "output_type": "execute_result"
    }
   ],
   "source": [
    "temp_직장인구=df_직장인구.loc[df_직장인구['기준_년분기_코드']==20191]\n",
    "temp_직장인구=temp_직장인구.loc[temp_직장인구['행정동_코드']==11305595]\n",
    "temp_직장인구\n"
   ]
  },
  {
   "cell_type": "code",
   "execution_count": 214,
   "metadata": {},
   "outputs": [
    {
     "data": {
      "text/html": [
       "<div>\n",
       "<style scoped>\n",
       "    .dataframe tbody tr th:only-of-type {\n",
       "        vertical-align: middle;\n",
       "    }\n",
       "\n",
       "    .dataframe tbody tr th {\n",
       "        vertical-align: top;\n",
       "    }\n",
       "\n",
       "    .dataframe thead th {\n",
       "        text-align: right;\n",
       "    }\n",
       "</style>\n",
       "<table border=\"1\" class=\"dataframe\">\n",
       "  <thead>\n",
       "    <tr style=\"text-align: right;\">\n",
       "      <th></th>\n",
       "      <th>기준_년분기_코드</th>\n",
       "      <th>행정동_코드</th>\n",
       "      <th>행정동_코드_명</th>\n",
       "      <th>총_직장_인구_수</th>\n",
       "      <th>남성_직장_인구_수</th>\n",
       "      <th>여성_직장_인구_수</th>\n",
       "      <th>연령대_10_직장_인구_수</th>\n",
       "      <th>연령대_20_직장_인구_수</th>\n",
       "      <th>연령대_30_직장_인구_수</th>\n",
       "      <th>연령대_40_직장_인구_수</th>\n",
       "      <th>...</th>\n",
       "      <th>남성연령대_30_직장_인구_수</th>\n",
       "      <th>남성연령대_40_직장_인구_수</th>\n",
       "      <th>남성연령대_50_직장_인구_수</th>\n",
       "      <th>남성연령대_60_이상_직장_인구_수</th>\n",
       "      <th>여성연령대_10_직장_인구_수</th>\n",
       "      <th>여성연령대_20_직장_인구_수</th>\n",
       "      <th>여성연령대_30_직장_인구_수</th>\n",
       "      <th>여성연령대_40_직장_인구_수</th>\n",
       "      <th>여성연령대_50_직장_인구_수</th>\n",
       "      <th>여성연령대_60_이상_직장_인구_수</th>\n",
       "    </tr>\n",
       "  </thead>\n",
       "  <tbody>\n",
       "  </tbody>\n",
       "</table>\n",
       "<p>0 rows × 24 columns</p>\n",
       "</div>"
      ],
      "text/plain": [
       "Empty DataFrame\n",
       "Columns: [기준_년분기_코드, 행정동_코드, 행정동_코드_명, 총_직장_인구_수, 남성_직장_인구_수, 여성_직장_인구_수, 연령대_10_직장_인구_수, 연령대_20_직장_인구_수, 연령대_30_직장_인구_수, 연령대_40_직장_인구_수, 연령대_50_직장_인구_수, 연령대_60_이상_직장_인구_수, 남성연령대_10_직장_인구_수, 남성연령대_20_직장_인구_수, 남성연령대_30_직장_인구_수, 남성연령대_40_직장_인구_수, 남성연령대_50_직장_인구_수, 남성연령대_60_이상_직장_인구_수, 여성연령대_10_직장_인구_수, 여성연령대_20_직장_인구_수, 여성연령대_30_직장_인구_수, 여성연령대_40_직장_인구_수, 여성연령대_50_직장_인구_수, 여성연령대_60_이상_직장_인구_수]\n",
       "Index: []\n",
       "\n",
       "[0 rows x 24 columns]"
      ]
     },
     "execution_count": 214,
     "metadata": {},
     "output_type": "execute_result"
    }
   ],
   "source": [
    "temp1=df_직장인구.loc[df_직장인구['기준_년분기_코드']==20192]\n",
    "temp1.loc[temp1['행정동_코드']==11305595]"
   ]
  },
  {
   "cell_type": "code",
   "execution_count": null,
   "metadata": {},
   "outputs": [],
   "source": []
  },
  {
   "cell_type": "code",
   "execution_count": 71,
   "metadata": {},
   "outputs": [
    {
     "data": {
      "text/plain": [
       "(7650, 98)"
      ]
     },
     "execution_count": 71,
     "metadata": {},
     "output_type": "execute_result"
    }
   ],
   "source": [
    "# # 직장인구 merge\n",
    "# df_total=pd.merge(df_total,df_직장인구,how='left',on=['기준_년분기_코드','행정동_코드','행정동_코드_명'])\n",
    "# df_total.shape"
   ]
  },
  {
   "cell_type": "code",
   "execution_count": 213,
   "metadata": {},
   "outputs": [
    {
     "data": {
      "text/plain": [
       "(4675, 23)"
      ]
     },
     "execution_count": 213,
     "metadata": {},
     "output_type": "execute_result"
    }
   ],
   "source": [
    "# 집객시설\n",
    "dfs_집객시설=[]\n",
    "for f_name in glob(path+'집객시설/*.csv'):\n",
    "    temp=pd.read_csv(f_name,encoding='cp949')\n",
    "    dfs_집객시설.append(temp)\n",
    "df_집객시설,=dfs_집객시설\n",
    "df_집객시설.shape"
   ]
  },
  {
   "cell_type": "code",
   "execution_count": 74,
   "metadata": {},
   "outputs": [
    {
     "name": "stdout",
     "output_type": "stream",
     "text": [
      "년분기: 20232  425  \n",
      "년분기: 20231  425  년분기: 20204  425  년분기: 20214  425  년분기: 20211  425  년분기: 20212  425  년분기: 20221  425  년분기: 20222  425  \n",
      "년분기: 20213  425  년분기: 20223  425  년분기: 20224  425  cnt: 11\n"
     ]
    }
   ],
   "source": [
    "temp_total=0\n",
    "cnt=0\n",
    "for x in df_집객시설['기준_년분기_코드'].unique():\n",
    "    print(\"년분기:\",x,end='  ')\n",
    "    print(df_집객시설.loc[df_집객시설['기준_년분기_코드']==x]['기준_년분기_코드'].count(),end='  ')\n",
    "    if cnt%7==0:\n",
    "        print()\n",
    "    cnt+=1\n",
    "print(\"cnt:\",cnt)"
   ]
  },
  {
   "cell_type": "code",
   "execution_count": 75,
   "metadata": {},
   "outputs": [
    {
     "data": {
      "text/plain": [
       "(7650, 118)"
      ]
     },
     "execution_count": 75,
     "metadata": {},
     "output_type": "execute_result"
    }
   ],
   "source": [
    "# 집객시설 merge\n",
    "df_total=pd.merge(df_total,df_집객시설,how='left',on=['기준_년분기_코드','행정동_코드','행정동_코드_명'])\n",
    "df_total.shape"
   ]
  },
  {
   "cell_type": "code",
   "execution_count": 76,
   "metadata": {},
   "outputs": [],
   "source": [
    "# 추정매출\n",
    "dfs_추정매출=[]\n",
    "for f_name in glob(path+'추정매출/*.csv'):\n",
    "    temp=pd.read_csv(f_name,encoding='cp949')\n",
    "    dfs_추정매출.append(temp)\n",
    "i,j,k,l=dfs_추정매출"
   ]
  },
  {
   "cell_type": "code",
   "execution_count": 77,
   "metadata": {},
   "outputs": [
    {
     "data": {
      "text/plain": [
       "((65758, 53), (66583, 53), (67111, 53), (67748, 53))"
      ]
     },
     "execution_count": 77,
     "metadata": {},
     "output_type": "execute_result"
    }
   ],
   "source": [
    "i.shape,j.shape,k.shape,l.shape"
   ]
  },
  {
   "cell_type": "code",
   "execution_count": 81,
   "metadata": {},
   "outputs": [
    {
     "data": {
      "text/plain": [
       "True"
      ]
     },
     "execution_count": 81,
     "metadata": {},
     "output_type": "execute_result"
    }
   ],
   "source": [
    "columns_equal = all(i.columns == j.columns)\n",
    "columns_equal\n"
   ]
  },
  {
   "cell_type": "code",
   "execution_count": 82,
   "metadata": {},
   "outputs": [
    {
     "data": {
      "text/plain": [
       "True"
      ]
     },
     "execution_count": 82,
     "metadata": {},
     "output_type": "execute_result"
    }
   ],
   "source": [
    "columns_equal = all(k.columns == l.columns)\n",
    "columns_equal"
   ]
  },
  {
   "cell_type": "code",
   "execution_count": 85,
   "metadata": {},
   "outputs": [
    {
     "data": {
      "text/plain": [
       "array([20191, 20192, 20193, 20194], dtype=int64)"
      ]
     },
     "execution_count": 85,
     "metadata": {},
     "output_type": "execute_result"
    }
   ],
   "source": [
    "i['기준_년분기_코드'].unique()"
   ]
  },
  {
   "cell_type": "code",
   "execution_count": 86,
   "metadata": {},
   "outputs": [],
   "source": [
    "i_1=i.loc[i['기준_년분기_코드']==20191]\n",
    "i_2=i.loc[i['기준_년분기_코드']==20192]\n",
    "i_3=i.loc[i['기준_년분기_코드']==20193]\n",
    "i_4=i.loc[i['기준_년분기_코드']==20194]"
   ]
  },
  {
   "cell_type": "code",
   "execution_count": 87,
   "metadata": {},
   "outputs": [
    {
     "data": {
      "text/plain": [
       "array([20201, 20202, 20203, 20204], dtype=int64)"
      ]
     },
     "execution_count": 87,
     "metadata": {},
     "output_type": "execute_result"
    }
   ],
   "source": [
    "j['기준_년분기_코드'].unique()"
   ]
  },
  {
   "cell_type": "code",
   "execution_count": 88,
   "metadata": {},
   "outputs": [],
   "source": [
    "j_1=j.loc[j['기준_년분기_코드']==20201]\n",
    "j_2=j.loc[j['기준_년분기_코드']==20202]\n",
    "j_3=j.loc[j['기준_년분기_코드']==20203]\n",
    "j_4=j.loc[j['기준_년분기_코드']==20204]"
   ]
  },
  {
   "cell_type": "code",
   "execution_count": 89,
   "metadata": {},
   "outputs": [
    {
     "data": {
      "text/plain": [
       "array([20211, 20212, 20213, 20214], dtype=int64)"
      ]
     },
     "execution_count": 89,
     "metadata": {},
     "output_type": "execute_result"
    }
   ],
   "source": [
    "k['기준_년분기_코드'].unique()"
   ]
  },
  {
   "cell_type": "code",
   "execution_count": 90,
   "metadata": {},
   "outputs": [],
   "source": [
    "k_1=k.loc[k['기준_년분기_코드']==20211]\n",
    "k_2=k.loc[k['기준_년분기_코드']==20212]\n",
    "k_3=k.loc[k['기준_년분기_코드']==20213]\n",
    "k_4=k.loc[k['기준_년분기_코드']==20214]"
   ]
  },
  {
   "cell_type": "code",
   "execution_count": 91,
   "metadata": {},
   "outputs": [
    {
     "data": {
      "text/plain": [
       "array([20221, 20222, 20223, 20224], dtype=int64)"
      ]
     },
     "execution_count": 91,
     "metadata": {},
     "output_type": "execute_result"
    }
   ],
   "source": [
    "l['기준_년분기_코드'].unique()"
   ]
  },
  {
   "cell_type": "code",
   "execution_count": 92,
   "metadata": {},
   "outputs": [],
   "source": [
    "l_1=l.loc[l['기준_년분기_코드']==20221]\n",
    "l_2=l.loc[l['기준_년분기_코드']==20222]\n",
    "l_3=l.loc[l['기준_년분기_코드']==20223]\n",
    "l_4=l.loc[l['기준_년분기_코드']==20224]"
   ]
  },
  {
   "cell_type": "code",
   "execution_count": 140,
   "metadata": {},
   "outputs": [],
   "source": [
    "dong_code_추정매출_191=list(i_1.loc[i_1['기준_년분기_코드']==20191]['행정동_코드'])\n",
    "dong_code_추정매출_192=list(i_2.loc[i_2['기준_년분기_코드']==20192]['행정동_코드'])\n",
    "dong_code_추정매출_193=list(i_3.loc[i_3['기준_년분기_코드']==20193]['행정동_코드'])\n",
    "dong_code_추정매출_194=list(i_4.loc[i_4['기준_년분기_코드']==20194]['행정동_코드'])"
   ]
  },
  {
   "cell_type": "code",
   "execution_count": 141,
   "metadata": {},
   "outputs": [],
   "source": [
    "diff_추정매출_191=[x for x in dong_code_20194 if x not in dong_code_추정매출_191 ]\n",
    "diff_추정매출_192=[x for x in dong_code_20194 if x not in dong_code_추정매출_192 ]\n",
    "diff_추정매출_193=[x for x in dong_code_20194 if x not in dong_code_추정매출_193 ]\n",
    "diff_추정매출_194=[x for x in dong_code_20194 if x not in dong_code_추정매출_194 ]"
   ]
  },
  {
   "cell_type": "code",
   "execution_count": 142,
   "metadata": {},
   "outputs": [
    {
     "data": {
      "text/plain": [
       "([11530800, 11740690],\n",
       " [11530800, 11740690],\n",
       " [11530800, 11740690],\n",
       " [11530800, 11740690])"
      ]
     },
     "execution_count": 142,
     "metadata": {},
     "output_type": "execute_result"
    }
   ],
   "source": [
    "diff_추정매출_191,diff_추정매출_192,diff_추정매출_193,diff_추정매출_194"
   ]
  },
  {
   "cell_type": "code",
   "execution_count": 124,
   "metadata": {},
   "outputs": [],
   "source": [
    "dong_code_추정매출_201=list(j_1.loc[j_1['기준_년분기_코드']==20201]['행정동_코드'])\n",
    "dong_code_추정매출_202=list(j_2.loc[j_2['기준_년분기_코드']==20202]['행정동_코드'])\n",
    "dong_code_추정매출_203=list(j_3.loc[j_3['기준_년분기_코드']==20203]['행정동_코드'])\n",
    "dong_code_추정매출_204=list(j_4.loc[j_4['기준_년분기_코드']==20204]['행정동_코드'])"
   ]
  },
  {
   "cell_type": "code",
   "execution_count": 125,
   "metadata": {},
   "outputs": [],
   "source": [
    "diff_추정매출_201=[x for x in dong_code_20194 if x not in dong_code_추정매출_201 ]\n",
    "diff_추정매출_202=[x for x in dong_code_20194 if x not in dong_code_추정매출_202 ]\n",
    "diff_추정매출_203=[x for x in dong_code_20194 if x not in dong_code_추정매출_203 ]\n",
    "diff_추정매출_204=[x for x in dong_code_20194 if x not in dong_code_추정매출_204 ]"
   ]
  },
  {
   "cell_type": "code",
   "execution_count": 127,
   "metadata": {},
   "outputs": [
    {
     "data": {
      "text/plain": [
       "([11530800, 11740690],\n",
       " [11530800, 11740690],\n",
       " [11530800, 11740690],\n",
       " [11530800, 11740690])"
      ]
     },
     "execution_count": 127,
     "metadata": {},
     "output_type": "execute_result"
    }
   ],
   "source": [
    "diff_추정매출_201,diff_추정매출_202,diff_추정매출_203,diff_추정매출_204"
   ]
  },
  {
   "cell_type": "code",
   "execution_count": null,
   "metadata": {},
   "outputs": [],
   "source": [
    "# 항동:     11530800\n",
    "# 둔촌1동:  11740690\n"
   ]
  },
  {
   "cell_type": "code",
   "execution_count": 132,
   "metadata": {},
   "outputs": [],
   "source": [
    "dong_code_추정매출_211=list(k_1.loc[k_1['기준_년분기_코드']==20211]['행정동_코드'])\n",
    "dong_code_추정매출_212=list(k_2.loc[k_2['기준_년분기_코드']==20212]['행정동_코드'])\n",
    "dong_code_추정매출_213=list(k_3.loc[k_3['기준_년분기_코드']==20213]['행정동_코드'])\n",
    "dong_code_추정매출_214=list(k_4.loc[k_4['기준_년분기_코드']==20214]['행정동_코드'])"
   ]
  },
  {
   "cell_type": "code",
   "execution_count": 133,
   "metadata": {},
   "outputs": [],
   "source": [
    "diff_추정매출_211=[x for x in dong_code_20194 if x not in dong_code_추정매출_211 ]\n",
    "diff_추정매출_212=[x for x in dong_code_20194 if x not in dong_code_추정매출_212 ]\n",
    "diff_추정매출_213=[x for x in dong_code_20194 if x not in dong_code_추정매출_213 ]\n",
    "diff_추정매출_214=[x for x in dong_code_20194 if x not in dong_code_추정매출_214 ]"
   ]
  },
  {
   "cell_type": "code",
   "execution_count": 134,
   "metadata": {},
   "outputs": [
    {
     "data": {
      "text/plain": [
       "([11530800, 11740690],\n",
       " [11530800, 11740690],\n",
       " [11530800, 11740690],\n",
       " [11530800, 11740690])"
      ]
     },
     "execution_count": 134,
     "metadata": {},
     "output_type": "execute_result"
    }
   ],
   "source": [
    "diff_추정매출_211,diff_추정매출_212,diff_추정매출_213,diff_추정매출_214"
   ]
  },
  {
   "cell_type": "code",
   "execution_count": 135,
   "metadata": {},
   "outputs": [],
   "source": [
    "dong_code_추정매출_221=list(l_1.loc[l_1['기준_년분기_코드']==20221]['행정동_코드'])\n",
    "dong_code_추정매출_222=list(l_2.loc[l_2['기준_년분기_코드']==20222]['행정동_코드'])\n",
    "dong_code_추정매출_223=list(l_3.loc[l_3['기준_년분기_코드']==20223]['행정동_코드'])\n",
    "dong_code_추정매출_224=list(l_4.loc[l_4['기준_년분기_코드']==20224]['행정동_코드'])"
   ]
  },
  {
   "cell_type": "code",
   "execution_count": 136,
   "metadata": {},
   "outputs": [],
   "source": [
    "diff_추정매출_221=[x for x in dong_code_20194 if x not in dong_code_추정매출_221 ]\n",
    "diff_추정매출_222=[x for x in dong_code_20194 if x not in dong_code_추정매출_222 ]\n",
    "diff_추정매출_223=[x for x in dong_code_20194 if x not in dong_code_추정매출_223 ]\n",
    "diff_추정매출_224=[x for x in dong_code_20194 if x not in dong_code_추정매출_224 ]"
   ]
  },
  {
   "cell_type": "code",
   "execution_count": 137,
   "metadata": {},
   "outputs": [
    {
     "data": {
      "text/plain": [
       "([11530800, 11740690], [11740690], [11740690], [11740690])"
      ]
     },
     "execution_count": 137,
     "metadata": {},
     "output_type": "execute_result"
    }
   ],
   "source": [
    "diff_추정매출_221,diff_추정매출_222,diff_추정매출_223,diff_추정매출_224"
   ]
  },
  {
   "cell_type": "code",
   "execution_count": 93,
   "metadata": {},
   "outputs": [
    {
     "data": {
      "text/plain": [
       "(423, 423, 423, 423)"
      ]
     },
     "execution_count": 93,
     "metadata": {},
     "output_type": "execute_result"
    }
   ],
   "source": [
    "len(i_1['행정동_코드'].unique()),len(i_2['행정동_코드'].unique()),len(i_3['행정동_코드'].unique()),len(i_4['행정동_코드'].unique())"
   ]
  },
  {
   "cell_type": "code",
   "execution_count": 94,
   "metadata": {},
   "outputs": [
    {
     "data": {
      "text/plain": [
       "(423, 423, 423, 423)"
      ]
     },
     "execution_count": 94,
     "metadata": {},
     "output_type": "execute_result"
    }
   ],
   "source": [
    "len(j_1['행정동_코드'].unique()),len(j_2['행정동_코드'].unique()),len(j_3['행정동_코드'].unique()),len(j_4['행정동_코드'].unique())"
   ]
  },
  {
   "cell_type": "code",
   "execution_count": 95,
   "metadata": {},
   "outputs": [
    {
     "data": {
      "text/plain": [
       "(423, 423, 423, 423)"
      ]
     },
     "execution_count": 95,
     "metadata": {},
     "output_type": "execute_result"
    }
   ],
   "source": [
    "len(k_1['행정동_코드'].unique()),len(k_2['행정동_코드'].unique()),len(k_3['행정동_코드'].unique()),len(k_4['행정동_코드'].unique())"
   ]
  },
  {
   "cell_type": "code",
   "execution_count": 96,
   "metadata": {},
   "outputs": [
    {
     "data": {
      "text/plain": [
       "(423, 424, 424, 424)"
      ]
     },
     "execution_count": 96,
     "metadata": {},
     "output_type": "execute_result"
    }
   ],
   "source": [
    "len(l_1['행정동_코드'].unique()),len(l_2['행정동_코드'].unique()),len(l_3['행정동_코드'].unique()),len(l_4['행정동_코드'].unique())"
   ]
  },
  {
   "cell_type": "code",
   "execution_count": 97,
   "metadata": {},
   "outputs": [
    {
     "data": {
      "text/plain": [
       "((16298, 53),\n",
       " (16436, 53),\n",
       " (16471, 53),\n",
       " (16553, 53),\n",
       " (16525, 53),\n",
       " (16678, 53),\n",
       " (16695, 53),\n",
       " (16685, 53),\n",
       " (16640, 53),\n",
       " (16798, 53),\n",
       " (16806, 53),\n",
       " (16867, 53),\n",
       " (16830, 53),\n",
       " (16934, 53),\n",
       " (16976, 53),\n",
       " (17008, 53))"
      ]
     },
     "execution_count": 97,
     "metadata": {},
     "output_type": "execute_result"
    }
   ],
   "source": [
    "i_1.shape,i_2.shape,i_3.shape,i_4.shape,j_1.shape,j_2.shape,j_3.shape,j_4.shape,k_1.shape,k_2.shape,k_3.shape,k_4.shape,l_1.shape,l_2.shape,l_3.shape,l_4.shape"
   ]
  },
  {
   "cell_type": "code",
   "execution_count": 103,
   "metadata": {},
   "outputs": [
    {
     "data": {
      "text/plain": [
       "(267200, 53)"
      ]
     },
     "execution_count": 103,
     "metadata": {},
     "output_type": "execute_result"
    }
   ],
   "source": [
    "# 추정매출 합치기\n",
    "df_추정매출=pd.concat([i,j,k,l],axis=0)\n",
    "df_추정매출.shape\n"
   ]
  },
  {
   "cell_type": "code",
   "execution_count": 122,
   "metadata": {},
   "outputs": [
    {
     "data": {
      "text/plain": [
       "(562808, 60)"
      ]
     },
     "execution_count": 122,
     "metadata": {},
     "output_type": "execute_result"
    }
   ],
   "source": [
    "# merge (outer join)\n",
    "df_total_2=pd.merge(df_total_2,df_추정매출,how='outer',on=['기준_년분기_코드', '행정동_코드', '행정동_코드_명', '서비스_업종_코드', '서비스_업종_코드_명'])\n",
    "df_total_2.shape"
   ]
  },
  {
   "cell_type": "code",
   "execution_count": 119,
   "metadata": {},
   "outputs": [
    {
     "data": {
      "text/plain": [
       "((7650, 118), (562808, 60))"
      ]
     },
     "execution_count": 119,
     "metadata": {},
     "output_type": "execute_result"
    }
   ],
   "source": [
    "df_total.shape,df_total_2.shape"
   ]
  },
  {
   "cell_type": "code",
   "execution_count": 212,
   "metadata": {},
   "outputs": [
    {
     "data": {
      "text/html": [
       "<div>\n",
       "<style scoped>\n",
       "    .dataframe tbody tr th:only-of-type {\n",
       "        vertical-align: middle;\n",
       "    }\n",
       "\n",
       "    .dataframe tbody tr th {\n",
       "        vertical-align: top;\n",
       "    }\n",
       "\n",
       "    .dataframe thead th {\n",
       "        text-align: right;\n",
       "    }\n",
       "</style>\n",
       "<table border=\"1\" class=\"dataframe\">\n",
       "  <thead>\n",
       "    <tr style=\"text-align: right;\">\n",
       "      <th></th>\n",
       "    </tr>\n",
       "  </thead>\n",
       "  <tbody>\n",
       "  </tbody>\n",
       "</table>\n",
       "</div>"
      ],
      "text/plain": [
       "Empty DataFrame\n",
       "Columns: []\n",
       "Index: []"
      ]
     },
     "execution_count": 212,
     "metadata": {},
     "output_type": "execute_result"
    }
   ],
   "source": [
    "df_집객시설"
   ]
  },
  {
   "cell_type": "code",
   "execution_count": null,
   "metadata": {},
   "outputs": [],
   "source": []
  }
 ],
 "metadata": {
  "kernelspec": {
   "display_name": "Python 3",
   "language": "python",
   "name": "python3"
  },
  "language_info": {
   "codemirror_mode": {
    "name": "ipython",
    "version": 3
   },
   "file_extension": ".py",
   "mimetype": "text/x-python",
   "name": "python",
   "nbconvert_exporter": "python",
   "pygments_lexer": "ipython3",
   "version": "3.11.7"
  }
 },
 "nbformat": 4,
 "nbformat_minor": 2
}
