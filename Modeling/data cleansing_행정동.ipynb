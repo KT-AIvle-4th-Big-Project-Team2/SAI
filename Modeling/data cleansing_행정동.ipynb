{
 "cells": [
  {
   "cell_type": "code",
   "execution_count": 2,
   "metadata": {},
   "outputs": [],
   "source": [
    "from glob import glob\n",
    "import pandas as pd"
   ]
  },
  {
   "cell_type": "code",
   "execution_count": 3,
   "metadata": {},
   "outputs": [],
   "source": [
    "df_total=pd.DataFrame()\n",
    "df_추정매출=pd.DataFrame()\n",
    "df_상주인구=pd.DataFrame()\n",
    "df_생활인구=pd.DataFrame()\n",
    "df_소득소비=pd.DataFrame()\n",
    "df_아파트=pd.DataFrame()\n",
    "df_영역=pd.DataFrame()\n",
    "df_점포=pd.DataFrame()\n",
    "df_직장인구=pd.DataFrame()\n",
    "df_집객시설=pd.DataFrame()"
   ]
  },
  {
   "cell_type": "code",
   "execution_count": 4,
   "metadata": {},
   "outputs": [],
   "source": [
    "path='../../../big_proj/data/raw data/행정동/'"
   ]
  },
  {
   "cell_type": "markdown",
   "metadata": {},
   "source": [
    "#### 추정매출"
   ]
  },
  {
   "cell_type": "code",
   "execution_count": 9,
   "metadata": {},
   "outputs": [],
   "source": [
    "\n",
    "dfs_추정매출=[]\n",
    "for f_name in glob(path+'추정매출/*.csv'):\n",
    "    temp=pd.read_csv(f_name,encoding='cp949')\n",
    "    dfs_추정매출.append(temp)\n",
    "a,b,c,d,e=dfs_추정매출"
   ]
  },
  {
   "cell_type": "code",
   "execution_count": 10,
   "metadata": {},
   "outputs": [
    {
     "data": {
      "text/plain": [
       "(368904, 53)"
      ]
     },
     "execution_count": 10,
     "metadata": {},
     "output_type": "execute_result"
    }
   ],
   "source": [
    "df_추정매출=pd.concat([a,b,c,d,e])\n",
    "df_추정매출 = df_추정매출.reset_index(drop=True)\n",
    "df_추정매출.shape"
   ]
  },
  {
   "cell_type": "code",
   "execution_count": 11,
   "metadata": {},
   "outputs": [
    {
     "data": {
      "text/plain": [
       "array([20221, 20222, 20223, 20224, 20231, 20232, 20191, 20192, 20193,\n",
       "       20194, 20201, 20202, 20203, 20204, 20211, 20212, 20213, 20214],\n",
       "      dtype=int64)"
      ]
     },
     "execution_count": 11,
     "metadata": {},
     "output_type": "execute_result"
    }
   ],
   "source": [
    "df_추정매출['기준_년분기_코드'].unique()"
   ]
  },
  {
   "cell_type": "code",
   "execution_count": 13,
   "metadata": {},
   "outputs": [
    {
     "data": {
      "text/plain": [
       "0"
      ]
     },
     "execution_count": 13,
     "metadata": {},
     "output_type": "execute_result"
    }
   ],
   "source": [
    "df_추정매출.isna().sum().sum()"
   ]
  },
  {
   "cell_type": "markdown",
   "metadata": {},
   "source": [
    "#### 상주인구"
   ]
  },
  {
   "cell_type": "code",
   "execution_count": 15,
   "metadata": {},
   "outputs": [
    {
     "data": {
      "text/plain": [
       "(7629, 27)"
      ]
     },
     "execution_count": 15,
     "metadata": {},
     "output_type": "execute_result"
    }
   ],
   "source": [
    "dfs_상주인구=[]\n",
    "for f_name in glob(path+'상주인구/*.csv'):\n",
    "    temp=pd.read_csv(f_name,encoding='cp949')\n",
    "    dfs_상주인구.append(temp)\n",
    "df_상주인구,=dfs_상주인구\n",
    "df_상주인구.shape"
   ]
  },
  {
   "cell_type": "code",
   "execution_count": 16,
   "metadata": {},
   "outputs": [
    {
     "data": {
      "text/plain": [
       "기준_년분기_코드             0\n",
       "행정동_코드                0\n",
       "행정동_코드_명              0\n",
       "총_상주인구_수              0\n",
       "남성_상주인구_수             0\n",
       "여성_상주인구_수             0\n",
       "연령대_10_상주인구_수         0\n",
       "연령대_20_상주인구_수         0\n",
       "연령대_30_상주인구_수         0\n",
       "연령대_40_상주인구_수         0\n",
       "연령대_50_상주인구_수         0\n",
       "연령대_60_이상_상주인구_수      0\n",
       "남성연령대_10_상주인구_수       0\n",
       "남성연령대_20_상주인구_수       0\n",
       "남성연령대_30_상주인구_수       0\n",
       "남성연령대_40_상주인구_수       0\n",
       "남성연령대_50_상주인구_수       0\n",
       "남성연령대_60_이상_상주인구_수    0\n",
       "여성연령대_10_상주인구_수       0\n",
       "여성연령대_20_상주인구_수       0\n",
       "여성연령대_30_상주인구_수       0\n",
       "여성연령대_40_상주인구_수       0\n",
       "여성연령대_50_상주인구_수       0\n",
       "여성연령대_60_이상_상주인구_수    0\n",
       "총_가구_수                0\n",
       "아파트_가구_수              0\n",
       "비_아파트_가구_수            0\n",
       "dtype: int64"
      ]
     },
     "execution_count": 16,
     "metadata": {},
     "output_type": "execute_result"
    }
   ],
   "source": [
    "df_상주인구.isna().sum()"
   ]
  },
  {
   "cell_type": "code",
   "execution_count": 32,
   "metadata": {},
   "outputs": [
    {
     "name": "stdout",
     "output_type": "stream",
     "text": [
      "년분기: 20191  행정동 개수:418  \n",
      "년분기: 20192  행정동 개수:418  년분기: 20193  행정동 개수:418  년분기: 20194  행정동 개수:425  \n",
      "년분기: 20201  행정동 개수:425  년분기: 20202  행정동 개수:425  년분기: 20203  행정동 개수:425  \n",
      "년분기: 20204  행정동 개수:425  년분기: 20211  행정동 개수:425  년분기: 20212  행정동 개수:425  \n",
      "년분기: 20213  행정동 개수:425  년분기: 20214  행정동 개수:425  년분기: 20221  행정동 개수:425  \n",
      "년분기: 20222  행정동 개수:425  년분기: 20224  행정동 개수:425  년분기: 20231  행정동 개수:425  \n",
      "년분기: 20232  행정동 개수:425  년분기: 20223  행정동 개수:425  cnt: 18\n"
     ]
    }
   ],
   "source": [
    "temp_total=0\n",
    "cnt=0\n",
    "for x in df_상주인구['기준_년분기_코드'].unique():\n",
    "    print(\"년분기:\",x,end='  ')\n",
    "    print(\"행정동 개수:\",end='')\n",
    "    print(df_상주인구.loc[df_상주인구['기준_년분기_코드']==x]['행정동_코드'].count(),end='  ')\n",
    "    if cnt%3==0:\n",
    "        print()\n",
    "    cnt+=1\n",
    "print(\"cnt:\",cnt)"
   ]
  },
  {
   "cell_type": "code",
   "execution_count": 33,
   "metadata": {},
   "outputs": [],
   "source": [
    "# 20191, 20192, 20193 \n",
    "dong_code_20191=list(df_상주인구.loc[df_상주인구['기준_년분기_코드']==20191]['행정동_코드'])\n",
    "dong_code_20192=list(df_상주인구.loc[df_상주인구['기준_년분기_코드']==20192]['행정동_코드'])\n",
    "dong_code_20193=list(df_상주인구.loc[df_상주인구['기준_년분기_코드']==20193]['행정동_코드'])\n",
    "dong_code_20194=list(df_상주인구.loc[df_상주인구['기준_년분기_코드']==20194]['행정동_코드'])"
   ]
  },
  {
   "cell_type": "code",
   "execution_count": 56,
   "metadata": {},
   "outputs": [
    {
     "name": "stdout",
     "output_type": "stream",
     "text": [
      "빠진 행정동 코드\n",
      "[11305595, 11305603, 11305608, 11305615, 11305625, 11305635, 11530800]\n",
      "[11305595, 11305603, 11305608, 11305615, 11305625, 11305635, 11530800]\n",
      "[11305595, 11305603, 11305608, 11305615, 11305625, 11305635, 11530800]\n"
     ]
    }
   ],
   "source": [
    "total_dong_code_425=dong_code_20194.copy()\n",
    "diff_191=[x for x in total_dong_code_425 if x not in dong_code_20191 ]\n",
    "diff_192=[x for x in total_dong_code_425 if x not in dong_code_20192 ]\n",
    "diff_193=[x for x in total_dong_code_425 if x not in dong_code_20193 ]\n",
    "print(\"빠진 행정동 코드\")\n",
    "print(diff_191)\n",
    "print(diff_192)\n",
    "print(diff_193)\n",
    "# 번1,2,3동/ 수유1,2,3동/ 항동"
   ]
  },
  {
   "cell_type": "code",
   "execution_count": 35,
   "metadata": {},
   "outputs": [
    {
     "name": "stderr",
     "output_type": "stream",
     "text": [
      "C:\\Users\\user\\AppData\\Local\\Temp\\ipykernel_27600\\2411538292.py:5: SettingWithCopyWarning: \n",
      "A value is trying to be set on a copy of a slice from a DataFrame.\n",
      "Try using .loc[row_indexer,col_indexer] = value instead\n",
      "\n",
      "See the caveats in the documentation: https://pandas.pydata.org/pandas-docs/stable/user_guide/indexing.html#returning-a-view-versus-a-copy\n",
      "  new_row1['기준_년분기_코드']=20191\n",
      "C:\\Users\\user\\AppData\\Local\\Temp\\ipykernel_27600\\2411538292.py:7: SettingWithCopyWarning: \n",
      "A value is trying to be set on a copy of a slice from a DataFrame.\n",
      "Try using .loc[row_indexer,col_indexer] = value instead\n",
      "\n",
      "See the caveats in the documentation: https://pandas.pydata.org/pandas-docs/stable/user_guide/indexing.html#returning-a-view-versus-a-copy\n",
      "  new_row2['기준_년분기_코드']=20192\n",
      "C:\\Users\\user\\AppData\\Local\\Temp\\ipykernel_27600\\2411538292.py:9: SettingWithCopyWarning: \n",
      "A value is trying to be set on a copy of a slice from a DataFrame.\n",
      "Try using .loc[row_indexer,col_indexer] = value instead\n",
      "\n",
      "See the caveats in the documentation: https://pandas.pydata.org/pandas-docs/stable/user_guide/indexing.html#returning-a-view-versus-a-copy\n",
      "  new_row3['기준_년분기_코드']=20193\n"
     ]
    }
   ],
   "source": [
    "없는_행정동코드=[11305595, 11305603, 11305608, 11305615, 11305625, 11305635, 11530800]\n",
    "# 19년 1,2,3분기 7개 동 데이터 없음 -> 19년 4분기 7개 동 데이터로 추가\n",
    "for x in 없는_행정동코드: # 7개 동 리스트\n",
    "    new_row1=df_상주인구.loc[(df_상주인구['행정동_코드']==x)&(df_상주인구['기준_년분기_코드']==20194)]\n",
    "    new_row1['기준_년분기_코드']=20191\n",
    "    new_row2=df_상주인구.loc[(df_상주인구['행정동_코드']==x)&(df_상주인구['기준_년분기_코드']==20194)]\n",
    "    new_row2['기준_년분기_코드']=20192\n",
    "    new_row3=df_상주인구.loc[(df_상주인구['행정동_코드']==x)&(df_상주인구['기준_년분기_코드']==20194)]\n",
    "    new_row3['기준_년분기_코드']=20193\n",
    "    df_상주인구 = pd.concat([df_상주인구, new_row1, new_row2, new_row3], ignore_index=True)"
   ]
  },
  {
   "cell_type": "code",
   "execution_count": 36,
   "metadata": {},
   "outputs": [
    {
     "name": "stdout",
     "output_type": "stream",
     "text": [
      "년분기: 20191  행정동 개수:425  \n",
      "년분기: 20192  행정동 개수:425  년분기: 20193  행정동 개수:425  년분기: 20194  행정동 개수:425  \n",
      "년분기: 20201  행정동 개수:425  년분기: 20202  행정동 개수:425  년분기: 20203  행정동 개수:425  \n",
      "년분기: 20204  행정동 개수:425  년분기: 20211  행정동 개수:425  년분기: 20212  행정동 개수:425  \n",
      "년분기: 20213  행정동 개수:425  년분기: 20214  행정동 개수:425  년분기: 20221  행정동 개수:425  \n",
      "년분기: 20222  행정동 개수:425  년분기: 20224  행정동 개수:425  년분기: 20231  행정동 개수:425  \n",
      "년분기: 20232  행정동 개수:425  년분기: 20223  행정동 개수:425  cnt: 18\n"
     ]
    }
   ],
   "source": [
    "cnt=0\n",
    "for x in df_상주인구['기준_년분기_코드'].unique():\n",
    "    print(\"년분기:\",x,end='  ')\n",
    "    print(\"행정동 개수:\",end='')\n",
    "    print(df_상주인구.loc[df_상주인구['기준_년분기_코드']==x]['행정동_코드'].count(),end='  ')\n",
    "    if cnt%3==0:\n",
    "        print()\n",
    "    cnt+=1\n",
    "print(\"cnt:\",cnt)"
   ]
  },
  {
   "cell_type": "code",
   "execution_count": 37,
   "metadata": {},
   "outputs": [
    {
     "data": {
      "text/plain": [
       "(7650, 27)"
      ]
     },
     "execution_count": 37,
     "metadata": {},
     "output_type": "execute_result"
    }
   ],
   "source": [
    "df_상주인구.shape"
   ]
  },
  {
   "cell_type": "markdown",
   "metadata": {},
   "source": [
    "### 생활인구"
   ]
  },
  {
   "cell_type": "code",
   "execution_count": 38,
   "metadata": {},
   "outputs": [
    {
     "data": {
      "text/plain": [
       "(7650, 25)"
      ]
     },
     "execution_count": 38,
     "metadata": {},
     "output_type": "execute_result"
    }
   ],
   "source": [
    "dfs_생활인구=[]\n",
    "for f_name in glob(path+'생활인구/*.csv'):\n",
    "    temp=pd.read_csv(f_name,encoding='cp949')\n",
    "    dfs_생활인구.append(temp)\n",
    "df_생활인구,=dfs_생활인구\n",
    "df_생활인구.shape"
   ]
  },
  {
   "cell_type": "code",
   "execution_count": 39,
   "metadata": {},
   "outputs": [
    {
     "name": "stdout",
     "output_type": "stream",
     "text": [
      "년분기: 20191  행정동 개수:425  \n",
      "년분기: 20192  행정동 개수:425  년분기: 20193  행정동 개수:425  년분기: 20194  행정동 개수:425  \n",
      "년분기: 20201  행정동 개수:425  년분기: 20202  행정동 개수:425  년분기: 20203  행정동 개수:425  \n",
      "년분기: 20204  행정동 개수:425  년분기: 20211  행정동 개수:425  년분기: 20212  행정동 개수:425  \n",
      "년분기: 20213  행정동 개수:425  년분기: 20214  행정동 개수:425  년분기: 20221  행정동 개수:425  \n",
      "년분기: 20222  행정동 개수:425  년분기: 20223  행정동 개수:425  년분기: 20224  행정동 개수:425  \n",
      "년분기: 20231  행정동 개수:425  년분기: 20232  행정동 개수:425  cnt: 18\n"
     ]
    }
   ],
   "source": [
    "cnt=0\n",
    "for x in df_생활인구['기준_년분기_코드'].unique():\n",
    "    print(\"년분기:\",x,end='  ')\n",
    "    print(\"행정동 개수:\",end='')\n",
    "    print(df_생활인구.loc[df_생활인구['기준_년분기_코드']==x]['행정동_코드'].count(),end='  ')\n",
    "    if cnt%3==0:\n",
    "        print()\n",
    "    cnt+=1\n",
    "print(\"cnt:\",cnt)"
   ]
  },
  {
   "cell_type": "code",
   "execution_count": 41,
   "metadata": {},
   "outputs": [
    {
     "data": {
      "text/plain": [
       "기준_년분기_코드           0\n",
       "행정동_코드              0\n",
       "행정동_코드_명            0\n",
       "총_유동인구_수            0\n",
       "남성_유동인구_수           0\n",
       "여성_유동인구_수           0\n",
       "연령대_10_유동인구_수       0\n",
       "연령대_20_유동인구_수       0\n",
       "연령대_30_유동인구_수       0\n",
       "연령대_40_유동인구_수       0\n",
       "연령대_50_유동인구_수       0\n",
       "연령대_60_이상_유동인구_수    0\n",
       "시간대_00_06_유동인구_수    0\n",
       "시간대_06_11_유동인구_수    0\n",
       "시간대_11_14_유동인구_수    0\n",
       "시간대_14_17_유동인구_수    0\n",
       "시간대_17_21_유동인구_수    0\n",
       "시간대_21_24_유동인구_수    0\n",
       "월요일_유동인구_수          0\n",
       "화요일_유동인구_수          0\n",
       "수요일_유동인구_수          0\n",
       "목요일_유동인구_수          0\n",
       "금요일_유동인구_수          0\n",
       "토요일_유동인구_수          0\n",
       "일요일_유동인구_수          0\n",
       "dtype: int64"
      ]
     },
     "execution_count": 41,
     "metadata": {},
     "output_type": "execute_result"
    }
   ],
   "source": [
    "df_생활인구.isna().sum()"
   ]
  },
  {
   "cell_type": "code",
   "execution_count": 42,
   "metadata": {},
   "outputs": [
    {
     "data": {
      "text/plain": [
       "(7650, 25)"
      ]
     },
     "execution_count": 42,
     "metadata": {},
     "output_type": "execute_result"
    }
   ],
   "source": [
    "df_생활인구.shape"
   ]
  },
  {
   "cell_type": "markdown",
   "metadata": {},
   "source": [
    "### 소득소비"
   ]
  },
  {
   "cell_type": "code",
   "execution_count": 45,
   "metadata": {},
   "outputs": [
    {
     "data": {
      "text/plain": [
       "(7650, 16)"
      ]
     },
     "execution_count": 45,
     "metadata": {},
     "output_type": "execute_result"
    }
   ],
   "source": [
    "dfs_소득소비=[]\n",
    "for f_name in glob(path+'소득소비/*.csv'):\n",
    "    temp=pd.read_csv(f_name,encoding='cp949')\n",
    "    dfs_소득소비.append(temp)\n",
    "df_소득소비,=dfs_소득소비\n",
    "df_소득소비.shape"
   ]
  },
  {
   "cell_type": "code",
   "execution_count": 46,
   "metadata": {},
   "outputs": [
    {
     "name": "stdout",
     "output_type": "stream",
     "text": [
      "년분기: 20231  행정동 개수:425  \n",
      "년분기: 20232  행정동 개수:425  년분기: 20191  행정동 개수:425  년분기: 20204  행정동 개수:425  \n",
      "년분기: 20192  행정동 개수:425  년분기: 20193  행정동 개수:425  년분기: 20194  행정동 개수:425  \n",
      "년분기: 20201  행정동 개수:425  년분기: 20202  행정동 개수:425  년분기: 20203  행정동 개수:425  \n",
      "년분기: 20211  행정동 개수:425  년분기: 20212  행정동 개수:425  년분기: 20213  행정동 개수:425  \n",
      "년분기: 20214  행정동 개수:425  년분기: 20221  행정동 개수:425  년분기: 20222  행정동 개수:425  \n",
      "년분기: 20223  행정동 개수:425  년분기: 20224  행정동 개수:425  cnt: 18\n"
     ]
    }
   ],
   "source": [
    "cnt=0\n",
    "for x in df_소득소비['기준_년분기_코드'].unique():\n",
    "    print(\"년분기:\",x,end='  ')\n",
    "    print(\"행정동 개수:\",end='')\n",
    "    print(df_소득소비.loc[df_소득소비['기준_년분기_코드']==x]['행정동_코드'].count(),end='  ')\n",
    "    if cnt%3==0:\n",
    "        print()\n",
    "    cnt+=1\n",
    "print(\"cnt:\",cnt)"
   ]
  },
  {
   "cell_type": "code",
   "execution_count": 47,
   "metadata": {},
   "outputs": [
    {
     "data": {
      "text/plain": [
       "기준_년분기_코드       0\n",
       "행정동_코드          0\n",
       "행정동_코드_명        0\n",
       "월_평균_소득_금액      0\n",
       "소득_구간_코드        0\n",
       "지출_총금액          0\n",
       "식료품_지출_총금액      0\n",
       "의류_신발_지출_총금액    0\n",
       "생활용품_지출_총금액     0\n",
       "의료비_지출_총금액      0\n",
       "교통_지출_총금액       0\n",
       "교육_지출_총금액       0\n",
       "유흥_지출_총금액       0\n",
       "여가_문화_지출_총금액    0\n",
       "기타_지출_총금액       0\n",
       "음식_지출_총금액       0\n",
       "dtype: int64"
      ]
     },
     "execution_count": 47,
     "metadata": {},
     "output_type": "execute_result"
    }
   ],
   "source": [
    "df_소득소비.isna().sum()"
   ]
  },
  {
   "cell_type": "code",
   "execution_count": 48,
   "metadata": {},
   "outputs": [
    {
     "data": {
      "text/plain": [
       "(7650, 16)"
      ]
     },
     "execution_count": 48,
     "metadata": {},
     "output_type": "execute_result"
    }
   ],
   "source": [
    "df_소득소비.shape"
   ]
  },
  {
   "cell_type": "markdown",
   "metadata": {},
   "source": [
    "### 아파트"
   ]
  },
  {
   "cell_type": "code",
   "execution_count": 49,
   "metadata": {},
   "outputs": [
    {
     "data": {
      "text/plain": [
       "(6368, 18)"
      ]
     },
     "execution_count": 49,
     "metadata": {},
     "output_type": "execute_result"
    }
   ],
   "source": [
    "# 아파트\n",
    "dfs_아파트=[]\n",
    "for f_name in glob(path+'아파트/*.csv'):\n",
    "    temp=pd.read_csv(f_name,encoding='cp949')\n",
    "    dfs_아파트.append(temp)\n",
    "df_아파트,=dfs_아파트\n",
    "df_아파트.shape"
   ]
  },
  {
   "cell_type": "code",
   "execution_count": 50,
   "metadata": {},
   "outputs": [
    {
     "data": {
      "text/plain": [
       "기준_년분기_코드                    0\n",
       "행정동_코드                       0\n",
       "행정동_코드_명                     0\n",
       "아파트_단지_수                     0\n",
       "아파트_면적_66_제곱미터_미만_세대_수      74\n",
       "아파트_면적_66_제곱미터_세대_수          3\n",
       "아파트_면적_99_제곱미터_세대_수        123\n",
       "아파트_면적_132_제곱미터_세대_수      1126\n",
       "아파트_면적_165_제곱미터_세대_수      2989\n",
       "아파트_가격_1_억_미만_세대_수         563\n",
       "아파트_가격_1_억_세대_수            298\n",
       "아파트_가격_2_억_세대_수            241\n",
       "아파트_가격_3_억_세대_수            248\n",
       "아파트_가격_4_억_세대_수            682\n",
       "아파트_가격_5_억_세대_수           1368\n",
       "아파트_가격_6_억_이상_세대_수        2090\n",
       "아파트_평균_면적                    0\n",
       "아파트_평균_시가                    0\n",
       "dtype: int64"
      ]
     },
     "execution_count": 50,
     "metadata": {},
     "output_type": "execute_result"
    }
   ],
   "source": [
    "df_아파트.isna().sum()"
   ]
  },
  {
   "cell_type": "code",
   "execution_count": 51,
   "metadata": {},
   "outputs": [
    {
     "data": {
      "text/plain": [
       "기준_년분기_코드                 0\n",
       "행정동_코드                    0\n",
       "행정동_코드_명                  0\n",
       "아파트_단지_수                  0\n",
       "아파트_면적_66_제곱미터_미만_세대_수    0\n",
       "아파트_면적_66_제곱미터_세대_수       0\n",
       "아파트_면적_99_제곱미터_세대_수       0\n",
       "아파트_면적_132_제곱미터_세대_수      0\n",
       "아파트_면적_165_제곱미터_세대_수      0\n",
       "아파트_가격_1_억_미만_세대_수        0\n",
       "아파트_가격_1_억_세대_수           0\n",
       "아파트_가격_2_억_세대_수           0\n",
       "아파트_가격_3_억_세대_수           0\n",
       "아파트_가격_4_억_세대_수           0\n",
       "아파트_가격_5_억_세대_수           0\n",
       "아파트_가격_6_억_이상_세대_수        0\n",
       "아파트_평균_면적                 0\n",
       "아파트_평균_시가                 0\n",
       "dtype: int64"
      ]
     },
     "execution_count": 51,
     "metadata": {},
     "output_type": "execute_result"
    }
   ],
   "source": [
    "df_아파트.fillna(0,inplace=True)\n",
    "df_아파트.isna().sum()"
   ]
  },
  {
   "cell_type": "code",
   "execution_count": 52,
   "metadata": {},
   "outputs": [
    {
     "name": "stdout",
     "output_type": "stream",
     "text": [
      "년분기: 20231  행정동 개수:424  \n",
      "년분기: 20232  행정동 개수:424  년분기: 20194  행정동 개수:425  년분기: 20201  행정동 개수:425  \n",
      "년분기: 20202  행정동 개수:425  년분기: 20203  행정동 개수:425  년분기: 20204  행정동 개수:425  \n",
      "년분기: 20211  행정동 개수:425  년분기: 20212  행정동 개수:425  년분기: 20213  행정동 개수:425  \n",
      "년분기: 20214  행정동 개수:424  년분기: 20221  행정동 개수:424  년분기: 20222  행정동 개수:424  \n",
      "년분기: 20223  행정동 개수:424  년분기: 20224  행정동 개수:424  cnt: 15\n"
     ]
    }
   ],
   "source": [
    "cnt=0\n",
    "for x in df_아파트['기준_년분기_코드'].unique():\n",
    "    print(\"년분기:\",x,end='  ')\n",
    "    print(\"행정동 개수:\",end='')\n",
    "    print(df_아파트.loc[df_아파트['기준_년분기_코드']==x]['행정동_코드'].count(),end='  ')\n",
    "    if cnt%3==0:\n",
    "        print()\n",
    "    cnt+=1\n",
    "print(\"cnt:\",cnt)"
   ]
  },
  {
   "cell_type": "code",
   "execution_count": 57,
   "metadata": {},
   "outputs": [],
   "source": [
    "# 행정동 425개 아닌 년분기\n",
    "temp_아파트=[20214,20221,20222,20223,20224,20231,20232]"
   ]
  },
  {
   "cell_type": "code",
   "execution_count": 58,
   "metadata": {},
   "outputs": [
    {
     "name": "stdout",
     "output_type": "stream",
     "text": [
      "분기:20214 빠진 행정동 코드:[11740690]\n",
      "분기:20221 빠진 행정동 코드:[11740690]\n",
      "분기:20222 빠진 행정동 코드:[11740690]\n",
      "분기:20223 빠진 행정동 코드:[11740690]\n",
      "분기:20224 빠진 행정동 코드:[11740690]\n",
      "분기:20231 빠진 행정동 코드:[11740690]\n",
      "분기:20232 빠진 행정동 코드:[11740690]\n"
     ]
    }
   ],
   "source": [
    "# 동 개수 425개가 아닌 년분기들의 행정동 코드 찾기\n",
    "for x in temp_아파트:\n",
    "    temp_code=list(df_아파트.loc[df_아파트['기준_년분기_코드']==x]['행정동_코드'])\n",
    "    temp_diff=[y for y in total_dong_code_425 if y not in temp_code ]\n",
    "    print(f'분기:{x} 빠진 행정동 코드:{temp_diff}')"
   ]
  },
  {
   "cell_type": "code",
   "execution_count": null,
   "metadata": {},
   "outputs": [],
   "source": [
    "# 11740690: 둔촌1동 -> 서비스X"
   ]
  },
  {
   "cell_type": "code",
   "execution_count": 63,
   "metadata": {},
   "outputs": [
    {
     "data": {
      "text/plain": [
       "(array([20231, 20232, 20194, 20201, 20202, 20203, 20204, 20211, 20212,\n",
       "        20213, 20214, 20221, 20222, 20223, 20224], dtype=int64),\n",
       " 15)"
      ]
     },
     "execution_count": 63,
     "metadata": {},
     "output_type": "execute_result"
    }
   ],
   "source": [
    "df_아파트['기준_년분기_코드'].unique(),len(df_아파트['기준_년분기_코드'].unique())"
   ]
  },
  {
   "cell_type": "code",
   "execution_count": 64,
   "metadata": {},
   "outputs": [],
   "source": [
    "없는_년도분기=[20191,20192,20193]\n",
    "# 19년 1,2,3분기 데이터 없음 -> 19년 4분기 데이터로 추가\n",
    "temp_아파트_20194=df_아파트.loc[(df_아파트['기준_년분기_코드']==20194)]\n",
    "for x in 없는_년도분기: # 3개 년도분기 리스트\n",
    "    new_df=temp_아파트_20194.copy()\n",
    "    new_df['기준_년분기_코드']=x\n",
    "    df_아파트 = pd.concat([df_아파트, new_df], ignore_index=True)"
   ]
  },
  {
   "cell_type": "code",
   "execution_count": 65,
   "metadata": {},
   "outputs": [
    {
     "data": {
      "text/plain": [
       "(array([20231, 20232, 20194, 20201, 20202, 20203, 20204, 20211, 20212,\n",
       "        20213, 20214, 20221, 20222, 20223, 20224, 20191, 20192, 20193],\n",
       "       dtype=int64),\n",
       " 18)"
      ]
     },
     "execution_count": 65,
     "metadata": {},
     "output_type": "execute_result"
    }
   ],
   "source": [
    "df_아파트['기준_년분기_코드'].unique(),len(df_아파트['기준_년분기_코드'].unique())"
   ]
  },
  {
   "cell_type": "code",
   "execution_count": 66,
   "metadata": {},
   "outputs": [
    {
     "data": {
      "text/plain": [
       "(7643, 18)"
      ]
     },
     "execution_count": 66,
     "metadata": {},
     "output_type": "execute_result"
    }
   ],
   "source": [
    "df_아파트.shape"
   ]
  },
  {
   "cell_type": "markdown",
   "metadata": {},
   "source": [
    "### 직장인구"
   ]
  },
  {
   "cell_type": "code",
   "execution_count": 67,
   "metadata": {},
   "outputs": [
    {
     "data": {
      "text/plain": [
       "(7636, 24)"
      ]
     },
     "execution_count": 67,
     "metadata": {},
     "output_type": "execute_result"
    }
   ],
   "source": [
    "dfs_직장인구=[]\n",
    "for f_name in glob(path+'직장인구/*.csv'):\n",
    "    temp=pd.read_csv(f_name,encoding='cp949')\n",
    "    dfs_직장인구.append(temp)\n",
    "df_직장인구,=dfs_직장인구\n",
    "df_직장인구.shape"
   ]
  },
  {
   "cell_type": "code",
   "execution_count": 68,
   "metadata": {},
   "outputs": [
    {
     "name": "stdout",
     "output_type": "stream",
     "text": [
      "년분기: 20191  행정동 개수:425  \n",
      "년분기: 20192  행정동 개수:418  년분기: 20193  행정동 개수:418  년분기: 20194  행정동 개수:425  \n",
      "년분기: 20201  행정동 개수:425  년분기: 20202  행정동 개수:425  년분기: 20203  행정동 개수:425  \n",
      "년분기: 20211  행정동 개수:425  년분기: 20212  행정동 개수:425  년분기: 20213  행정동 개수:425  \n",
      "년분기: 20221  행정동 개수:425  년분기: 20222  행정동 개수:425  년분기: 20223  행정동 개수:425  \n",
      "년분기: 20231  행정동 개수:425  년분기: 20232  행정동 개수:425  년분기: 20224  행정동 개수:425  \n",
      "년분기: 20204  행정동 개수:425  년분기: 20214  행정동 개수:425  cnt: 18\n"
     ]
    }
   ],
   "source": [
    "cnt=0\n",
    "for x in df_직장인구['기준_년분기_코드'].unique():\n",
    "    print(\"년분기:\",x,end='  ')\n",
    "    print(\"행정동 개수:\",end='')\n",
    "    print(df_직장인구.loc[df_직장인구['기준_년분기_코드']==x]['행정동_코드'].count(),end='  ')\n",
    "    if cnt%3==0:\n",
    "        print()\n",
    "    cnt+=1\n",
    "print(\"cnt:\",cnt)"
   ]
  },
  {
   "cell_type": "code",
   "execution_count": 69,
   "metadata": {},
   "outputs": [
    {
     "name": "stderr",
     "output_type": "stream",
     "text": [
      "C:\\Users\\user\\AppData\\Local\\Temp\\ipykernel_27600\\1583877815.py:5: SettingWithCopyWarning: \n",
      "A value is trying to be set on a copy of a slice from a DataFrame.\n",
      "Try using .loc[row_indexer,col_indexer] = value instead\n",
      "\n",
      "See the caveats in the documentation: https://pandas.pydata.org/pandas-docs/stable/user_guide/indexing.html#returning-a-view-versus-a-copy\n",
      "  new_row1['기준_년분기_코드']=20192\n",
      "C:\\Users\\user\\AppData\\Local\\Temp\\ipykernel_27600\\1583877815.py:7: SettingWithCopyWarning: \n",
      "A value is trying to be set on a copy of a slice from a DataFrame.\n",
      "Try using .loc[row_indexer,col_indexer] = value instead\n",
      "\n",
      "See the caveats in the documentation: https://pandas.pydata.org/pandas-docs/stable/user_guide/indexing.html#returning-a-view-versus-a-copy\n",
      "  new_row2['기준_년분기_코드']=20193\n"
     ]
    }
   ],
   "source": [
    "없는_행정동코드=[11305595, 11305603, 11305608, 11305615, 11305625, 11305635, 11530800]\n",
    "# 19년 2,3분기 7개 동 데이터 없음 -> 19년 1분기 7개 동 데이터로 추가\n",
    "for x in 없는_행정동코드: # 7개 동 리스트\n",
    "    new_row1=df_직장인구.loc[(df_직장인구['행정동_코드']==x)&(df_직장인구['기준_년분기_코드']==20191)]\n",
    "    new_row1['기준_년분기_코드']=20192\n",
    "    new_row2=df_직장인구.loc[(df_직장인구['행정동_코드']==x)&(df_직장인구['기준_년분기_코드']==20191)]\n",
    "    new_row2['기준_년분기_코드']=20193\n",
    "    df_직장인구 = pd.concat([df_직장인구, new_row1, new_row2], ignore_index=True)"
   ]
  },
  {
   "cell_type": "code",
   "execution_count": 70,
   "metadata": {},
   "outputs": [
    {
     "name": "stdout",
     "output_type": "stream",
     "text": [
      "년분기: 20191  행정동 개수:425  \n",
      "년분기: 20192  행정동 개수:425  년분기: 20193  행정동 개수:425  년분기: 20194  행정동 개수:425  \n",
      "년분기: 20201  행정동 개수:425  년분기: 20202  행정동 개수:425  년분기: 20203  행정동 개수:425  \n",
      "년분기: 20211  행정동 개수:425  년분기: 20212  행정동 개수:425  년분기: 20213  행정동 개수:425  \n",
      "년분기: 20221  행정동 개수:425  년분기: 20222  행정동 개수:425  년분기: 20223  행정동 개수:425  \n",
      "년분기: 20231  행정동 개수:425  년분기: 20232  행정동 개수:425  년분기: 20224  행정동 개수:425  \n",
      "년분기: 20204  행정동 개수:425  년분기: 20214  행정동 개수:425  cnt: 18\n"
     ]
    }
   ],
   "source": [
    "cnt=0\n",
    "for x in df_직장인구['기준_년분기_코드'].unique():\n",
    "    print(\"년분기:\",x,end='  ')\n",
    "    print(\"행정동 개수:\",end='')\n",
    "    print(df_직장인구.loc[df_직장인구['기준_년분기_코드']==x]['행정동_코드'].count(),end='  ')\n",
    "    if cnt%3==0:\n",
    "        print()\n",
    "    cnt+=1\n",
    "print(\"cnt:\",cnt)"
   ]
  },
  {
   "cell_type": "code",
   "execution_count": 71,
   "metadata": {},
   "outputs": [
    {
     "data": {
      "text/plain": [
       "기준_년분기_코드              0\n",
       "행정동_코드                 0\n",
       "행정동_코드_명               0\n",
       "총_직장_인구_수              0\n",
       "남성_직장_인구_수             0\n",
       "여성_직장_인구_수             0\n",
       "연령대_10_직장_인구_수         0\n",
       "연령대_20_직장_인구_수         0\n",
       "연령대_30_직장_인구_수         0\n",
       "연령대_40_직장_인구_수         0\n",
       "연령대_50_직장_인구_수         0\n",
       "연령대_60_이상_직장_인구_수      0\n",
       "남성연령대_10_직장_인구_수       0\n",
       "남성연령대_20_직장_인구_수       0\n",
       "남성연령대_30_직장_인구_수       0\n",
       "남성연령대_40_직장_인구_수       0\n",
       "남성연령대_50_직장_인구_수       0\n",
       "남성연령대_60_이상_직장_인구_수    0\n",
       "여성연령대_10_직장_인구_수       0\n",
       "여성연령대_20_직장_인구_수       0\n",
       "여성연령대_30_직장_인구_수       0\n",
       "여성연령대_40_직장_인구_수       0\n",
       "여성연령대_50_직장_인구_수       0\n",
       "여성연령대_60_이상_직장_인구_수    0\n",
       "dtype: int64"
      ]
     },
     "execution_count": 71,
     "metadata": {},
     "output_type": "execute_result"
    }
   ],
   "source": [
    "df_직장인구.isna().sum()"
   ]
  },
  {
   "cell_type": "code",
   "execution_count": 72,
   "metadata": {},
   "outputs": [
    {
     "data": {
      "text/plain": [
       "(7650, 24)"
      ]
     },
     "execution_count": 72,
     "metadata": {},
     "output_type": "execute_result"
    }
   ],
   "source": [
    "df_직장인구.shape"
   ]
  },
  {
   "cell_type": "markdown",
   "metadata": {},
   "source": [
    "### 집객시설"
   ]
  },
  {
   "cell_type": "code",
   "execution_count": 73,
   "metadata": {},
   "outputs": [
    {
     "data": {
      "text/plain": [
       "(4675, 23)"
      ]
     },
     "execution_count": 73,
     "metadata": {},
     "output_type": "execute_result"
    }
   ],
   "source": [
    "dfs_집객시설=[]\n",
    "for f_name in glob(path+'집객시설/*.csv'):\n",
    "    temp=pd.read_csv(f_name,encoding='cp949')\n",
    "    dfs_집객시설.append(temp)\n",
    "df_집객시설,=dfs_집객시설\n",
    "df_집객시설.shape"
   ]
  },
  {
   "cell_type": "code",
   "execution_count": 74,
   "metadata": {},
   "outputs": [
    {
     "name": "stdout",
     "output_type": "stream",
     "text": [
      "년분기: 20232  행정동 개수:425  \n",
      "년분기: 20231  행정동 개수:425  년분기: 20204  행정동 개수:425  년분기: 20214  행정동 개수:425  \n",
      "년분기: 20211  행정동 개수:425  년분기: 20212  행정동 개수:425  년분기: 20221  행정동 개수:425  \n",
      "년분기: 20222  행정동 개수:425  년분기: 20213  행정동 개수:425  년분기: 20223  행정동 개수:425  \n",
      "년분기: 20224  행정동 개수:425  cnt: 11\n"
     ]
    }
   ],
   "source": [
    "cnt=0\n",
    "for x in df_집객시설['기준_년분기_코드'].unique():\n",
    "    print(\"년분기:\",x,end='  ')\n",
    "    print(\"행정동 개수:\",end='')\n",
    "    print(df_집객시설.loc[df_집객시설['기준_년분기_코드']==x]['행정동_코드'].count(),end='  ')\n",
    "    if cnt%3==0:\n",
    "        print()\n",
    "    cnt+=1\n",
    "print(\"cnt:\",cnt)"
   ]
  },
  {
   "cell_type": "code",
   "execution_count": 76,
   "metadata": {},
   "outputs": [
    {
     "data": {
      "text/plain": [
       "(array([20232, 20231, 20204, 20214, 20211, 20212, 20221, 20222, 20213,\n",
       "        20223, 20224], dtype=int64),\n",
       " 11)"
      ]
     },
     "execution_count": 76,
     "metadata": {},
     "output_type": "execute_result"
    }
   ],
   "source": [
    "df_집객시설['기준_년분기_코드'].unique(),len(df_집객시설['기준_년분기_코드'].unique())"
   ]
  },
  {
   "cell_type": "code",
   "execution_count": 77,
   "metadata": {},
   "outputs": [
    {
     "data": {
      "text/plain": [
       "((0, 23), (425, 23), (1700, 23), (1700, 23), (850, 23))"
      ]
     },
     "execution_count": 77,
     "metadata": {},
     "output_type": "execute_result"
    }
   ],
   "source": [
    "df_집객시설2019 = df_집객시설[(20191 <= df_집객시설['기준_년분기_코드']) & (df_집객시설['기준_년분기_코드'] <= 20194)]\n",
    "df_집객시설2020 = df_집객시설[(20201 <= df_집객시설['기준_년분기_코드']) & (df_집객시설['기준_년분기_코드'] <= 20204)]\n",
    "df_집객시설2021 = df_집객시설[(20211 <= df_집객시설['기준_년분기_코드']) & (df_집객시설['기준_년분기_코드'] <= 20214)]\n",
    "df_집객시설2022 = df_집객시설[(20221 <= df_집객시설['기준_년분기_코드']) & (df_집객시설['기준_년분기_코드'] <= 20224)]\n",
    "df_집객시설2023 = df_집객시설[(20231 <= df_집객시설['기준_년분기_코드']) & (df_집객시설['기준_년분기_코드'] <= 20234)]\n",
    "df_집객시설2019.shape,df_집객시설2020.shape,df_집객시설2021.shape,df_집객시설2022.shape,df_집객시설2023.shape"
   ]
  },
  {
   "cell_type": "code",
   "execution_count": 78,
   "metadata": {},
   "outputs": [
    {
     "name": "stdout",
     "output_type": "stream",
     "text": [
      "(425, 23) (425, 23) (425, 23) (425, 23)\n"
     ]
    },
    {
     "data": {
      "text/plain": [
       "(array([20232, 20231, 20204, 20214, 20211, 20212, 20221, 20222, 20213,\n",
       "        20223, 20224], dtype=int64),\n",
       " 11)"
      ]
     },
     "execution_count": 78,
     "metadata": {},
     "output_type": "execute_result"
    }
   ],
   "source": [
    "# 2020년 1, 2, 3분기 데이터 생성(= 2020년 4분기 copy)\n",
    "df_집객시설20204 = df_집객시설2020[df_집객시설2020['기준_년분기_코드'] == 20204]\n",
    "\n",
    "df_집객시설20201 = df_집객시설20204.copy()\n",
    "df_집객시설20202 = df_집객시설20204.copy()\n",
    "df_집객시설20203 = df_집객시설20204.copy()\n",
    "\n",
    "df_집객시설20201['기준_년분기_코드'] = 20201\n",
    "df_집객시설20202['기준_년분기_코드'] = 20202\n",
    "df_집객시설20203['기준_년분기_코드'] = 20203\n",
    "\n",
    "print(df_집객시설20201.shape, df_집객시설20202.shape, df_집객시설20203.shape, df_집객시설20204.shape)\n",
    "\n",
    "df_집객시설2020 = pd.concat([df_집객시설20201, df_집객시설20202, df_집객시설20203, df_집객시설20204])\n",
    "df_집객시설2020 = df_집객시설2020.reset_index(drop=True)\n",
    "\n",
    "df_집객시설['기준_년분기_코드'].unique(),len(df_집객시설['기준_년분기_코드'].unique())"
   ]
  },
  {
   "cell_type": "code",
   "execution_count": 79,
   "metadata": {},
   "outputs": [
    {
     "data": {
      "text/plain": [
       "(array([20201, 20202, 20203, 20204, 20214, 20211, 20212, 20213, 20221,\n",
       "        20222, 20223, 20224, 20232, 20231], dtype=int64),\n",
       " 14)"
      ]
     },
     "execution_count": 79,
     "metadata": {},
     "output_type": "execute_result"
    }
   ],
   "source": [
    "df_집객시설 = pd.concat([df_집객시설2019, df_집객시설2020, df_집객시설2021, df_집객시설2022, df_집객시설2023])\n",
    "df_집객시설 = df_집객시설.reset_index(drop=True)\n",
    "df_집객시설['기준_년분기_코드'].unique(),len(df_집객시설['기준_년분기_코드'].unique())"
   ]
  },
  {
   "cell_type": "code",
   "execution_count": 81,
   "metadata": {},
   "outputs": [
    {
     "data": {
      "text/plain": [
       "기준_년분기_코드       0\n",
       "행정동_코드          0\n",
       "행정동_코드_명        0\n",
       "집객시설_수          0\n",
       "관공서_수          28\n",
       "은행_수          798\n",
       "종합병원_수       5222\n",
       "일반_병원_수      4032\n",
       "약국_수           28\n",
       "유치원_수        1974\n",
       "초등학교_수        896\n",
       "중학교_수        2408\n",
       "고등학교_수       3052\n",
       "대학교_수        4256\n",
       "백화점_수        5824\n",
       "슈퍼마켓_수       4690\n",
       "극장_수         4900\n",
       "숙박_시설_수      4536\n",
       "공항_수         5922\n",
       "철도_역_수       5950\n",
       "버스_터미널_수     5908\n",
       "지하철_역_수      2744\n",
       "버스_정거장_수       14\n",
       "dtype: int64"
      ]
     },
     "execution_count": 81,
     "metadata": {},
     "output_type": "execute_result"
    }
   ],
   "source": [
    "df_집객시설.isna().sum()"
   ]
  },
  {
   "cell_type": "code",
   "execution_count": 83,
   "metadata": {},
   "outputs": [
    {
     "data": {
      "text/plain": [
       "기준_년분기_코드    0\n",
       "행정동_코드       0\n",
       "행정동_코드_명     0\n",
       "집객시설_수       0\n",
       "관공서_수        0\n",
       "은행_수         0\n",
       "종합병원_수       0\n",
       "일반_병원_수      0\n",
       "약국_수         0\n",
       "유치원_수        0\n",
       "초등학교_수       0\n",
       "중학교_수        0\n",
       "고등학교_수       0\n",
       "대학교_수        0\n",
       "백화점_수        0\n",
       "슈퍼마켓_수       0\n",
       "극장_수         0\n",
       "숙박_시설_수      0\n",
       "공항_수         0\n",
       "철도_역_수       0\n",
       "버스_터미널_수     0\n",
       "지하철_역_수      0\n",
       "버스_정거장_수     0\n",
       "dtype: int64"
      ]
     },
     "execution_count": 83,
     "metadata": {},
     "output_type": "execute_result"
    }
   ],
   "source": [
    "df_집객시설.fillna(0,inplace=True)\n",
    "df_집객시설.isna().sum()"
   ]
  },
  {
   "cell_type": "code",
   "execution_count": 84,
   "metadata": {},
   "outputs": [
    {
     "data": {
      "text/plain": [
       "(5950, 23)"
      ]
     },
     "execution_count": 84,
     "metadata": {},
     "output_type": "execute_result"
    }
   ],
   "source": [
    "df_집객시설.shape"
   ]
  },
  {
   "cell_type": "markdown",
   "metadata": {},
   "source": [
    "#### 점포"
   ]
  },
  {
   "cell_type": "code",
   "execution_count": 85,
   "metadata": {},
   "outputs": [],
   "source": [
    "dfs_점포=[]\n",
    "for f_name in glob(path+'점포/*.csv'):\n",
    "    temp=pd.read_csv(f_name,encoding='cp949')\n",
    "    dfs_점포.append(temp)\n",
    "f,g,h,i,j=dfs_점포"
   ]
  },
  {
   "cell_type": "code",
   "execution_count": 86,
   "metadata": {},
   "outputs": [
    {
     "data": {
      "text/plain": [
       "(774756, 12)"
      ]
     },
     "execution_count": 86,
     "metadata": {},
     "output_type": "execute_result"
    }
   ],
   "source": [
    "df_점포=pd.concat([f,g,h,i,j])\n",
    "df_점포 = df_점포.reset_index(drop=True)\n",
    "df_점포.shape"
   ]
  },
  {
   "cell_type": "code",
   "execution_count": 88,
   "metadata": {},
   "outputs": [
    {
     "data": {
      "text/plain": [
       "(array([20221, 20222, 20223, 20224, 20231, 20232, 20191, 20192, 20193,\n",
       "        20194, 20201, 20202, 20203, 20204, 20211, 20212, 20213, 20214],\n",
       "       dtype=int64),\n",
       " 18)"
      ]
     },
     "execution_count": 88,
     "metadata": {},
     "output_type": "execute_result"
    }
   ],
   "source": [
    "df_점포['기준_년분기_코드'].unique(),len(df_점포['기준_년분기_코드'].unique())"
   ]
  },
  {
   "cell_type": "code",
   "execution_count": 89,
   "metadata": {},
   "outputs": [
    {
     "data": {
      "text/plain": [
       "기준_년분기_코드      0\n",
       "행정동_코드         0\n",
       "행정동_코드_명       0\n",
       "서비스_업종_코드      0\n",
       "서비스_업종_코드_명    0\n",
       "점포_수           0\n",
       "유사_업종_점포_수     0\n",
       "개업_율           0\n",
       "개업_점포_수        0\n",
       "폐업_률           0\n",
       "폐업_점포_수        0\n",
       "프랜차이즈_점포_수     0\n",
       "dtype: int64"
      ]
     },
     "execution_count": 89,
     "metadata": {},
     "output_type": "execute_result"
    }
   ],
   "source": [
    "df_점포.isna().sum()"
   ]
  },
  {
   "cell_type": "code",
   "execution_count": 90,
   "metadata": {},
   "outputs": [
    {
     "data": {
      "text/plain": [
       "(774756, 12)"
      ]
     },
     "execution_count": 90,
     "metadata": {},
     "output_type": "execute_result"
    }
   ],
   "source": [
    "df_점포.shape"
   ]
  },
  {
   "cell_type": "code",
   "execution_count": null,
   "metadata": {},
   "outputs": [],
   "source": []
  },
  {
   "cell_type": "code",
   "execution_count": null,
   "metadata": {},
   "outputs": [],
   "source": []
  },
  {
   "cell_type": "code",
   "execution_count": null,
   "metadata": {},
   "outputs": [],
   "source": []
  }
 ],
 "metadata": {
  "kernelspec": {
   "display_name": "Python 3",
   "language": "python",
   "name": "python3"
  },
  "language_info": {
   "codemirror_mode": {
    "name": "ipython",
    "version": 3
   },
   "file_extension": ".py",
   "mimetype": "text/x-python",
   "name": "python",
   "nbconvert_exporter": "python",
   "pygments_lexer": "ipython3",
   "version": "3.11.7"
  }
 },
 "nbformat": 4,
 "nbformat_minor": 2
}
