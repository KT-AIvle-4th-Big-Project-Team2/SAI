{
 "cells": [
  {
   "cell_type": "code",
   "execution_count": 2,
   "metadata": {},
   "outputs": [],
   "source": [
    "import numpy as np\n",
    "import pandas as pd\n",
    "import os\n",
    "from glob import glob\n"
   ]
  },
  {
   "cell_type": "code",
   "execution_count": null,
   "metadata": {},
   "outputs": [],
   "source": [
    "path='./data/rawdata/행정동'\n",
    "pd.read_csv(path)\n",
    "df_거주인구=pd.DataFrame()\n",
    "df_상주인구=pd.DataFrame()\n",
    "df_생활인구=pd.DataFrame()\n",
    "df_소득소비=pd.DataFrame()\n",
    "df_아파트=pd.DataFrame()\n",
    "df_영역=pd.DataFrame()\n",
    "df_점포=pd.DataFrame()\n",
    "df_직장인구=pd.DataFrame()\n",
    "df_집객시설=pd.DataFrame()\n",
    "df_추정매출=pd.DataFrame()\n",
    "df_학교=pd.DataFrame()\n",
    "\n",
    "for files in \n",
    "\n",
    "\n",
    "\n",
    "\n",
    "\n"
   ]
  }
 ],
 "metadata": {
  "kernelspec": {
   "display_name": "Python 3",
   "language": "python",
   "name": "python3"
  },
  "language_info": {
   "codemirror_mode": {
    "name": "ipython",
    "version": 3
   },
   "file_extension": ".py",
   "mimetype": "text/x-python",
   "name": "python",
   "nbconvert_exporter": "python",
   "pygments_lexer": "ipython3",
   "version": "3.11.7"
  }
 },
 "nbformat": 4,
 "nbformat_minor": 2
}
