{
 "cells": [
  {
   "cell_type": "markdown",
   "metadata": {},
   "source": [
    "### 예측 단위 : 현재 추정 매출, 다음 분기 매출"
   ]
  },
  {
   "cell_type": "code",
   "execution_count": 1,
   "metadata": {},
   "outputs": [],
   "source": [
    "# Import the module\n",
    "import pandas as pd\n",
    "\n",
    "pd.set_option('display.max_columns', 500)"
   ]
  },
  {
   "cell_type": "code",
   "execution_count": 2,
   "metadata": {},
   "outputs": [],
   "source": [
    "## 2023년 추출 코드 필요하면 쓰세요\n",
    "# data = pd.read_csv(\"../../data/raw data/상권/추정매출/서울시 상권분석서비스(추정매출-상권).csv\", encoding=\"cp949\")\n",
    "# data = data[data['기준_년분기_코드'] >= 2023]\n",
    "# data.to_csv('../../data/raw data/상권/추정매출/서울시_상권분석서비스(추정매출-상권)_2023년.csv', index=False)"
   ]
  },
  {
   "cell_type": "markdown",
   "metadata": {},
   "source": [
    "## 개별 파일 병합"
   ]
  },
  {
   "cell_type": "markdown",
   "metadata": {},
   "source": [
    "### 추정매출 sales"
   ]
  },
  {
   "cell_type": "code",
   "execution_count": 3,
   "metadata": {},
   "outputs": [],
   "source": [
    "sales2019 = pd.read_csv(\"../../data/raw data/상권/추정매출/서울시_상권분석서비스(추정매출-상권)_2019년.csv\", encoding=\"cp949\")\n",
    "sales2020 = pd.read_csv(\"../../data/raw data/상권/추정매출/서울시_상권분석서비스(추정매출-상권)_2020년.csv\", encoding=\"cp949\")\n",
    "sales2021 = pd.read_csv(\"../../data/raw data/상권/추정매출/서울시_상권분석서비스(추정매출-상권)_2021년.csv\", encoding=\"cp949\")\n",
    "sales2022 = pd.read_csv(\"../../data/raw data/상권/추정매출/서울시_상권분석서비스(추정매출-상권)_2022년.csv\", encoding=\"cp949\")\n",
    "sales2023 = pd.read_csv(\"../../data/raw data/상권/추정매출/서울시_상권분석서비스(추정매출-상권)_2023년.csv\")"
   ]
  },
  {
   "cell_type": "code",
   "execution_count": 4,
   "metadata": {},
   "outputs": [
    {
     "data": {
      "text/plain": [
       "((78405, 55), (79988, 55), (81826, 55), (83573, 55), (42119, 55))"
      ]
     },
     "execution_count": 4,
     "metadata": {},
     "output_type": "execute_result"
    }
   ],
   "source": [
    "sales2019.shape, sales2020.shape, sales2021.shape, sales2022.shape, sales2023.shape"
   ]
  },
  {
   "cell_type": "code",
   "execution_count": 5,
   "metadata": {},
   "outputs": [],
   "source": [
    "sales = pd.concat([sales2019, sales2020, sales2021, sales2022, sales2023])\n",
    "sales = sales.reset_index(drop=True)"
   ]
  },
  {
   "cell_type": "code",
   "execution_count": 6,
   "metadata": {},
   "outputs": [
    {
     "data": {
      "text/plain": [
       "array([20191, 20192, 20193, 20194, 20201, 20202, 20203, 20204, 20211,\n",
       "       20212, 20213, 20214, 20221, 20222, 20223, 20224, 20231, 20232],\n",
       "      dtype=int64)"
      ]
     },
     "execution_count": 6,
     "metadata": {},
     "output_type": "execute_result"
    }
   ],
   "source": [
    "sales['기준_년분기_코드'].unique()"
   ]
  },
  {
   "cell_type": "markdown",
   "metadata": {},
   "source": [
    "### 집객시설 facilities"
   ]
  },
  {
   "cell_type": "code",
   "execution_count": 7,
   "metadata": {},
   "outputs": [],
   "source": [
    "facilities = pd.read_csv(\"../../data/raw data/상권/집객시설/서울시 상권분석서비스(집객시설-상권).csv\", encoding=\"cp949\")"
   ]
  },
  {
   "cell_type": "code",
   "execution_count": 8,
   "metadata": {},
   "outputs": [
    {
     "data": {
      "text/plain": [
       "array([20232, 20231, 20224, 20223, 20222, 20221, 20214, 20213, 20212,\n",
       "       20211, 20204], dtype=int64)"
      ]
     },
     "execution_count": 8,
     "metadata": {},
     "output_type": "execute_result"
    }
   ],
   "source": [
    "# 집객시설 - 2019년 1-4분기, 2020년 1-3분기 데이터 없음\n",
    "facilities['기준_년분기_코드'].unique()"
   ]
  },
  {
   "cell_type": "code",
   "execution_count": 9,
   "metadata": {},
   "outputs": [
    {
     "data": {
      "text/plain": [
       "기준_년분기_코드         0\n",
       "상권_구분_코드          0\n",
       "상권_구분_코드_명        0\n",
       "상권_코드             0\n",
       "상권_코드_명           0\n",
       "집객시설_수            0\n",
       "관공서_수         10428\n",
       "은행_수          12001\n",
       "종합병원_수        17105\n",
       "일반_병원_수       15906\n",
       "약국_수           6259\n",
       "유치원_수         15697\n",
       "초등학교_수        17215\n",
       "중학교_수         17314\n",
       "고등학교_수        17237\n",
       "대학교_수         16434\n",
       "백화점_수         17237\n",
       "슈퍼마켓_수        16203\n",
       "극장_수          16434\n",
       "숙박_시설_수       15763\n",
       "공항_수          17347\n",
       "철도_역_수        17358\n",
       "버스_터미널_수      17336\n",
       "지하철_역_수       15213\n",
       "버스_정거장_수       3388\n",
       "dtype: int64"
      ]
     },
     "execution_count": 9,
     "metadata": {},
     "output_type": "execute_result"
    }
   ],
   "source": [
    "facilities.isnull().sum()"
   ]
  },
  {
   "cell_type": "code",
   "execution_count": 10,
   "metadata": {},
   "outputs": [
    {
     "data": {
      "text/plain": [
       "기준_년분기_코드     0\n",
       "상권_구분_코드      0\n",
       "상권_구분_코드_명    0\n",
       "상권_코드         0\n",
       "상권_코드_명       0\n",
       "집객시설_수        0\n",
       "관공서_수         0\n",
       "은행_수          0\n",
       "종합병원_수        0\n",
       "일반_병원_수       0\n",
       "약국_수          0\n",
       "유치원_수         0\n",
       "초등학교_수        0\n",
       "중학교_수         0\n",
       "고등학교_수        0\n",
       "대학교_수         0\n",
       "백화점_수         0\n",
       "슈퍼마켓_수        0\n",
       "극장_수          0\n",
       "숙박_시설_수       0\n",
       "공항_수          0\n",
       "철도_역_수        0\n",
       "버스_터미널_수      0\n",
       "지하철_역_수       0\n",
       "버스_정거장_수      0\n",
       "dtype: int64"
      ]
     },
     "execution_count": 10,
     "metadata": {},
     "output_type": "execute_result"
    }
   ],
   "source": [
    "facilities = facilities.fillna(0)\n",
    "facilities.isnull().sum()"
   ]
  },
  {
   "cell_type": "code",
   "execution_count": 11,
   "metadata": {},
   "outputs": [],
   "source": [
    "facilities2019 = facilities[(20191 <= facilities['기준_년분기_코드']) & (facilities['기준_년분기_코드'] <= 20194)]\n",
    "facilities2020 = facilities[(20201 <= facilities['기준_년분기_코드']) & (facilities['기준_년분기_코드'] <= 20204)]\n",
    "facilities2021 = facilities[(20211 <= facilities['기준_년분기_코드']) & (facilities['기준_년분기_코드'] <= 20214)]\n",
    "facilities2022 = facilities[(20221 <= facilities['기준_년분기_코드']) & (facilities['기준_년분기_코드'] <= 20224)]\n",
    "facilities2023 = facilities[(20231 <= facilities['기준_년분기_코드']) & (facilities['기준_년분기_코드'] <= 20234)]"
   ]
  },
  {
   "cell_type": "code",
   "execution_count": 12,
   "metadata": {},
   "outputs": [
    {
     "name": "stdout",
     "output_type": "stream",
     "text": [
      "(1578, 25) (1578, 25) (1578, 25) (1578, 25)\n",
      "[20201 20202 20203 20204]\n"
     ]
    }
   ],
   "source": [
    "# 2020년 1, 2, 3분기 데이터 생성(= 2020년 4분기 copy)\n",
    "facilities20204 = facilities2020[facilities2020['기준_년분기_코드'] == 20204]\n",
    "\n",
    "facilities20201 = facilities20204.copy()\n",
    "facilities20202 = facilities20204.copy()\n",
    "facilities20203 = facilities20204.copy()\n",
    "\n",
    "facilities20201['기준_년분기_코드'] = 20201\n",
    "facilities20202['기준_년분기_코드'] = 20202\n",
    "facilities20203['기준_년분기_코드'] = 20203\n",
    "\n",
    "print(facilities20201.shape, facilities20202.shape, facilities20203.shape, facilities20204.shape)\n",
    "\n",
    "facilities2020 = pd.concat([facilities20201, facilities20202, facilities20203, facilities20204])\n",
    "facilities2020 = facilities2020.reset_index(drop=True)\n",
    "\n",
    "print(facilities2020['기준_년분기_코드'].unique())"
   ]
  },
  {
   "cell_type": "code",
   "execution_count": 13,
   "metadata": {},
   "outputs": [
    {
     "data": {
      "text/plain": [
       "((0, 25), (6312, 25), (6312, 25), (6312, 25), (3156, 25))"
      ]
     },
     "execution_count": 13,
     "metadata": {},
     "output_type": "execute_result"
    }
   ],
   "source": [
    "facilities2019.shape, facilities2020.shape, facilities2021.shape, facilities2022.shape, facilities2023.shape"
   ]
  },
  {
   "cell_type": "code",
   "execution_count": 14,
   "metadata": {},
   "outputs": [],
   "source": [
    "facilities = pd.concat([facilities2019, facilities2020, facilities2021, facilities2022, facilities2023])\n",
    "facilities = facilities.reset_index(drop=True)"
   ]
  },
  {
   "cell_type": "code",
   "execution_count": 15,
   "metadata": {},
   "outputs": [
    {
     "data": {
      "text/plain": [
       "array([20201, 20202, 20203, 20204, 20214, 20213, 20212, 20211, 20224,\n",
       "       20223, 20222, 20221, 20232, 20231], dtype=int64)"
      ]
     },
     "execution_count": 15,
     "metadata": {},
     "output_type": "execute_result"
    }
   ],
   "source": [
    "facilities['기준_년분기_코드'].unique()"
   ]
  },
  {
   "cell_type": "markdown",
   "metadata": {},
   "source": [
    "### 직장인구 office_population"
   ]
  },
  {
   "cell_type": "code",
   "execution_count": 16,
   "metadata": {},
   "outputs": [],
   "source": [
    "# 직장인구 데이터 load\n",
    "office_population = pd.read_csv(\"../../data/raw data/상권/직장인구/서울시 상권분석서비스(직장인구-상권).csv\", encoding=\"cp949\")"
   ]
  },
  {
   "cell_type": "code",
   "execution_count": 17,
   "metadata": {},
   "outputs": [
    {
     "data": {
      "text/plain": [
       "array([20191, 20212, 20194, 20213, 20221, 20222, 20223, 20224, 20202,\n",
       "       20231, 20214, 20232, 20201, 20203, 20204, 20211], dtype=int64)"
      ]
     },
     "execution_count": 17,
     "metadata": {},
     "output_type": "execute_result"
    }
   ],
   "source": [
    "# 직장인구 - 2019년 2-3분기 데이터 없음\n",
    "office_population['기준_년분기_코드'].unique()"
   ]
  },
  {
   "cell_type": "code",
   "execution_count": 18,
   "metadata": {},
   "outputs": [
    {
     "data": {
      "text/plain": [
       "기준_년분기_코드              0\n",
       "상권_구분_코드               0\n",
       "상권_구분_코드_명             0\n",
       "상권_코드                  0\n",
       "상권_코드_명                0\n",
       "총_직장_인구_수              0\n",
       "남성_직장_인구_수             0\n",
       "여성_직장_인구_수             0\n",
       "연령대_10_직장_인구_수         0\n",
       "연령대_20_직장_인구_수         0\n",
       "연령대_30_직장_인구_수         0\n",
       "연령대_40_직장_인구_수         0\n",
       "연령대_50_직장_인구_수         0\n",
       "연령대_60_이상_직장_인구_수      0\n",
       "남성연령대_10_직장_인구_수       0\n",
       "남성연령대_20_직장_인구_수       0\n",
       "남성연령대_30_직장_인구_수       0\n",
       "남성연령대_40_직장_인구_수       0\n",
       "남성연령대_50_직장_인구_수       0\n",
       "남성연령대_60_이상_직장_인구_수    0\n",
       "여성연령대_10_직장_인구_수       0\n",
       "여성연령대_20_직장_인구_수       0\n",
       "여성연령대_30_직장_인구_수       0\n",
       "여성연령대_40_직장_인구_수       0\n",
       "여성연령대_50_직장_인구_수       0\n",
       "여성연령대_60_이상_직장_인구_수    0\n",
       "dtype: int64"
      ]
     },
     "execution_count": 18,
     "metadata": {},
     "output_type": "execute_result"
    }
   ],
   "source": [
    "office_population.isnull().sum()"
   ]
  },
  {
   "cell_type": "code",
   "execution_count": 19,
   "metadata": {},
   "outputs": [],
   "source": [
    "office_population2019 = office_population[(20191 <= office_population['기준_년분기_코드']) & (office_population['기준_년분기_코드'] <= 20194)]\n",
    "office_population2020 = office_population[(20201 <= office_population['기준_년분기_코드']) & (office_population['기준_년분기_코드'] <= 20204)]\n",
    "office_population2021 = office_population[(20211 <= office_population['기준_년분기_코드']) & (office_population['기준_년분기_코드'] <= 20214)]\n",
    "office_population2022 = office_population[(20221 <= office_population['기준_년분기_코드']) & (office_population['기준_년분기_코드'] <= 20224)]\n",
    "office_population2023 = office_population[(20231 <= office_population['기준_년분기_코드']) & (office_population['기준_년분기_코드'] <= 20234)]"
   ]
  },
  {
   "cell_type": "code",
   "execution_count": 20,
   "metadata": {},
   "outputs": [
    {
     "data": {
      "text/plain": [
       "((3267, 26), (6492, 26), (6492, 26), (6492, 26), (3246, 26))"
      ]
     },
     "execution_count": 20,
     "metadata": {},
     "output_type": "execute_result"
    }
   ],
   "source": [
    "office_population2019.shape, office_population2020.shape, office_population2021.shape, office_population2022.shape, office_population2023.shape"
   ]
  },
  {
   "cell_type": "code",
   "execution_count": 21,
   "metadata": {},
   "outputs": [
    {
     "name": "stdout",
     "output_type": "stream",
     "text": [
      "(1644, 26) (1644, 26) (1644, 26) (1623, 26)\n",
      "[20191 20192 20193 20194]\n"
     ]
    }
   ],
   "source": [
    "# 2019년 2,3분기 데이터 생성(= 2019년 1분기 copy)\n",
    "office_population20191 = office_population2019[office_population2019['기준_년분기_코드']==20191]\n",
    "office_population20192 = office_population20191.copy()\n",
    "office_population20193 = office_population20191.copy()\n",
    "office_population20194 = office_population2019[office_population2019['기준_년분기_코드']==20194]\n",
    "\n",
    "office_population20192['기준_년분기_코드'] = 20192\n",
    "office_population20193['기준_년분기_코드'] = 20193\n",
    "\n",
    "print(office_population20191.shape, office_population20192.shape, office_population20193.shape, office_population20194.shape)\n",
    "\n",
    "office_population2019 = pd.concat([office_population20191, office_population20192, office_population20193, office_population20194])\n",
    "office_population2019 = office_population2019.reset_index(drop=True)\n",
    "\n",
    "print(office_population2019['기준_년분기_코드'].unique())"
   ]
  },
  {
   "cell_type": "code",
   "execution_count": 22,
   "metadata": {},
   "outputs": [],
   "source": [
    "office_population = pd.concat([office_population2019, office_population2020, office_population2021, office_population2022, office_population2023])\n",
    "office_population = office_population.reset_index(drop=True)"
   ]
  },
  {
   "cell_type": "code",
   "execution_count": 23,
   "metadata": {},
   "outputs": [
    {
     "data": {
      "text/plain": [
       "array([20191, 20192, 20193, 20194, 20202, 20201, 20203, 20204, 20212,\n",
       "       20213, 20214, 20211, 20221, 20222, 20223, 20224, 20231, 20232],\n",
       "      dtype=int64)"
      ]
     },
     "execution_count": 23,
     "metadata": {},
     "output_type": "execute_result"
    }
   ],
   "source": [
    "office_population['기준_년분기_코드'].unique()"
   ]
  },
  {
   "cell_type": "markdown",
   "metadata": {},
   "source": [
    "### 점포 store"
   ]
  },
  {
   "cell_type": "code",
   "execution_count": 24,
   "metadata": {},
   "outputs": [],
   "source": [
    "store2019 = pd.read_csv(\"../../data/raw data/상권/점포/서울시_상권분석서비스(점포-상권)_2019년.csv\", encoding=\"cp949\")\n",
    "store2020 = pd.read_csv(\"../../data/raw data/상권/점포/서울시_상권분석서비스(점포-상권)_2020년.csv\", encoding=\"cp949\")\n",
    "store2021 = pd.read_csv(\"../../data/raw data/상권/점포/서울시_상권분석서비스(점포-상권)_2021년.csv\", encoding=\"cp949\")\n",
    "store2022 = pd.read_csv(\"../../data/raw data/상권/점포/서울시_상권분석서비스(점포-상권)_2022년.csv\", encoding=\"cp949\")\n",
    "store2023 = pd.read_csv(\"../../data/raw data/상권/점포/서울시_상권분석서비스(점포-상권)_2023년.csv\")"
   ]
  },
  {
   "cell_type": "code",
   "execution_count": 25,
   "metadata": {},
   "outputs": [
    {
     "data": {
      "text/plain": [
       "((298601, 14), (301143, 14), (303483, 14), (304755, 14), (152288, 14))"
      ]
     },
     "execution_count": 25,
     "metadata": {},
     "output_type": "execute_result"
    }
   ],
   "source": [
    "store2019.shape, store2020.shape, store2021.shape, store2022.shape, store2023.shape"
   ]
  },
  {
   "cell_type": "code",
   "execution_count": 26,
   "metadata": {},
   "outputs": [],
   "source": [
    "store = pd.concat([store2019, store2020, store2021, store2022, store2023])\n",
    "store = store.reset_index(drop=True)"
   ]
  },
  {
   "cell_type": "code",
   "execution_count": 27,
   "metadata": {},
   "outputs": [
    {
     "data": {
      "text/plain": [
       "array([20191, 20192, 20193, 20194, 20201, 20202, 20203, 20204, 20211,\n",
       "       20212, 20213, 20214, 20221, 20222, 20223, 20224, 20231, 20232],\n",
       "      dtype=int64)"
      ]
     },
     "execution_count": 27,
     "metadata": {},
     "output_type": "execute_result"
    }
   ],
   "source": [
    "store['기준_년분기_코드'].unique()"
   ]
  },
  {
   "cell_type": "code",
   "execution_count": 28,
   "metadata": {},
   "outputs": [
    {
     "data": {
      "text/plain": [
       "기준_년분기_코드      0\n",
       "상권_구분_코드       0\n",
       "상권_구분_코드_명     0\n",
       "상권_코드          0\n",
       "상권_코드_명        0\n",
       "서비스_업종_코드      0\n",
       "서비스_업종_코드_명    0\n",
       "점포_수           0\n",
       "유사_업종_점포_수     0\n",
       "개업_율           0\n",
       "개업_점포_수        0\n",
       "폐업_률           0\n",
       "폐업_점포_수        0\n",
       "프랜차이즈_점포_수     0\n",
       "dtype: int64"
      ]
     },
     "execution_count": 28,
     "metadata": {},
     "output_type": "execute_result"
    }
   ],
   "source": [
    "store.isnull().sum()"
   ]
  },
  {
   "cell_type": "markdown",
   "metadata": {},
   "source": [
    "### 영역 area"
   ]
  },
  {
   "cell_type": "code",
   "execution_count": 29,
   "metadata": {},
   "outputs": [
    {
     "data": {
      "text/html": [
       "<div>\n",
       "<style scoped>\n",
       "    .dataframe tbody tr th:only-of-type {\n",
       "        vertical-align: middle;\n",
       "    }\n",
       "\n",
       "    .dataframe tbody tr th {\n",
       "        vertical-align: top;\n",
       "    }\n",
       "\n",
       "    .dataframe thead th {\n",
       "        text-align: right;\n",
       "    }\n",
       "</style>\n",
       "<table border=\"1\" class=\"dataframe\">\n",
       "  <thead>\n",
       "    <tr style=\"text-align: right;\">\n",
       "      <th></th>\n",
       "      <th>상권_구분_코드</th>\n",
       "      <th>상권_구분_코드_명</th>\n",
       "      <th>상권_코드</th>\n",
       "      <th>상권_코드_명</th>\n",
       "      <th>엑스좌표_값</th>\n",
       "      <th>와이좌표_값</th>\n",
       "      <th>자치구_코드</th>\n",
       "      <th>자치구_코드_명</th>\n",
       "      <th>행정동_코드</th>\n",
       "      <th>행정동_코드_명</th>\n",
       "      <th>영역_면적</th>\n",
       "    </tr>\n",
       "  </thead>\n",
       "  <tbody>\n",
       "    <tr>\n",
       "      <th>0</th>\n",
       "      <td>A</td>\n",
       "      <td>골목상권</td>\n",
       "      <td>3110008</td>\n",
       "      <td>배화여자대학교(박노수미술관)</td>\n",
       "      <td>197093</td>\n",
       "      <td>453418</td>\n",
       "      <td>11110</td>\n",
       "      <td>종로구</td>\n",
       "      <td>11110515</td>\n",
       "      <td>청운효자동</td>\n",
       "      <td>149264</td>\n",
       "    </tr>\n",
       "    <tr>\n",
       "      <th>1</th>\n",
       "      <td>A</td>\n",
       "      <td>골목상권</td>\n",
       "      <td>3110009</td>\n",
       "      <td>자하문터널</td>\n",
       "      <td>196991</td>\n",
       "      <td>455057</td>\n",
       "      <td>11110</td>\n",
       "      <td>종로구</td>\n",
       "      <td>11110550</td>\n",
       "      <td>부암동</td>\n",
       "      <td>178306</td>\n",
       "    </tr>\n",
       "    <tr>\n",
       "      <th>2</th>\n",
       "      <td>A</td>\n",
       "      <td>골목상권</td>\n",
       "      <td>3110010</td>\n",
       "      <td>평창동서측</td>\n",
       "      <td>197064</td>\n",
       "      <td>456643</td>\n",
       "      <td>11110</td>\n",
       "      <td>종로구</td>\n",
       "      <td>11110560</td>\n",
       "      <td>평창동</td>\n",
       "      <td>369415</td>\n",
       "    </tr>\n",
       "    <tr>\n",
       "      <th>3</th>\n",
       "      <td>A</td>\n",
       "      <td>골목상권</td>\n",
       "      <td>3110017</td>\n",
       "      <td>정독도서관</td>\n",
       "      <td>198581</td>\n",
       "      <td>453781</td>\n",
       "      <td>11110</td>\n",
       "      <td>종로구</td>\n",
       "      <td>11110600</td>\n",
       "      <td>가회동</td>\n",
       "      <td>83855</td>\n",
       "    </tr>\n",
       "    <tr>\n",
       "      <th>4</th>\n",
       "      <td>A</td>\n",
       "      <td>골목상권</td>\n",
       "      <td>3110018</td>\n",
       "      <td>중앙고등학교</td>\n",
       "      <td>198883</td>\n",
       "      <td>453690</td>\n",
       "      <td>11110</td>\n",
       "      <td>종로구</td>\n",
       "      <td>11110600</td>\n",
       "      <td>가회동</td>\n",
       "      <td>166872</td>\n",
       "    </tr>\n",
       "    <tr>\n",
       "      <th>...</th>\n",
       "      <td>...</td>\n",
       "      <td>...</td>\n",
       "      <td>...</td>\n",
       "      <td>...</td>\n",
       "      <td>...</td>\n",
       "      <td>...</td>\n",
       "      <td>...</td>\n",
       "      <td>...</td>\n",
       "      <td>...</td>\n",
       "      <td>...</td>\n",
       "      <td>...</td>\n",
       "    </tr>\n",
       "    <tr>\n",
       "      <th>1645</th>\n",
       "      <td>U</td>\n",
       "      <td>관광특구</td>\n",
       "      <td>3001492</td>\n",
       "      <td>명동 남대문 북창동 다동 무교동 관광특구</td>\n",
       "      <td>198397</td>\n",
       "      <td>451614</td>\n",
       "      <td>11140</td>\n",
       "      <td>중구</td>\n",
       "      <td>11140520</td>\n",
       "      <td>소공동</td>\n",
       "      <td>983618</td>\n",
       "    </tr>\n",
       "    <tr>\n",
       "      <th>1646</th>\n",
       "      <td>U</td>\n",
       "      <td>관광특구</td>\n",
       "      <td>3001493</td>\n",
       "      <td>동대문패션타운 관광특구</td>\n",
       "      <td>200996</td>\n",
       "      <td>451976</td>\n",
       "      <td>11140</td>\n",
       "      <td>중구</td>\n",
       "      <td>11140590</td>\n",
       "      <td>광희동</td>\n",
       "      <td>606058</td>\n",
       "    </tr>\n",
       "    <tr>\n",
       "      <th>1647</th>\n",
       "      <td>U</td>\n",
       "      <td>관광특구</td>\n",
       "      <td>3001494</td>\n",
       "      <td>종로?청계 관광특구</td>\n",
       "      <td>199796</td>\n",
       "      <td>452274</td>\n",
       "      <td>11110</td>\n",
       "      <td>종로구</td>\n",
       "      <td>11110615</td>\n",
       "      <td>종로1?2?3?4가동</td>\n",
       "      <td>653127</td>\n",
       "    </tr>\n",
       "    <tr>\n",
       "      <th>1648</th>\n",
       "      <td>U</td>\n",
       "      <td>관광특구</td>\n",
       "      <td>3001495</td>\n",
       "      <td>잠실 관광특구</td>\n",
       "      <td>210188</td>\n",
       "      <td>446334</td>\n",
       "      <td>11710</td>\n",
       "      <td>송파구</td>\n",
       "      <td>11710562</td>\n",
       "      <td>방이2동</td>\n",
       "      <td>2462734</td>\n",
       "    </tr>\n",
       "    <tr>\n",
       "      <th>1649</th>\n",
       "      <td>U</td>\n",
       "      <td>관광특구</td>\n",
       "      <td>3001496</td>\n",
       "      <td>강남 마이스 관광특구</td>\n",
       "      <td>205282</td>\n",
       "      <td>445736</td>\n",
       "      <td>11680</td>\n",
       "      <td>강남구</td>\n",
       "      <td>11680580</td>\n",
       "      <td>삼성1동</td>\n",
       "      <td>237892</td>\n",
       "    </tr>\n",
       "  </tbody>\n",
       "</table>\n",
       "<p>1650 rows × 11 columns</p>\n",
       "</div>"
      ],
      "text/plain": [
       "     상권_구분_코드 상권_구분_코드_명    상권_코드                 상권_코드_명  엑스좌표_값  와이좌표_값  \\\n",
       "0           A       골목상권  3110008         배화여자대학교(박노수미술관)  197093  453418   \n",
       "1           A       골목상권  3110009                   자하문터널  196991  455057   \n",
       "2           A       골목상권  3110010                   평창동서측  197064  456643   \n",
       "3           A       골목상권  3110017                   정독도서관  198581  453781   \n",
       "4           A       골목상권  3110018                  중앙고등학교  198883  453690   \n",
       "...       ...        ...      ...                     ...     ...     ...   \n",
       "1645        U       관광특구  3001492  명동 남대문 북창동 다동 무교동 관광특구  198397  451614   \n",
       "1646        U       관광특구  3001493            동대문패션타운 관광특구  200996  451976   \n",
       "1647        U       관광특구  3001494              종로?청계 관광특구  199796  452274   \n",
       "1648        U       관광특구  3001495                 잠실 관광특구  210188  446334   \n",
       "1649        U       관광특구  3001496             강남 마이스 관광특구  205282  445736   \n",
       "\n",
       "      자치구_코드 자치구_코드_명    행정동_코드     행정동_코드_명    영역_면적  \n",
       "0      11110      종로구  11110515        청운효자동   149264  \n",
       "1      11110      종로구  11110550          부암동   178306  \n",
       "2      11110      종로구  11110560          평창동   369415  \n",
       "3      11110      종로구  11110600          가회동    83855  \n",
       "4      11110      종로구  11110600          가회동   166872  \n",
       "...      ...      ...       ...          ...      ...  \n",
       "1645   11140       중구  11140520          소공동   983618  \n",
       "1646   11140       중구  11140590          광희동   606058  \n",
       "1647   11110      종로구  11110615  종로1?2?3?4가동   653127  \n",
       "1648   11710      송파구  11710562         방이2동  2462734  \n",
       "1649   11680      강남구  11680580         삼성1동   237892  \n",
       "\n",
       "[1650 rows x 11 columns]"
      ]
     },
     "execution_count": 29,
     "metadata": {},
     "output_type": "execute_result"
    }
   ],
   "source": [
    "area = pd.read_csv(\"../../data/raw data/상권/영역/서울시 상권분석서비스(영역-상권).csv\", encoding=\"cp949\")\n",
    "area"
   ]
  },
  {
   "cell_type": "code",
   "execution_count": 30,
   "metadata": {},
   "outputs": [
    {
     "data": {
      "text/plain": [
       "상권_구분_코드      0\n",
       "상권_구분_코드_명    0\n",
       "상권_코드         0\n",
       "상권_코드_명       0\n",
       "엑스좌표_값        0\n",
       "와이좌표_값        0\n",
       "자치구_코드        0\n",
       "자치구_코드_명      0\n",
       "행정동_코드        0\n",
       "행정동_코드_명      0\n",
       "영역_면적         0\n",
       "dtype: int64"
      ]
     },
     "execution_count": 30,
     "metadata": {},
     "output_type": "execute_result"
    }
   ],
   "source": [
    "area.isnull().sum()"
   ]
  },
  {
   "cell_type": "markdown",
   "metadata": {},
   "source": [
    "### 아파트 apartment"
   ]
  },
  {
   "cell_type": "code",
   "execution_count": 31,
   "metadata": {},
   "outputs": [],
   "source": [
    "apartment = pd.read_csv(\"../../data/raw data/상권/아파트/서울시 상권분석서비스(아파트-상권).csv\", encoding=\"cp949\")"
   ]
  },
  {
   "cell_type": "code",
   "execution_count": 32,
   "metadata": {},
   "outputs": [
    {
     "data": {
      "text/plain": [
       "array([20232, 20231, 20224, 20223, 20222, 20221, 20214, 20213, 20212,\n",
       "       20211, 20204, 20203, 20202, 20201, 20194], dtype=int64)"
      ]
     },
     "execution_count": 32,
     "metadata": {},
     "output_type": "execute_result"
    }
   ],
   "source": [
    "# 아파트 - 2019년 1-3분기 데이터 없음\n",
    "apartment['기준_년분기_코드'].unique()"
   ]
  },
  {
   "cell_type": "code",
   "execution_count": 33,
   "metadata": {},
   "outputs": [
    {
     "data": {
      "text/plain": [
       "기준_년분기_코드                     0\n",
       "상권_구분_코드                      0\n",
       "상권_구분_코드_명                    0\n",
       "상권_코드                         0\n",
       "상권_코드_명                       0\n",
       "아파트_단지_수                      0\n",
       "아파트_면적_66_제곱미터_미만_세대_수      538\n",
       "아파트_면적_66_제곱미터_세대_수        1742\n",
       "아파트_면적_99_제곱미터_세대_수        8074\n",
       "아파트_면적_132_제곱미터_세대_수      14566\n",
       "아파트_면적_165_제곱미터_세대_수      17465\n",
       "아파트_가격_1_억_미만_세대_수         4190\n",
       "아파트_가격_1_억_세대_수            1470\n",
       "아파트_가격_2_억_세대_수            2317\n",
       "아파트_가격_3_억_세대_수            8088\n",
       "아파트_가격_4_억_세대_수           13056\n",
       "아파트_가격_5_억_세대_수           15868\n",
       "아파트_가격_6_억_이상_세대_수        16613\n",
       "아파트_평균_면적                     0\n",
       "아파트_평균_시가                     0\n",
       "dtype: int64"
      ]
     },
     "execution_count": 33,
     "metadata": {},
     "output_type": "execute_result"
    }
   ],
   "source": [
    "apartment.isnull().sum()"
   ]
  },
  {
   "cell_type": "code",
   "execution_count": 34,
   "metadata": {},
   "outputs": [
    {
     "data": {
      "text/plain": [
       "기준_년분기_코드                 0\n",
       "상권_구분_코드                  0\n",
       "상권_구분_코드_명                0\n",
       "상권_코드                     0\n",
       "상권_코드_명                   0\n",
       "아파트_단지_수                  0\n",
       "아파트_면적_66_제곱미터_미만_세대_수    0\n",
       "아파트_면적_66_제곱미터_세대_수       0\n",
       "아파트_면적_99_제곱미터_세대_수       0\n",
       "아파트_면적_132_제곱미터_세대_수      0\n",
       "아파트_면적_165_제곱미터_세대_수      0\n",
       "아파트_가격_1_억_미만_세대_수        0\n",
       "아파트_가격_1_억_세대_수           0\n",
       "아파트_가격_2_억_세대_수           0\n",
       "아파트_가격_3_억_세대_수           0\n",
       "아파트_가격_4_억_세대_수           0\n",
       "아파트_가격_5_억_세대_수           0\n",
       "아파트_가격_6_억_이상_세대_수        0\n",
       "아파트_평균_면적                 0\n",
       "아파트_평균_시가                 0\n",
       "dtype: int64"
      ]
     },
     "execution_count": 34,
     "metadata": {},
     "output_type": "execute_result"
    }
   ],
   "source": [
    "apartment = apartment.fillna(0)\n",
    "apartment.isnull().sum()"
   ]
  },
  {
   "cell_type": "code",
   "execution_count": 35,
   "metadata": {},
   "outputs": [],
   "source": [
    "apartment2019 = apartment[(20191 <= apartment['기준_년분기_코드']) & (apartment['기준_년분기_코드'] <= 20194)]\n",
    "apartment2020 = apartment[(20201 <= apartment['기준_년분기_코드']) & (apartment['기준_년분기_코드'] <= 20204)]\n",
    "apartment2021 = apartment[(20211 <= apartment['기준_년분기_코드']) & (apartment['기준_년분기_코드'] <= 20214)]\n",
    "apartment2022 = apartment[(20221 <= apartment['기준_년분기_코드']) & (apartment['기준_년분기_코드'] <= 20224)]\n",
    "apartment2023 = apartment[(20231 <= apartment['기준_년분기_코드']) & (apartment['기준_년분기_코드'] <= 20234)]"
   ]
  },
  {
   "cell_type": "code",
   "execution_count": 36,
   "metadata": {},
   "outputs": [
    {
     "data": {
      "text/plain": [
       "((1484, 20), (5936, 20), (5916, 20), (5855, 20), (2926, 20))"
      ]
     },
     "execution_count": 36,
     "metadata": {},
     "output_type": "execute_result"
    }
   ],
   "source": [
    "apartment2019.shape, apartment2020.shape, apartment2021.shape, apartment2022.shape, apartment2023.shape"
   ]
  },
  {
   "cell_type": "code",
   "execution_count": 37,
   "metadata": {},
   "outputs": [],
   "source": [
    "apartment = pd.concat([apartment2019, apartment2020, apartment2021, apartment2022, apartment2023])\n",
    "apartment = apartment.reset_index(drop=True)"
   ]
  },
  {
   "cell_type": "markdown",
   "metadata": {},
   "source": [
    "### 소득소비 money"
   ]
  },
  {
   "cell_type": "code",
   "execution_count": 38,
   "metadata": {},
   "outputs": [],
   "source": [
    "money = pd.read_csv(\"../../data/raw data/상권/소득소비/서울시 상권분석서비스(소득소비-상권).csv\", encoding=\"cp949\")"
   ]
  },
  {
   "cell_type": "code",
   "execution_count": 39,
   "metadata": {},
   "outputs": [
    {
     "data": {
      "text/plain": [
       "array([20231, 20232, 20191, 20193, 20192, 20194, 20201, 20202, 20203,\n",
       "       20204, 20211, 20212, 20213, 20214, 20221, 20222, 20223, 20224],\n",
       "      dtype=int64)"
      ]
     },
     "execution_count": 39,
     "metadata": {},
     "output_type": "execute_result"
    }
   ],
   "source": [
    "money['기준_년분기_코드'].unique()"
   ]
  },
  {
   "cell_type": "code",
   "execution_count": 40,
   "metadata": {},
   "outputs": [
    {
     "data": {
      "text/plain": [
       "기준_년분기_코드         0\n",
       "상권_구분_코드          0\n",
       "상권_구분_코드_명        0\n",
       "상권_코드             0\n",
       "상권_코드_명           0\n",
       "월_평균_소득_금액      156\n",
       "소득_구간_코드        156\n",
       "지출_총금액          624\n",
       "식료품_지출_총금액      624\n",
       "의류_신발_지출_총금액    624\n",
       "생활용품_지출_총금액     624\n",
       "의료비_지출_총금액      624\n",
       "교통_지출_총금액       624\n",
       "여가_지출_총금액       624\n",
       "문화_지출_총금액       624\n",
       "교육_지출_총금액       624\n",
       "유흥_지출_총금액       624\n",
       "dtype: int64"
      ]
     },
     "execution_count": 40,
     "metadata": {},
     "output_type": "execute_result"
    }
   ],
   "source": [
    "money.isnull().sum()"
   ]
  },
  {
   "cell_type": "code",
   "execution_count": 41,
   "metadata": {},
   "outputs": [
    {
     "data": {
      "text/plain": [
       "기준_년분기_코드       0\n",
       "상권_구분_코드        0\n",
       "상권_구분_코드_명      0\n",
       "상권_코드           0\n",
       "상권_코드_명         0\n",
       "월_평균_소득_금액      0\n",
       "소득_구간_코드        0\n",
       "지출_총금액          0\n",
       "식료품_지출_총금액      0\n",
       "의류_신발_지출_총금액    0\n",
       "생활용품_지출_총금액     0\n",
       "의료비_지출_총금액      0\n",
       "교통_지출_총금액       0\n",
       "여가_지출_총금액       0\n",
       "문화_지출_총금액       0\n",
       "교육_지출_총금액       0\n",
       "유흥_지출_총금액       0\n",
       "dtype: int64"
      ]
     },
     "execution_count": 41,
     "metadata": {},
     "output_type": "execute_result"
    }
   ],
   "source": [
    "money = money.fillna(0)\n",
    "money.isnull().sum()"
   ]
  },
  {
   "cell_type": "code",
   "execution_count": 42,
   "metadata": {},
   "outputs": [],
   "source": [
    "money2019 = money[(20191 <= money['기준_년분기_코드']) & (money['기준_년분기_코드'] <= 20194)]\n",
    "money2020 = money[(20201 <= money['기준_년분기_코드']) & (money['기준_년분기_코드'] <= 20204)]\n",
    "money2021 = money[(20211 <= money['기준_년분기_코드']) & (money['기준_년분기_코드'] <= 20214)]\n",
    "money2022 = money[(20221 <= money['기준_년분기_코드']) & (money['기준_년분기_코드'] <= 20224)]\n",
    "money2023 = money[(20231 <= money['기준_년분기_코드']) & (money['기준_년분기_코드'] <= 20234)]"
   ]
  },
  {
   "cell_type": "code",
   "execution_count": 43,
   "metadata": {},
   "outputs": [
    {
     "data": {
      "text/plain": [
       "((6518, 17), (6524, 17), (6524, 17), (6524, 17), (3262, 17))"
      ]
     },
     "execution_count": 43,
     "metadata": {},
     "output_type": "execute_result"
    }
   ],
   "source": [
    "money2019.shape, money2020.shape, money2021.shape, money2022.shape, money2023.shape"
   ]
  },
  {
   "cell_type": "code",
   "execution_count": 44,
   "metadata": {},
   "outputs": [],
   "source": [
    "money = pd.concat([money2019, money2020, money2021, money2022, money2023])\n",
    "money = money.reset_index(drop=True)"
   ]
  },
  {
   "cell_type": "markdown",
   "metadata": {},
   "source": [
    "### 생활인구 de_facto_population"
   ]
  },
  {
   "cell_type": "code",
   "execution_count": 45,
   "metadata": {},
   "outputs": [],
   "source": [
    "de_facto_population = pd.read_csv(\"../../data/raw data/상권/생활인구/서울시 상권분석서비스(길단위인구-상권).csv\", encoding=\"cp949\")"
   ]
  },
  {
   "cell_type": "code",
   "execution_count": 46,
   "metadata": {},
   "outputs": [
    {
     "data": {
      "text/plain": [
       "array([20232, 20231, 20224, 20223, 20222, 20221, 20214, 20213, 20212,\n",
       "       20211, 20204, 20203, 20202, 20201, 20194, 20193, 20192, 20191],\n",
       "      dtype=int64)"
      ]
     },
     "execution_count": 46,
     "metadata": {},
     "output_type": "execute_result"
    }
   ],
   "source": [
    "de_facto_population['기준_년분기_코드'].unique()"
   ]
  },
  {
   "cell_type": "code",
   "execution_count": 47,
   "metadata": {},
   "outputs": [
    {
     "data": {
      "text/plain": [
       "기준_년분기_코드           0\n",
       "상권_구분_코드            0\n",
       "상권_구분_코드_명          0\n",
       "상권_코드               0\n",
       "상권_코드_명             0\n",
       "총_유동인구_수            0\n",
       "남성_유동인구_수           0\n",
       "여성_유동인구_수           0\n",
       "연령대_10_유동인구_수       0\n",
       "연령대_20_유동인구_수       0\n",
       "연령대_30_유동인구_수       0\n",
       "연령대_40_유동인구_수       0\n",
       "연령대_50_유동인구_수       0\n",
       "연령대_60_이상_유동인구_수    0\n",
       "시간대_00_06_유동인구_수    0\n",
       "시간대_06_11_유동인구_수    0\n",
       "시간대_11_14_유동인구_수    0\n",
       "시간대_14_17_유동인구_수    0\n",
       "시간대_17_21_유동인구_수    0\n",
       "시간대_21_24_유동인구_수    0\n",
       "월요일_유동인구_수          0\n",
       "화요일_유동인구_수          0\n",
       "수요일_유동인구_수          0\n",
       "목요일_유동인구_수          0\n",
       "금요일_유동인구_수          0\n",
       "토요일_유동인구_수          0\n",
       "일요일_유동인구_수          0\n",
       "dtype: int64"
      ]
     },
     "execution_count": 47,
     "metadata": {},
     "output_type": "execute_result"
    }
   ],
   "source": [
    "de_facto_population.isnull().sum()"
   ]
  },
  {
   "cell_type": "code",
   "execution_count": 48,
   "metadata": {},
   "outputs": [],
   "source": [
    "de_facto_population2019 = de_facto_population[(20191 <= de_facto_population['기준_년분기_코드']) & (de_facto_population['기준_년분기_코드'] <= 20194)]\n",
    "de_facto_population2020 = de_facto_population[(20201 <= de_facto_population['기준_년분기_코드']) & (de_facto_population['기준_년분기_코드'] <= 20204)]\n",
    "de_facto_population2021 = de_facto_population[(20211 <= de_facto_population['기준_년분기_코드']) & (de_facto_population['기준_년분기_코드'] <= 20214)]\n",
    "de_facto_population2022 = de_facto_population[(20221 <= de_facto_population['기준_년분기_코드']) & (de_facto_population['기준_년분기_코드'] <= 20224)]\n",
    "de_facto_population2023 = de_facto_population[(20231 <= de_facto_population['기준_년분기_코드']) & (de_facto_population['기준_년분기_코드'] <= 20234)]"
   ]
  },
  {
   "cell_type": "code",
   "execution_count": 49,
   "metadata": {},
   "outputs": [
    {
     "data": {
      "text/plain": [
       "((6600, 27), (6600, 27), (6600, 27), (6599, 27), (3298, 27))"
      ]
     },
     "execution_count": 49,
     "metadata": {},
     "output_type": "execute_result"
    }
   ],
   "source": [
    "de_facto_population2019.shape, de_facto_population2020.shape, de_facto_population2021.shape, de_facto_population2022.shape, de_facto_population2023.shape"
   ]
  },
  {
   "cell_type": "code",
   "execution_count": 50,
   "metadata": {},
   "outputs": [],
   "source": [
    "de_facto_population = pd.concat([de_facto_population2019, de_facto_population2020, de_facto_population2021, de_facto_population2022, de_facto_population2023])\n",
    "de_facto_population = de_facto_population.reset_index(drop=True)"
   ]
  },
  {
   "cell_type": "markdown",
   "metadata": {},
   "source": [
    "### 상주인구 de_jure_population"
   ]
  },
  {
   "cell_type": "code",
   "execution_count": 51,
   "metadata": {},
   "outputs": [],
   "source": [
    "de_jure_population = pd.read_csv(\"../../data/raw data/상권/상주인구/서울시 상권분석서비스(상주인구-상권).csv\", encoding=\"cp949\")"
   ]
  },
  {
   "cell_type": "code",
   "execution_count": 52,
   "metadata": {},
   "outputs": [
    {
     "data": {
      "text/plain": [
       "array([20194, 20201, 20202, 20203, 20204, 20211, 20212, 20213, 20214,\n",
       "       20221, 20222, 20223, 20224, 20231, 20232], dtype=int64)"
      ]
     },
     "execution_count": 52,
     "metadata": {},
     "output_type": "execute_result"
    }
   ],
   "source": [
    "# 상주인구 - 2019년 1-3분기 데이터 없음\n",
    "de_jure_population['기준_년분기_코드'].unique()"
   ]
  },
  {
   "cell_type": "code",
   "execution_count": 53,
   "metadata": {},
   "outputs": [
    {
     "data": {
      "text/plain": [
       "기준_년분기_코드             0\n",
       "상권_구분_코드              0\n",
       "상권_구분_코드_명            0\n",
       "상권_코드                 0\n",
       "상권_코드_명               0\n",
       "총_상주인구_수              0\n",
       "남성_상주인구_수             0\n",
       "여성_상주인구_수             0\n",
       "연령대_10_상주인구_수         0\n",
       "연령대_20_상주인구_수         0\n",
       "연령대_30_상주인구_수         0\n",
       "연령대_40_상주인구_수         0\n",
       "연령대_50_상주인구_수         0\n",
       "연령대_60_이상_상주인구_수      0\n",
       "남성연령대_10_상주인구_수       0\n",
       "남성연령대_20_상주인구_수       0\n",
       "남성연령대_30_상주인구_수       0\n",
       "남성연령대_40_상주인구_수       0\n",
       "남성연령대_50_상주인구_수       0\n",
       "남성연령대_60_이상_상주인구_수    0\n",
       "여성연령대_10_상주인구_수       0\n",
       "여성연령대_20_상주인구_수       0\n",
       "여성연령대_30_상주인구_수       0\n",
       "여성연령대_40_상주인구_수       0\n",
       "여성연령대_50_상주인구_수       0\n",
       "여성연령대_60_이상_상주인구_수    0\n",
       "총_가구_수                0\n",
       "아파트_가구_수              0\n",
       "비_아파트_가구_수            0\n",
       "dtype: int64"
      ]
     },
     "execution_count": 53,
     "metadata": {},
     "output_type": "execute_result"
    }
   ],
   "source": [
    "de_jure_population.isnull().sum()"
   ]
  },
  {
   "cell_type": "code",
   "execution_count": 54,
   "metadata": {},
   "outputs": [],
   "source": [
    "de_jure_population2019 = de_jure_population[(20191 <= de_jure_population['기준_년분기_코드']) & (de_jure_population['기준_년분기_코드'] <= 20194)]\n",
    "de_jure_population2020 = de_jure_population[(20201 <= de_jure_population['기준_년분기_코드']) & (de_jure_population['기준_년분기_코드'] <= 20204)]\n",
    "de_jure_population2021 = de_jure_population[(20211 <= de_jure_population['기준_년분기_코드']) & (de_jure_population['기준_년분기_코드'] <= 20214)]\n",
    "de_jure_population2022 = de_jure_population[(20221 <= de_jure_population['기준_년분기_코드']) & (de_jure_population['기준_년분기_코드'] <= 20224)]\n",
    "de_jure_population2023 = de_jure_population[(20231 <= de_jure_population['기준_년분기_코드']) & (de_jure_population['기준_년분기_코드'] <= 20234)]"
   ]
  },
  {
   "cell_type": "code",
   "execution_count": 55,
   "metadata": {},
   "outputs": [
    {
     "data": {
      "text/plain": [
       "((1634, 29), (6536, 29), (6536, 29), (6527, 29), (3253, 29))"
      ]
     },
     "execution_count": 55,
     "metadata": {},
     "output_type": "execute_result"
    }
   ],
   "source": [
    "de_jure_population2019.shape, de_jure_population2020.shape, de_jure_population2021.shape, de_jure_population2022.shape, de_jure_population2023.shape"
   ]
  },
  {
   "cell_type": "code",
   "execution_count": 56,
   "metadata": {},
   "outputs": [],
   "source": [
    "de_jure_population = pd.concat([de_jure_population2019, de_jure_population2020, de_jure_population2021, de_jure_population2022, de_jure_population2023])\n",
    "de_jure_population = de_jure_population.reset_index(drop=True)"
   ]
  },
  {
   "cell_type": "markdown",
   "metadata": {},
   "source": [
    "## 비교"
   ]
  },
  {
   "cell_type": "code",
   "execution_count": 57,
   "metadata": {},
   "outputs": [
    {
     "name": "stdout",
     "output_type": "stream",
     "text": [
      "58\n",
      "3130247 ['우리시장'] ['전통시장']\n",
      "3110965 ['언주역 6번'] ['골목상권']\n",
      "3130249 ['동남상가'] ['전통시장']\n",
      "3130189 ['서교시장'] ['전통시장']\n",
      "3130173 ['백련시장'] ['전통시장']\n",
      "3130060 ['신흥시장'] ['전통시장']\n",
      "3130033 ['대림상가(청계상가)'] ['전통시장']\n",
      "3130292 ['봉천현대시장'] ['전통시장']\n",
      "3111048 ['천호역 1번(천호문구완구거리)'] ['골목상권']\n",
      "3110977 ['논현로18길'] ['골목상권']\n",
      "3130228 ['구로시장'] ['전통시장']\n",
      "3130302 ['강남시장(강남구 강남시장)'] ['전통시장']\n",
      "3130270 ['흑석시장'] ['전통시장']\n",
      "3130178 ['이대 앞 스타트업 상점가'] ['전통시장']\n",
      "3110763 ['영등포구청역 2번'] ['골목상권']\n",
      "3110386 ['연산군묘'] ['골목상권']\n",
      "3130269 ['강남시장(동작구 강남시장)'] ['전통시장']\n",
      "3110610 ['계남근린공원'] ['골목상권']\n",
      "3130224 ['개봉프라자(고척근린시장)'] ['전통시장']\n",
      "3111050 ['강동구청(강동구청역 2번)'] ['골목상권']\n",
      "3130250 ['삼구시장(로타리상가)'] ['전통시장']\n",
      "3110946 ['청계산원터골'] ['골목상권']\n",
      "3130201 ['월정로시장'] ['전통시장']\n",
      "3110685 ['금강수목원아파트'] ['골목상권']\n",
      "3110623 ['갈산공원'] ['골목상권']\n",
      "3110044 ['관성묘'] ['골목상권']\n",
      "3110239 ['중랑역 2번'] ['골목상권']\n",
      "3110991 ['삼성중앙역 5번'] ['골목상권']\n",
      "3110986 ['삼성중앙역 7번'] ['골목상권']\n",
      "3110938 ['바우뫼공원'] ['골목상권']\n",
      "3110145 ['장안초등학교'] ['골목상권']\n",
      "3110937 ['방아다리근린공원(횃불트리니티신학대학원대학교)'] ['골목상권']\n",
      "3110223 ['군자초등학교'] ['골목상권']\n",
      "3110963 ['역삼월드메르디앙아파트'] ['골목상권']\n",
      "3130211 ['신정2동 골목시장(오목교중앙시장)'] ['전통시장']\n",
      "3130275 ['강남골목시장'] ['전통시장']\n",
      "3130254 ['남서울상가'] ['전통시장']\n",
      "3110222 ['회기역 2번'] ['골목상권']\n",
      "3130142 ['강북북부시장'] ['전통시장']\n",
      "3130188 ['합정시장'] ['전통시장']\n",
      "3110941 ['언남고등학교'] ['골목상권']\n",
      "3110808 ['신길역 1번'] ['골목상권']\n",
      "3110985 ['청담근린공원'] ['골목상권']\n",
      "3130218 ['신월중앙시장'] ['전통시장']\n",
      "3130013 ['동대문상가A동'] ['전통시장']\n",
      "3110704 ['고척중학교'] ['골목상권']\n",
      "3110015 ['청와대사랑채'] ['골목상권']\n",
      "3130291 ['봉천제일종합시장'] ['전통시장']\n",
      "3130093 ['동서시장'] ['전통시장']\n",
      "3110923 ['방배역 1번'] ['골목상권']\n",
      "3110669 ['화곡보람2차아파트'] ['골목상권']\n",
      "3110928 ['서초우방유쉘아파트'] ['골목상권']\n",
      "3110046 ['버티고개'] ['골목상권']\n",
      "3110581 ['염리초등학교'] ['골목상권']\n",
      "3110013 ['체부동홍종문가옥'] ['골목상권']\n",
      "3130305 ['논현종합시장'] ['전통시장']\n",
      "3110914 ['내방역 6번'] ['골목상권']\n",
      "3130046 ['team204(팀204)'] ['전통시장']\n"
     ]
    }
   ],
   "source": [
    "# 추정매출 sales, 집객시설 facilites\n",
    "sales_code = list(sales['상권_코드'].drop_duplicates())\n",
    "facilities_code = list(facilities['상권_코드'].drop_duplicates())\n",
    "\n",
    "none_facilites = []\n",
    "\n",
    "for s in sales_code:\n",
    "    if s not in facilities_code:\n",
    "        none_facilites.append(s)\n",
    "        \n",
    "print(len(none_facilites))\n",
    "for code in none_facilites:\n",
    "    print(code, sales.loc[sales['상권_코드'] == code, '상권_코드_명'].drop_duplicates().values, sales.loc[sales['상권_코드'] == code, '상권_구분_코드_명'].drop_duplicates().values)"
   ]
  },
  {
   "cell_type": "code",
   "execution_count": 58,
   "metadata": {},
   "outputs": [
    {
     "name": "stdout",
     "output_type": "stream",
     "text": [
      "0\n"
     ]
    }
   ],
   "source": [
    "# 추정매출 sales, 직장인구 office_population\n",
    "sales_code = list(sales['상권_코드'].drop_duplicates())\n",
    "office_population_code = list(office_population['상권_코드'].drop_duplicates())\n",
    "\n",
    "none_office = []\n",
    "\n",
    "for s in sales_code:\n",
    "    if s not in office_population_code:\n",
    "        none_office.append(s)\n",
    "        \n",
    "print(len(none_office))\n",
    "for code in none_office:\n",
    "    print(code, sales.loc[sales['상권_코드'] == code, '상권_코드_명'].drop_duplicates().values, sales.loc[sales['상권_코드'] == code, '상권_구분_코드_명'].drop_duplicates().values)"
   ]
  },
  {
   "cell_type": "code",
   "execution_count": 59,
   "metadata": {},
   "outputs": [
    {
     "name": "stdout",
     "output_type": "stream",
     "text": [
      "0\n"
     ]
    }
   ],
   "source": [
    "# 추정매출 sales, 점포 store\n",
    "sales_code = list(sales['상권_코드'].drop_duplicates())\n",
    "store_code = list(store['상권_코드'].drop_duplicates())\n",
    "\n",
    "none_store = []\n",
    "\n",
    "for s in sales_code:\n",
    "    if s not in store_code:\n",
    "        none_store.append(s)\n",
    "        \n",
    "print(len(none_store))\n",
    "for code in none_store:\n",
    "    print(code, sales.loc[sales['상권_코드'] == code, '상권_코드_명'].drop_duplicates().values, sales.loc[sales['상권_코드'] == code, '상권_구분_코드_명'].drop_duplicates().values)"
   ]
  },
  {
   "cell_type": "code",
   "execution_count": 60,
   "metadata": {},
   "outputs": [
    {
     "name": "stdout",
     "output_type": "stream",
     "text": [
      "0\n"
     ]
    }
   ],
   "source": [
    "# 추정매출 sales, 영역 area\n",
    "sales_code = list(sales['상권_코드'].drop_duplicates())\n",
    "area_code = list(area['상권_코드'].drop_duplicates())\n",
    "\n",
    "none_area = []\n",
    "\n",
    "for s in sales_code:\n",
    "    if s not in area_code:\n",
    "        none_area.append(s)\n",
    "        \n",
    "print(len(none_area))\n",
    "for code in none_area:\n",
    "    print(code, sales.loc[sales['상권_코드'] == code, '상권_코드_명'].drop_duplicates().values, sales.loc[sales['상권_코드'] == code, '상권_구분_코드_명'].drop_duplicates().values)"
   ]
  },
  {
   "cell_type": "code",
   "execution_count": 61,
   "metadata": {},
   "outputs": [
    {
     "name": "stdout",
     "output_type": "stream",
     "text": [
      "143\n",
      "3001492 ['명동 남대문 북창동 다동 무교동 관광특구'] ['관광특구']\n",
      "3120148 ['국회의사당역(국회의사당)'] ['발달상권']\n",
      "3130095 ['청량리전통시장'] ['전통시장']\n",
      "3130247 ['우리시장'] ['전통시장']\n",
      "3120020 ['시청역_1번'] ['발달상권']\n",
      "3120043 ['서울역'] ['발달상권']\n",
      "3130205 ['신곡종합시장(신월6동 골목시장)'] ['전통시장']\n",
      "3130094 ['청량리청과물시장'] ['전통시장']\n",
      "3130120 ['돈암시장(돈암제일시장)'] ['전통시장']\n",
      "3120022 ['북창동(시청역_6번)'] ['발달상권']\n",
      "3120083 ['등나무근린공원'] ['발달상권']\n",
      "3001496 ['강남 마이스 관광특구'] ['관광특구']\n",
      "3120033 ['을지로4가역'] ['발달상권']\n",
      "3130131 ['동북프라자'] ['전통시장']\n",
      "3130025 ['삼익패션타운(남대문시장)'] ['전통시장']\n",
      "3130024 ['남대문시장(자유상가)'] ['전통시장']\n",
      "3130248 ['영등포역지하도상점가'] ['전통시장']\n",
      "3120060 ['강변역(테크노마트)'] ['발달상권']\n",
      "3130134 ['솔샘시장(미아6,7동골목시장)'] ['전통시장']\n",
      "3120224 ['수서역'] ['발달상권']\n",
      "3120030 ['중부경찰서(영화인의거리)'] ['발달상권']\n",
      "3130113 ['신아타운'] ['전통시장']\n",
      "3110667 ['가양역 10번'] ['골목상권']\n",
      "3120029 ['을지로2가'] ['발달상권']\n",
      "3130005 ['세운상가가동'] ['전통시장']\n",
      "3120008 ['인사동'] ['발달상권']\n",
      "3130010 ['종로신진시장'] ['전통시장']\n",
      "3130022 ['숭례문수입상가(남대문시장)'] ['전통시장']\n",
      "3120025 ['롯데백화점(시청광장 지하쇼핑센터)'] ['발달상권']\n",
      "3130031 ['청계천공구상가'] ['전통시장']\n",
      "3120140 ['문래동주민센터'] ['발달상권']\n",
      "3120026 ['을지로입구역'] ['발달상권']\n",
      "3130327 ['평화시장(남평화시장, 제일평화시장, 신평화패션타운)'] ['전통시장']\n",
      "3110094 ['오산중학교'] ['골목상권']\n",
      "3130057 ['만리시장'] ['전통시장']\n",
      "3130088 ['경동시장'] ['전통시장']\n",
      "3130265 ['노량진중앙시장'] ['전통시장']\n",
      "3120137 ['문래역(문래로데오거리)'] ['발달상권']\n",
      "3130189 ['서교시장'] ['전통시장']\n",
      "3110072 ['열정도'] ['골목상권']\n",
      "3120098 ['DMC(디지털미디어시티)'] ['발달상권']\n",
      "3130018 ['동대문문구완구거리(동대문문구완구시장)'] ['전통시장']\n",
      "3130060 ['신흥시장'] ['전통시장']\n",
      "3110648 ['양천향교역 7번'] ['골목상권']\n",
      "3110038 ['경향신문사'] ['골목상권']\n",
      "3110019 ['창덕궁'] ['골목상권']\n",
      "3110797 ['KT대방빌딩'] ['골목상권']\n",
      "3110430 ['중계초등학교'] ['골목상권']\n",
      "3120021 ['시청역_8번'] ['발달상권']\n",
      "3130310 ['강남개포시장'] ['전통시장']\n",
      "3130256 ['신동시장'] ['전통시장']\n",
      "3130304 ['신사상가'] ['전통시장']\n",
      "3110759 ['문래예술촌(문래창작촌)'] ['골목상권']\n",
      "3120231 ['가락시장'] ['발달상권']\n",
      "3130090 ['청량리종합시장'] ['전통시장']\n",
      "3130076 ['능동로골목시장'] ['전통시장']\n",
      "3130292 ['봉천현대시장'] ['전통시장']\n",
      "3130196 ['공덕시장'] ['전통시장']\n",
      "3120028 ['명동(명동거리)'] ['발달상권']\n",
      "3120080 ['마들역'] ['발달상권']\n",
      "3130253 ['영신상가(제일상가)'] ['전통시장']\n",
      "3130061 ['이태원시장'] ['전통시장']\n",
      "3120023 ['서울시청'] ['발달상권']\n",
      "3120099 ['월드컵경기장역(월드컵경기장)'] ['발달상권']\n",
      "3130284 ['관악종합시장(신원시장)'] ['전통시장']\n",
      "3120117 ['강서농산물도매시장'] ['발달상권']\n",
      "3130015 ['창신골목시장'] ['전통시장']\n",
      "3110091 ['리움미술관'] ['골목상권']\n",
      "3110978 ['도곡2동주민센터(대치중학교)'] ['골목상권']\n",
      "3111090 ['강일동주민센터'] ['골목상권']\n",
      "3120085 ['은행사거리'] ['발달상권']\n",
      "3130160 ['수일시장'] ['전통시장']\n",
      "3130184 ['마포농수산물시장'] ['전통시장']\n",
      "3120015 ['종로6가'] ['발달상권']\n",
      "3130087 ['경동광성상가(경동시장)'] ['전통시장']\n",
      "3130287 ['삼성동 시장(삼성동시장)'] ['전통시장']\n",
      "3130270 ['흑석시장'] ['전통시장']\n",
      "3130289 ['봉일시장'] ['전통시장']\n",
      "3130178 ['이대 앞 스타트업 상점가'] ['전통시장']\n",
      "3120218 ['코엑스'] ['발달상권']\n",
      "3120031 ['을지로3가역'] ['발달상권']\n",
      "3130075 ['노룬산시장(노룬산골목시장)'] ['전통시장']\n",
      "3130153 ['창동역상점가'] ['전통시장']\n",
      "3130099 ['전농로터리시장'] ['전통시장']\n",
      "3110674 ['강서구청가양동별관'] ['골목상권']\n",
      "3130197 ['마포시장'] ['전통시장']\n",
      "3130007 ['광장시장(광장전통시장)'] ['전통시장']\n",
      "3130071 ['성수역 골목형상점가'] ['전통시장']\n",
      "3120115 ['김포공항역(김포공항)'] ['발달상권']\n",
      "3110998 ['은곡마을(은곡마을공원)'] ['골목상권']\n",
      "3130250 ['삼구시장(로타리상가)'] ['전통시장']\n",
      "3130206 ['신정3동 골목시장'] ['전통시장']\n",
      "3130272 ['사당시장'] ['전통시장']\n",
      "3111000 ['대왕초등학교(세곡동사거리서남측)'] ['골목상권']\n",
      "3110034 ['창신1동주민센터'] ['골목상권']\n",
      "3130240 ['영등포유통상가'] ['전통시장']\n",
      "3110239 ['중랑역 2번'] ['골목상권']\n",
      "3130192 ['동진시장'] ['전통시장']\n",
      "3130049 ['신당 미래유산 먹거리 골목형상점가'] ['전통시장']\n",
      "3110192 ['동의보감타워'] ['골목상권']\n",
      "3130032 ['인현시장'] ['전통시장']\n",
      "3110962 ['도산공원북측'] ['골목상권']\n",
      "3130175 ['신촌 상인회(신촌상점가)'] ['전통시장']\n",
      "3111002 ['한국교통안전공단 강남자동차검사소'] ['골목상권']\n",
      "3110497 ['가좌역 3번'] ['골목상권']\n",
      "3110793 ['대림썬프라자'] ['골목상권']\n",
      "3120118 ['마곡역(마곡)'] ['발달상권']\n",
      "3110198 ['동대문중앙새마을금고본점'] ['골목상권']\n",
      "3110773 ['당산역 13번'] ['골목상권']\n",
      "3130012 ['동대문종합시장(동대문종합시장 신관, 동대문종합시장D동상가)'] ['전통시장']\n",
      "3110032 ['수족관거리'] ['골목상권']\n",
      "3130316 ['마천시장'] ['전통시장']\n",
      "3130254 ['남서울상가'] ['전통시장']\n",
      "3110530 ['아현역 1번'] ['골목상권']\n",
      "3130009 ['마전교지하쇼핑센터(구 한일상가)'] ['전통시장']\n",
      "3110196 ['홍릉근린공원'] ['골목상권']\n",
      "3130047 ['테크노상가(엘리시움)'] ['전통시장']\n",
      "3130245 ['영일시장'] ['전통시장']\n",
      "3130096 ['동부시장'] ['전통시장']\n",
      "3130174 ['연희사러가'] ['전통시장']\n",
      "3110948 ['헌인가구단지'] ['골목상권']\n",
      "3110076 ['삼각지역 14번'] ['골목상권']\n",
      "3130142 ['강북북부시장'] ['전통시장']\n",
      "3130263 ['신노량진시장(기능상실)'] ['전통시장']\n",
      "3110492 ['하나고등학교'] ['골목상권']\n",
      "3130218 ['신월중앙시장'] ['전통시장']\n",
      "3130121 ['길음시장'] ['전통시장']\n",
      "3130050 ['청평화시장'] ['전통시장']\n",
      "3110339 ['국립4.19민주묘지'] ['골목상권']\n",
      "3110704 ['고척중학교'] ['골목상권']\n",
      "3130291 ['봉천제일종합시장'] ['전통시장']\n",
      "3130093 ['동서시장'] ['전통시장']\n",
      "3110108 ['성동구립금호도서관'] ['골목상권']\n",
      "3130176 ['유진상가'] ['전통시장']\n",
      "3110779 ['대림갑을명가아파트'] ['골목상권']\n",
      "3110764 ['문래역 3번'] ['골목상권']\n",
      "3110026 ['종로5가역 4번'] ['골목상권']\n",
      "3110143 ['뚝섬유원지역 1번'] ['골목상권']\n",
      "3130011 ['충신시장'] ['전통시장']\n",
      "3130286 ['신신림시장(삼성동시장)'] ['전통시장']\n",
      "3130046 ['team204(팀204)'] ['전통시장']\n",
      "3130288 ['신림현대종합상가'] ['전통시장']\n",
      "3110119 ['마장지하차도'] ['골목상권']\n"
     ]
    }
   ],
   "source": [
    "# 추정매출 sales, 아파트 apartment\n",
    "sales_code = list(sales['상권_코드'].drop_duplicates())\n",
    "apartment_code = list(apartment['상권_코드'].drop_duplicates())\n",
    "\n",
    "none_apartment = []\n",
    "\n",
    "for s in sales_code:\n",
    "    if s not in apartment_code:\n",
    "        none_apartment.append(s)\n",
    "        \n",
    "print(len(none_apartment))\n",
    "for code in none_apartment:\n",
    "    print(code, sales.loc[sales['상권_코드'] == code, '상권_코드_명'].drop_duplicates().values, sales.loc[sales['상권_코드'] == code, '상권_구분_코드_명'].drop_duplicates().values)"
   ]
  },
  {
   "cell_type": "code",
   "execution_count": 62,
   "metadata": {},
   "outputs": [
    {
     "name": "stdout",
     "output_type": "stream",
     "text": [
      "12\n",
      "3130022 ['숭례문수입상가(남대문시장)'] ['전통시장']\n",
      "3130304 ['신사상가'] ['전통시장']\n",
      "3120231 ['가락시장'] ['발달상권']\n",
      "3120099 ['월드컵경기장역(월드컵경기장)'] ['발달상권']\n",
      "3130184 ['마포농수산물시장'] ['전통시장']\n",
      "3120115 ['김포공항역(김포공항)'] ['발달상권']\n",
      "3111002 ['한국교통안전공단 강남자동차검사소'] ['골목상권']\n",
      "3110793 ['대림썬프라자'] ['골목상권']\n",
      "3130009 ['마전교지하쇼핑센터(구 한일상가)'] ['전통시장']\n",
      "3130096 ['동부시장'] ['전통시장']\n",
      "3130174 ['연희사러가'] ['전통시장']\n",
      "3130142 ['강북북부시장'] ['전통시장']\n"
     ]
    }
   ],
   "source": [
    "# 추정매출 sales, 소득소비 money\n",
    "sales_code = list(sales['상권_코드'].drop_duplicates())\n",
    "money_code = list(money['상권_코드'].drop_duplicates())\n",
    "\n",
    "none_money = []\n",
    "\n",
    "for s in sales_code:\n",
    "    if s not in money_code:\n",
    "        none_money.append(s)\n",
    "        \n",
    "print(len(none_money))\n",
    "for code in none_money:\n",
    "    print(code, sales.loc[sales['상권_코드'] == code, '상권_코드_명'].drop_duplicates().values, sales.loc[sales['상권_코드'] == code, '상권_구분_코드_명'].drop_duplicates().values)"
   ]
  },
  {
   "cell_type": "code",
   "execution_count": 63,
   "metadata": {},
   "outputs": [
    {
     "name": "stdout",
     "output_type": "stream",
     "text": [
      "0\n"
     ]
    }
   ],
   "source": [
    "# 추정매출 sales, 생활인구 de_facto_population\n",
    "sales_code = list(sales['상권_코드'].drop_duplicates())\n",
    "de_facto_population_code = list(de_facto_population['상권_코드'].drop_duplicates())\n",
    "\n",
    "none_facto = []\n",
    "\n",
    "for s in sales_code:\n",
    "    if s not in de_facto_population_code:\n",
    "        none_facto.append(s)\n",
    "        \n",
    "print(len(none_facto))\n",
    "for code in none_facto:\n",
    "    print(code, sales.loc[sales['상권_코드'] == code, '상권_코드_명'].drop_duplicates().values, sales.loc[sales['상권_코드'] == code, '상권_구분_코드_명'].drop_duplicates().values)"
   ]
  },
  {
   "cell_type": "code",
   "execution_count": 64,
   "metadata": {},
   "outputs": [
    {
     "name": "stdout",
     "output_type": "stream",
     "text": [
      "10\n",
      "3130022 ['숭례문수입상가(남대문시장)'] ['전통시장']\n",
      "3120137 ['문래역(문래로데오거리)'] ['발달상권']\n",
      "3120231 ['가락시장'] ['발달상권']\n",
      "3120099 ['월드컵경기장역(월드컵경기장)'] ['발달상권']\n",
      "3130184 ['마포농수산물시장'] ['전통시장']\n",
      "3120115 ['김포공항역(김포공항)'] ['발달상권']\n",
      "3111002 ['한국교통안전공단 강남자동차검사소'] ['골목상권']\n",
      "3130096 ['동부시장'] ['전통시장']\n",
      "3130174 ['연희사러가'] ['전통시장']\n",
      "3130142 ['강북북부시장'] ['전통시장']\n"
     ]
    }
   ],
   "source": [
    "# 추정매출 sales, 상주인구 de_jure_population\n",
    "sales_code = list(sales['상권_코드'].drop_duplicates())\n",
    "de_jure_population_code = list(de_jure_population['상권_코드'].drop_duplicates())\n",
    "\n",
    "none_jure = []\n",
    "\n",
    "for s in sales_code:\n",
    "    if s not in de_jure_population_code:\n",
    "        none_jure.append(s)\n",
    "        \n",
    "print(len(none_jure))\n",
    "for code in none_jure:\n",
    "    print(code, sales.loc[sales['상권_코드'] == code, '상권_코드_명'].drop_duplicates().values, sales.loc[sales['상권_코드'] == code, '상권_구분_코드_명'].drop_duplicates().values)"
   ]
  },
  {
   "cell_type": "code",
   "execution_count": 65,
   "metadata": {},
   "outputs": [
    {
     "data": {
      "text/plain": [
       "(58, 0, 0, 0, 143, 12, 0, 10)"
      ]
     },
     "execution_count": 65,
     "metadata": {},
     "output_type": "execute_result"
    }
   ],
   "source": [
    "len(none_facilites), len(none_office), len(none_store), len(none_area), len(none_apartment), len(none_money), len(none_facto), len(none_jure)"
   ]
  },
  {
   "cell_type": "code",
   "execution_count": 66,
   "metadata": {},
   "outputs": [
    {
     "data": {
      "text/plain": [
       "43"
      ]
     },
     "execution_count": 66,
     "metadata": {},
     "output_type": "execute_result"
    }
   ],
   "source": [
    "len(set(none_facilites) - set(none_apartment)) # 집객시설 겹치지 않는 데이터 43개 -> 추정매출에 없는 상권 총 186개(143+43) drop 예정"
   ]
  },
  {
   "cell_type": "code",
   "execution_count": 67,
   "metadata": {},
   "outputs": [
    {
     "data": {
      "text/plain": [
       "0"
      ]
     },
     "execution_count": 67,
     "metadata": {},
     "output_type": "execute_result"
    }
   ],
   "source": [
    "len(set(none_money) - set(none_apartment)) # 소득소비: 모두 아파트에 포함됨"
   ]
  },
  {
   "cell_type": "code",
   "execution_count": 68,
   "metadata": {},
   "outputs": [
    {
     "data": {
      "text/plain": [
       "0"
      ]
     },
     "execution_count": 68,
     "metadata": {},
     "output_type": "execute_result"
    }
   ],
   "source": [
    "len(set(none_jure) - set(none_apartment)) # 상주인구: 모두 아파트에 포함됨"
   ]
  },
  {
   "cell_type": "code",
   "execution_count": 69,
   "metadata": {},
   "outputs": [
    {
     "data": {
      "text/plain": [
       "186"
      ]
     },
     "execution_count": 69,
     "metadata": {},
     "output_type": "execute_result"
    }
   ],
   "source": [
    "# 최종적으로 추정매출에 없는 상권_코드 186개\n",
    "none_code = list(set(none_facilites) - set(none_apartment))\n",
    "none_code += none_apartment\n",
    "len(none_code)"
   ]
  },
  {
   "cell_type": "markdown",
   "metadata": {},
   "source": [
    "## 전체 파일 병합\n",
    "- `on=['기준_년분기_코드', '상권_구분_코드', '상권_코드']`\n",
    "- `on=['기준_년분기_코드', '상권_구분_코드', '상권_코드', '서비스_업종_코드']`"
   ]
  },
  {
   "cell_type": "code",
   "execution_count": 70,
   "metadata": {},
   "outputs": [],
   "source": [
    "# sales + facilities"
   ]
  },
  {
   "cell_type": "code",
   "execution_count": 71,
   "metadata": {},
   "outputs": [
    {
     "data": {
      "text/plain": [
       "((365911, 55), (22092, 25))"
      ]
     },
     "execution_count": 71,
     "metadata": {},
     "output_type": "execute_result"
    }
   ],
   "source": [
    "sales.shape, facilities.shape"
   ]
  },
  {
   "cell_type": "code",
   "execution_count": 72,
   "metadata": {},
   "outputs": [
    {
     "data": {
      "text/plain": [
       "(365911, 75)"
      ]
     },
     "execution_count": 72,
     "metadata": {},
     "output_type": "execute_result"
    }
   ],
   "source": [
    "facilities = facilities.drop(columns=['상권_구분_코드_명', '상권_코드_명'])\n",
    "\n",
    "temp = sales.merge(facilities, how='left', on=['기준_년분기_코드', '상권_구분_코드', '상권_코드'])\n",
    "temp.shape"
   ]
  },
  {
   "cell_type": "code",
   "execution_count": 73,
   "metadata": {},
   "outputs": [],
   "source": [
    "# sales + facilities + office_population"
   ]
  },
  {
   "cell_type": "code",
   "execution_count": 74,
   "metadata": {},
   "outputs": [
    {
     "data": {
      "text/plain": [
       "((365911, 75), (29277, 26))"
      ]
     },
     "execution_count": 74,
     "metadata": {},
     "output_type": "execute_result"
    }
   ],
   "source": [
    "temp.shape, office_population.shape"
   ]
  },
  {
   "cell_type": "code",
   "execution_count": 75,
   "metadata": {},
   "outputs": [
    {
     "data": {
      "text/plain": [
       "(365911, 96)"
      ]
     },
     "execution_count": 75,
     "metadata": {},
     "output_type": "execute_result"
    }
   ],
   "source": [
    "office_population = office_population.drop(columns=['상권_구분_코드_명', '상권_코드_명'])\n",
    "\n",
    "temp = temp.merge(office_population, how='left', on=['기준_년분기_코드', '상권_구분_코드', '상권_코드'])\n",
    "temp.shape"
   ]
  },
  {
   "cell_type": "code",
   "execution_count": 76,
   "metadata": {},
   "outputs": [],
   "source": [
    "# sales + facilities + office_population + store"
   ]
  },
  {
   "cell_type": "code",
   "execution_count": 77,
   "metadata": {},
   "outputs": [
    {
     "data": {
      "text/plain": [
       "((365911, 96), (1360270, 14))"
      ]
     },
     "execution_count": 77,
     "metadata": {},
     "output_type": "execute_result"
    }
   ],
   "source": [
    "temp.shape, store.shape"
   ]
  },
  {
   "cell_type": "code",
   "execution_count": 78,
   "metadata": {},
   "outputs": [
    {
     "data": {
      "text/plain": [
       "(365911, 103)"
      ]
     },
     "execution_count": 78,
     "metadata": {},
     "output_type": "execute_result"
    }
   ],
   "source": [
    "store = store.drop(columns=['상권_구분_코드_명', '상권_코드_명', '서비스_업종_코드_명'])\n",
    "\n",
    "temp = temp.merge(store, how='left', on=['기준_년분기_코드', '상권_구분_코드', '상권_코드', '서비스_업종_코드'])\n",
    "temp.shape"
   ]
  },
  {
   "cell_type": "code",
   "execution_count": 79,
   "metadata": {},
   "outputs": [],
   "source": [
    "# sales + facilities + office_population + store + area"
   ]
  },
  {
   "cell_type": "code",
   "execution_count": 80,
   "metadata": {},
   "outputs": [
    {
     "data": {
      "text/plain": [
       "((365911, 103), (1650, 11))"
      ]
     },
     "execution_count": 80,
     "metadata": {},
     "output_type": "execute_result"
    }
   ],
   "source": [
    "temp.shape, area.shape"
   ]
  },
  {
   "cell_type": "code",
   "execution_count": 81,
   "metadata": {},
   "outputs": [
    {
     "data": {
      "text/plain": [
       "(365911, 110)"
      ]
     },
     "execution_count": 81,
     "metadata": {},
     "output_type": "execute_result"
    }
   ],
   "source": [
    "area = area.drop(columns=['상권_구분_코드_명', '상권_코드_명'])\n",
    "\n",
    "temp = temp.merge(area, how='left', on=['상권_구분_코드', '상권_코드'])\n",
    "temp.shape"
   ]
  },
  {
   "cell_type": "code",
   "execution_count": 82,
   "metadata": {},
   "outputs": [],
   "source": [
    "# sales + facilities + office_population + store + area + apartment"
   ]
  },
  {
   "cell_type": "code",
   "execution_count": 83,
   "metadata": {},
   "outputs": [
    {
     "data": {
      "text/plain": [
       "((365911, 110), (22117, 20))"
      ]
     },
     "execution_count": 83,
     "metadata": {},
     "output_type": "execute_result"
    }
   ],
   "source": [
    "temp.shape, apartment.shape"
   ]
  },
  {
   "cell_type": "code",
   "execution_count": 84,
   "metadata": {},
   "outputs": [
    {
     "data": {
      "text/plain": [
       "(365911, 125)"
      ]
     },
     "execution_count": 84,
     "metadata": {},
     "output_type": "execute_result"
    }
   ],
   "source": [
    "apartment = apartment.drop(columns=['상권_구분_코드_명', '상권_코드_명'])\n",
    "\n",
    "temp = temp.merge(apartment, how='left', on=['기준_년분기_코드', '상권_구분_코드', '상권_코드'])\n",
    "temp.shape"
   ]
  },
  {
   "cell_type": "code",
   "execution_count": 85,
   "metadata": {},
   "outputs": [],
   "source": [
    "# sales + facilities + office_population + store + area + apartment + money"
   ]
  },
  {
   "cell_type": "code",
   "execution_count": 86,
   "metadata": {},
   "outputs": [
    {
     "data": {
      "text/plain": [
       "((365911, 125), (29352, 17))"
      ]
     },
     "execution_count": 86,
     "metadata": {},
     "output_type": "execute_result"
    }
   ],
   "source": [
    "temp.shape, money.shape"
   ]
  },
  {
   "cell_type": "code",
   "execution_count": 87,
   "metadata": {},
   "outputs": [
    {
     "data": {
      "text/plain": [
       "(365911, 137)"
      ]
     },
     "execution_count": 87,
     "metadata": {},
     "output_type": "execute_result"
    }
   ],
   "source": [
    "money = money.drop(columns=['상권_구분_코드_명', '상권_코드_명'])\n",
    "\n",
    "temp = temp.merge(money, how='left', on=['기준_년분기_코드', '상권_구분_코드', '상권_코드'])\n",
    "temp.shape"
   ]
  },
  {
   "cell_type": "code",
   "execution_count": 88,
   "metadata": {},
   "outputs": [],
   "source": [
    "# sales + facilities + office_population + store + area + apartment + money + de_facto_population"
   ]
  },
  {
   "cell_type": "code",
   "execution_count": 89,
   "metadata": {},
   "outputs": [
    {
     "data": {
      "text/plain": [
       "((365911, 137), (29697, 27))"
      ]
     },
     "execution_count": 89,
     "metadata": {},
     "output_type": "execute_result"
    }
   ],
   "source": [
    "temp.shape, de_facto_population.shape"
   ]
  },
  {
   "cell_type": "code",
   "execution_count": 90,
   "metadata": {},
   "outputs": [
    {
     "data": {
      "text/plain": [
       "(365911, 159)"
      ]
     },
     "execution_count": 90,
     "metadata": {},
     "output_type": "execute_result"
    }
   ],
   "source": [
    "de_facto_population = de_facto_population.drop(columns=['상권_구분_코드_명', '상권_코드_명'])\n",
    "\n",
    "temp = temp.merge(de_facto_population, how='left', on=['기준_년분기_코드', '상권_구분_코드', '상권_코드'])\n",
    "temp.shape"
   ]
  },
  {
   "cell_type": "code",
   "execution_count": 91,
   "metadata": {},
   "outputs": [],
   "source": [
    "# sales + facilities + office_population + store + area + apartment + money + de_facto_population + de_jure_population"
   ]
  },
  {
   "cell_type": "code",
   "execution_count": 92,
   "metadata": {},
   "outputs": [
    {
     "data": {
      "text/plain": [
       "((365911, 159), (24486, 29))"
      ]
     },
     "execution_count": 92,
     "metadata": {},
     "output_type": "execute_result"
    }
   ],
   "source": [
    "temp.shape, de_jure_population.shape"
   ]
  },
  {
   "cell_type": "code",
   "execution_count": 93,
   "metadata": {},
   "outputs": [
    {
     "data": {
      "text/plain": [
       "(365911, 183)"
      ]
     },
     "execution_count": 93,
     "metadata": {},
     "output_type": "execute_result"
    }
   ],
   "source": [
    "de_jure_population = de_jure_population.drop(columns=['상권_구분_코드_명', '상권_코드_명'])\n",
    "\n",
    "temp = temp.merge(de_jure_population, how='left', on=['기준_년분기_코드', '상권_구분_코드', '상권_코드'])\n",
    "temp.shape"
   ]
  },
  {
   "cell_type": "markdown",
   "metadata": {},
   "source": [
    "### csv 파일로 저장"
   ]
  },
  {
   "cell_type": "code",
   "execution_count": 94,
   "metadata": {},
   "outputs": [],
   "source": [
    "market_data = temp.copy()"
   ]
  },
  {
   "cell_type": "code",
   "execution_count": 95,
   "metadata": {},
   "outputs": [
    {
     "data": {
      "text/plain": [
       "(365911, 183)"
      ]
     },
     "execution_count": 95,
     "metadata": {},
     "output_type": "execute_result"
    }
   ],
   "source": [
    "market_data.shape"
   ]
  },
  {
   "cell_type": "markdown",
   "metadata": {},
   "source": [
    "#### '상권_코드_명', '행정동_코드_명' replace\n",
    "- 같은 `상권 코드`를 사용하는 `상권_코드_명`이 존재함을 발견 → 같은 이름 but, `.`이 `?`로 표시됨\n",
    "- `행정동_코드_명`에서 `?`로 나타나는 값이 존재함을 발견\n",
    "- 두 컬럼에서 `?`를 `?`으로 replace 작업 진행"
   ]
  },
  {
   "cell_type": "code",
   "execution_count": 96,
   "metadata": {},
   "outputs": [
    {
     "data": {
      "text/plain": [
       "(1577, 1578)"
      ]
     },
     "execution_count": 96,
     "metadata": {},
     "output_type": "execute_result"
    }
   ],
   "source": [
    "market_data['상권_코드'].nunique(), market_data['상권_코드_명'].nunique()"
   ]
  },
  {
   "cell_type": "code",
   "execution_count": 97,
   "metadata": {},
   "outputs": [
    {
     "data": {
      "text/html": [
       "<div>\n",
       "<style scoped>\n",
       "    .dataframe tbody tr th:only-of-type {\n",
       "        vertical-align: middle;\n",
       "    }\n",
       "\n",
       "    .dataframe tbody tr th {\n",
       "        vertical-align: top;\n",
       "    }\n",
       "\n",
       "    .dataframe thead th {\n",
       "        text-align: right;\n",
       "    }\n",
       "</style>\n",
       "<table border=\"1\" class=\"dataframe\">\n",
       "  <thead>\n",
       "    <tr style=\"text-align: right;\">\n",
       "      <th></th>\n",
       "      <th>상권_코드</th>\n",
       "      <th>상권_코드_명</th>\n",
       "    </tr>\n",
       "  </thead>\n",
       "  <tbody>\n",
       "    <tr>\n",
       "      <th>0</th>\n",
       "      <td>3120037</td>\n",
       "      <td>동대문역사문화공원역</td>\n",
       "    </tr>\n",
       "    <tr>\n",
       "      <th>1</th>\n",
       "      <td>3001492</td>\n",
       "      <td>명동 남대문 북창동 다동 무교동 관광특구</td>\n",
       "    </tr>\n",
       "    <tr>\n",
       "      <th>2</th>\n",
       "      <td>3110085</td>\n",
       "      <td>경리단길남측</td>\n",
       "    </tr>\n",
       "    <tr>\n",
       "      <th>3</th>\n",
       "      <td>3110166</td>\n",
       "      <td>구의1동주민센터</td>\n",
       "    </tr>\n",
       "    <tr>\n",
       "      <th>4</th>\n",
       "      <td>3110161</td>\n",
       "      <td>중곡역 3번</td>\n",
       "    </tr>\n",
       "    <tr>\n",
       "      <th>...</th>\n",
       "      <td>...</td>\n",
       "      <td>...</td>\n",
       "    </tr>\n",
       "    <tr>\n",
       "      <th>240453</th>\n",
       "      <td>3130046</td>\n",
       "      <td>team204(팀204)</td>\n",
       "    </tr>\n",
       "    <tr>\n",
       "      <th>254243</th>\n",
       "      <td>3110017</td>\n",
       "      <td>정독도서관</td>\n",
       "    </tr>\n",
       "    <tr>\n",
       "      <th>321225</th>\n",
       "      <td>3130288</td>\n",
       "      <td>신림현대종합상가</td>\n",
       "    </tr>\n",
       "    <tr>\n",
       "      <th>344687</th>\n",
       "      <td>3001494</td>\n",
       "      <td>종로?청계 관광특구</td>\n",
       "    </tr>\n",
       "    <tr>\n",
       "      <th>345579</th>\n",
       "      <td>3110119</td>\n",
       "      <td>마장지하차도</td>\n",
       "    </tr>\n",
       "  </tbody>\n",
       "</table>\n",
       "<p>1578 rows × 2 columns</p>\n",
       "</div>"
      ],
      "text/plain": [
       "          상권_코드                 상권_코드_명\n",
       "0       3120037              동대문역사문화공원역\n",
       "1       3001492  명동 남대문 북창동 다동 무교동 관광특구\n",
       "2       3110085                  경리단길남측\n",
       "3       3110166                구의1동주민센터\n",
       "4       3110161                  중곡역 3번\n",
       "...         ...                     ...\n",
       "240453  3130046           team204(팀204)\n",
       "254243  3110017                   정독도서관\n",
       "321225  3130288                신림현대종합상가\n",
       "344687  3001494              종로?청계 관광특구\n",
       "345579  3110119                  마장지하차도\n",
       "\n",
       "[1578 rows x 2 columns]"
      ]
     },
     "execution_count": 97,
     "metadata": {},
     "output_type": "execute_result"
    }
   ],
   "source": [
    "temp = market_data[['상권_코드', '상권_코드_명']].drop_duplicates()\n",
    "temp"
   ]
  },
  {
   "cell_type": "code",
   "execution_count": 98,
   "metadata": {},
   "outputs": [
    {
     "data": {
      "text/html": [
       "<div>\n",
       "<style scoped>\n",
       "    .dataframe tbody tr th:only-of-type {\n",
       "        vertical-align: middle;\n",
       "    }\n",
       "\n",
       "    .dataframe tbody tr th {\n",
       "        vertical-align: top;\n",
       "    }\n",
       "\n",
       "    .dataframe thead th {\n",
       "        text-align: right;\n",
       "    }\n",
       "</style>\n",
       "<table border=\"1\" class=\"dataframe\">\n",
       "  <thead>\n",
       "    <tr style=\"text-align: right;\">\n",
       "      <th></th>\n",
       "      <th>상권_코드</th>\n",
       "      <th>상권_코드_명</th>\n",
       "    </tr>\n",
       "  </thead>\n",
       "  <tbody>\n",
       "    <tr>\n",
       "      <th>344687</th>\n",
       "      <td>3001494</td>\n",
       "      <td>종로?청계 관광특구</td>\n",
       "    </tr>\n",
       "  </tbody>\n",
       "</table>\n",
       "</div>"
      ],
      "text/plain": [
       "          상권_코드     상권_코드_명\n",
       "344687  3001494  종로?청계 관광특구"
      ]
     },
     "execution_count": 98,
     "metadata": {},
     "output_type": "execute_result"
    }
   ],
   "source": [
    "temp[temp['상권_코드'].duplicated()]"
   ]
  },
  {
   "cell_type": "code",
   "execution_count": 99,
   "metadata": {},
   "outputs": [
    {
     "data": {
      "text/html": [
       "<div>\n",
       "<style scoped>\n",
       "    .dataframe tbody tr th:only-of-type {\n",
       "        vertical-align: middle;\n",
       "    }\n",
       "\n",
       "    .dataframe tbody tr th {\n",
       "        vertical-align: top;\n",
       "    }\n",
       "\n",
       "    .dataframe thead th {\n",
       "        text-align: right;\n",
       "    }\n",
       "</style>\n",
       "<table border=\"1\" class=\"dataframe\">\n",
       "  <thead>\n",
       "    <tr style=\"text-align: right;\">\n",
       "      <th></th>\n",
       "      <th>상권_코드</th>\n",
       "      <th>상권_코드_명</th>\n",
       "    </tr>\n",
       "  </thead>\n",
       "  <tbody>\n",
       "    <tr>\n",
       "      <th>93</th>\n",
       "      <td>3001494</td>\n",
       "      <td>종로·청계 관광특구</td>\n",
       "    </tr>\n",
       "    <tr>\n",
       "      <th>344687</th>\n",
       "      <td>3001494</td>\n",
       "      <td>종로?청계 관광특구</td>\n",
       "    </tr>\n",
       "  </tbody>\n",
       "</table>\n",
       "</div>"
      ],
      "text/plain": [
       "          상권_코드     상권_코드_명\n",
       "93      3001494  종로·청계 관광특구\n",
       "344687  3001494  종로?청계 관광특구"
      ]
     },
     "execution_count": 99,
     "metadata": {},
     "output_type": "execute_result"
    }
   ],
   "source": [
    "temp[temp['상권_코드'] == 3001494]"
   ]
  },
  {
   "cell_type": "code",
   "execution_count": 100,
   "metadata": {},
   "outputs": [],
   "source": [
    "market_data['상권_코드_명'] = market_data['상권_코드_명'].str.replace('?', '·', regex=False)\n",
    "market_data['행정동_코드_명'] = market_data['행정동_코드_명'].str.replace('?', '·', regex=False)"
   ]
  },
  {
   "cell_type": "code",
   "execution_count": 101,
   "metadata": {},
   "outputs": [
    {
     "data": {
      "text/plain": [
       "(1577, 1577)"
      ]
     },
     "execution_count": 101,
     "metadata": {},
     "output_type": "execute_result"
    }
   ],
   "source": [
    "market_data['상권_코드'].nunique(), market_data['상권_코드_명'].nunique()"
   ]
  },
  {
   "cell_type": "markdown",
   "metadata": {},
   "source": [
    "#### 추정매출에 없는 상권 코드는 제외하고 full_data 저장\n",
    "- `none_code`\n",
    "- 186개"
   ]
  },
  {
   "cell_type": "code",
   "execution_count": 102,
   "metadata": {},
   "outputs": [
    {
     "data": {
      "text/plain": [
       "(26384,)"
      ]
     },
     "execution_count": 102,
     "metadata": {},
     "output_type": "execute_result"
    }
   ],
   "source": [
    "market_data[market_data['상권_코드'].isin(none_code)]['상권_코드'].shape # 26384행"
   ]
  },
  {
   "cell_type": "code",
   "execution_count": 103,
   "metadata": {},
   "outputs": [
    {
     "data": {
      "text/plain": [
       "186"
      ]
     },
     "execution_count": 103,
     "metadata": {},
     "output_type": "execute_result"
    }
   ],
   "source": [
    "market_data[market_data['상권_코드'].isin(none_code)]['상권_코드'].nunique() # 186개 확인"
   ]
  },
  {
   "cell_type": "code",
   "execution_count": 104,
   "metadata": {},
   "outputs": [
    {
     "data": {
      "text/plain": [
       "(339527, 183)"
      ]
     },
     "execution_count": 104,
     "metadata": {},
     "output_type": "execute_result"
    }
   ],
   "source": [
    "market_data = market_data[~(market_data['상권_코드'].isin(none_code))] # none_code에 포함되지 않는 상권_코드\n",
    "market_data.shape"
   ]
  },
  {
   "cell_type": "markdown",
   "metadata": {},
   "source": [
    "#### csv로 저장"
   ]
  },
  {
   "cell_type": "code",
   "execution_count": 105,
   "metadata": {},
   "outputs": [],
   "source": [
    "market_data.to_csv('../../data/preprocessed data/market_full_data.csv', index=False)"
   ]
  },
  {
   "cell_type": "markdown",
   "metadata": {},
   "source": [
    "## 서비스 제공 업종 선별\n",
    "- **외식업(10)**: 한식음식점, 커피-음료, 분식전문점, 호프-간이주점, 치킨전문점, 중식음식점, 패스트푸드점, 제과점, 일식음식점, 양식음식점\n",
    "- **소매업(4)**: 편의점, 일반의류, 화장품, 의약품\n",
    "- **서비스업(3)**: 일반교습학원, 미용실, 세탁소"
   ]
  },
  {
   "cell_type": "code",
   "execution_count": 106,
   "metadata": {},
   "outputs": [],
   "source": [
    "import pandas as pd\n",
    "\n",
    "pd.set_option('display.max_columns', 500)"
   ]
  },
  {
   "cell_type": "code",
   "execution_count": 107,
   "metadata": {},
   "outputs": [
    {
     "data": {
      "text/plain": [
       "(339527, 183)"
      ]
     },
     "execution_count": 107,
     "metadata": {},
     "output_type": "execute_result"
    }
   ],
   "source": [
    "full_data = pd.read_csv('../../data/preprocessed data/market_full_data.csv')\n",
    "full_data.shape"
   ]
  },
  {
   "cell_type": "code",
   "execution_count": 108,
   "metadata": {},
   "outputs": [
    {
     "data": {
      "text/plain": [
       "array(['네일숍', '피부관리실', '세탁소', '가전제품수리', '부동산중개업', '여관', '노래방', '슈퍼마켓',\n",
       "       '육류판매', '편의점', '가방', '컴퓨터및주변장치판매', '핸드폰', '미곡판매', '수산물판매', '화초',\n",
       "       '청과상', '반찬가게', '시계및귀금속', '일반의류', '신발', '안경', '의약품', '의료기기', '서적',\n",
       "       '문구', '화장품', '운동/경기용품', '자전거 및 기타운송장비', '섬유제품', '애완동물', '가구',\n",
       "       '가전제품', '철물점', '인테리어', '조명용품', '전자상거래업', '중식음식점', '분식전문점', '커피-음료',\n",
       "       '일반교습학원', '예술학원', '치킨전문점', '자동차미용', '한식음식점', '일식음식점', '양식음식점',\n",
       "       '제과점', '패스트푸드점', '호프-간이주점', '외국어학원', '스포츠 강습', '일반의원', '치과의원',\n",
       "       '한의원', '당구장', '골프연습장', 'PC방', '스포츠클럽', '자동차수리', '미용실', '고시원', '완구'],\n",
       "      dtype=object)"
      ]
     },
     "execution_count": 108,
     "metadata": {},
     "output_type": "execute_result"
    }
   ],
   "source": [
    "full_data['서비스_업종_코드_명'].unique()"
   ]
  },
  {
   "cell_type": "code",
   "execution_count": 109,
   "metadata": {},
   "outputs": [],
   "source": [
    "temp = full_data[['서비스_업종_코드', '서비스_업종_코드_명']].drop_duplicates()\n",
    "\n",
    "food = temp[temp['서비스_업종_코드_명'].isin(['한식음식점', '커피-음료', '분식전문점', '호프-간이주점', '치킨전문점', '중식음식점', '패스트푸드점', '제과점', '일식음식점', '양식음식점'])].reset_index(drop=True)\n",
    "retail = temp[temp['서비스_업종_코드_명'].isin(['편의점', '일반의류', '화장품', '의약품'])].reset_index(drop=True)\n",
    "service = temp[temp['서비스_업종_코드_명'].isin(['일반교습학원', '미용실', '세탁소'])].reset_index(drop=True)"
   ]
  },
  {
   "cell_type": "code",
   "execution_count": 110,
   "metadata": {},
   "outputs": [
    {
     "data": {
      "text/html": [
       "<div>\n",
       "<style scoped>\n",
       "    .dataframe tbody tr th:only-of-type {\n",
       "        vertical-align: middle;\n",
       "    }\n",
       "\n",
       "    .dataframe tbody tr th {\n",
       "        vertical-align: top;\n",
       "    }\n",
       "\n",
       "    .dataframe thead th {\n",
       "        text-align: right;\n",
       "    }\n",
       "</style>\n",
       "<table border=\"1\" class=\"dataframe\">\n",
       "  <thead>\n",
       "    <tr style=\"text-align: right;\">\n",
       "      <th></th>\n",
       "      <th>서비스_업종_코드</th>\n",
       "      <th>서비스_업종_코드_명</th>\n",
       "    </tr>\n",
       "  </thead>\n",
       "  <tbody>\n",
       "    <tr>\n",
       "      <th>0</th>\n",
       "      <td>CS100002</td>\n",
       "      <td>중식음식점</td>\n",
       "    </tr>\n",
       "    <tr>\n",
       "      <th>1</th>\n",
       "      <td>CS100008</td>\n",
       "      <td>분식전문점</td>\n",
       "    </tr>\n",
       "    <tr>\n",
       "      <th>2</th>\n",
       "      <td>CS100010</td>\n",
       "      <td>커피-음료</td>\n",
       "    </tr>\n",
       "    <tr>\n",
       "      <th>3</th>\n",
       "      <td>CS100007</td>\n",
       "      <td>치킨전문점</td>\n",
       "    </tr>\n",
       "    <tr>\n",
       "      <th>4</th>\n",
       "      <td>CS100001</td>\n",
       "      <td>한식음식점</td>\n",
       "    </tr>\n",
       "    <tr>\n",
       "      <th>5</th>\n",
       "      <td>CS100003</td>\n",
       "      <td>일식음식점</td>\n",
       "    </tr>\n",
       "    <tr>\n",
       "      <th>6</th>\n",
       "      <td>CS100004</td>\n",
       "      <td>양식음식점</td>\n",
       "    </tr>\n",
       "    <tr>\n",
       "      <th>7</th>\n",
       "      <td>CS100005</td>\n",
       "      <td>제과점</td>\n",
       "    </tr>\n",
       "    <tr>\n",
       "      <th>8</th>\n",
       "      <td>CS100006</td>\n",
       "      <td>패스트푸드점</td>\n",
       "    </tr>\n",
       "    <tr>\n",
       "      <th>9</th>\n",
       "      <td>CS100009</td>\n",
       "      <td>호프-간이주점</td>\n",
       "    </tr>\n",
       "  </tbody>\n",
       "</table>\n",
       "</div>"
      ],
      "text/plain": [
       "  서비스_업종_코드 서비스_업종_코드_명\n",
       "0  CS100002       중식음식점\n",
       "1  CS100008       분식전문점\n",
       "2  CS100010       커피-음료\n",
       "3  CS100007       치킨전문점\n",
       "4  CS100001       한식음식점\n",
       "5  CS100003       일식음식점\n",
       "6  CS100004       양식음식점\n",
       "7  CS100005         제과점\n",
       "8  CS100006      패스트푸드점\n",
       "9  CS100009     호프-간이주점"
      ]
     },
     "execution_count": 110,
     "metadata": {},
     "output_type": "execute_result"
    }
   ],
   "source": [
    "food"
   ]
  },
  {
   "cell_type": "code",
   "execution_count": 111,
   "metadata": {},
   "outputs": [
    {
     "data": {
      "text/html": [
       "<div>\n",
       "<style scoped>\n",
       "    .dataframe tbody tr th:only-of-type {\n",
       "        vertical-align: middle;\n",
       "    }\n",
       "\n",
       "    .dataframe tbody tr th {\n",
       "        vertical-align: top;\n",
       "    }\n",
       "\n",
       "    .dataframe thead th {\n",
       "        text-align: right;\n",
       "    }\n",
       "</style>\n",
       "<table border=\"1\" class=\"dataframe\">\n",
       "  <thead>\n",
       "    <tr style=\"text-align: right;\">\n",
       "      <th></th>\n",
       "      <th>서비스_업종_코드</th>\n",
       "      <th>서비스_업종_코드_명</th>\n",
       "    </tr>\n",
       "  </thead>\n",
       "  <tbody>\n",
       "    <tr>\n",
       "      <th>0</th>\n",
       "      <td>CS300002</td>\n",
       "      <td>편의점</td>\n",
       "    </tr>\n",
       "    <tr>\n",
       "      <th>1</th>\n",
       "      <td>CS300011</td>\n",
       "      <td>일반의류</td>\n",
       "    </tr>\n",
       "    <tr>\n",
       "      <th>2</th>\n",
       "      <td>CS300018</td>\n",
       "      <td>의약품</td>\n",
       "    </tr>\n",
       "    <tr>\n",
       "      <th>3</th>\n",
       "      <td>CS300022</td>\n",
       "      <td>화장품</td>\n",
       "    </tr>\n",
       "  </tbody>\n",
       "</table>\n",
       "</div>"
      ],
      "text/plain": [
       "  서비스_업종_코드 서비스_업종_코드_명\n",
       "0  CS300002         편의점\n",
       "1  CS300011        일반의류\n",
       "2  CS300018         의약품\n",
       "3  CS300022         화장품"
      ]
     },
     "execution_count": 111,
     "metadata": {},
     "output_type": "execute_result"
    }
   ],
   "source": [
    "retail"
   ]
  },
  {
   "cell_type": "code",
   "execution_count": 112,
   "metadata": {},
   "outputs": [
    {
     "data": {
      "text/html": [
       "<div>\n",
       "<style scoped>\n",
       "    .dataframe tbody tr th:only-of-type {\n",
       "        vertical-align: middle;\n",
       "    }\n",
       "\n",
       "    .dataframe tbody tr th {\n",
       "        vertical-align: top;\n",
       "    }\n",
       "\n",
       "    .dataframe thead th {\n",
       "        text-align: right;\n",
       "    }\n",
       "</style>\n",
       "<table border=\"1\" class=\"dataframe\">\n",
       "  <thead>\n",
       "    <tr style=\"text-align: right;\">\n",
       "      <th></th>\n",
       "      <th>서비스_업종_코드</th>\n",
       "      <th>서비스_업종_코드_명</th>\n",
       "    </tr>\n",
       "  </thead>\n",
       "  <tbody>\n",
       "    <tr>\n",
       "      <th>0</th>\n",
       "      <td>CS200031</td>\n",
       "      <td>세탁소</td>\n",
       "    </tr>\n",
       "    <tr>\n",
       "      <th>1</th>\n",
       "      <td>CS200001</td>\n",
       "      <td>일반교습학원</td>\n",
       "    </tr>\n",
       "    <tr>\n",
       "      <th>2</th>\n",
       "      <td>CS200028</td>\n",
       "      <td>미용실</td>\n",
       "    </tr>\n",
       "  </tbody>\n",
       "</table>\n",
       "</div>"
      ],
      "text/plain": [
       "  서비스_업종_코드 서비스_업종_코드_명\n",
       "0  CS200031         세탁소\n",
       "1  CS200001      일반교습학원\n",
       "2  CS200028         미용실"
      ]
     },
     "execution_count": 112,
     "metadata": {},
     "output_type": "execute_result"
    }
   ],
   "source": [
    "service"
   ]
  },
  {
   "cell_type": "code",
   "execution_count": 113,
   "metadata": {},
   "outputs": [
    {
     "data": {
      "text/plain": [
       "(182490, 183)"
      ]
     },
     "execution_count": 113,
     "metadata": {},
     "output_type": "execute_result"
    }
   ],
   "source": [
    "business_type_code = list(food['서비스_업종_코드']) + list(retail['서비스_업종_코드']) + list(service['서비스_업종_코드'])\n",
    "\n",
    "service_data = full_data[full_data['서비스_업종_코드'].isin(business_type_code)]\n",
    "service_data.shape"
   ]
  },
  {
   "cell_type": "markdown",
   "metadata": {},
   "source": [
    "### 점포별 평균 매출 금액 컬럼 추가 \n",
    "- `당월_매출_금액`: 해당 상권, 서비스 업종의 모든 점포들의 매출 합\n",
    "- 전체 업종 수 = `유사_업종_점포_수`\n",
    "- `점포별_평균_매출_금액` = `당월_매출_금액` / `유사_업종_점포_수`"
   ]
  },
  {
   "cell_type": "code",
   "execution_count": 114,
   "metadata": {},
   "outputs": [
    {
     "data": {
      "text/plain": [
       "count    182490.000000\n",
       "mean         17.460935\n",
       "std         102.663366\n",
       "min           3.000000\n",
       "25%           5.000000\n",
       "50%           8.000000\n",
       "75%          15.000000\n",
       "max       10268.000000\n",
       "Name: 유사_업종_점포_수, dtype: float64"
      ]
     },
     "execution_count": 114,
     "metadata": {},
     "output_type": "execute_result"
    }
   ],
   "source": [
    "service_data['유사_업종_점포_수'].describe()"
   ]
  },
  {
   "cell_type": "code",
   "execution_count": 115,
   "metadata": {},
   "outputs": [
    {
     "name": "stderr",
     "output_type": "stream",
     "text": [
      "C:\\Users\\user\\AppData\\Local\\Temp\\ipykernel_20208\\3634946246.py:1: SettingWithCopyWarning: \n",
      "A value is trying to be set on a copy of a slice from a DataFrame.\n",
      "Try using .loc[row_indexer,col_indexer] = value instead\n",
      "\n",
      "See the caveats in the documentation: https://pandas.pydata.org/pandas-docs/stable/user_guide/indexing.html#returning-a-view-versus-a-copy\n",
      "  service_data['점포별_평균_매출_금액'] = service_data['당월_매출_금액'] / service_data['유사_업종_점포_수']\n"
     ]
    },
    {
     "data": {
      "text/plain": [
       "count    1.824900e+05\n",
       "mean     4.728769e+07\n",
       "std      9.702535e+07\n",
       "min      1.654545e+01\n",
       "25%      7.568068e+06\n",
       "50%      2.130747e+07\n",
       "75%      5.215137e+07\n",
       "max      7.913566e+09\n",
       "Name: 점포별_평균_매출_금액, dtype: float64"
      ]
     },
     "execution_count": 115,
     "metadata": {},
     "output_type": "execute_result"
    }
   ],
   "source": [
    "service_data['점포별_평균_매출_금액'] = service_data['당월_매출_금액'] / service_data['유사_업종_점포_수']\n",
    "service_data['점포별_평균_매출_금액'].describe()"
   ]
  },
  {
   "cell_type": "markdown",
   "metadata": {},
   "source": [
    "#### 시각화"
   ]
  },
  {
   "cell_type": "code",
   "execution_count": 116,
   "metadata": {},
   "outputs": [
    {
     "data": {
      "image/png": "[encoded data removed]",
      "text/plain": [
       "<Figure size 640x480 with 1 Axes>"
      ]
     },
     "metadata": {},
     "output_type": "display_data"
    }
   ],
   "source": [
    "import pandas as pd\n",
    "import numpy as np\n",
    "import matplotlib.pyplot as plt\n",
    "import seaborn as sns\n",
    "plt.rc('font', family='Malgun Gothic')\n",
    "\n",
    "import warnings\n",
    "warnings.filterwarnings('ignore')\n",
    "\n",
    "plt.boxplot(service_data['점포별_평균_매출_금액'])\n",
    "plt.show()"
   ]
  },
  {
   "cell_type": "code",
   "execution_count": 117,
   "metadata": {},
   "outputs": [
    {
     "data": {
      "image/png": "[encoded data removed]",
      "text/plain": [
       "<Figure size 2000x1000 with 1 Axes>"
      ]
     },
     "metadata": {},
     "output_type": "display_data"
    },
    {
     "data": {
      "text/plain": [
       "'_summary_\\n1. 코로나(20.1-21.4)와 이후는 추세 차이 존재 -> 코로나 변수 생성\\n1.1  코로나 때에는 1,2,3,4 분기별의 추이와 아닐 때 분기별 추이가 다름 -> 분기 생성\\n'"
      ]
     },
     "execution_count": 117,
     "metadata": {},
     "output_type": "execute_result"
    }
   ],
   "source": [
    "## 분기별 추이 확인(전체)\n",
    "quarter_sales = service_data.groupby([\"기준_년분기_코드\"])[\"점포별_평균_매출_금액\"].mean()\n",
    "\n",
    "# Matplotlib을 사용한 그룹별 바 플롯\n",
    "plt.figure(figsize=(20,10))\n",
    "quarter_sales.plot(kind='bar', legend=False)\n",
    "\n",
    "plt.xlabel(\"분기\", fontsize=15)\n",
    "plt.ylabel('총 매출', fontsize=15)\n",
    "#plt.title(var+' 총 매출-'+title , fontsize=20)\n",
    "\n",
    "# 라벨이 겹치지 않도록 조정\n",
    "plt.tight_layout()\n",
    "plt.xticks(rotation=90)\n",
    "plt.show()\n",
    " \n",
    " \n",
    "\"\"\"_summary_\n",
    "1. 코로나(20.1-21.4)와 이후는 추세 차이 존재 -> 코로나 변수 생성\n",
    "1.1  코로나 때에는 1,2,3,4 분기별의 추이와 아닐 때 분기별 추이가 다름 -> 분기 생성\n",
    "\"\"\""
   ]
  },
  {
   "cell_type": "code",
   "execution_count": 118,
   "metadata": {},
   "outputs": [
    {
     "data": {
      "image/png": "[encoded data removed]",
      "text/plain": [
       "<Figure size 1000x600 with 1 Axes>"
      ]
     },
     "metadata": {},
     "output_type": "display_data"
    },
    {
     "data": {
      "image/png": "[encoded data removed]",
      "text/plain": [
       "<Figure size 1000x600 with 1 Axes>"
      ]
     },
     "metadata": {},
     "output_type": "display_data"
    },
    {
     "data": {
      "image/png": "[encoded data removed]",
      "text/plain": [
       "<Figure size 1000x600 with 1 Axes>"
      ]
     },
     "metadata": {},
     "output_type": "display_data"
    }
   ],
   "source": [
    "## 각 업종별 평균 매출 추이 파악 - 세탁소 에러 확인(제거), 100만원 이하 건수 삭제 시행\n",
    "plt.figure(figsize=(10, 6))\n",
    "plt.title('각 업종의 점포별_평균_매출_금액(전체)')\n",
    "sns.boxplot(data=service_data, x='서비스_업종_코드_명', y='점포별_평균_매출_금액')\n",
    "plt.xticks(rotation=90)\n",
    "plt.show()\n",
    "\n",
    "\n",
    "plt.figure(figsize=(10, 6))\n",
    "plt.title('각 업종의 점포별_평균_매출_금액(일정)')\n",
    "sns.boxplot(data=service_data, x='서비스_업종_코드_명', y='점포별_평균_매출_금액')\n",
    "plt.ylim(0, 1000000)\n",
    "plt.xticks(rotation=90)\n",
    "plt.show()\n",
    "\n",
    "\n",
    "plt.figure(figsize=(10, 6))\n",
    "plt.title('각 업종의 점포별_평균_매출_금액(일정)')\n",
    "sns.kdeplot(data=service_data, x='점포별_평균_매출_금액', hue=\"서비스_업종_코드_명\")\n",
    "plt.xlim(0, 1000000000)\n",
    "plt.xticks(rotation=90)\n",
    "plt.show()"
   ]
  },
  {
   "cell_type": "markdown",
   "metadata": {},
   "source": [
    "### csv 파일로 저장"
   ]
  },
  {
   "cell_type": "code",
   "execution_count": 119,
   "metadata": {},
   "outputs": [],
   "source": [
    "service_data = service_data.reset_index(drop=True)\n",
    "service_data.to_csv('../../data/preprocessed data/market_service_data.csv', index=False)"
   ]
  },
  {
   "cell_type": "markdown",
   "metadata": {},
   "source": [
    "## 모델 학습용 데이터"
   ]
  },
  {
   "cell_type": "code",
   "execution_count": 120,
   "metadata": {},
   "outputs": [],
   "source": [
    "import pandas as pd\n",
    "\n",
    "pd.set_option('display.max_columns', 500)"
   ]
  },
  {
   "cell_type": "markdown",
   "metadata": {},
   "source": [
    "### 1. 해당 분기 매출 예측\n",
    "- y: `점포별_평균_매출_금액`"
   ]
  },
  {
   "cell_type": "code",
   "execution_count": 121,
   "metadata": {},
   "outputs": [
    {
     "data": {
      "text/plain": [
       "(182490, 184)"
      ]
     },
     "execution_count": 121,
     "metadata": {},
     "output_type": "execute_result"
    }
   ],
   "source": [
    "estimate = pd.read_csv('../../data/preprocessed data/market_service_data.csv')\n",
    "estimate.shape"
   ]
  },
  {
   "cell_type": "code",
   "execution_count": 122,
   "metadata": {},
   "outputs": [
    {
     "name": "stdout",
     "output_type": "stream",
     "text": [
      "48\n"
     ]
    }
   ],
   "source": [
    "drop_cols = ['당월_매출_금액', '당월_매출_건수', '주중_매출_금액', '주말_매출_금액',\n",
    "       '월요일_매출_금액', '화요일_매출_금액', '수요일_매출_금액', '목요일_매출_금액', '금요일_매출_금액',\n",
    "       '토요일_매출_금액', '일요일_매출_금액', '시간대_00~06_매출_금액', '시간대_06~11_매출_금액',\n",
    "       '시간대_11~14_매출_금액', '시간대_14~17_매출_금액', '시간대_17~21_매출_금액',\n",
    "       '시간대_21~24_매출_금액', '남성_매출_금액', '여성_매출_금액', '연령대_10_매출_금액',\n",
    "       '연령대_20_매출_금액', '연령대_30_매출_금액', '연령대_40_매출_금액', '연령대_50_매출_금액',\n",
    "       '연령대_60_이상_매출_금액', '주중_매출_건수', '주말_매출_건수', '월요일_매출_건수', '화요일_매출_건수',\n",
    "       '수요일_매출_건수', '목요일_매출_건수', '금요일_매출_건수', '토요일_매출_건수', '일요일_매출_건수',\n",
    "       '시간대_건수~06_매출_건수', '시간대_건수~11_매출_건수', '시간대_건수~14_매출_건수',\n",
    "       '시간대_건수~17_매출_건수', '시간대_건수~21_매출_건수', '시간대_건수~24_매출_건수', '남성_매출_건수',\n",
    "       '여성_매출_건수', '연령대_10_매출_건수', '연령대_20_매출_건수', '연령대_30_매출_건수',\n",
    "       '연령대_40_매출_건수', '연령대_50_매출_건수', '연령대_60_이상_매출_건수']\n",
    "\n",
    "print(len(drop_cols))"
   ]
  },
  {
   "cell_type": "code",
   "execution_count": 123,
   "metadata": {},
   "outputs": [
    {
     "data": {
      "text/plain": [
       "(182490, 136)"
      ]
     },
     "execution_count": 123,
     "metadata": {},
     "output_type": "execute_result"
    }
   ],
   "source": [
    "estimate = estimate.drop(columns=drop_cols)\n",
    "estimate.shape"
   ]
  },
  {
   "cell_type": "code",
   "execution_count": 124,
   "metadata": {},
   "outputs": [
    {
     "data": {
      "text/plain": [
       "count    1.824900e+05\n",
       "mean     4.728769e+07\n",
       "std      9.702535e+07\n",
       "min      1.654545e+01\n",
       "25%      7.568068e+06\n",
       "50%      2.130747e+07\n",
       "75%      5.215137e+07\n",
       "max      7.913566e+09\n",
       "Name: 점포별_평균_매출_금액, dtype: float64"
      ]
     },
     "execution_count": 124,
     "metadata": {},
     "output_type": "execute_result"
    }
   ],
   "source": [
    "estimate['점포별_평균_매출_금액'].describe()"
   ]
  },
  {
   "cell_type": "code",
   "execution_count": 125,
   "metadata": {},
   "outputs": [],
   "source": [
    "estimate.to_csv('../../data/preprocessed data/market_service_data_estimate.csv', index=False)"
   ]
  },
  {
   "cell_type": "markdown",
   "metadata": {},
   "source": [
    "### 2. 다음 분기 매출 예측\n",
    "- y: `점포별_예상_평균_매출_금액`"
   ]
  },
  {
   "cell_type": "code",
   "execution_count": 126,
   "metadata": {},
   "outputs": [
    {
     "data": {
      "text/plain": [
       "(182490, 136)"
      ]
     },
     "execution_count": 126,
     "metadata": {},
     "output_type": "execute_result"
    }
   ],
   "source": [
    "predict = pd.read_csv('../../data/preprocessed data/market_service_data_estimate.csv')\n",
    "predict.shape"
   ]
  },
  {
   "cell_type": "code",
   "execution_count": 127,
   "metadata": {},
   "outputs": [],
   "source": [
    "# '점포별_예상_평균_매출_금액' 컬럼 생성\n",
    "predict = predict.sort_values(by=['상권_구분_코드', '상권_코드', '서비스_업종_코드', '기준_년분기_코드'])\n",
    "predict['점포별_예상_평균_매출_금액'] = predict['점포별_평균_매출_금액'].shift(-1)\n",
    "predict = predict[predict['기준_년분기_코드'] < 20232]"
   ]
  },
  {
   "cell_type": "code",
   "execution_count": 128,
   "metadata": {},
   "outputs": [
    {
     "data": {
      "text/html": [
       "<div>\n",
       "<style scoped>\n",
       "    .dataframe tbody tr th:only-of-type {\n",
       "        vertical-align: middle;\n",
       "    }\n",
       "\n",
       "    .dataframe tbody tr th {\n",
       "        vertical-align: top;\n",
       "    }\n",
       "\n",
       "    .dataframe thead th {\n",
       "        text-align: right;\n",
       "    }\n",
       "</style>\n",
       "<table border=\"1\" class=\"dataframe\">\n",
       "  <thead>\n",
       "    <tr style=\"text-align: right;\">\n",
       "      <th></th>\n",
       "      <th>기준_년분기_코드</th>\n",
       "      <th>상권_코드_명</th>\n",
       "      <th>서비스_업종_코드_명</th>\n",
       "      <th>점포별_평균_매출_금액</th>\n",
       "      <th>점포별_예상_평균_매출_금액</th>\n",
       "    </tr>\n",
       "  </thead>\n",
       "  <tbody>\n",
       "    <tr>\n",
       "      <th>6180</th>\n",
       "      <td>20191</td>\n",
       "      <td>이북5도청사</td>\n",
       "      <td>한식음식점</td>\n",
       "      <td>4.002666e+07</td>\n",
       "      <td>4.829893e+07</td>\n",
       "    </tr>\n",
       "    <tr>\n",
       "      <th>14473</th>\n",
       "      <td>20192</td>\n",
       "      <td>이북5도청사</td>\n",
       "      <td>한식음식점</td>\n",
       "      <td>4.829893e+07</td>\n",
       "      <td>3.870668e+07</td>\n",
       "    </tr>\n",
       "    <tr>\n",
       "      <th>22886</th>\n",
       "      <td>20193</td>\n",
       "      <td>이북5도청사</td>\n",
       "      <td>한식음식점</td>\n",
       "      <td>3.870668e+07</td>\n",
       "      <td>4.320248e+07</td>\n",
       "    </tr>\n",
       "    <tr>\n",
       "      <th>35170</th>\n",
       "      <td>20194</td>\n",
       "      <td>이북5도청사</td>\n",
       "      <td>한식음식점</td>\n",
       "      <td>4.320248e+07</td>\n",
       "      <td>3.475506e+07</td>\n",
       "    </tr>\n",
       "    <tr>\n",
       "      <th>41560</th>\n",
       "      <td>20201</td>\n",
       "      <td>이북5도청사</td>\n",
       "      <td>한식음식점</td>\n",
       "      <td>3.475506e+07</td>\n",
       "      <td>3.965844e+07</td>\n",
       "    </tr>\n",
       "    <tr>\n",
       "      <th>52833</th>\n",
       "      <td>20202</td>\n",
       "      <td>이북5도청사</td>\n",
       "      <td>한식음식점</td>\n",
       "      <td>3.965844e+07</td>\n",
       "      <td>3.334403e+07</td>\n",
       "    </tr>\n",
       "    <tr>\n",
       "      <th>60795</th>\n",
       "      <td>20203</td>\n",
       "      <td>이북5도청사</td>\n",
       "      <td>한식음식점</td>\n",
       "      <td>3.334403e+07</td>\n",
       "      <td>3.164236e+07</td>\n",
       "    </tr>\n",
       "    <tr>\n",
       "      <th>78240</th>\n",
       "      <td>20204</td>\n",
       "      <td>이북5도청사</td>\n",
       "      <td>한식음식점</td>\n",
       "      <td>3.164236e+07</td>\n",
       "      <td>2.980190e+07</td>\n",
       "    </tr>\n",
       "    <tr>\n",
       "      <th>88795</th>\n",
       "      <td>20211</td>\n",
       "      <td>이북5도청사</td>\n",
       "      <td>한식음식점</td>\n",
       "      <td>2.980190e+07</td>\n",
       "      <td>3.552428e+07</td>\n",
       "    </tr>\n",
       "    <tr>\n",
       "      <th>92896</th>\n",
       "      <td>20212</td>\n",
       "      <td>이북5도청사</td>\n",
       "      <td>한식음식점</td>\n",
       "      <td>3.552428e+07</td>\n",
       "      <td>3.555242e+07</td>\n",
       "    </tr>\n",
       "    <tr>\n",
       "      <th>107563</th>\n",
       "      <td>20213</td>\n",
       "      <td>이북5도청사</td>\n",
       "      <td>한식음식점</td>\n",
       "      <td>3.555242e+07</td>\n",
       "      <td>3.578567e+07</td>\n",
       "    </tr>\n",
       "    <tr>\n",
       "      <th>118487</th>\n",
       "      <td>20214</td>\n",
       "      <td>이북5도청사</td>\n",
       "      <td>한식음식점</td>\n",
       "      <td>3.578567e+07</td>\n",
       "      <td>3.404493e+07</td>\n",
       "    </tr>\n",
       "    <tr>\n",
       "      <th>123028</th>\n",
       "      <td>20221</td>\n",
       "      <td>이북5도청사</td>\n",
       "      <td>한식음식점</td>\n",
       "      <td>3.404493e+07</td>\n",
       "      <td>4.999308e+07</td>\n",
       "    </tr>\n",
       "    <tr>\n",
       "      <th>133867</th>\n",
       "      <td>20222</td>\n",
       "      <td>이북5도청사</td>\n",
       "      <td>한식음식점</td>\n",
       "      <td>4.999308e+07</td>\n",
       "      <td>4.761925e+07</td>\n",
       "    </tr>\n",
       "    <tr>\n",
       "      <th>145023</th>\n",
       "      <td>20223</td>\n",
       "      <td>이북5도청사</td>\n",
       "      <td>한식음식점</td>\n",
       "      <td>4.761925e+07</td>\n",
       "      <td>4.654046e+07</td>\n",
       "    </tr>\n",
       "    <tr>\n",
       "      <th>160080</th>\n",
       "      <td>20224</td>\n",
       "      <td>이북5도청사</td>\n",
       "      <td>한식음식점</td>\n",
       "      <td>4.654046e+07</td>\n",
       "      <td>3.686776e+07</td>\n",
       "    </tr>\n",
       "    <tr>\n",
       "      <th>161417</th>\n",
       "      <td>20231</td>\n",
       "      <td>이북5도청사</td>\n",
       "      <td>한식음식점</td>\n",
       "      <td>3.686776e+07</td>\n",
       "      <td>4.230988e+07</td>\n",
       "    </tr>\n",
       "    <tr>\n",
       "      <th>8154</th>\n",
       "      <td>20191</td>\n",
       "      <td>이북5도청사</td>\n",
       "      <td>분식전문점</td>\n",
       "      <td>1.755147e+07</td>\n",
       "      <td>2.288143e+07</td>\n",
       "    </tr>\n",
       "    <tr>\n",
       "      <th>16532</th>\n",
       "      <td>20192</td>\n",
       "      <td>이북5도청사</td>\n",
       "      <td>분식전문점</td>\n",
       "      <td>2.288143e+07</td>\n",
       "      <td>2.242250e+07</td>\n",
       "    </tr>\n",
       "    <tr>\n",
       "      <th>24924</th>\n",
       "      <td>20193</td>\n",
       "      <td>이북5도청사</td>\n",
       "      <td>분식전문점</td>\n",
       "      <td>2.242250e+07</td>\n",
       "      <td>1.774228e+07</td>\n",
       "    </tr>\n",
       "    <tr>\n",
       "      <th>31656</th>\n",
       "      <td>20194</td>\n",
       "      <td>이북5도청사</td>\n",
       "      <td>분식전문점</td>\n",
       "      <td>1.774228e+07</td>\n",
       "      <td>1.382721e+07</td>\n",
       "    </tr>\n",
       "    <tr>\n",
       "      <th>39307</th>\n",
       "      <td>20201</td>\n",
       "      <td>이북5도청사</td>\n",
       "      <td>분식전문점</td>\n",
       "      <td>1.382721e+07</td>\n",
       "      <td>1.704276e+07</td>\n",
       "    </tr>\n",
       "    <tr>\n",
       "      <th>49331</th>\n",
       "      <td>20202</td>\n",
       "      <td>이북5도청사</td>\n",
       "      <td>분식전문점</td>\n",
       "      <td>1.704276e+07</td>\n",
       "      <td>1.182781e+07</td>\n",
       "    </tr>\n",
       "    <tr>\n",
       "      <th>65350</th>\n",
       "      <td>20203</td>\n",
       "      <td>이북5도청사</td>\n",
       "      <td>분식전문점</td>\n",
       "      <td>1.182781e+07</td>\n",
       "      <td>1.186288e+07</td>\n",
       "    </tr>\n",
       "    <tr>\n",
       "      <th>77819</th>\n",
       "      <td>20204</td>\n",
       "      <td>이북5도청사</td>\n",
       "      <td>분식전문점</td>\n",
       "      <td>1.186288e+07</td>\n",
       "      <td>9.180177e+06</td>\n",
       "    </tr>\n",
       "    <tr>\n",
       "      <th>87403</th>\n",
       "      <td>20211</td>\n",
       "      <td>이북5도청사</td>\n",
       "      <td>분식전문점</td>\n",
       "      <td>9.180177e+06</td>\n",
       "      <td>1.323535e+07</td>\n",
       "    </tr>\n",
       "    <tr>\n",
       "      <th>89195</th>\n",
       "      <td>20212</td>\n",
       "      <td>이북5도청사</td>\n",
       "      <td>분식전문점</td>\n",
       "      <td>1.323535e+07</td>\n",
       "      <td>1.316313e+07</td>\n",
       "    </tr>\n",
       "    <tr>\n",
       "      <th>109047</th>\n",
       "      <td>20213</td>\n",
       "      <td>이북5도청사</td>\n",
       "      <td>분식전문점</td>\n",
       "      <td>1.316313e+07</td>\n",
       "      <td>1.203371e+07</td>\n",
       "    </tr>\n",
       "    <tr>\n",
       "      <th>110152</th>\n",
       "      <td>20214</td>\n",
       "      <td>이북5도청사</td>\n",
       "      <td>분식전문점</td>\n",
       "      <td>1.203371e+07</td>\n",
       "      <td>1.286489e+07</td>\n",
       "    </tr>\n",
       "    <tr>\n",
       "      <th>124579</th>\n",
       "      <td>20221</td>\n",
       "      <td>이북5도청사</td>\n",
       "      <td>분식전문점</td>\n",
       "      <td>1.286489e+07</td>\n",
       "      <td>4.507439e+07</td>\n",
       "    </tr>\n",
       "  </tbody>\n",
       "</table>\n",
       "</div>"
      ],
      "text/plain": [
       "        기준_년분기_코드 상권_코드_명 서비스_업종_코드_명  점포별_평균_매출_금액  점포별_예상_평균_매출_금액\n",
       "6180        20191  이북5도청사       한식음식점  4.002666e+07     4.829893e+07\n",
       "14473       20192  이북5도청사       한식음식점  4.829893e+07     3.870668e+07\n",
       "22886       20193  이북5도청사       한식음식점  3.870668e+07     4.320248e+07\n",
       "35170       20194  이북5도청사       한식음식점  4.320248e+07     3.475506e+07\n",
       "41560       20201  이북5도청사       한식음식점  3.475506e+07     3.965844e+07\n",
       "52833       20202  이북5도청사       한식음식점  3.965844e+07     3.334403e+07\n",
       "60795       20203  이북5도청사       한식음식점  3.334403e+07     3.164236e+07\n",
       "78240       20204  이북5도청사       한식음식점  3.164236e+07     2.980190e+07\n",
       "88795       20211  이북5도청사       한식음식점  2.980190e+07     3.552428e+07\n",
       "92896       20212  이북5도청사       한식음식점  3.552428e+07     3.555242e+07\n",
       "107563      20213  이북5도청사       한식음식점  3.555242e+07     3.578567e+07\n",
       "118487      20214  이북5도청사       한식음식점  3.578567e+07     3.404493e+07\n",
       "123028      20221  이북5도청사       한식음식점  3.404493e+07     4.999308e+07\n",
       "133867      20222  이북5도청사       한식음식점  4.999308e+07     4.761925e+07\n",
       "145023      20223  이북5도청사       한식음식점  4.761925e+07     4.654046e+07\n",
       "160080      20224  이북5도청사       한식음식점  4.654046e+07     3.686776e+07\n",
       "161417      20231  이북5도청사       한식음식점  3.686776e+07     4.230988e+07\n",
       "8154        20191  이북5도청사       분식전문점  1.755147e+07     2.288143e+07\n",
       "16532       20192  이북5도청사       분식전문점  2.288143e+07     2.242250e+07\n",
       "24924       20193  이북5도청사       분식전문점  2.242250e+07     1.774228e+07\n",
       "31656       20194  이북5도청사       분식전문점  1.774228e+07     1.382721e+07\n",
       "39307       20201  이북5도청사       분식전문점  1.382721e+07     1.704276e+07\n",
       "49331       20202  이북5도청사       분식전문점  1.704276e+07     1.182781e+07\n",
       "65350       20203  이북5도청사       분식전문점  1.182781e+07     1.186288e+07\n",
       "77819       20204  이북5도청사       분식전문점  1.186288e+07     9.180177e+06\n",
       "87403       20211  이북5도청사       분식전문점  9.180177e+06     1.323535e+07\n",
       "89195       20212  이북5도청사       분식전문점  1.323535e+07     1.316313e+07\n",
       "109047      20213  이북5도청사       분식전문점  1.316313e+07     1.203371e+07\n",
       "110152      20214  이북5도청사       분식전문점  1.203371e+07     1.286489e+07\n",
       "124579      20221  이북5도청사       분식전문점  1.286489e+07     4.507439e+07"
      ]
     },
     "execution_count": 128,
     "metadata": {},
     "output_type": "execute_result"
    }
   ],
   "source": [
    "predict[['기준_년분기_코드', '상권_코드_명', '서비스_업종_코드_명', '점포별_평균_매출_금액', '점포별_예상_평균_매출_금액']].head(30)"
   ]
  },
  {
   "cell_type": "code",
   "execution_count": 129,
   "metadata": {},
   "outputs": [],
   "source": [
    "predict = predict.sort_index()\n",
    "predict.to_csv('../../data/preprocessed data/market_service_data_predict.csv', index=False)"
   ]
  }
 ],
 "metadata": {
  "kernelspec": {
   "display_name": "base",
   "language": "python",
   "name": "python3"
  },
  "language_info": {
   "codemirror_mode": {
    "name": "ipython",
    "version": 3
   },
   "file_extension": ".py",
   "mimetype": "text/x-python",
   "name": "python",
   "nbconvert_exporter": "python",
   "pygments_lexer": "ipython3",
   "version": "3.11.3"
  }
 },
 "nbformat": 4,
 "nbformat_minor": 2
}
